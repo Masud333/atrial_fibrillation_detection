{
 "cells": [
  {
   "cell_type": "markdown",
   "metadata": {},
   "source": [
    "# Importing/Storing data"
   ]
  },
  {
   "cell_type": "code",
   "execution_count": 1,
   "metadata": {},
   "outputs": [],
   "source": [
    "# pip install wfdb\n",
    "# pip install xgboost \n",
    "#print('Current directory is: {}'.format(os.getcwd()))"
   ]
  },
  {
   "cell_type": "code",
   "execution_count": 2,
   "metadata": {
    "scrolled": false
   },
   "outputs": [
    {
     "name": "stdout",
     "output_type": "stream",
     "text": [
      "int32\n",
      "float64\n",
      "1806791\n",
      "-11\n",
      "Divisble by 20 --> 1806780\n",
      "Features for that specific segment:\n",
      "Mean                156.300\n",
      "STD                  13.104\n",
      "RMSSD                 0.183\n",
      "Normalized RMSSD      0.001\n",
      "dtype: float64\n",
      "\n",
      "features_nsr variable contains 90339 segments\n",
      "float64\n",
      "Length of y_list: 90339\n",
      "shape of y: (18067,), type of y: <class 'numpy.ndarray'>\n",
      "shape of X_test_nsr: (18067, 4), type of X_test_nsr: <class 'numpy.ndarray'>\n"
     ]
    }
   ],
   "source": [
    "%run \"MIT-BIH Normal Sinus Rhythm DB.ipynb\""
   ]
  },
  {
   "cell_type": "code",
   "execution_count": 3,
   "metadata": {},
   "outputs": [],
   "source": [
    "import wfdb\n",
    "import os\n",
    "import glob\n",
    "import pandas as pd\n",
    "import numpy as np\n",
    "#%matplotlib notebook\n",
    "import matplotlib.pyplot as plt\n",
    "import seaborn as sn"
   ]
  },
  {
   "cell_type": "code",
   "execution_count": 4,
   "metadata": {},
   "outputs": [],
   "source": [
    "import matlab.engine\n",
    "eng = matlab.engine.start_matlab()\n",
    "#eng.ecgpuwave(-r 'C:/Users/masud/Desktop/Github_Bachelor_Project/wfdb-python/data/')"
   ]
  },
  {
   "cell_type": "code",
   "execution_count": 5,
   "metadata": {},
   "outputs": [],
   "source": [
    "records = []\n",
    "properties = []\n",
    "annot = []\n",
    "AnnSymb = []\n",
    "AnnSamp = []\n",
    "AnnRhythm = []\n",
    "Rpeak_Samp = []\n",
    "Rpeak_Symb = []\n",
    "\n",
    "\n",
    "for f in glob.glob('C:/Users/masud/Desktop/Github_Bachelor_Project/wfdb-python/data/*.dat'): ##### change the path (afib) to your own directory. The rest should \n",
    "                                                                                             ##### remin the same\n",
    "    sig, fields = wfdb.rdsamp(f[:-4], channels=[1])  #### In this function, you have the opportunity to pass \n",
    "                                       #### \"channels=[0]\" or \"channels=[1]\" to select channel 1 or 2.\n",
    "    ann = wfdb.rdann(f[:-4], 'atr')\n",
    "    QRS = wfdb.rdann(f[:-4], 'qrs')\n",
    "    Symb = pd.Series(ann.symbol)\n",
    "    Samp = pd.Series(ann.sample)\n",
    "    QRS_Symb = pd.Series(QRS.symbol)\n",
    "    QRS_Samp = pd.Series(QRS.sample)\n",
    "    Rhythm = pd.Series(ann.aux_note)\n",
    "    records.append(sig)\n",
    "    properties.append(fields)\n",
    "    annot.append(ann)\n",
    "    AnnSymb.append(Symb)\n",
    "    AnnSamp.append(Samp)\n",
    "    Rpeak_Symb.append(QRS_Symb)\n",
    "    Rpeak_Samp.append(QRS_Samp)\n",
    "    AnnRhythm.append(Rhythm)\n",
    "    \n",
    "    \n",
    "\n",
    "AnnSymb = pd.Series(AnnSymb).values\n",
    "AnnSamp = pd.Series(AnnSamp).values"
   ]
  },
  {
   "cell_type": "markdown",
   "metadata": {},
   "source": [
    "# P-Wave detection"
   ]
  },
  {
   "cell_type": "code",
   "execution_count": null,
   "metadata": {},
   "outputs": [],
   "source": [
    "records[0]"
   ]
  },
  {
   "cell_type": "markdown",
   "metadata": {},
   "source": [
    "### eg."
   ]
  },
  {
   "cell_type": "code",
   "execution_count": 6,
   "metadata": {},
   "outputs": [
    {
     "name": "stdout",
     "output_type": "stream",
     "text": [
      "rdann -r 04936 -f 0 -a atr -v > C:/Users/masud/Desktop/Github_Bachelor_Project/wfdb-python/data/04936_atr.txt\n"
     ]
    },
    {
     "data": {
      "text/plain": [
       "1"
      ]
     },
     "execution_count": 6,
     "metadata": {},
     "output_type": "execute_result"
    }
   ],
   "source": [
    "# from os import listdir, mkdir, system\n",
    "# from os.path import isfile, isdir, join, exists\n",
    "\n",
    "# command_atr = \"rdann -r 04936 -f 0 -a atr -v > C:/Users/masud/Desktop/Github_Bachelor_Project/wfdb-python/data/04936_atr.txt\"\n",
    "\n",
    "# print(command_atr)\n",
    "# system(command_atr)"
   ]
  },
  {
   "cell_type": "code",
   "execution_count": 7,
   "metadata": {},
   "outputs": [
    {
     "name": "stdout",
     "output_type": "stream",
     "text": [
      "rdann -r 04936.dat -f 0 -a qrs -v > C:/Users/masud/Desktop/Github_Bachelor_Project/wfdb-python/data/04936_qrs.txt\n"
     ]
    },
    {
     "data": {
      "text/plain": [
       "1"
      ]
     },
     "execution_count": 7,
     "metadata": {},
     "output_type": "execute_result"
    }
   ],
   "source": [
    "# command_qrs = \"rdann -r 04936.dat -f 0 -a qrs -v > C:/Users/masud/Desktop/Github_Bachelor_Project/wfdb-python/data/04936_qrs.txt\"\n",
    "\n",
    "# print(command_qrs)\n",
    "# system(command_qrs)"
   ]
  },
  {
   "cell_type": "markdown",
   "metadata": {},
   "source": [
    "### ecgpuwave_mitdb.py"
   ]
  },
  {
   "cell_type": "code",
   "execution_count": 8,
   "metadata": {
    "collapsed": true
   },
   "outputs": [
    {
     "name": "stdout",
     "output_type": "stream",
     "text": [
      "ecgpuwave -r C:/Users/masud/Desktop/Github_Bachelor_Project/wfdb-python/data/04015 -a qrs\n",
      "rdann -r C:/Users/masud/Desktop/Github_Bachelor_Project/wfdb-python/data/04015 -f 0 -a qrs -v >C:/Users/masud/Desktop/Github_Bachelor_Project/wfdb-python/data/qrs/04015qrs.txt\n",
      "ecgpuwave -r C:/Users/masud/Desktop/Github_Bachelor_Project/wfdb-python/data/04043 -a qrs\n",
      "rdann -r C:/Users/masud/Desktop/Github_Bachelor_Project/wfdb-python/data/04043 -f 0 -a qrs -v >C:/Users/masud/Desktop/Github_Bachelor_Project/wfdb-python/data/qrs/04043qrs.txt\n",
      "ecgpuwave -r C:/Users/masud/Desktop/Github_Bachelor_Project/wfdb-python/data/04048 -a qrs\n",
      "rdann -r C:/Users/masud/Desktop/Github_Bachelor_Project/wfdb-python/data/04048 -f 0 -a qrs -v >C:/Users/masud/Desktop/Github_Bachelor_Project/wfdb-python/data/qrs/04048qrs.txt\n",
      "ecgpuwave -r C:/Users/masud/Desktop/Github_Bachelor_Project/wfdb-python/data/04126 -a qrs\n",
      "rdann -r C:/Users/masud/Desktop/Github_Bachelor_Project/wfdb-python/data/04126 -f 0 -a qrs -v >C:/Users/masud/Desktop/Github_Bachelor_Project/wfdb-python/data/qrs/04126qrs.txt\n",
      "ecgpuwave -r C:/Users/masud/Desktop/Github_Bachelor_Project/wfdb-python/data/04746 -a qrs\n",
      "rdann -r C:/Users/masud/Desktop/Github_Bachelor_Project/wfdb-python/data/04746 -f 0 -a qrs -v >C:/Users/masud/Desktop/Github_Bachelor_Project/wfdb-python/data/qrs/04746qrs.txt\n",
      "ecgpuwave -r C:/Users/masud/Desktop/Github_Bachelor_Project/wfdb-python/data/04908 -a qrs\n",
      "rdann -r C:/Users/masud/Desktop/Github_Bachelor_Project/wfdb-python/data/04908 -f 0 -a qrs -v >C:/Users/masud/Desktop/Github_Bachelor_Project/wfdb-python/data/qrs/04908qrs.txt\n",
      "ecgpuwave -r C:/Users/masud/Desktop/Github_Bachelor_Project/wfdb-python/data/04936 -a qrs\n",
      "rdann -r C:/Users/masud/Desktop/Github_Bachelor_Project/wfdb-python/data/04936 -f 0 -a qrs -v >C:/Users/masud/Desktop/Github_Bachelor_Project/wfdb-python/data/qrs/04936qrs.txt\n",
      "ecgpuwave -r C:/Users/masud/Desktop/Github_Bachelor_Project/wfdb-python/data/05091 -a qrs\n",
      "rdann -r C:/Users/masud/Desktop/Github_Bachelor_Project/wfdb-python/data/05091 -f 0 -a qrs -v >C:/Users/masud/Desktop/Github_Bachelor_Project/wfdb-python/data/qrs/05091qrs.txt\n",
      "ecgpuwave -r C:/Users/masud/Desktop/Github_Bachelor_Project/wfdb-python/data/05121 -a qrs\n",
      "rdann -r C:/Users/masud/Desktop/Github_Bachelor_Project/wfdb-python/data/05121 -f 0 -a qrs -v >C:/Users/masud/Desktop/Github_Bachelor_Project/wfdb-python/data/qrs/05121qrs.txt\n",
      "ecgpuwave -r C:/Users/masud/Desktop/Github_Bachelor_Project/wfdb-python/data/05261 -a qrs\n",
      "rdann -r C:/Users/masud/Desktop/Github_Bachelor_Project/wfdb-python/data/05261 -f 0 -a qrs -v >C:/Users/masud/Desktop/Github_Bachelor_Project/wfdb-python/data/qrs/05261qrs.txt\n",
      "ecgpuwave -r C:/Users/masud/Desktop/Github_Bachelor_Project/wfdb-python/data/06426 -a qrs\n",
      "rdann -r C:/Users/masud/Desktop/Github_Bachelor_Project/wfdb-python/data/06426 -f 0 -a qrs -v >C:/Users/masud/Desktop/Github_Bachelor_Project/wfdb-python/data/qrs/06426qrs.txt\n",
      "ecgpuwave -r C:/Users/masud/Desktop/Github_Bachelor_Project/wfdb-python/data/06453 -a qrs\n",
      "rdann -r C:/Users/masud/Desktop/Github_Bachelor_Project/wfdb-python/data/06453 -f 0 -a qrs -v >C:/Users/masud/Desktop/Github_Bachelor_Project/wfdb-python/data/qrs/06453qrs.txt\n",
      "ecgpuwave -r C:/Users/masud/Desktop/Github_Bachelor_Project/wfdb-python/data/06995 -a qrs\n",
      "rdann -r C:/Users/masud/Desktop/Github_Bachelor_Project/wfdb-python/data/06995 -f 0 -a qrs -v >C:/Users/masud/Desktop/Github_Bachelor_Project/wfdb-python/data/qrs/06995qrs.txt\n",
      "ecgpuwave -r C:/Users/masud/Desktop/Github_Bachelor_Project/wfdb-python/data/07162 -a qrs\n",
      "rdann -r C:/Users/masud/Desktop/Github_Bachelor_Project/wfdb-python/data/07162 -f 0 -a qrs -v >C:/Users/masud/Desktop/Github_Bachelor_Project/wfdb-python/data/qrs/07162qrs.txt\n",
      "ecgpuwave -r C:/Users/masud/Desktop/Github_Bachelor_Project/wfdb-python/data/07859 -a qrs\n",
      "rdann -r C:/Users/masud/Desktop/Github_Bachelor_Project/wfdb-python/data/07859 -f 0 -a qrs -v >C:/Users/masud/Desktop/Github_Bachelor_Project/wfdb-python/data/qrs/07859qrs.txt\n",
      "ecgpuwave -r C:/Users/masud/Desktop/Github_Bachelor_Project/wfdb-python/data/07879 -a qrs\n",
      "rdann -r C:/Users/masud/Desktop/Github_Bachelor_Project/wfdb-python/data/07879 -f 0 -a qrs -v >C:/Users/masud/Desktop/Github_Bachelor_Project/wfdb-python/data/qrs/07879qrs.txt\n",
      "ecgpuwave -r C:/Users/masud/Desktop/Github_Bachelor_Project/wfdb-python/data/07910 -a qrs\n",
      "rdann -r C:/Users/masud/Desktop/Github_Bachelor_Project/wfdb-python/data/07910 -f 0 -a qrs -v >C:/Users/masud/Desktop/Github_Bachelor_Project/wfdb-python/data/qrs/07910qrs.txt\n",
      "ecgpuwave -r C:/Users/masud/Desktop/Github_Bachelor_Project/wfdb-python/data/08215 -a qrs\n",
      "rdann -r C:/Users/masud/Desktop/Github_Bachelor_Project/wfdb-python/data/08215 -f 0 -a qrs -v >C:/Users/masud/Desktop/Github_Bachelor_Project/wfdb-python/data/qrs/08215qrs.txt\n",
      "ecgpuwave -r C:/Users/masud/Desktop/Github_Bachelor_Project/wfdb-python/data/08219 -a qrs\n",
      "rdann -r C:/Users/masud/Desktop/Github_Bachelor_Project/wfdb-python/data/08219 -f 0 -a qrs -v >C:/Users/masud/Desktop/Github_Bachelor_Project/wfdb-python/data/qrs/08219qrs.txt\n",
      "ecgpuwave -r C:/Users/masud/Desktop/Github_Bachelor_Project/wfdb-python/data/08378 -a qrs\n",
      "rdann -r C:/Users/masud/Desktop/Github_Bachelor_Project/wfdb-python/data/08378 -f 0 -a qrs -v >C:/Users/masud/Desktop/Github_Bachelor_Project/wfdb-python/data/qrs/08378qrs.txt\n",
      "ecgpuwave -r C:/Users/masud/Desktop/Github_Bachelor_Project/wfdb-python/data/08405 -a qrs\n",
      "rdann -r C:/Users/masud/Desktop/Github_Bachelor_Project/wfdb-python/data/08405 -f 0 -a qrs -v >C:/Users/masud/Desktop/Github_Bachelor_Project/wfdb-python/data/qrs/08405qrs.txt\n",
      "ecgpuwave -r C:/Users/masud/Desktop/Github_Bachelor_Project/wfdb-python/data/08434 -a qrs\n",
      "rdann -r C:/Users/masud/Desktop/Github_Bachelor_Project/wfdb-python/data/08434 -f 0 -a qrs -v >C:/Users/masud/Desktop/Github_Bachelor_Project/wfdb-python/data/qrs/08434qrs.txt\n",
      "ecgpuwave -r C:/Users/masud/Desktop/Github_Bachelor_Project/wfdb-python/data/08455 -a qrs\n",
      "rdann -r C:/Users/masud/Desktop/Github_Bachelor_Project/wfdb-python/data/08455 -f 0 -a qrs -v >C:/Users/masud/Desktop/Github_Bachelor_Project/wfdb-python/data/qrs/08455qrs.txt\n"
     ]
    }
   ],
   "source": [
    "# # this script detect P, QRS, T onset/offset waves from MITDB data and save \n",
    "# # in text files\n",
    "\n",
    "# from os import listdir, mkdir, system\n",
    "# from os.path import isfile, isdir, join, exists\n",
    "\n",
    "\n",
    "# dir = 'C:/Users/masud/Desktop/Github_Bachelor_Project/wfdb-python/data/'\n",
    "\n",
    "# #Create folder\n",
    "# dir_out = dir + 'qrs/'\n",
    "# if not exists(dir_out):\n",
    "#     mkdir(dir_out)\n",
    "\n",
    "# records = [f for f in listdir(dir) if isfile(join(dir, f)) if(f.find('.dat') != -1)]\n",
    "# #print records\n",
    "\n",
    "# for r in records:\n",
    "#     command = 'ecgpuwave -r ' + dir +r[:-4] + ' -a qrs'\n",
    "#     print(command)\n",
    "#     system(command)\n",
    "\n",
    "#     command_annotations = 'rdann -r ' + dir +r[:-4] +' -f 0 -a qrs -v >' + dir_out + r[:-4] + 'qrs.txt'\n",
    "#     print(command_annotations)\n",
    "#     system(command_annotations)"
   ]
  },
  {
   "cell_type": "code",
   "execution_count": 10,
   "metadata": {},
   "outputs": [],
   "source": [
    "# # records_nsr[0].flatten()\n",
    "# # np.shape(records_nsr[0])\n",
    "# reshaped_rec = np.reshape(records[0],9205760)\n",
    "# print(np.shape(reshaped_rec))\n",
    "# print(type(records[0]))"
   ]
  },
  {
   "cell_type": "code",
   "execution_count": null,
   "metadata": {},
   "outputs": [],
   "source": [
    "#find_peaks = processing.find_peaks(reshaped_rec)"
   ]
  },
  {
   "cell_type": "code",
   "execution_count": null,
   "metadata": {},
   "outputs": [],
   "source": [
    "#find_peaks."
   ]
  },
  {
   "cell_type": "markdown",
   "metadata": {},
   "source": [
    "# Pre processing data..."
   ]
  },
  {
   "cell_type": "code",
   "execution_count": null,
   "metadata": {},
   "outputs": [],
   "source": [
    "# print(AnnRhythm[0])\n",
    "# print(\"------------------------------------\")\n",
    "# print(AnnSamp[0])\n",
    "# print(\"------------------------------------\")\n",
    "# print(\"All samples of R-peaks below\")\n",
    "# print(Rpeak_Samp[0])\n",
    "# print(\"------------------------------------\")\n",
    "# print(Rpeak_Symb[0])\n",
    "# print(records[0])\n",
    "# print(type(records[0]))\n",
    "# print(np.where(Rpeak_Samp[22] <= ))\n",
    "# df.iloc[22] # acessing ROW 22\n",
    "# print(\"------------------------------------\")"
   ]
  },
  {
   "cell_type": "code",
   "execution_count": 11,
   "metadata": {
    "scrolled": true
   },
   "outputs": [
    {
     "name": "stdout",
     "output_type": "stream",
     "text": [
      "All Rpeaks amount: 1128561\n"
     ]
    }
   ],
   "source": [
    "x = 0\n",
    "for i in range(23):\n",
    "    x += np.sum(len(Rpeak_Samp[i]))\n",
    "print(f\"All Rpeaks amount: {x}\")"
   ]
  },
  {
   "cell_type": "code",
   "execution_count": 12,
   "metadata": {
    "scrolled": false
   },
   "outputs": [],
   "source": [
    "labeled_Rpeaks = []\n",
    "appended_data = []\n",
    "for i in range(23): ## 23 records\n",
    "    for j in range(len(AnnSamp[i])-1): ## AnnSamp or AnnRhythm -- both same dimensions\n",
    "        df = pd.DataFrame(Rpeak_Samp[i][(Rpeak_Samp[i] > AnnSamp[i][j]) & (Rpeak_Samp[i] < AnnSamp[i][j+1])])\n",
    "        df['Label'] = AnnRhythm[i][j]\n",
    "        appended_data.append(df)\n",
    "        \n",
    "\n",
    "labeled_Rpeaks = pd.concat(appended_data)"
   ]
  },
  {
   "cell_type": "markdown",
   "metadata": {},
   "source": [
    "### Filter, only get Hearbeats with annotations '(N' OR '(AFIB'"
   ]
  },
  {
   "cell_type": "code",
   "execution_count": 81,
   "metadata": {
    "scrolled": true
   },
   "outputs": [
    {
     "data": {
      "text/html": [
       "<div>\n",
       "<style scoped>\n",
       "    .dataframe tbody tr th:only-of-type {\n",
       "        vertical-align: middle;\n",
       "    }\n",
       "\n",
       "    .dataframe tbody tr th {\n",
       "        vertical-align: top;\n",
       "    }\n",
       "\n",
       "    .dataframe thead th {\n",
       "        text-align: right;\n",
       "    }\n",
       "</style>\n",
       "<table border=\"1\" class=\"dataframe\">\n",
       "  <thead>\n",
       "    <tr style=\"text-align: right;\">\n",
       "      <th></th>\n",
       "      <th>0</th>\n",
       "      <th>Label</th>\n",
       "    </tr>\n",
       "  </thead>\n",
       "  <tbody>\n",
       "    <tr>\n",
       "      <th>0</th>\n",
       "      <td>61</td>\n",
       "      <td>(N</td>\n",
       "    </tr>\n",
       "    <tr>\n",
       "      <th>1</th>\n",
       "      <td>200</td>\n",
       "      <td>(N</td>\n",
       "    </tr>\n",
       "    <tr>\n",
       "      <th>2</th>\n",
       "      <td>358</td>\n",
       "      <td>(N</td>\n",
       "    </tr>\n",
       "    <tr>\n",
       "      <th>3</th>\n",
       "      <td>584</td>\n",
       "      <td>(N</td>\n",
       "    </tr>\n",
       "    <tr>\n",
       "      <th>4</th>\n",
       "      <td>729</td>\n",
       "      <td>(N</td>\n",
       "    </tr>\n",
       "    <tr>\n",
       "      <th>...</th>\n",
       "      <td>...</td>\n",
       "      <td>...</td>\n",
       "    </tr>\n",
       "    <tr>\n",
       "      <th>995</th>\n",
       "      <td>149897</td>\n",
       "      <td>(AFIB</td>\n",
       "    </tr>\n",
       "    <tr>\n",
       "      <th>996</th>\n",
       "      <td>149989</td>\n",
       "      <td>(AFIB</td>\n",
       "    </tr>\n",
       "    <tr>\n",
       "      <th>997</th>\n",
       "      <td>150086</td>\n",
       "      <td>(AFIB</td>\n",
       "    </tr>\n",
       "    <tr>\n",
       "      <th>998</th>\n",
       "      <td>150169</td>\n",
       "      <td>(AFIB</td>\n",
       "    </tr>\n",
       "    <tr>\n",
       "      <th>999</th>\n",
       "      <td>150248</td>\n",
       "      <td>(AFIB</td>\n",
       "    </tr>\n",
       "  </tbody>\n",
       "</table>\n",
       "<p>1000 rows × 2 columns</p>\n",
       "</div>"
      ],
      "text/plain": [
       "          0  Label\n",
       "0        61     (N\n",
       "1       200     (N\n",
       "2       358     (N\n",
       "3       584     (N\n",
       "4       729     (N\n",
       "..      ...    ...\n",
       "995  149897  (AFIB\n",
       "996  149989  (AFIB\n",
       "997  150086  (AFIB\n",
       "998  150169  (AFIB\n",
       "999  150248  (AFIB\n",
       "\n",
       "[1000 rows x 2 columns]"
      ]
     },
     "execution_count": 81,
     "metadata": {},
     "output_type": "execute_result"
    }
   ],
   "source": [
    "labeled_Rpeaks_N_AFIB = labeled_Rpeaks.loc[(labeled_Rpeaks.Label == '(N') | (labeled_Rpeaks.Label == '(AFIB'), :]\n",
    "labeled_Rpeaks_N_AFIB[0:1000]"
   ]
  },
  {
   "cell_type": "markdown",
   "metadata": {},
   "source": [
    "### Convert 'Label' column to boolean expr"
   ]
  },
  {
   "cell_type": "code",
   "execution_count": 14,
   "metadata": {},
   "outputs": [
    {
     "name": "stderr",
     "output_type": "stream",
     "text": [
      "<ipython-input-14-36743a647d57>:3: SettingWithCopyWarning: \n",
      "A value is trying to be set on a copy of a slice from a DataFrame.\n",
      "Try using .loc[row_indexer,col_indexer] = value instead\n",
      "\n",
      "See the caveats in the documentation: https://pandas.pydata.org/pandas-docs/stable/user_guide/indexing.html#returning-a-view-versus-a-copy\n",
      "  labeled_Rpeaks_N_AFIB['Label'] = labeled_Rpeaks_N_AFIB['Label'].map(\n"
     ]
    }
   ],
   "source": [
    "### s.where(s > 1, 10)\n",
    "#labeled_Rpeaks_N_AFIB['Label'] = labeled_Rpeaks_N_AFIB['Label'].astype('bool')\n",
    "labeled_Rpeaks_N_AFIB['Label'] = labeled_Rpeaks_N_AFIB['Label'].map( \n",
    "                   {'(N':False ,'(AFIB':True}) "
   ]
  },
  {
   "cell_type": "code",
   "execution_count": 15,
   "metadata": {},
   "outputs": [
    {
     "name": "stderr",
     "output_type": "stream",
     "text": [
      "<ipython-input-15-9cd7ad84a37a>:1: SettingWithCopyWarning: \n",
      "A value is trying to be set on a copy of a slice from a DataFrame.\n",
      "Try using .loc[row_indexer,col_indexer] = value instead\n",
      "\n",
      "See the caveats in the documentation: https://pandas.pydata.org/pandas-docs/stable/user_guide/indexing.html#returning-a-view-versus-a-copy\n",
      "  labeled_Rpeaks_N_AFIB['Label'] = labeled_Rpeaks_N_AFIB['Label'].astype(int)\n",
      "D:\\anaconda3\\lib\\site-packages\\pandas\\core\\frame.py:4296: SettingWithCopyWarning: \n",
      "A value is trying to be set on a copy of a slice from a DataFrame\n",
      "\n",
      "See the caveats in the documentation: https://pandas.pydata.org/pandas-docs/stable/user_guide/indexing.html#returning-a-view-versus-a-copy\n",
      "  return super().rename(\n"
     ]
    }
   ],
   "source": [
    "labeled_Rpeaks_N_AFIB['Label'] = labeled_Rpeaks_N_AFIB['Label'].astype(int)\n",
    "\n",
    "labeled_Rpeaks_N_AFIB.rename(columns={0: 'Rpeaks'},\n",
    "          inplace=True, errors='raise')"
   ]
  },
  {
   "cell_type": "code",
   "execution_count": 16,
   "metadata": {
    "scrolled": false
   },
   "outputs": [
    {
     "data": {
      "text/plain": [
       "False"
      ]
     },
     "execution_count": 16,
     "metadata": {},
     "output_type": "execute_result"
    }
   ],
   "source": [
    "Rpeaks_N_AFIB = labeled_Rpeaks_N_AFIB[\"Rpeaks\"]\n",
    "Label_N_AFIB = labeled_Rpeaks_N_AFIB[\"Label\"]\n",
    "Label_N_AFIB = np.array(Label_N_AFIB, dtype=np.float64)\n",
    "\n",
    "#labeled_Rpeaks_N_AFIB[0:1000]\n",
    "labeled_Rpeaks_N_AFIB.isnull().values.any() ### Check for NaN values"
   ]
  },
  {
   "cell_type": "markdown",
   "metadata": {},
   "source": [
    "### Window slider"
   ]
  },
  {
   "cell_type": "code",
   "execution_count": 17,
   "metadata": {},
   "outputs": [],
   "source": [
    "#print(records[0])\n",
    "#print(np.shape(records[0]))\n",
    "#print()\n",
    "#print()\n",
    "#records_trans = np.transpose(records[0])\n",
    "#print(np.shape(records_trans))\n",
    "#records[0].flatten()\n",
    "#np.squeeze(records[0], axis=1)\n",
    "#np.shape(records[0])"
   ]
  },
  {
   "cell_type": "code",
   "execution_count": 18,
   "metadata": {},
   "outputs": [],
   "source": [
    "###Run with heartbeats ##convert to numpy array \n",
    "#from window_slider import Slider\n",
    "#import numpy\n",
    "#list = records_trans\n",
    "#bucket_size = 6600\n",
    "#overlap_count = 3300\n",
    "#slider = Slider(bucket_size,overlap_count)\n",
    "#slider.fit(list)       \n",
    "#while True:\n",
    "#    window_data = slider.slide()\n",
    "#    # do your stuff\n",
    "#    print(window_data)\n",
    "#    if slider.reached_end_of_list(): break"
   ]
  },
  {
   "cell_type": "markdown",
   "metadata": {},
   "source": [
    "### Visualising the ECG signals"
   ]
  },
  {
   "cell_type": "code",
   "execution_count": 19,
   "metadata": {
    "scrolled": false
   },
   "outputs": [
    {
     "data": {
      "text/plain": [
       "[<matplotlib.lines.Line2D at 0x18983b5e8e0>]"
      ]
     },
     "execution_count": 19,
     "metadata": {},
     "output_type": "execute_result"
    },
    {
     "data": {
      "image/png": "[encoded data removed]",
      "text/plain": [
       "<Figure size 432x288 with 1 Axes>"
      ]
     },
     "metadata": {
      "needs_background": "light"
     },
     "output_type": "display_data"
    }
   ],
   "source": [
    "#plt.title(\"Both Channels (0 and 1)\")\n",
    "#plt.title(\"Channel 0 of the ECG\") #Called ['ECG1']\n",
    "plt.title('Channel 1 of the ECG') #Called ['ECG2']\n",
    "plt.plot(sig[:500])\n",
    "\n",
    "#################### Accessing annotations \n",
    "#display(fields) ### Last record annotation\n",
    "#print(f\"Units in which the ECG is measured {fields['units']}\")\n",
    "#display(properties[22])\n",
    "#print(f\"Units in which the ECG is measured {properties[22]['units']}\")"
   ]
  },
  {
   "cell_type": "markdown",
   "metadata": {},
   "source": [
    "# Segmenting & Calculating features"
   ]
  },
  {
   "cell_type": "markdown",
   "metadata": {},
   "source": [
    "### X"
   ]
  },
  {
   "cell_type": "code",
   "execution_count": 82,
   "metadata": {},
   "outputs": [
    {
     "data": {
      "text/plain": [
       "array([102., 154., 156., ..., 166., 162., 108.])"
      ]
     },
     "execution_count": 82,
     "metadata": {},
     "output_type": "execute_result"
    }
   ],
   "source": [
    "rri2"
   ]
  },
  {
   "cell_type": "code",
   "execution_count": 20,
   "metadata": {
    "scrolled": true
   },
   "outputs": [],
   "source": [
    "def segmenting_record(seg_value):\n",
    "    rri2 = np.diff(Rpeaks_N_AFIB) ### Storing the intervals between rpeaks\n",
    "    #print(rri2.dtype)\n",
    "    rri2 = np.array(rri2, dtype=np.float64) ### So no overflow issues happens when calc in for loop later\n",
    "    #print(rri2.dtype)\n",
    "    #print(f\"length before: {len(rri2)}\")\n",
    "    amount = -(len(rri2) % seg_value) #\n",
    "    print(f\"Amount to remove {amount}\")\n",
    "    rec_amount = rri2[:amount]\n",
    "    #print(f\"length before: {len(rec_amount)}\")\n",
    "    seg_shape = len(rec_amount) // seg_value #\n",
    "    print(f\"Shape 0: {seg_shape}\")\n",
    "    segmented_rec = rec_amount.reshape(seg_shape,seg_value) #\n",
    "    return segmented_rec"
   ]
  },
  {
   "cell_type": "code",
   "execution_count": 112,
   "metadata": {
    "scrolled": false
   },
   "outputs": [
    {
     "name": "stdout",
     "output_type": "stream",
     "text": [
      "Amount to remove -6\n",
      "Shape 0: 35428\n"
     ]
    }
   ],
   "source": [
    "segmented_record = segmenting_record(20)"
   ]
  },
  {
   "cell_type": "code",
   "execution_count": 113,
   "metadata": {},
   "outputs": [],
   "source": [
    "features2 = []\n",
    "\n",
    "    ### Calculating features for every single segmented \"block\" inside the segmented_record variable\n",
    "for x in range(len(segmented_record)):\n",
    "    #MEAN\n",
    "    ff1 = np.nanmean(segmented_record[x]) ### nanmean, nanstd computes values while ignoring nan-values\n",
    "    #STD\n",
    "    ff2 = np.nanstd(segmented_record[x])\n",
    "    #RMSSD\n",
    "    sum_ = 0\n",
    "    for y in range(len(segmented_record[x]) - 1): ### loops 19 times\n",
    "        sum_ += (segmented_record[x][y] - segmented_record[x][y+1])**2\n",
    "    sum_multiplied = 1/(len(segmented_record) - 1) * sum_\n",
    "    ff3 = np.sqrt(sum_multiplied)\n",
    "    #NORMALIZED RMSSD\n",
    "    ff4 = (ff3 / ff1)\n",
    "    ### COVARIANCE\n",
    "    #z = np.stack((ff1, ff2))\n",
    "    #ff5 = np.cov(z) ### try cov with previous segment\n",
    "\n",
    "    my_features2 = pd.Series([np.around(ff1,3), np.around(ff2,3), np.around(ff3,3), np.around(ff4,3)], \n",
    "                            index=['Mean','STD','RMSSD','Normalized RMSSD'])\n",
    "    features2.append(my_features2)"
   ]
  },
  {
   "cell_type": "code",
   "execution_count": 114,
   "metadata": {
    "scrolled": true
   },
   "outputs": [
    {
     "name": "stdout",
     "output_type": "stream",
     "text": [
      "Features for that specific segment:\n",
      "Mean                168.250\n",
      "STD                  43.226\n",
      "RMSSD                 1.115\n",
      "Normalized RMSSD      0.007\n",
      "dtype: float64\n",
      "\n",
      "features2 variable contains 35428 segments\n"
     ]
    }
   ],
   "source": [
    "n = 0\n",
    "\n",
    "print(f\"Features for that specific segment:\\n{features2[n]}\") \n",
    "print('\\n'f\"features2 variable contains {len(features2)} segments\")"
   ]
  },
  {
   "cell_type": "markdown",
   "metadata": {},
   "source": [
    "### Y"
   ]
  },
  {
   "cell_type": "code",
   "execution_count": 115,
   "metadata": {},
   "outputs": [
    {
     "name": "stdout",
     "output_type": "stream",
     "text": [
      "float64\n",
      "Length of y_list: 35428\n"
     ]
    }
   ],
   "source": [
    "y_amount = Label_N_AFIB[:-7] ### So it is divisible by 20 ######\n",
    "y_shape = y_amount.reshape(35428, 20) ######\n",
    "y_list = []\n",
    "\n",
    "### Calc if every 20 segment block is Normal synus rythm or AFIB\n",
    "for l in range(len(y_shape)):\n",
    "    #y_segment = y_shape\n",
    "    sum_segment = np.sum(y_shape[l])\n",
    "    if sum_segment >= 10: ######\n",
    "        sum_segment = 1\n",
    "    else: sum_segment = 0\n",
    "    y_list.append(sum_segment)\n",
    "\n",
    "y_list = np.array(y_list, dtype=np.float64)\n",
    "print(y_list.dtype)\n",
    "print(f\"Length of y_list: {len(y_list)}\")"
   ]
  },
  {
   "cell_type": "markdown",
   "metadata": {},
   "source": [
    "# Estimators -> Classifications algorithms"
   ]
  },
  {
   "cell_type": "code",
   "execution_count": 25,
   "metadata": {},
   "outputs": [],
   "source": [
    "from sklearn.model_selection import train_test_split\n",
    "from sklearn.svm import SVC\n",
    "from sklearn import tree\n",
    "from sklearn.naive_bayes import GaussianNB\n",
    "from sklearn.ensemble import RandomForestClassifier"
   ]
  },
  {
   "cell_type": "code",
   "execution_count": 116,
   "metadata": {
    "scrolled": true
   },
   "outputs": [
    {
     "name": "stdout",
     "output_type": "stream",
     "text": [
      "shape of y: (35428,), type of y: <class 'numpy.ndarray'>\n",
      "shape of X: (35428, 4), type of X: <class 'numpy.ndarray'>\n"
     ]
    }
   ],
   "source": [
    "y = np.asarray(y_list)\n",
    "print(f\"shape of y: {np.shape(y)}, type of y: {type(y)}\")\n",
    "X = np.asarray(features2)\n",
    "print(f\"shape of X: {np.shape(X)}, type of X: {type(X)}\")"
   ]
  },
  {
   "cell_type": "code",
   "execution_count": 27,
   "metadata": {},
   "outputs": [
    {
     "data": {
      "text/html": [
       "<div>\n",
       "<style scoped>\n",
       "    .dataframe tbody tr th:only-of-type {\n",
       "        vertical-align: middle;\n",
       "    }\n",
       "\n",
       "    .dataframe tbody tr th {\n",
       "        vertical-align: top;\n",
       "    }\n",
       "\n",
       "    .dataframe thead th {\n",
       "        text-align: right;\n",
       "    }\n",
       "</style>\n",
       "<table border=\"1\" class=\"dataframe\">\n",
       "  <thead>\n",
       "    <tr style=\"text-align: right;\">\n",
       "      <th></th>\n",
       "      <th>Mean</th>\n",
       "      <th>STD</th>\n",
       "      <th>RMSSD</th>\n",
       "      <th>Normalized RMSSD</th>\n",
       "    </tr>\n",
       "  </thead>\n",
       "  <tbody>\n",
       "    <tr>\n",
       "      <th>0</th>\n",
       "      <td>168.25</td>\n",
       "      <td>43.226</td>\n",
       "      <td>1.115</td>\n",
       "      <td>0.007</td>\n",
       "    </tr>\n",
       "    <tr>\n",
       "      <th>1</th>\n",
       "      <td>169.10</td>\n",
       "      <td>50.353</td>\n",
       "      <td>1.126</td>\n",
       "      <td>0.007</td>\n",
       "    </tr>\n",
       "    <tr>\n",
       "      <th>2</th>\n",
       "      <td>150.75</td>\n",
       "      <td>62.874</td>\n",
       "      <td>1.669</td>\n",
       "      <td>0.011</td>\n",
       "    </tr>\n",
       "    <tr>\n",
       "      <th>3</th>\n",
       "      <td>194.20</td>\n",
       "      <td>32.262</td>\n",
       "      <td>1.038</td>\n",
       "      <td>0.005</td>\n",
       "    </tr>\n",
       "    <tr>\n",
       "      <th>4</th>\n",
       "      <td>169.85</td>\n",
       "      <td>43.731</td>\n",
       "      <td>1.013</td>\n",
       "      <td>0.006</td>\n",
       "    </tr>\n",
       "    <tr>\n",
       "      <th>...</th>\n",
       "      <td>...</td>\n",
       "      <td>...</td>\n",
       "      <td>...</td>\n",
       "      <td>...</td>\n",
       "    </tr>\n",
       "    <tr>\n",
       "      <th>35423</th>\n",
       "      <td>189.30</td>\n",
       "      <td>2.326</td>\n",
       "      <td>0.052</td>\n",
       "      <td>0.000</td>\n",
       "    </tr>\n",
       "    <tr>\n",
       "      <th>35424</th>\n",
       "      <td>188.80</td>\n",
       "      <td>2.272</td>\n",
       "      <td>0.048</td>\n",
       "      <td>0.000</td>\n",
       "    </tr>\n",
       "    <tr>\n",
       "      <th>35425</th>\n",
       "      <td>188.00</td>\n",
       "      <td>2.000</td>\n",
       "      <td>0.056</td>\n",
       "      <td>0.000</td>\n",
       "    </tr>\n",
       "    <tr>\n",
       "      <th>35426</th>\n",
       "      <td>187.85</td>\n",
       "      <td>1.621</td>\n",
       "      <td>0.051</td>\n",
       "      <td>0.000</td>\n",
       "    </tr>\n",
       "    <tr>\n",
       "      <th>35427</th>\n",
       "      <td>188.20</td>\n",
       "      <td>1.965</td>\n",
       "      <td>0.061</td>\n",
       "      <td>0.000</td>\n",
       "    </tr>\n",
       "  </tbody>\n",
       "</table>\n",
       "<p>35428 rows × 4 columns</p>\n",
       "</div>"
      ],
      "text/plain": [
       "         Mean     STD  RMSSD  Normalized RMSSD\n",
       "0      168.25  43.226  1.115             0.007\n",
       "1      169.10  50.353  1.126             0.007\n",
       "2      150.75  62.874  1.669             0.011\n",
       "3      194.20  32.262  1.038             0.005\n",
       "4      169.85  43.731  1.013             0.006\n",
       "...       ...     ...    ...               ...\n",
       "35423  189.30   2.326  0.052             0.000\n",
       "35424  188.80   2.272  0.048             0.000\n",
       "35425  188.00   2.000  0.056             0.000\n",
       "35426  187.85   1.621  0.051             0.000\n",
       "35427  188.20   1.965  0.061             0.000\n",
       "\n",
       "[35428 rows x 4 columns]"
      ]
     },
     "execution_count": 27,
     "metadata": {},
     "output_type": "execute_result"
    }
   ],
   "source": [
    "df5 = pd.DataFrame(features2)\n",
    "X = df5.values\n",
    "df5"
   ]
  },
  {
   "cell_type": "markdown",
   "metadata": {},
   "source": [
    "### SVM"
   ]
  },
  {
   "cell_type": "code",
   "execution_count": 28,
   "metadata": {},
   "outputs": [],
   "source": [
    "model = SVC()"
   ]
  },
  {
   "cell_type": "code",
   "execution_count": 29,
   "metadata": {},
   "outputs": [],
   "source": [
    "# parameters = {'kernel':('linear', 'rbf'), 'C':[1, 10]}\n",
    "# clf = GridSearchCV(model, parameters)\n",
    "# clf.fit(X_train, y_train)\n",
    "\n",
    "# df_svm_results = pd.DataFrame(clf.cv_results_)\n",
    "\n",
    "#X_train, X_test, y_train, y_test = train_test_split(X, y, test_size=0.2)\n",
    "# scaler = StandardScaler()\n",
    "# scaler.fit(X)\n",
    "# scaler.transform(X)"
   ]
  },
  {
   "cell_type": "markdown",
   "metadata": {},
   "source": [
    "### Decision trees"
   ]
  },
  {
   "cell_type": "code",
   "execution_count": 30,
   "metadata": {
    "scrolled": true
   },
   "outputs": [],
   "source": [
    "# clf = tree.DecisionTreeClassifier()\n",
    "# clf.fit(X_train, y_train)"
   ]
  },
  {
   "cell_type": "code",
   "execution_count": 31,
   "metadata": {},
   "outputs": [],
   "source": [
    "#clf.score(X_test, y_test) "
   ]
  },
  {
   "cell_type": "markdown",
   "metadata": {},
   "source": [
    "### Random forest"
   ]
  },
  {
   "cell_type": "code",
   "execution_count": 32,
   "metadata": {},
   "outputs": [],
   "source": [
    "# clf = RandomForestClassifier()\n",
    "# clf.fit(X_train, y_train)\n",
    "# clf.score(X_test, y_test)"
   ]
  },
  {
   "cell_type": "code",
   "execution_count": 33,
   "metadata": {},
   "outputs": [],
   "source": [
    "# rf_y_predicted = clf.predict(X_test)\n",
    "# cm = confusion_matrix(y_test, rf_y_predicted)\n",
    "# %matplotlib inline\n",
    "# plt.figure(figsize=(6,4))\n",
    "# sn.heatmap(cm,annot=True)\n",
    "# plt.xlabel('Predicted')\n",
    "# plt.ylabel('Truth')"
   ]
  },
  {
   "cell_type": "markdown",
   "metadata": {},
   "source": [
    "# Pipelines"
   ]
  },
  {
   "cell_type": "code",
   "execution_count": 34,
   "metadata": {},
   "outputs": [],
   "source": [
    "from sklearn.pipeline import Pipeline\n",
    "from sklearn.preprocessing import StandardScaler"
   ]
  },
  {
   "cell_type": "code",
   "execution_count": 35,
   "metadata": {},
   "outputs": [],
   "source": [
    "##### Choosen params after runned GridsearchCV \n",
    "\n",
    "pipeline_svm = Pipeline([('scalar1', StandardScaler()),\n",
    "                         ('svm_classifier', SVC(gamma=\"scale\", C=20, kernel='rbf', probability=True))])\n",
    "\n",
    "pipeline_dt = Pipeline([('scalar2', StandardScaler()),\n",
    "                        ('dt_classifier', tree.DecisionTreeClassifier(criterion='entropy', max_depth=12))])\n",
    "\n",
    "# pipeline_nb = Pipeline([('scalar3', StandardScaler()),\n",
    "#                        ('nb_classifier', GaussianNB())]) ### No gridsearch, because no hyperparameters\n",
    "\n",
    "pipeline_rf = Pipeline([('scalar 4', StandardScaler()),\n",
    "                         ('rf_classifier', RandomForestClassifier(n_estimators=200))])\n"
   ]
  },
  {
   "cell_type": "markdown",
   "metadata": {},
   "source": [
    "# Ensemble classifiers"
   ]
  },
  {
   "cell_type": "code",
   "execution_count": 36,
   "metadata": {},
   "outputs": [],
   "source": [
    "from sklearn.linear_model import LogisticRegression\n",
    "from sklearn.ensemble import StackingClassifier\n",
    "from xgboost import XGBClassifier\n",
    "from sklearn.ensemble import AdaBoostClassifier"
   ]
  },
  {
   "cell_type": "code",
   "execution_count": 37,
   "metadata": {},
   "outputs": [],
   "source": [
    "X_train, X_test, y_train, y_test = train_test_split(X, y, test_size=0.2)"
   ]
  },
  {
   "cell_type": "markdown",
   "metadata": {},
   "source": [
    "### StackingClassifier"
   ]
  },
  {
   "cell_type": "code",
   "execution_count": 38,
   "metadata": {},
   "outputs": [],
   "source": [
    "estimators = [('svm',pipeline_svm), ('dt',pipeline_dt), ('rf',pipeline_rf)]\n",
    "clf = StackingClassifier(\n",
    "    estimators=estimators, final_estimator=LogisticRegression())\n"
   ]
  },
  {
   "cell_type": "markdown",
   "metadata": {},
   "source": [
    "### xgboost"
   ]
  },
  {
   "cell_type": "code",
   "execution_count": 39,
   "metadata": {},
   "outputs": [],
   "source": [
    "xgb_model = XGBClassifier()"
   ]
  },
  {
   "cell_type": "markdown",
   "metadata": {},
   "source": [
    "### AdaBoost"
   ]
  },
  {
   "cell_type": "code",
   "execution_count": 40,
   "metadata": {},
   "outputs": [],
   "source": [
    "adaBoost_clf = AdaBoostClassifier()"
   ]
  },
  {
   "cell_type": "markdown",
   "metadata": {},
   "source": [
    "# Cross validation"
   ]
  },
  {
   "cell_type": "code",
   "execution_count": 41,
   "metadata": {},
   "outputs": [],
   "source": [
    "from sklearn.model_selection import cross_validate, cross_val_predict\n",
    "from sklearn import metrics\n",
    "from sklearn.metrics import make_scorer\n",
    "from sklearn.model_selection import StratifiedKFold ### For class inbalances through out the data"
   ]
  },
  {
   "cell_type": "code",
   "execution_count": 42,
   "metadata": {
    "scrolled": true
   },
   "outputs": [],
   "source": [
    "#scoring = ['precision_macro']\n",
    "\n",
    "cv_swm_results = cross_validate(pipeline_svm, X, y, cv=5,\n",
    "                        return_estimator=False) ### set return_estimator=True to return the fitted estimator"
   ]
  },
  {
   "cell_type": "code",
   "execution_count": 43,
   "metadata": {
    "scrolled": true
   },
   "outputs": [
    {
     "name": "stdout",
     "output_type": "stream",
     "text": [
      "Wall time: 34.4 s\n"
     ]
    }
   ],
   "source": [
    "%%time\n",
    "cv_dt_results = cross_validate(pipeline_dt, X, y, cv=5,\n",
    "                        return_estimator=False)\n",
    "# cv_nb_results = cross_validate(pipeline_nb, X, y, cv=5,\n",
    "#                         return_estimator=False)\n",
    "cv_rf_results = cross_validate(pipeline_rf, X, y, cv=5,\n",
    "                        return_estimator=False)"
   ]
  },
  {
   "cell_type": "code",
   "execution_count": 44,
   "metadata": {
    "scrolled": true
   },
   "outputs": [
    {
     "name": "stderr",
     "output_type": "stream",
     "text": [
      "D:\\anaconda3\\lib\\site-packages\\xgboost\\sklearn.py:888: UserWarning: The use of label encoder in XGBClassifier is deprecated and will be removed in a future release. To remove this warning, do the following: 1) Pass option use_label_encoder=False when constructing XGBClassifier object; and 2) Encode your labels (y) as integers starting with 0, i.e. 0, 1, 2, ..., [num_class - 1].\n",
      "  warnings.warn(label_encoder_deprecation_msg, UserWarning)\n"
     ]
    },
    {
     "name": "stdout",
     "output_type": "stream",
     "text": [
      "[13:10:53] WARNING: C:/Users/Administrator/workspace/xgboost-win64_release_1.3.0/src/learner.cc:1061: Starting in XGBoost 1.3.0, the default evaluation metric used with the objective 'binary:logistic' was changed from 'error' to 'logloss'. Explicitly set eval_metric if you'd like to restore the old behavior.\n",
      "[13:10:54] WARNING: C:/Users/Administrator/workspace/xgboost-win64_release_1.3.0/src/learner.cc:1061: Starting in XGBoost 1.3.0, the default evaluation metric used with the objective 'binary:logistic' was changed from 'error' to 'logloss'. Explicitly set eval_metric if you'd like to restore the old behavior.\n",
      "[13:10:54] WARNING: C:/Users/Administrator/workspace/xgboost-win64_release_1.3.0/src/learner.cc:1061: Starting in XGBoost 1.3.0, the default evaluation metric used with the objective 'binary:logistic' was changed from 'error' to 'logloss'. Explicitly set eval_metric if you'd like to restore the old behavior.\n",
      "[13:10:55] WARNING: C:/Users/Administrator/workspace/xgboost-win64_release_1.3.0/src/learner.cc:1061: Starting in XGBoost 1.3.0, the default evaluation metric used with the objective 'binary:logistic' was changed from 'error' to 'logloss'. Explicitly set eval_metric if you'd like to restore the old behavior.\n",
      "[13:10:56] WARNING: C:/Users/Administrator/workspace/xgboost-win64_release_1.3.0/src/learner.cc:1061: Starting in XGBoost 1.3.0, the default evaluation metric used with the objective 'binary:logistic' was changed from 'error' to 'logloss'. Explicitly set eval_metric if you'd like to restore the old behavior.\n"
     ]
    }
   ],
   "source": [
    "# %%time ##takes half hour to run\n",
    "cv_stacking_results = cross_validate(clf, X, y, cv=5,\n",
    "                        return_estimator=False)\n",
    "cv_xgb_results = cross_validate(xgb_model, X, y, cv=5,\n",
    "                        return_estimator=False)\n",
    "cv_ab_results = cross_validate(adaBoost_clf, X, y, cv=5,\n",
    "                        return_estimator=False)"
   ]
  },
  {
   "cell_type": "markdown",
   "metadata": {},
   "source": [
    "### Predict values"
   ]
  },
  {
   "cell_type": "code",
   "execution_count": 45,
   "metadata": {},
   "outputs": [
    {
     "name": "stderr",
     "output_type": "stream",
     "text": [
      "D:\\anaconda3\\lib\\site-packages\\xgboost\\sklearn.py:888: UserWarning: The use of label encoder in XGBClassifier is deprecated and will be removed in a future release. To remove this warning, do the following: 1) Pass option use_label_encoder=False when constructing XGBClassifier object; and 2) Encode your labels (y) as integers starting with 0, i.e. 0, 1, 2, ..., [num_class - 1].\n",
      "  warnings.warn(label_encoder_deprecation_msg, UserWarning)\n"
     ]
    },
    {
     "name": "stdout",
     "output_type": "stream",
     "text": [
      "[13:17:06] WARNING: C:/Users/Administrator/workspace/xgboost-win64_release_1.3.0/src/learner.cc:1061: Starting in XGBoost 1.3.0, the default evaluation metric used with the objective 'binary:logistic' was changed from 'error' to 'logloss'. Explicitly set eval_metric if you'd like to restore the old behavior.\n"
     ]
    },
    {
     "data": {
      "text/plain": [
       "AdaBoostClassifier()"
      ]
     },
     "execution_count": 45,
     "metadata": {},
     "output_type": "execute_result"
    }
   ],
   "source": [
    "pipeline_svm.fit(X_train, y_train)\n",
    "pipeline_dt.fit(X_train, y_train)\n",
    "pipeline_nb.fit(X_train, y_train)\n",
    "pipeline_rf.fit(X_train, y_train)\n",
    "\n",
    "clf.fit(X_train, y_train)\n",
    "xgb_model.fit(X_train, y_train)\n",
    "adaBoost_clf.fit(X_train, y_train)"
   ]
  },
  {
   "cell_type": "code",
   "execution_count": 46,
   "metadata": {},
   "outputs": [],
   "source": [
    "# %%time\n",
    "# y_swm_pred = cross_val_predict(pipeline_svm, X, y)\n",
    "# y_dt_pred = cross_val_predict(pipeline_dt, X, y)\n",
    "# y_nb_pred = cross_val_predict(pipeline_nb, X, y)\n",
    "# y_rf_pred = cross_val_predict(pipeline_rf, X, y)"
   ]
  },
  {
   "cell_type": "code",
   "execution_count": 47,
   "metadata": {},
   "outputs": [],
   "source": [
    "#r_probs = [0 for _ in range(len(y_test))]\n",
    "probs_swm = pipeline_svm.predict_proba(X_test)\n",
    "probs_dt = pipeline_dt.predict_proba(X_test)\n",
    "probs_nb = pipeline_nb.predict_proba(X_test)\n",
    "probs_rf = pipeline_rf.predict_proba(X_test)\n",
    "\n",
    "probs_stacking = pipeline_rf.predict_proba(X_test)\n",
    "probs_xgb = pipeline_rf.predict_proba(X_test)\n",
    "probs_ab = pipeline_rf.predict_proba(X_test)\n",
    "\n",
    "### Probabilities for the positive outcome is kept\n",
    "probs_swm = probs_swm[:,1]\n",
    "probs_dt = probs_dt[:,1]\n",
    "probs_nb = probs_nb[:,1]\n",
    "probs_rf = probs_rf[:,1]\n",
    "\n",
    "probs_stacking = probs_stacking[:,1]\n",
    "probs_xgb = probs_xgb[:,1]\n",
    "probs_ab = probs_ab[:,1]"
   ]
  },
  {
   "cell_type": "code",
   "execution_count": 48,
   "metadata": {},
   "outputs": [],
   "source": [
    "auc_svm = metrics.roc_auc_score(y_test, probs_swm)\n",
    "auc_dt = metrics.roc_auc_score(y_test, probs_dt)\n",
    "auc_nb = metrics.roc_auc_score(y_test, probs_nb)\n",
    "auc_rf = metrics.roc_auc_score(y_test, probs_rf)\n",
    "\n",
    "auc_stacking = metrics.roc_auc_score(y_test, probs_stacking)\n",
    "auc_xgb = metrics.roc_auc_score(y_test, probs_xgb)\n",
    "auc_ab = metrics.roc_auc_score(y_test, probs_ab)"
   ]
  },
  {
   "cell_type": "code",
   "execution_count": 49,
   "metadata": {},
   "outputs": [],
   "source": [
    "fpr_swm, tpr_swm, thresholds_swm = metrics.roc_curve(y_test, probs_swm)\n",
    "fpr_dt, tpr_dt, thresholds_dt = metrics.roc_curve(y_test, probs_dt)\n",
    "fpr_nb, tpr_nb, thresholds_nb = metrics.roc_curve(y_test, probs_nb)\n",
    "fpr_rf, tpr_rf, thresholds_rf = metrics.roc_curve(y_test, probs_rf)\n",
    "\n",
    "fpr_stacking, tpr_stacking, thresholds_stacking = metrics.roc_curve(y_test, probs_stacking)\n",
    "fpr_xgb, tpr_xgb, thresholds_xgb = metrics.roc_curve(y_test, probs_xgb)\n",
    "fpr_ab, tpr_ab, thresholds_ab = metrics.roc_curve(y_test, probs_ab)"
   ]
  },
  {
   "cell_type": "markdown",
   "metadata": {},
   "source": [
    "# Results"
   ]
  },
  {
   "cell_type": "code",
   "execution_count": 50,
   "metadata": {},
   "outputs": [],
   "source": [
    "from sklearn.metrics import classification_report\n",
    "from sklearn.metrics import confusion_matrix\n",
    "#from sklearn.datasets import make_classification"
   ]
  },
  {
   "cell_type": "markdown",
   "metadata": {},
   "source": [
    "### scores"
   ]
  },
  {
   "cell_type": "code",
   "execution_count": 51,
   "metadata": {
    "scrolled": false
   },
   "outputs": [
    {
     "name": "stdout",
     "output_type": "stream",
     "text": [
      "SVM Scores: [0.9322608  0.87552921 0.86014677 0.86704305 0.76979534]\n",
      "Mean: 0.8609550335419408\n",
      "\n",
      "Decision tree Scores: [0.91673723 0.90530624 0.88484335 0.89160198 0.79943543]\n",
      "Mean: 0.8795848444087768\n",
      "\n",
      "Random forest: [0.91970082 0.89754445 0.89810895 0.91997177 0.8156669 ]\n",
      "Mean: 0.8901985785682545\n",
      "\n",
      "Stacking classifier Scores: [0.93014395 0.90008467 0.89514536 0.92914608 0.80804517]\n",
      "Mean: 0.8925130451947254\n",
      "\n",
      "xgboost Scores: [0.92238216 0.90220152 0.90333051 0.91743119 0.81580805]\n",
      "Mean: 0.8922306869669157\n",
      "\n",
      "AdaBoost Scores: [0.93353091 0.89895569 0.88583122 0.8962597  0.78645025]\n",
      "Mean: 0.8802055520731189\n"
     ]
    }
   ],
   "source": [
    "print(f\"SVM Scores: {cv_swm_results['test_score']}\")\n",
    "print(f\"Mean: {np.mean(cv_swm_results['test_score'])}\")\n",
    "print()\n",
    "print(f\"Decision tree Scores: {cv_dt_results['test_score']}\")\n",
    "print(f\"Mean: {np.mean(cv_dt_results['test_score'])}\")\n",
    "print()\n",
    "# print(f\"Naive bayes Scores: {cv_nb_results['test_score']}\")\n",
    "# print(f\"Mean: {np.mean(cv_nb_results['test_score'])}\")\n",
    "# print()\n",
    "print(f\"Random forest: {cv_rf_results['test_score']}\")\n",
    "print(f\"Mean: {np.mean(cv_rf_results['test_score'])}\")\n",
    "print()\n",
    "print(f\"Stacking classifier Scores: {cv_stacking_results['test_score']}\")\n",
    "print(f\"Mean: {np.mean(cv_stacking_results['test_score'])}\")\n",
    "print()\n",
    "print(f\"xgboost Scores: {cv_xgb_results['test_score']}\")\n",
    "print(f\"Mean: {np.mean(cv_xgb_results['test_score'])}\")\n",
    "print()\n",
    "print(f\"AdaBoost Scores: {cv_ab_results['test_score']}\")\n",
    "print(f\"Mean: {np.mean(cv_ab_results['test_score'])}\")"
   ]
  },
  {
   "cell_type": "markdown",
   "metadata": {},
   "source": [
    "### Evaluate on MIT-BIH Normal Sinus Rhythm Database"
   ]
  },
  {
   "cell_type": "code",
   "execution_count": 52,
   "metadata": {
    "scrolled": false
   },
   "outputs": [
    {
     "name": "stdout",
     "output_type": "stream",
     "text": [
      "SVM: 0.9369015331820446\n",
      "DT: 0.9309791332263242\n",
      "NB: 0.9970111252559916\n",
      "RF: 0.9491337798195605\n",
      "\n",
      "Stacking: 0.9533403442740909\n",
      "Xgbost: 0.9536170919355731\n",
      "AdaBoost: 0.9056843969668457\n"
     ]
    }
   ],
   "source": [
    "print(f\"SVM: {pipeline_svm.score(X_test_nsr, y_test_nsr)}\")\n",
    "print(f\"DT: {pipeline_dt.score(X_test_nsr, y_test_nsr)}\")\n",
    "print(f\"NB: {pipeline_nb.score(X_test_nsr, y_test_nsr)}\")\n",
    "print(f\"RF: {pipeline_rf.score(X_test_nsr, y_test_nsr)}\")\n",
    "print()\n",
    "print(f\"Stacking: {clf.score(X_test_nsr, y_test_nsr)}\")\n",
    "print(f\"Xgbost: {xgb_model.score(X_test_nsr, y_test_nsr)}\")\n",
    "print(f\"AdaBoost: {adaBoost_clf.score(X_test_nsr, y_test_nsr)}\")"
   ]
  },
  {
   "cell_type": "markdown",
   "metadata": {},
   "source": [
    "### Clasification report for SVM"
   ]
  },
  {
   "cell_type": "code",
   "execution_count": 53,
   "metadata": {},
   "outputs": [],
   "source": [
    "# y_pred_test = pipeline_svm.predict(X_test)\n",
    "# # print(classification_report(y_pred_test, y_test))\n",
    "\n",
    "# ### (above) the parameters was inputted in wrong positions.\n",
    "# target_names = ['class 0', 'class 1']\n",
    "# print(classification_report(y_test, y_pred_test, target_names=target_names))"
   ]
  },
  {
   "cell_type": "markdown",
   "metadata": {},
   "source": [
    "### Confusion Matrix"
   ]
  },
  {
   "cell_type": "code",
   "execution_count": 64,
   "metadata": {},
   "outputs": [],
   "source": [
    "y_pred_svm = pipeline_svm.predict(X_test)\n",
    "y_pred_dt = pipeline_dt.predict(X_test)\n",
    "# y_pred_nb = pipeline_nb.predict(X_test)\n",
    "y_pred_rf = pipeline_rf.predict(X_test)\n",
    "y_pred_stacking = clf.predict(X_test)\n",
    "\n",
    "cm_svm = confusion_matrix(y_test, y_pred_svm)\n",
    "cm_dt = confusion_matrix(y_test, y_pred_dt)\n",
    "# cm_nb = confusion_matrix(y_test, y_pred_nb)\n",
    "cm_rf = confusion_matrix(y_test, y_pred_rf)\n",
    "cm_stacking = confusion_matrix(y_test, y_pred_stacking)\n",
    "target_names = ['Normal', 'AFIB']\n",
    "\n",
    "### confusion matrices for all estimators"
   ]
  },
  {
   "cell_type": "code",
   "execution_count": 55,
   "metadata": {},
   "outputs": [],
   "source": [
    "def plot_confusion_matrix(cm,\n",
    "                          target_names,\n",
    "                          title='Confusion matrix',\n",
    "                          cmap=None,\n",
    "                          normalize=True):\n",
    "    \"\"\"\n",
    "    given a sklearn confusion matrix (cm), make a nice plot\n",
    "\n",
    "    Arguments\n",
    "    ---------\n",
    "    cm:           confusion matrix from sklearn.metrics.confusion_matrix\n",
    "\n",
    "    target_names: given classification classes such as [0, 1, 2]\n",
    "                  the class names, for example: ['high', 'medium', 'low']\n",
    "\n",
    "    title:        the text to display at the top of the matrix\n",
    "\n",
    "    cmap:         the gradient of the values displayed from matplotlib.pyplot.cm\n",
    "                  see http://matplotlib.org/examples/color/colormaps_reference.html\n",
    "                  plt.get_cmap('jet') or plt.cm.Blues\n",
    "\n",
    "    normalize:    If False, plot the raw numbers\n",
    "                  If True, plot the proportions\n",
    "\n",
    "    Usage\n",
    "    -----\n",
    "    plot_confusion_matrix(cm           = cm,                  # confusion matrix created by\n",
    "                                                              # sklearn.metrics.confusion_matrix\n",
    "                          normalize    = True,                # show proportions\n",
    "                          target_names = y_labels_vals,       # list of names of the classes\n",
    "                          title        = best_estimator_name) # title of graph\n",
    "\n",
    "    Citiation\n",
    "    ---------\n",
    "    http://scikit-learn.org/stable/auto_examples/model_selection/plot_confusion_matrix.html\n",
    "    \"\"\"\n",
    "    import matplotlib.pyplot as plt\n",
    "    import numpy as np\n",
    "    import itertools\n",
    "\n",
    "    accuracy = np.trace(cm) / np.sum(cm).astype('float')\n",
    "    misclass = 1 - accuracy\n",
    "\n",
    "    if cmap is None:\n",
    "        cmap = plt.get_cmap('Blues')\n",
    "\n",
    "    plt.figure(figsize=(7, 5))\n",
    "    plt.imshow(cm, interpolation='nearest', cmap=cmap)\n",
    "    plt.title(title)\n",
    "    plt.colorbar()\n",
    "\n",
    "    if target_names is not None:\n",
    "        tick_marks = np.arange(len(target_names))\n",
    "        plt.xticks(tick_marks, target_names, rotation=45)\n",
    "        plt.yticks(tick_marks, target_names)\n",
    "\n",
    "    if normalize:\n",
    "        cm = (cm.astype('float') / cm.sum(axis=1)[:, np.newaxis]) * 100\n",
    "\n",
    "\n",
    "    thresh = cm.max() / 1.5 if normalize else cm.max() / 2\n",
    "    for i, j in itertools.product(range(cm.shape[0]), range(cm.shape[1])):\n",
    "        if normalize:\n",
    "            plt.text(j, i, \"{:0.2f}\".format(cm[i, j]),\n",
    "                     horizontalalignment=\"center\",\n",
    "                     color=\"white\" if cm[i, j] > thresh else \"black\")\n",
    "        else:\n",
    "            plt.text(j, i, \"{:,}\".format(cm[i, j]),\n",
    "                     horizontalalignment=\"center\",\n",
    "                     color=\"white\" if cm[i, j] > thresh else \"black\")\n",
    "\n",
    "\n",
    "    plt.tight_layout()\n",
    "    plt.ylabel('True label')\n",
    "    plt.xlabel('Predicted label\\naccuracy={:0.4f}; misclass={:0.4f}'.format(accuracy, misclass))\n",
    "    plt.show()"
   ]
  },
  {
   "cell_type": "markdown",
   "metadata": {},
   "source": [
    "### CM SVM"
   ]
  },
  {
   "cell_type": "code",
   "execution_count": 56,
   "metadata": {
    "scrolled": false
   },
   "outputs": [
    {
     "data": {
      "image/png": "[encoded data removed]",
      "text/plain": [
       "<Figure size 504x360 with 2 Axes>"
      ]
     },
     "metadata": {
      "needs_background": "light"
     },
     "output_type": "display_data"
    }
   ],
   "source": [
    "## Number better in percentage\n",
    "plot_confusion_matrix(cm=cm_svm, target_names=target_names)"
   ]
  },
  {
   "cell_type": "markdown",
   "metadata": {},
   "source": [
    "### CM RandomForest"
   ]
  },
  {
   "cell_type": "code",
   "execution_count": 61,
   "metadata": {
    "scrolled": false
   },
   "outputs": [
    {
     "data": {
      "image/png": "[encoded data removed]",
      "text/plain": [
       "<Figure size 504x360 with 2 Axes>"
      ]
     },
     "metadata": {
      "needs_background": "light"
     },
     "output_type": "display_data"
    }
   ],
   "source": [
    "plot_confusion_matrix(cm=cm_rf, target_names=target_names)"
   ]
  },
  {
   "cell_type": "markdown",
   "metadata": {},
   "source": [
    "### CM Stacking"
   ]
  },
  {
   "cell_type": "code",
   "execution_count": 65,
   "metadata": {},
   "outputs": [
    {
     "data": {
      "image/png": "[encoded data removed]",
      "text/plain": [
       "<Figure size 504x360 with 2 Axes>"
      ]
     },
     "metadata": {
      "needs_background": "light"
     },
     "output_type": "display_data"
    }
   ],
   "source": [
    "plot_confusion_matrix(cm=cm_stacking, target_names=target_names)"
   ]
  },
  {
   "cell_type": "markdown",
   "metadata": {},
   "source": [
    "### ROC curve"
   ]
  },
  {
   "cell_type": "code",
   "execution_count": 57,
   "metadata": {
    "scrolled": false
   },
   "outputs": [
    {
     "data": {
      "image/png": "[encoded data removed]",
      "text/plain": [
       "<Figure size 504x360 with 1 Axes>"
      ]
     },
     "metadata": {
      "needs_background": "light"
     },
     "output_type": "display_data"
    }
   ],
   "source": [
    "plt.figure(figsize=(7,5))\n",
    "plt.plot([0, 1], [0, 1], 'k--') # dashed line with black(k) color\n",
    "plt.plot(fpr_rf, tpr_rf, label='RF (auc = %0.3f)' % auc_rf)\n",
    "plt.plot(fpr_swm, tpr_swm, label='SWM (auc = %0.3f)' % auc_svm)\n",
    "plt.plot(fpr_dt, tpr_dt, label='DT (auc = %0.3f)' % auc_dt)\n",
    "plt.plot(fpr_nb, tpr_nb, label='NB (auc = %0.3f)' % auc_nb)\n",
    "\n",
    "plt.plot(fpr_stacking, tpr_stacking, label='STACKING (auc = %0.3f)' % auc_stacking)\n",
    "plt.plot(fpr_xgb, tpr_xgb, label='XGB (auc = %0.3f)' % auc_xgb)\n",
    "plt.plot(fpr_ab, tpr_ab, label='AB (auc = %0.3f)' % auc_ab)\n",
    "\n",
    "plt.xlabel('False positive rate')\n",
    "plt.ylabel('True positive rate')\n",
    "plt.title('ROC curve')\n",
    "plt.legend(loc='best')\n",
    "plt.show()\n",
    "\n",
    "### Split the graph in MIN and MAX averages"
   ]
  },
  {
   "cell_type": "markdown",
   "metadata": {},
   "source": [
    "# Table overview: scoring = ['test_score']"
   ]
  },
  {
   "cell_type": "markdown",
   "metadata": {},
   "source": [
    "### Segment amount 10\n",
    "| Classifier | Scores | Mean Score |\n",
    "| :- | :- | :- |\n",
    "| SVM | [0.92075924 0.84080164 0.84313034 0.79733258 0.78378378] | 0.8371615163468551 |\n",
    "| Decision tree | [0.92075924 0.89704326 0.86662903 0.85794933 0.79225178] | 0.8669265294016855 |\n",
    "| Random forest | [0.92111205 0.89450286 0.87396796 0.86535883 0.79514501] | 0.8700173437011935 |\n",
    "| Stacking classifier | [0.92725092 0.89450286 0.8736857  0.8781314  0.79140498] | 0.8729951696998475 |\n",
    "|<b> <font color='blue'>xgboost</font> </b> | [0.92823878 0.90275916 0.87989556 0.86931056 0.79810881] | <b>0.875662575135407</b> |  \n",
    "| adaBoost | [0.93600056 0.91101545 0.8639475 0.86662903 0.78300755] | 0.8721200197506953 |\n",
    "| Voting Classifier (HARD) | No cross validation | 0.7318656505786058 |\n",
    "| Voting Classifier (SOFT) | No cross validation | 0.73652272085803 |"
   ]
  },
  {
   "cell_type": "markdown",
   "metadata": {},
   "source": [
    "### Segment amount 20\n",
    "| Classifier | Scores | Mean Score |\n",
    "| :- | :- | :- |\n",
    "| SVM | [0.9322608  0.87552921 0.86014677 0.86704305 0.76979534] | 0.8609550335419408 |\n",
    "| Decision tree | [0.92012419 0.9062941  0.88399661 0.89188426 0.79971771] | 0.8804033757261079 |\n",
    "| Naive bayes | [0.6402766  0.64140559 0.62658764 0.64022583 0.64163726] | 0.6380265837733852 |\n",
    "| Random forest | [0.91913633 0.89627434 0.89867344 0.92025406 0.81425547] | 0.8897187273363582 |\n",
    "| Stacking classifier | [0.93000282 0.90093141 0.893593 0.92971066 0.8052223] | 0.8918920387512547 |\n",
    "| xgboost | [0.92238216 0.90220152 0.90333051 0.91743119 0.81580805] | 0.8922306869669157 |\n",
    "| adaBoost | [0.93353091 0.89895569 0.88583122 0.8962597  0.78645025] | 0.8802055520731189 |\n",
    "| Voting Classifier (HARD) | No cross validation | 0.9486311035845328 | \n",
    "| <b> <font color='blue'>Voting Classifier (SOFT)</font> </b> | No cross validation | <b>0.9508890770533446</b> |"
   ]
  },
  {
   "cell_type": "markdown",
   "metadata": {},
   "source": [
    "### Segment amount 60\n",
    "| Classifier | Scores | Mean Score |\n",
    "| :- | :- | :- |\n",
    "| SVM | [0.9364945  0.89881456 0.87171888 0.90431837 0.80304956]| 0.8828791743907937 |\n",
    "| Decision tree | [0.91871296 0.92082981 0.9081287  0.92972058 0.82126218] | 0.8997308435374297 |\n",
    "| Random forest | [0.93183743 0.9322608  0.91447925 0.95004234 0.84709869] |  0.915143700142844 |\n",
    "| <b> <font color='blue'>Stacking classifier</font> </b> | [0.93776461 0.93141406 0.91320914 0.96062659 0.83566285] | <b>0.9157354498606878</b> |\n",
    "| xgboost | [0.92929721 0.92675699 0.9195597  0.95300593 0.84498094] | 0.9147201507993463 |\n",
    "| adaBoost | [0.93141406 0.92421677 0.8954276  0.93903472 0.81745023] | 0.9015086748715454 |\n",
    "| Voting Classifier (HARD) | No cross validation | 0.6841659610499576 |\n",
    "| Voting Classifier (SOFT) | No cross validation | 0.6881174146203782 |"
   ]
  },
  {
   "cell_type": "markdown",
   "metadata": {},
   "source": [
    "### Segment amount 120\n",
    "| Classifier | Scores | Mean Score |\n",
    "| :- | :- | :- |\n",
    "| SVM | [0.93480102 0.91363251 0.86198137 0.94157494 0.79830508]| 0.8900589847730307 |\n",
    "| Decision tree | [0.90770533 0.92548688 0.88484335 0.94834886 0.82966102] | 0.8992090873864435 |\n",
    "| Random forest | [0.9237934  0.9407282  0.90685859 0.96104996 0.82457627] | 0.9114012830264497 |\n",
    "| <b> <font color='blue'>Stacking classifier</font> </b> | [0.93734124 0.9407282  0.89585097 0.96951736 0.81694915] | <b>0.9120773834297277</b> |\n",
    "| xgboost | [0.90855207 0.92887384 0.90347163 0.957663   0.83220339] | 0.9061527863488281 |\n",
    "| adaBoost | [0.93734124 0.9364945  0.88653683 0.95004234 0.81694915] | 0.9054728110334533 |\n",
    "| Voting Classifier (HARD) | No cross validation | 0.6699125035280835 |\n",
    "| Voting Classifier (SOFT) | No cross validation | 0.6783799040361276 |"
   ]
  },
  {
   "cell_type": "markdown",
   "metadata": {},
   "source": [
    "# Table overview: scoring = ['precision_macro']"
   ]
  },
  {
   "cell_type": "markdown",
   "metadata": {},
   "source": [
    "### Segment amount 10\n",
    "\n",
    "| Classifier | Scores | Mean Score |\n",
    "| :- | :- | :- |\n",
    "| SVM | [0.90901609 0.82913128 0.83751363 0.79804735 0.79050442] | 0.8328425557402422 |\n",
    "| Decision tree | [0.9091379  0.883873   0.85304185 0.8529422  0.78019421] | 0.8558378305694516 |\n",
    "| Random forest | [0.91035706 0.88853696 0.85955471 0.85584218 0.78217434] | 0.859293050533927 |\n",
    "| Stacking classifier | [0.91633424 0.88794029 0.85991648 0.86799686 0.77727863] | 0.8618933018364766 |\n",
    "|<b> <font color='blue'>xgboost</font> </b> | [0.91781089 0.89484278 0.86629533 0.86209761 0.78692103] | <b>0.8655935272677568</b> |  \n",
    "| adaBoost | [0.92504207 0.90307636 0.85256869 0.86064788 0.77918339] | 0.8641036786319866 |"
   ]
  },
  {
   "cell_type": "markdown",
   "metadata": {},
   "source": [
    "### Segment amount 20\n",
    "| Classifier | Scores | Mean Score |\n",
    "| :- | :- | :- |\n",
    "| SVM | [0.92118499 0.86178046 0.84719857 0.85588685 0.77298434] | 0.8518070430052868 |\n",
    "| Decision tree | [0.90463721 0.89701568 0.87030209 0.88093824 0.78244283] | 0.8670672086146567 |\n",
    "| Random forest | [0.90885777 0.89006886 0.88653765 0.90861018 0.80115661] | 0.8790462133976753 |\n",
    "| <b> <font color='blue'>Stacking classifier</font> </b> | [0.91872233 0.89636211 0.88322156 0.91809779 0.78941333] | <b>0.8811634252907714</b>|\n",
    "| xgboost | [0.91116523 0.89531492 0.89047711 0.90500501 0.80120198] | 0.8806328505197618 |\n",
    "| adaBoost | [0.92199619 0.89281512 0.87258715 0.88516904 0.77376375] | 0.8806328505197618 |"
   ]
  },
  {
   "cell_type": "markdown",
   "metadata": {},
   "source": [
    "### Segment amount 60\n",
    "| Classifier | Scores | Mean Score |\n",
    "| :- | :- | :- |\n",
    "| SVM | [0.92501342 0.88580256 0.86103527 0.89190853 0.80146878]| 0.8730457106959557 |\n",
    "| Decision tree | [0.91315572 0.91338482 0.89238663 0.91800241 0.80481384] | 0.8883486859473735 |\n",
    "| Random forest | [0.91854214 0.92321429 0.90506758 0.93944582 0.83117845] |  0.9034896542288781 |\n",
    "| <b> <font color='blue'>Stacking classifier</font> </b> | [0.93226222 0.92338524 0.90520768 0.95202 0.82510008] | <b>0.9075950454507294</b> |\n",
    "| xgboost | [0.91850551 0.91925385 0.90759045 0.94505354 0.83007033] | 0.9040947345160714 |\n",
    "| adaBoost | [0.92001345 0.91576532 0.88294673 0.92885481 0.80175305] | 0.8898666720527755 |"
   ]
  },
  {
   "cell_type": "markdown",
   "metadata": {},
   "source": [
    "### Segment amount 120\n",
    "| Classifier | Scores | Mean Score |\n",
    "| :- | :- | :- |\n",
    "| SVM | [0.92325695 0.90212192 0.85257555 0.93080192 0.7934675]| 0.880444768805296 |\n",
    "| Decision tree | [0.89160153 0.91648605 0.872511   0.94446946 0.81329853] | 0.8876733146580251 |\n",
    "| <b> <font color='blue'>Random forest</font> </b> | [0.91749582 0.93126885 0.89715865 0.96097628 0.8130069] |  <b>0.9039812993810619</b> |\n",
    "| Stacking classifier | [0.9283578  0.93419934 0.88484117 0.96806379 0.80084259] | 0.903260937296853 |\n",
    "| xgboost | [0.89934208 0.92393306 0.89098086 0.95323892 0.81823833] | 0.8971466500331117 |\n",
    "| adaBoost | [0.92644658 0.92807614 0.87398324 0.943755 0.80205616] | 0.894863424594331 |"
   ]
  },
  {
   "cell_type": "markdown",
   "metadata": {},
   "source": [
    "# VotingClassifier"
   ]
  },
  {
   "cell_type": "code",
   "execution_count": 117,
   "metadata": {
    "scrolled": false
   },
   "outputs": [
    {
     "name": "stdout",
     "output_type": "stream",
     "text": [
      "[Voting] ...................... (1 of 6) Processing svm, total= 1.7min\n",
      "[Voting] ....................... (2 of 6) Processing dt, total=   0.1s\n",
      "[Voting] ....................... (3 of 6) Processing rf, total=   8.9s\n",
      "[Voting] ................. (4 of 6) Processing stacking, total= 8.3min\n",
      "[01:42:41] WARNING: C:/Users/Administrator/workspace/xgboost-win64_release_1.3.0/src/learner.cc:1061: Starting in XGBoost 1.3.0, the default evaluation metric used with the objective 'binary:logistic' was changed from 'error' to 'logloss'. Explicitly set eval_metric if you'd like to restore the old behavior.\n"
     ]
    },
    {
     "name": "stderr",
     "output_type": "stream",
     "text": [
      "D:\\anaconda3\\lib\\site-packages\\xgboost\\sklearn.py:888: UserWarning: The use of label encoder in XGBClassifier is deprecated and will be removed in a future release. To remove this warning, do the following: 1) Pass option use_label_encoder=False when constructing XGBClassifier object; and 2) Encode your labels (y) as integers starting with 0, i.e. 0, 1, 2, ..., [num_class - 1].\n",
      "  warnings.warn(label_encoder_deprecation_msg, UserWarning)\n"
     ]
    },
    {
     "name": "stdout",
     "output_type": "stream",
     "text": [
      "[Voting] ...................... (5 of 6) Processing xgb, total=   1.1s\n",
      "[Voting] ................. (6 of 6) Processing AdaBoost, total=   1.5s\n",
      "[Voting] ...................... (1 of 6) Processing svm, total= 1.8min\n",
      "[Voting] ....................... (2 of 6) Processing dt, total=   0.1s\n",
      "[Voting] ....................... (3 of 6) Processing rf, total=   9.8s\n",
      "[Voting] ................. (4 of 6) Processing stacking, total= 7.7min\n",
      "[01:52:24] WARNING: C:/Users/Administrator/workspace/xgboost-win64_release_1.3.0/src/learner.cc:1061: Starting in XGBoost 1.3.0, the default evaluation metric used with the objective 'binary:logistic' was changed from 'error' to 'logloss'. Explicitly set eval_metric if you'd like to restore the old behavior.\n"
     ]
    },
    {
     "name": "stderr",
     "output_type": "stream",
     "text": [
      "D:\\anaconda3\\lib\\site-packages\\xgboost\\sklearn.py:888: UserWarning: The use of label encoder in XGBClassifier is deprecated and will be removed in a future release. To remove this warning, do the following: 1) Pass option use_label_encoder=False when constructing XGBClassifier object; and 2) Encode your labels (y) as integers starting with 0, i.e. 0, 1, 2, ..., [num_class - 1].\n",
      "  warnings.warn(label_encoder_deprecation_msg, UserWarning)\n"
     ]
    },
    {
     "name": "stdout",
     "output_type": "stream",
     "text": [
      "[Voting] ...................... (5 of 6) Processing xgb, total=   1.1s\n",
      "[Voting] ................. (6 of 6) Processing AdaBoost, total=   1.2s\n"
     ]
    }
   ],
   "source": [
    "from sklearn.ensemble import VotingClassifier\n",
    "\n",
    "eclf1 = VotingClassifier(estimators=[\n",
    "        ('svm', pipeline_svm), ('dt', pipeline_dt), ('rf', pipeline_rf), \n",
    "        ('stacking', clf), ('xgb', xgb_model), ('AdaBoost', adaBoost_clf)], \n",
    "        voting='hard', verbose=1)\n",
    "eclf1 = eclf1.fit(X, y)\n",
    "\n",
    "\n",
    "eclf2 = VotingClassifier(estimators=[\n",
    "        ('svm', pipeline_svm), ('dt', pipeline_dt), ('rf', pipeline_rf), \n",
    "        ('stacking', clf), ('xgb', xgb_model), ('AdaBoost', adaBoost_clf)],\n",
    "        voting='soft', verbose=1)\n",
    "eclf2 = eclf2.fit(X, y)"
   ]
  },
  {
   "cell_type": "code",
   "execution_count": 118,
   "metadata": {
    "scrolled": true
   },
   "outputs": [
    {
     "name": "stdout",
     "output_type": "stream",
     "text": [
      "---------TESTING----------\n",
      "0.9482077335591307\n",
      "0.9508890770533446\n",
      "---------TRAINING----------\n",
      "0.9536024274927669\n",
      "0.9538141274433702\n"
     ]
    }
   ],
   "source": [
    "print(\"---------TESTING----------\")\n",
    "print(eclf1.score(X_test, y_test))\n",
    "print(eclf2.score(X_test, y_test))\n",
    "print(\"---------TRAINING----------\")\n",
    "print(eclf1.score(X_train, y_train))\n",
    "print(eclf2.score(X_train, y_train))"
   ]
  },
  {
   "cell_type": "markdown",
   "metadata": {},
   "source": [
    "### CM VotingClassifier"
   ]
  },
  {
   "cell_type": "code",
   "execution_count": 70,
   "metadata": {},
   "outputs": [],
   "source": [
    "y_pred_voting_clf = eclf2.predict(X_test)\n",
    "\n",
    "cm_voting_clf = confusion_matrix(y_test, y_pred_voting_clf)"
   ]
  },
  {
   "cell_type": "code",
   "execution_count": 71,
   "metadata": {},
   "outputs": [
    {
     "data": {
      "image/png": "[encoded data removed]",
      "text/plain": [
       "<Figure size 504x360 with 2 Axes>"
      ]
     },
     "metadata": {
      "needs_background": "light"
     },
     "output_type": "display_data"
    }
   ],
   "source": [
    "plot_confusion_matrix(cm=cm_voting_clf, target_names=target_names)"
   ]
  },
  {
   "cell_type": "markdown",
   "metadata": {},
   "source": [
    "### Other"
   ]
  },
  {
   "cell_type": "code",
   "execution_count": 60,
   "metadata": {},
   "outputs": [
    {
     "name": "stdout",
     "output_type": "stream",
     "text": [
      "Automatically created module for IPython interactive environment\n"
     ]
    },
    {
     "data": {
      "image/png": "[encoded data removed]",
      "text/plain": [
       "<Figure size 432x288 with 1 Axes>"
      ]
     },
     "metadata": {
      "needs_background": "light"
     },
     "output_type": "display_data"
    }
   ],
   "source": [
    "print(__doc__)\n",
    "\n",
    "# clf1 = LogisticRegression(max_iter=1000, random_state=123)\n",
    "# clf2 = RandomForestClassifier(n_estimators=100, random_state=123)\n",
    "# clf3 = GaussianNB()\n",
    "# X = np.array([[-1.0, -1.0], [-1.2, -1.4], [-3.4, -2.2], [1.1, 1.2]])\n",
    "# y = np.array([1, 1, 2, 2])\n",
    "\n",
    "eclf = VotingClassifier(estimators=[\n",
    "        ('svm', pipeline_svm), ('dt', pipeline_dt), ('nb', pipeline_nb), ('rf', pipeline_rf)],\n",
    "        voting='soft')\n",
    "\n",
    "# predict class probabilities for all classifiers\n",
    "probas = [c.fit(X, y).predict_proba(X) for c in (pipeline_svm, pipeline_dt, pipeline_nb, pipeline_rf)]\n",
    "\n",
    "# get class probabilities for the first sample in the dataset\n",
    "class1_1 = [pr[0, 0] for pr in probas]\n",
    "class2_1 = [pr[0, 1] for pr in probas]\n",
    "\n",
    "\n",
    "# plotting\n",
    "\n",
    "N = 4  # number of groups\n",
    "ind = np.arange(N)  # group positions\n",
    "width = 0.35  # bar width\n",
    "\n",
    "fig, ax = plt.subplots()\n",
    "\n",
    "# bars for classifier 1-3\n",
    "p1 = ax.bar(ind, np.hstack(([class1_1[:-1], [0]])), width,\n",
    "            color='green', edgecolor='k')\n",
    "p2 = ax.bar(ind + width, np.hstack(([class2_1[:-1], [0]])), width,\n",
    "            color='lightgreen', edgecolor='k')\n",
    "\n",
    "# bars for VotingClassifier\n",
    "p3 = ax.bar(ind, [0, 0, 0, class1_1[-1]], width,\n",
    "            color='blue', edgecolor='k')\n",
    "p4 = ax.bar(ind + width, [0, 0, 0, class2_1[-1]], width,\n",
    "            color='steelblue', edgecolor='k')\n",
    "\n",
    "# plot annotations\n",
    "plt.axvline(2.8, color='k', linestyle='dashed')\n",
    "ax.set_xticks(ind + width)\n",
    "ax.set_xticklabels(['SVM',\n",
    "                    'Decision Tree',\n",
    "                    'Navie Bayes',\n",
    "                    'VotingClassifier\\n(average probabilities)'],\n",
    "                   rotation=40,\n",
    "                   ha='right')\n",
    "plt.ylim([0, 1])\n",
    "plt.title('Class probabilities for sample 1 by different classifiers')\n",
    "plt.legend([p1[0], p2[0]], ['class 1', 'class 2'], loc='upper left')\n",
    "plt.tight_layout()\n",
    "plt.show()"
   ]
  },
  {
   "cell_type": "markdown",
   "metadata": {},
   "source": [
    "### Permutation importance"
   ]
  },
  {
   "cell_type": "code",
   "execution_count": null,
   "metadata": {},
   "outputs": [],
   "source": [
    "# from sklearn.datasets import make_classification\n",
    "# from sklearn.inspection import permutation_importance\n",
    "\n",
    "# X, y = make_classification(random_state=0, n_features=5, n_informative=3)\n",
    "# feature_names = np.array([f'x_{i}' for i in range(X.shape[1])])\n",
    "\n",
    "# rf = RandomForestClassifier(random_state=0).fit(X, y)\n",
    "# result = permutation_importance(rf, X, y, n_repeats=10, random_state=0,\n",
    "#                                 n_jobs=-1)\n",
    "\n",
    "# fig, ax = plt.subplots()\n",
    "# sorted_idx = result.importances_mean.argsort()\n",
    "# ax.boxplot(result.importances[sorted_idx].T,\n",
    "#            vert=False, labels=feature_names[sorted_idx])\n",
    "# ax.set_title(\"Permutation Importance of each feature\")\n",
    "# ax.set_ylabel(\"Features\")\n",
    "# fig.tight_layout()\n",
    "# plt.show()"
   ]
  },
  {
   "cell_type": "markdown",
   "metadata": {},
   "source": [
    "# GridsearchCV"
   ]
  },
  {
   "cell_type": "code",
   "execution_count": null,
   "metadata": {},
   "outputs": [],
   "source": [
    "# from sklearn.model_selection import GridSearchCV\n",
    "# pipeline_nb.get_params().keys()"
   ]
  },
  {
   "cell_type": "code",
   "execution_count": null,
   "metadata": {
    "scrolled": true
   },
   "outputs": [],
   "source": [
    "# from time import time\n",
    "# t0 = time()\n",
    "# parameters = {'svm_classifier__C':[1, 10, 20], 'svm_classifier__kernel':['linear', 'rbf']}\n",
    "# #parameters = {'rf_classifier__n_estimators': [200, 700], 'rf_classifier__max_features': ['auto', 'sqrt', 'log2'], 'rf_classifier__criterion':['gini','entropy']}\n",
    "# clf = GridSearchCV(pipeline_swm, parameters, cv=5)\n",
    "# clf.fit(X_train, y_train)\n",
    "# print(\"done in %0.3fs\" % (time() - t0))"
   ]
  },
  {
   "cell_type": "code",
   "execution_count": null,
   "metadata": {},
   "outputs": [],
   "source": [
    "#df_search_results = pd.DataFrame(clf.cv_results_)\n",
    "#df_search_results"
   ]
  },
  {
   "cell_type": "code",
   "execution_count": null,
   "metadata": {
    "scrolled": false
   },
   "outputs": [],
   "source": [
    "#df_search_results[['param_rf_classifier__criterion', 'param_rf_classifier__max_depth', 'mean_test_score']]\n",
    "#clf.best_params_"
   ]
  }
 ],
 "metadata": {
  "kernelspec": {
   "display_name": "Python 3",
   "language": "python",
   "name": "python3"
  }
 },
 "nbformat": 4,
 "nbformat_minor": 4
}
