{
 "cells": [
  {
   "cell_type": "code",
   "execution_count": 42,
   "metadata": {},
   "outputs": [],
   "source": [
    "#import seaborn as sn\n",
    "import wfdb\n",
    "import os\n",
    "import glob\n",
    "import pandas as pd\n",
    "import numpy as np\n",
    "%matplotlib notebook\n",
    "import matplotlib.pyplot as plt"
   ]
  },
  {
   "cell_type": "code",
   "execution_count": 29,
   "metadata": {},
   "outputs": [],
   "source": [
    "### 128 ticks per second NOT 250\n",
    "\n",
    "records_nsr = []\n",
    "properties_nsr = []\n",
    "annot_nsr = []\n",
    "AnnSymb_nsr = []\n",
    "AnnSamp_nsr = []\n",
    "AnnRhythm_nsr = []\n",
    "#Rpeak_Samp = []\n",
    "#Rpeak_Symb = []\n",
    "\n",
    "\n",
    "for f in glob.glob('C:/Users/masud/Desktop/Github_Bachelor_Project/wfdb-python/normal-sinus-rhythm-data/*.dat'): ##### change the path (afib) to your own directory. The rest should \n",
    "                                                                                             ##### remin the same\n",
    "    sig, fields = wfdb.rdsamp(f[:-4], channels=[1])  #### In this function, you have the opportunity to pass \n",
    "                                       #### \"channels=[0]\" or \"channels=[1]\" to select channel 1 or 2.\n",
    "    ann = wfdb.rdann(f[:-4], 'atr')\n",
    "#    QRS = wfdb.rdann(f[:-4], 'qrs') ### xws extension instead\n",
    "    Symb = pd.Series(ann.symbol)\n",
    "    Samp = pd.Series(ann.sample)\n",
    "#    QRS_Symb = pd.Series(QRS.symbol)\n",
    "#    QRS_Samp = pd.Series(QRS.sample)\n",
    "    Rhythm = pd.Series(ann.aux_note)\n",
    "    records_nsr.append(sig)\n",
    "    properties_nsr.append(fields)\n",
    "    annot_nsr.append(ann)\n",
    "    AnnSymb_nsr.append(Symb)\n",
    "    AnnSamp_nsr.append(Samp)\n",
    "#    Rpeak_Symb.append(QRS_Symb)\n",
    "#    Rpeak_Samp.append(QRS_Samp)\n",
    "    AnnRhythm_nsr.append(Rhythm)\n",
    "    \n",
    "    \n",
    "\n",
    "AnnSymb_nsr = pd.Series(AnnSymb_nsr).values\n",
    "AnnSamp_nsr = pd.Series(AnnSamp_nsr).values"
   ]
  },
  {
   "cell_type": "code",
   "execution_count": 95,
   "metadata": {
    "scrolled": true
   },
   "outputs": [],
   "source": [
    "# print(f'AnnRhythm_nsr:\\n{AnnRhythm_nsr[0]}')\n",
    "# print()\n",
    "# print(f'AnnSamp_nsr:\\n{AnnSamp_nsr[0]}')\n",
    "# print()\n",
    "# print(f'Rpeak_Samp:\\n{Rpeak_Samp[1]}')\n",
    "# print()\n",
    "# print(f'Rpeak_Symb:\\n{Rpeak_Symb[1]}')"
   ]
  },
  {
   "cell_type": "markdown",
   "metadata": {},
   "source": [
    "# Pre processing data..."
   ]
  },
  {
   "cell_type": "code",
   "execution_count": 93,
   "metadata": {
    "scrolled": true
   },
   "outputs": [],
   "source": [
    "labeled_Rpeaks_nsr = []\n",
    "appended_data_nsr = []\n",
    "for i in range(18): ## 18 records\n",
    "    df = pd.DataFrame(AnnSamp_nsr[i])\n",
    "    appended_data_nsr.append(df)\n",
    "        \n",
    "\n",
    "labeled_Rpeaks_nsr = pd.concat(appended_data_nsr)\n",
    "#labeled_Rpeaks_nsr"
   ]
  },
  {
   "cell_type": "code",
   "execution_count": 94,
   "metadata": {},
   "outputs": [],
   "source": [
    "labeled_Rpeaks_nsr.rename(columns={0: 'Rpeaks'},\n",
    "          inplace=True, errors='raise')\n",
    "labeled_Rpeaks_nsr['Label'] = 0\n",
    "#labeled_Rpeaks_nsr"
   ]
  },
  {
   "cell_type": "code",
   "execution_count": 58,
   "metadata": {},
   "outputs": [],
   "source": [
    "Rpeaks_nsr = labeled_Rpeaks_nsr[\"Rpeaks\"]\n",
    "Label_nsr = labeled_Rpeaks_nsr[\"Label\"]\n",
    "Label_nsr = np.array(Label_nsr, dtype=np.float64)"
   ]
  },
  {
   "cell_type": "markdown",
   "metadata": {},
   "source": [
    "### X"
   ]
  },
  {
   "cell_type": "code",
   "execution_count": 53,
   "metadata": {},
   "outputs": [
    {
     "name": "stdout",
     "output_type": "stream",
     "text": [
      "int32\n",
      "float64\n",
      "1806791\n",
      "-11\n",
      "Divisble by 20 --> 1806780\n"
     ]
    },
    {
     "data": {
      "text/plain": [
       "array([51., 77., 78., 77., 80., 78., 80., 76., 77., 79., 79., 83., 80.,\n",
       "       79., 80., 83., 83., 82., 80., 81.])"
      ]
     },
     "execution_count": 53,
     "metadata": {},
     "output_type": "execute_result"
    }
   ],
   "source": [
    "rri2 = np.diff(Rpeaks_nsr) ### Storing the intervals between rpeaks\n",
    "print(rri2.dtype)\n",
    "rri2 = np.array(rri2, dtype=np.float64) ### So no overflow issues happens when calc in for loop later\n",
    "print(rri2.dtype)\n",
    "print(len(rri2))\n",
    "amount = -(len(rri2) % 20)\n",
    "print(amount)\n",
    "rec_amount = rri2[:amount]\n",
    "print(f\"Divisble by 20 --> {len(rec_amount)}\")\n",
    "segmented_rec = rec_amount.reshape(90339,20)\n",
    "segmented_rec[0]"
   ]
  },
  {
   "cell_type": "code",
   "execution_count": 54,
   "metadata": {},
   "outputs": [],
   "source": [
    "features_nsr = []\n",
    "\n",
    "    ### Calculating features for every single segmented \"block\" inside the segmented_record variable\n",
    "for x in range(len(segmented_rec)):\n",
    "    #MEAN\n",
    "    ff1 = np.mean(segmented_rec[x])\n",
    "    #STD\n",
    "    ff2 = np.std(segmented_rec[x])\n",
    "    #RMSSD\n",
    "    sum_ = 0\n",
    "    for y in range(len(segmented_rec[x]) - 1): ### loops 19 times\n",
    "        sum_ += (segmented_rec[x][y] - segmented_rec[x][y+1])**2\n",
    "    sum_multiplied = 1/(len(segmented_rec) - 1) * sum_\n",
    "    ff3 = np.sqrt(sum_multiplied)\n",
    "    #NORMALIZED RMSSD\n",
    "    ff4 = (ff3 / ff1)\n",
    "\n",
    "    my_features_nsr = pd.Series([np.around(ff1,3), np.around(ff2,3), np.around(ff3,3), np.around(ff4,3)], \n",
    "                            index=['Mean','STD','RMSSD','Normalized RMSSD'])\n",
    "    features_nsr.append(my_features_nsr)"
   ]
  },
  {
   "cell_type": "code",
   "execution_count": 57,
   "metadata": {},
   "outputs": [
    {
     "name": "stdout",
     "output_type": "stream",
     "text": [
      "Features for that specific segment:\n",
      "Mean                78.150\n",
      "STD                  6.552\n",
      "RMSSD                0.092\n",
      "Normalized RMSSD     0.001\n",
      "dtype: float64\n",
      "\n",
      "features_nsr variable contains 90339 segments\n"
     ]
    }
   ],
   "source": [
    "n = 0\n",
    "\n",
    "print(f\"Features for that specific segment:\\n{features_nsr[n]}\") \n",
    "print('\\n'f\"features_nsr variable contains {len(features_nsr)} segments\")"
   ]
  },
  {
   "cell_type": "markdown",
   "metadata": {},
   "source": [
    "### Y"
   ]
  },
  {
   "cell_type": "code",
   "execution_count": 60,
   "metadata": {},
   "outputs": [
    {
     "name": "stdout",
     "output_type": "stream",
     "text": [
      "float64\n",
      "Length of y_list: 90339\n"
     ]
    }
   ],
   "source": [
    "y_amount = Label_nsr[:- 12] ### So it is divisible by 20\n",
    "y_shape = y_amount.reshape(90339,20)\n",
    "y_list = []\n",
    "\n",
    "### Calc if every 20 segment block is Normal synus rythm or AFIB\n",
    "for l in range(len(y_shape)):\n",
    "    #y_segment = y_shape\n",
    "    sum_segment = np.sum(y_shape[l])\n",
    "    if sum_segment >= 10:\n",
    "        sum_segment = 1\n",
    "    else: sum_segment = 0\n",
    "    y_list.append(sum_segment)\n",
    "\n",
    "y_list = np.array(y_list, dtype=np.float64)\n",
    "print(y_list.dtype)\n",
    "print(f\"Length of y_list: {len(y_list)}\")"
   ]
  },
  {
   "cell_type": "markdown",
   "metadata": {},
   "source": [
    "### X_train, X_test...."
   ]
  },
  {
   "cell_type": "code",
   "execution_count": 79,
   "metadata": {},
   "outputs": [],
   "source": [
    "split_amount = int(90339 * 0.2)"
   ]
  },
  {
   "cell_type": "code",
   "execution_count": 97,
   "metadata": {},
   "outputs": [
    {
     "name": "stdout",
     "output_type": "stream",
     "text": [
      "shape of y: (18067,), type of y: <class 'numpy.ndarray'>\n",
      "shape of X_test_nsr: (18067, 4), type of X_test_nsr: <class 'numpy.ndarray'>\n"
     ]
    }
   ],
   "source": [
    "y_test_nsr = np.asarray(y_list[:split_amount])\n",
    "print(f\"shape of y: {np.shape(y_test_nsr)}, type of y: {type(y_test_nsr)}\")\n",
    "X_test_nsr = np.asarray(features_nsr[:split_amount])\n",
    "print(f\"shape of X_test_nsr: {np.shape(X_test_nsr)}, type of X_test_nsr: {type(X_test_nsr)}\")"
   ]
  },
  {
   "cell_type": "code",
   "execution_count": null,
   "metadata": {},
   "outputs": [],
   "source": []
  }
 ],
 "metadata": {
  "kernelspec": {
   "display_name": "Python 3",
   "language": "python",
   "name": "python3"
  },
  "language_info": {
   "codemirror_mode": {
    "name": "ipython",
    "version": 3
   },
   "file_extension": ".py",
   "mimetype": "text/x-python",
   "name": "python",
   "nbconvert_exporter": "python",
   "pygments_lexer": "ipython3",
   "version": "3.8.5"
  }
 },
 "nbformat": 4,
 "nbformat_minor": 4
}
