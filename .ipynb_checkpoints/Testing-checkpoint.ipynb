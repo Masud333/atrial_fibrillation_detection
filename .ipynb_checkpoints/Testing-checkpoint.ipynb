{
 "cells": [
  {
   "cell_type": "markdown",
   "metadata": {},
   "source": [
    "# ---"
   ]
  },
  {
   "cell_type": "code",
   "execution_count": 1,
   "metadata": {},
   "outputs": [],
   "source": [
    "import os\n",
    "import subprocess #, shlex\n",
    "\n",
    "def cygwin(command):\n",
    "    \"\"\"\n",
    "    Run a Bash command with Cygwin and return output.\n",
    "    \"\"\"\n",
    "    # Find Cygwin binary directory\n",
    "    for cygwin_bin in [r'C:\\cygwin\\bin', r'C:\\cygwin64\\bin']:\n",
    "        if os.path.isdir(cygwin_bin):\n",
    "            break\n",
    "    else:\n",
    "        raise RuntimeError('Cygwin not found!')\n",
    "    # Make sure Cygwin binary directory in path\n",
    "    if cygwin_bin not in os.environ['PATH']:\n",
    "        os.environ['PATH'] += ';' + cygwin_bin\n",
    "    # Launch Bash\n",
    "    p = subprocess.Popen(\n",
    "        args=['bash', '-c', command],\n",
    "        stdout=subprocess.PIPE, stderr=subprocess.PIPE)\n",
    "    p.wait()\n",
    "    # Raise exception if return code indicates error\n",
    "    if p.returncode != 0:\n",
    "        raise RuntimeError(p.stderr.read().rstrip())\n",
    "    # Remove trailing newline from output\n",
    "    return (p.stdout.read() + p.stderr.read()).rstrip()"
   ]
  },
  {
   "cell_type": "code",
   "execution_count": 18,
   "metadata": {
    "scrolled": true
   },
   "outputs": [],
   "source": [
    "# cygwin('cd /C:/cygwin64/home/masud')\n",
    "# cygwin('pwd')"
   ]
  },
  {
   "cell_type": "code",
   "execution_count": 19,
   "metadata": {},
   "outputs": [
    {
     "data": {
      "text/plain": [
       "b'/mnt/c/Users/masud/Desktop/Github_Bachelor_Project/wfdb-python'"
      ]
     },
     "execution_count": 19,
     "metadata": {},
     "output_type": "execute_result"
    }
   ],
   "source": [
    "cygwin('pwd')"
   ]
  },
  {
   "cell_type": "code",
   "execution_count": 20,
   "metadata": {
    "scrolled": true
   },
   "outputs": [],
   "source": [
    "# command  = 'wrsamp -F 250 -i foo.csv -o foo -s, 0'\n",
    "# cygwin(command)"
   ]
  },
  {
   "cell_type": "code",
   "execution_count": null,
   "metadata": {},
   "outputs": [],
   "source": [
    "# cygwin('rdann -r 04936 -f 0 -a atr -v > data/04936_atr.txt')\n",
    "\n",
    "# command_atr_new = \"rdann -r 04936 -f 0 -a atr -v > /data/04936_atr.txt\"\n",
    "# command_atr = \"rdann -r 04936 -f 0 -a atr -v > C:/Users/masud/Desktop/Github_Bachelor_Project/wfdb-python/data/04936_atr.txt\""
   ]
  },
  {
   "cell_type": "code",
   "execution_count": 26,
   "metadata": {},
   "outputs": [
    {
     "name": "stdout",
     "output_type": "stream",
     "text": [
      "[]\n"
     ]
    }
   ],
   "source": [
    "# Read data from ediagnostic\n",
    "from os import listdir, mkdir, system\n",
    "from os.path import isfile, isdir, join, exists\n",
    "import json\n",
    "\n",
    "types = ['II', 'V1']\n",
    "dataset = 'C:/Users/masud/Desktop/ECGPUWAVE/WFDB-utils-and-others/ediagnostic/'\n",
    "\n",
    "\n",
    "patients = [f for f in listdir(dataset) if isdir(join(dataset, f))]\n",
    "\n",
    "print(patients)\n",
    "\n",
    "freq = '250'\n",
    "\n",
    "\n",
    "#Create folder\n",
    "wfdb_dir = dataset + 'wfdb'\n",
    "#Create folder\n",
    "\n",
    "if not exists(wfdb_dir):\n",
    "\tmkdir(wfdb_dir)\n",
    "\n",
    "for p in patients:\n",
    "\tif p != 'wfdb':\n",
    "\t\t# Read metadata\n",
    "\t\tmetadata_file = dataset + p + '/metadata.json'\n",
    "\t\tdata_file = open(metadata_file)\n",
    "\t\tmetadata = json.load(data_file)\n",
    "\n",
    "\t\twindow = {}\n",
    "\t\tfor v in metadata['ventanas']:\n",
    "\t\t\ttipo = v['tipo']\n",
    "\t\t\twindow[str(tipo)] = v['inicioVentana']\n",
    "\t\tprint('Derivation II: ', window['II'], ':', window['III'], ' V1: ', window['V1'], ':', window['V2'])\n",
    "\n",
    "\t\t# 1. Write the desired signal at individual .csv files\n",
    "\t\tsignal_file = dataset + p + '/' + p + '.txt'\n",
    "\t\tsignal_data = open(signal_file, 'r')\t\n",
    "\t\tsignal_data = signal_data.read()\n",
    "\t\tsignal_II = signal_data[window['II']:window['III']]\n",
    "\n",
    "\t\tsignal_II_file = dataset + p + '/' + p + '_II.csv'\n",
    "\t\tfile_II = open(signal_II_file, 'w')\t\n",
    "\t\tfile_II.write(signal_II)\n",
    "\t\tfile_II.close()\n",
    "\n",
    "\n",
    "\t\t# 2. Write the signals and headers at WFDB format\n",
    "\n",
    "\t\twfdb_filename = wfdb_dir + '/' + p[:-3]\n",
    "\t\tcommand = 'wrsamp -F ' + freq + ' -i ' + signal_II_file + ' -o ' + wfdb_filename\n",
    "\t\tprint(command)\n",
    "\t\tsystem(command)\n",
    "\n",
    "\t\t# Edit .hea file... metadata['edad'] .... \n",
    "\t\t# header # <age>: 35  <sex>: M  <diagnoses>: (none)\n"
   ]
  },
  {
   "cell_type": "code",
   "execution_count": null,
   "metadata": {},
   "outputs": [],
   "source": []
  },
  {
   "cell_type": "code",
   "execution_count": null,
   "metadata": {},
   "outputs": [],
   "source": []
  }
 ],
 "metadata": {
  "kernelspec": {
   "display_name": "Python 3",
   "language": "python",
   "name": "python3"
  },
  "language_info": {
   "codemirror_mode": {
    "name": "ipython",
    "version": 3
   },
   "file_extension": ".py",
   "mimetype": "text/x-python",
   "name": "python",
   "nbconvert_exporter": "python",
   "pygments_lexer": "ipython3",
   "version": "3.8.5"
  }
 },
 "nbformat": 4,
 "nbformat_minor": 4
}
