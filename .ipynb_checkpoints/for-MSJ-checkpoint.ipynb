{
 "cells": [
  {
   "cell_type": "markdown",
   "metadata": {},
   "source": [
    "# Importing/Storing data"
   ]
  },
  {
   "cell_type": "code",
   "execution_count": 1,
   "metadata": {},
   "outputs": [],
   "source": [
    "# pip install wfdb"
   ]
  },
  {
   "cell_type": "code",
   "execution_count": 2,
   "metadata": {},
   "outputs": [],
   "source": [
    "import wfdb\n",
    "import os\n",
    "import glob\n",
    "import pandas as pd\n",
    "import numpy as np\n",
    "import matplotlib.pyplot as plt"
   ]
  },
  {
   "cell_type": "code",
   "execution_count": 3,
   "metadata": {},
   "outputs": [],
   "source": [
    "#print('Current directory is: {}'.format(os.getcwd()))"
   ]
  },
  {
   "cell_type": "code",
   "execution_count": 27,
   "metadata": {},
   "outputs": [],
   "source": [
    "records = []\n",
    "properties = []\n",
    "annot = []\n",
    "AnnSymb = []\n",
    "AnnSamp = []\n",
    "AnnRhythm = []\n",
    "Rpeak_Samp = []\n",
    "Rpeak_Symb = []\n",
    "\n",
    "\n",
    "for f in glob.glob('C:/Users/masud/Desktop/Github_Bachelor_Project/wfdb-python/data/*.dat'): ##### change the path (afib) to your own directory. The rest should \n",
    "                                                                                             ##### remin the same\n",
    "    sig, fields = wfdb.rdsamp(f[:-4], channels=[1])  #### In this function, you have the opportunity to pass \n",
    "                                       #### \"channels=[0]\" or \"channels=[1]\" to select channel 1 or 2.\n",
    "    ann = wfdb.rdann(f[:-4], 'atr')\n",
    "    QRS = wfdb.rdann(f[:-4], 'qrs')\n",
    "    Symb = pd.Series(ann.symbol)\n",
    "    Samp = pd.Series(ann.sample)\n",
    "    QRS_Symb = pd.Series(QRS.symbol)\n",
    "    QRS_Samp = pd.Series(QRS.sample)\n",
    "    Rhythm = pd.Series(ann.aux_note)\n",
    "    records.append(sig)\n",
    "    properties.append(fields)\n",
    "    annot.append(ann)\n",
    "    AnnSymb.append(Symb)\n",
    "    AnnSamp.append(Samp)\n",
    "    Rpeak_Symb.append(QRS_Symb)\n",
    "    Rpeak_Samp.append(QRS_Samp)\n",
    "    AnnRhythm.append(Rhythm)\n",
    "    \n",
    "    \n",
    "\n",
    "AnnSymb = pd.Series(AnnSymb).values\n",
    "AnnSamp = pd.Series(AnnSamp).values"
   ]
  },
  {
   "cell_type": "code",
   "execution_count": 5,
   "metadata": {
    "scrolled": false
   },
   "outputs": [
    {
     "name": "stdout",
     "output_type": "stream",
     "text": [
      "['(N', '(AFIB', '(N', '(AFIB']\n",
      "[    193     390     586 ... 8999879 8999948 9000001]\n"
     ]
    }
   ],
   "source": [
    "#This is only for last record, calculated in above loop\n",
    "print(ann.aux_note)\n",
    "print(QRS.sample)"
   ]
  },
  {
   "cell_type": "markdown",
   "metadata": {},
   "source": [
    "# Visualising the ECG signals"
   ]
  },
  {
   "cell_type": "code",
   "execution_count": 28,
   "metadata": {
    "scrolled": true
   },
   "outputs": [
    {
     "data": {
      "text/plain": [
       "[<matplotlib.lines.Line2D at 0x1ee00ac84c0>]"
      ]
     },
     "execution_count": 28,
     "metadata": {},
     "output_type": "execute_result"
    },
    {
     "data": {
      "image/png": "[encoded data removed]",
      "text/plain": [
       "<Figure size 432x288 with 1 Axes>"
      ]
     },
     "metadata": {
      "needs_background": "light"
     },
     "output_type": "display_data"
    }
   ],
   "source": [
    "#plt.title(\"Both Channels (0 and 1)\")\n",
    "#plt.plot(sig[:500])\n",
    "#plt.title(\"Channel 0 of the ECG\") #Called ['ECG1']\n",
    "#plt.plot(sig[:500])\n",
    "plt.title('Channel 1 of the ECG') #Called ['ECG2']\n",
    "plt.plot(sig[:500])"
   ]
  },
  {
   "cell_type": "code",
   "execution_count": 29,
   "metadata": {
    "scrolled": true
   },
   "outputs": [
    {
     "name": "stdout",
     "output_type": "stream",
     "text": [
      "Record size (both channels if size --> 18411520): 9205760\n"
     ]
    }
   ],
   "source": [
    "print(f\"Record size (both channels if size --> 18411520): {np.size(records[22])}\")"
   ]
  },
  {
   "cell_type": "code",
   "execution_count": 8,
   "metadata": {
    "scrolled": true
   },
   "outputs": [],
   "source": [
    "#wfdb.plot_wfdb(record=QRS, annotation=ann, time_units='minutes')\n",
    "#wfdb.plot.plot_items(signal=records[0], ann_samp=AnnSamp, title='MIT-BIH Atrial Fibrillation Database')\n",
    "\n",
    "#_signal = \n",
    "\n",
    "#wfdb.plot_wfdb(record=all_signals[0], annotation=ann, sampto=1500, \n",
    "#              title='MIT-BIH Atrial Fibrillation Database', time_units='seconds')"
   ]
  },
  {
   "cell_type": "markdown",
   "metadata": {},
   "source": [
    "### Accessing annotations "
   ]
  },
  {
   "cell_type": "code",
   "execution_count": 9,
   "metadata": {
    "scrolled": true
   },
   "outputs": [
    {
     "data": {
      "text/plain": [
       "{'fs': 250,\n",
       " 'sig_len': 9205760,\n",
       " 'n_sig': 1,\n",
       " 'base_date': None,\n",
       " 'base_time': None,\n",
       " 'units': ['mV'],\n",
       " 'sig_name': ['ECG1'],\n",
       " 'comments': []}"
      ]
     },
     "metadata": {},
     "output_type": "display_data"
    },
    {
     "name": "stdout",
     "output_type": "stream",
     "text": [
      "Units in which the ECG is measured ['mV']\n"
     ]
    }
   ],
   "source": [
    "display(fields) ### Last record annotation\n",
    "print(f\"Units in which the ECG is measured {fields['units']}\")"
   ]
  },
  {
   "cell_type": "code",
   "execution_count": 10,
   "metadata": {},
   "outputs": [
    {
     "data": {
      "text/plain": [
       "{'fs': 250,\n",
       " 'sig_len': 9205760,\n",
       " 'n_sig': 1,\n",
       " 'base_date': None,\n",
       " 'base_time': None,\n",
       " 'units': ['mV'],\n",
       " 'sig_name': ['ECG1'],\n",
       " 'comments': []}"
      ]
     },
     "metadata": {},
     "output_type": "display_data"
    },
    {
     "name": "stdout",
     "output_type": "stream",
     "text": [
      "Units in which the ECG is measured ['mV']\n"
     ]
    }
   ],
   "source": [
    "display(properties[22])\n",
    "print(f\"Units in which the ECG is measured {properties[22]['units']}\")"
   ]
  },
  {
   "cell_type": "markdown",
   "metadata": {},
   "source": [
    "# Calculating the R to R Intervals"
   ]
  },
  {
   "cell_type": "code",
   "execution_count": 11,
   "metadata": {},
   "outputs": [],
   "source": [
    "single_record_rri = []\n",
    "rri = []\n",
    "single_record_mean = []\n",
    "rri_mean = []\n",
    "single_record_std = []\n",
    "rri_std = []\n",
    "single_record_RMSSD = []\n",
    "RMSSD = []\n",
    "single_record_nRMSSD = []\n",
    "nRMSSD = []\n",
    "\n",
    "squared_summed_differencies = 0\n",
    "i = 0\n",
    "for item in Rpeak_Samp:\n",
    "    single_record_rri = np.diff(Rpeak_Samp[i])\n",
    "    rri.append(single_record_rri)\n",
    "    single_record_mean = np.mean(single_record_rri)\n",
    "    rri_mean.append(single_record_mean)\n",
    "    single_record_std = np.std(single_record_rri)\n",
    "    rri_std.append(single_record_std)\n",
    "    \n",
    "    # to estimate HRV in a specified intervals of an ECG\n",
    "    #Root mean square of successive differences = RMSSD\n",
    "\n",
    "    #range -1, gives no error out of bound, because of index i+1 inside the loop. (range = 59550)\n",
    "    for k in range(len(single_record_rri)-1):\n",
    "        squared_summed_differencies += (single_record_rri[k+1] - single_record_rri[k])**2\n",
    "\n",
    "    squared_summed_differencies_multiplied = 1/(len(single_record_rri)-1) * squared_summed_differencies\n",
    "    single_record_RMSSD = np.sqrt(squared_summed_differencies_multiplied)\n",
    "    RMSSD.append(single_record_RMSSD)\n",
    "    single_record_nRMSSD = (single_record_RMSSD / single_record_mean)\n",
    "    nRMSSD.append(single_record_nRMSSD)\n",
    "    \n",
    "    squared_summed_differencies = 0\n",
    "    i += 1"
   ]
  },
  {
   "cell_type": "markdown",
   "metadata": {},
   "source": [
    "### Only result for last record"
   ]
  },
  {
   "cell_type": "code",
   "execution_count": 12,
   "metadata": {},
   "outputs": [
    {
     "name": "stdout",
     "output_type": "stream",
     "text": [
      "R-R intervals: [197 196 196 ...  68  69  53]\n",
      "Mean: 151.128\n",
      "Standard deviation: 41.324\n",
      "RMSSD: 42.482\n",
      "Normalized RMSSD: 0.2811\n"
     ]
    }
   ],
   "source": [
    "print(f\"R-R intervals: {single_record_rri}\")\n",
    "print(f\"Mean: {np.around(single_record_mean,3)}\")\n",
    "print(f\"Standard deviation: {np.around(single_record_std,3)}\")\n",
    "print(f\"RMSSD: {np.around(single_record_RMSSD,3)}\")\n",
    "print(f\"Normalized RMSSD: {np.around(single_record_nRMSSD,5)}\")"
   ]
  },
  {
   "cell_type": "code",
   "execution_count": 42,
   "metadata": {},
   "outputs": [
    {
     "data": {
      "text/plain": [
       "[<matplotlib.lines.Line2D at 0x1ee01c787f0>]"
      ]
     },
     "execution_count": 42,
     "metadata": {},
     "output_type": "execute_result"
    },
    {
     "data": {
      "image/png": "[encoded data removed]",
      "text/plain": [
       "<Figure size 432x288 with 1 Axes>"
      ]
     },
     "metadata": {
      "needs_background": "light"
     },
     "output_type": "display_data"
    }
   ],
   "source": [
    "#A sample of 250 elements, gives 1 clear signal (because 250hz frequency)\n",
    "x = np.arange(0,250)\n",
    "plt.plot(x,rri[22][750:1000])"
   ]
  },
  {
   "cell_type": "markdown",
   "metadata": {},
   "source": [
    "# Segmenting the records into 10-20 heart beats samples"
   ]
  },
  {
   "cell_type": "code",
   "execution_count": 15,
   "metadata": {},
   "outputs": [],
   "source": [
    "#seg_all_rec = []\n",
    "\n",
    "#amount_to_segment = -(len(rri[0]) % 20)\n",
    "#record_to_segment = rri[0][:amount_to_segment]\n",
    "#length = len(record_to_segment) / 20\n",
    "#segmented_record = np.split(record_to_segment,length)\n",
    "#seg_all_rec.append(segmented_record)"
   ]
  },
  {
   "cell_type": "code",
   "execution_count": 16,
   "metadata": {},
   "outputs": [],
   "source": [
    "segmented_all_records = []\n",
    "\n",
    "### TO acess every single record\n",
    "### record_to_segment = rri[index]\n",
    "for index in range(len(rri)):\n",
    "    #(below line) gives a value between 0 and 19, which is the amount used to remove from the end of a record, by slicing.\n",
    "    amount_to_segment = -(len(rri[index]) % 20)\n",
    "    if amount_to_segment != 0:\n",
    "        record_to_segment = rri[index][:amount_to_segment]\n",
    "    else: \n",
    "        record_to_segment = rri[index] #if divisible by 20, no need to slice this record\n",
    "    #(below line) gives us the number of \"blocks\" to put every single 20-segment into.\n",
    "    length = len(record_to_segment) / 20\n",
    "    segmented_record = np.split(record_to_segment,length)\n",
    "    segmented_all_records.append(segmented_record)"
   ]
  },
  {
   "cell_type": "markdown",
   "metadata": {},
   "source": [
    "### Accessing the 23 individual records (index 0 to 22), gives a single record, that is segmented into arrays of 20. Accessing each 20 array segment by indexing, this time second dimension [ ]-->[ ]<--"
   ]
  },
  {
   "cell_type": "code",
   "execution_count": 17,
   "metadata": {},
   "outputs": [
    {
     "name": "stdout",
     "output_type": "stream",
     "text": [
      "Record nr 3, and index 0 in that record: [195 196 192 193 202 210 209 199 193 200 198 198 193 187 193 198 201 193\n",
      " 188 193]\n"
     ]
    }
   ],
   "source": [
    "n = 3; m = 0\n",
    "print(f\"Record nr {n}, and index {m} in that record: {segmented_all_records[n][m]}\")"
   ]
  },
  {
   "cell_type": "code",
   "execution_count": 18,
   "metadata": {},
   "outputs": [
    {
     "data": {
      "text/plain": [
       "(2200, 20)"
      ]
     },
     "execution_count": 18,
     "metadata": {},
     "output_type": "execute_result"
    }
   ],
   "source": [
    "np.shape(segmented_all_records[0])"
   ]
  },
  {
   "cell_type": "code",
   "execution_count": null,
   "metadata": {},
   "outputs": [],
   "source": []
  }
 ],
 "metadata": {
  "kernelspec": {
   "display_name": "Python 3",
   "language": "python",
   "name": "python3"
  },
  "language_info": {
   "codemirror_mode": {
    "name": "ipython",
    "version": 3
   },
   "file_extension": ".py",
   "mimetype": "text/x-python",
   "name": "python",
   "nbconvert_exporter": "python",
   "pygments_lexer": "ipython3",
   "version": "3.8.5"
  }
 },
 "nbformat": 4,
 "nbformat_minor": 4
}
