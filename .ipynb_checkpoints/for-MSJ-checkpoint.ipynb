{
 "cells": [
  {
   "cell_type": "markdown",
   "metadata": {},
   "source": [
    "# Importing/Storing data"
   ]
  },
  {
   "cell_type": "code",
   "execution_count": 1,
   "metadata": {},
   "outputs": [],
   "source": [
    "# pip install wfdb\n",
    "# pip install "
   ]
  },
  {
   "cell_type": "code",
   "execution_count": 2,
   "metadata": {},
   "outputs": [],
   "source": [
    "import wfdb\n",
    "import os\n",
    "import glob\n",
    "import pandas as pd\n",
    "import numpy as np\n",
    "#%matplotlib notebook\n",
    "import matplotlib.pyplot as plt"
   ]
  },
  {
   "cell_type": "code",
   "execution_count": 3,
   "metadata": {},
   "outputs": [],
   "source": [
    "#print('Current directory is: {}'.format(os.getcwd()))"
   ]
  },
  {
   "cell_type": "code",
   "execution_count": 4,
   "metadata": {},
   "outputs": [],
   "source": [
    "records = []\n",
    "properties = []\n",
    "annot = []\n",
    "AnnSymb = []\n",
    "AnnSamp = []\n",
    "AnnRhythm = []\n",
    "Rpeak_Samp = []\n",
    "Rpeak_Symb = []\n",
    "\n",
    "\n",
    "for f in glob.glob('C:/Users/masud/Desktop/Github_Bachelor_Project/wfdb-python/data/*.dat'): ##### change the path (afib) to your own directory. The rest should \n",
    "                                                                                             ##### remin the same\n",
    "    sig, fields = wfdb.rdsamp(f[:-4], channels=[1])  #### In this function, you have the opportunity to pass \n",
    "                                       #### \"channels=[0]\" or \"channels=[1]\" to select channel 1 or 2.\n",
    "    ann = wfdb.rdann(f[:-4], 'atr')\n",
    "    QRS = wfdb.rdann(f[:-4], 'qrs')\n",
    "    Symb = pd.Series(ann.symbol)\n",
    "    Samp = pd.Series(ann.sample)\n",
    "    QRS_Symb = pd.Series(QRS.symbol)\n",
    "    QRS_Samp = pd.Series(QRS.sample)\n",
    "    Rhythm = pd.Series.where(ann.aux_note)\n",
    "    records.append(sig)\n",
    "    properties.append(fields)\n",
    "    annot.append(ann)\n",
    "    AnnSymb.append(Symb)\n",
    "    AnnSamp.append(Samp)\n",
    "    Rpeak_Symb.append(QRS_Symb)\n",
    "    Rpeak_Samp.append(QRS_Samp)\n",
    "    AnnRhythm.append(Rhythm)\n",
    "    \n",
    "    \n",
    "\n",
    "AnnSymb = pd.Series(AnnSymb).values\n",
    "AnnSamp = pd.Series(AnnSamp).values"
   ]
  },
  {
   "cell_type": "code",
   "execution_count": 183,
   "metadata": {
    "collapsed": true
   },
   "outputs": [
    {
     "name": "stdout",
     "output_type": "stream",
     "text": [
      "0       (N\n",
      "1    (AFIB\n",
      "2       (N\n",
      "3    (AFIB\n",
      "dtype: object\n",
      "------------------------------------\n",
      "0         96\n",
      "1    2808396\n",
      "2    2820743\n",
      "3    2850351\n",
      "dtype: int32\n",
      "------------------------------------\n",
      "All samples of R-peaks below\n",
      "0            193\n",
      "1            390\n",
      "2            586\n",
      "3            782\n",
      "4            905\n",
      "          ...   \n",
      "59547    8999654\n",
      "59548    8999811\n",
      "59549    8999879\n",
      "59550    8999948\n",
      "59551    9000001\n",
      "Length: 59552, dtype: int32\n",
      "------------------------------------\n"
     ]
    }
   ],
   "source": [
    "#This is only for last record, calculated in above loop\n",
    "print(AnnRhythm[22])\n",
    "print(\"------------------------------------\")\n",
    "print(AnnSamp[22])\n",
    "print(\"------------------------------------\")\n",
    "print(\"All samples of R-peaks below\")\n",
    "print(Rpeak_Samp[22])\n",
    "print(\"------------------------------------\")\n",
    "#print(records[0])\n",
    "#print(type(records[0]))\n",
    "#print(np.where(Rpeak_Samp[22] <= ))\n",
    "#df.iloc[22] # acessing ROW 22\n",
    "#print(\"------------------------------------\")"
   ]
  },
  {
   "cell_type": "markdown",
   "metadata": {},
   "source": [
    "# Pre processing data..."
   ]
  },
  {
   "cell_type": "code",
   "execution_count": 186,
   "metadata": {},
   "outputs": [
    {
     "name": "stdout",
     "output_type": "stream",
     "text": [
      "<class 'list'>\n",
      "<class 'numpy.ndarray'>\n",
      "<class 'numpy.ndarray'>\n",
      "15\n"
     ]
    }
   ],
   "source": [
    "print(type(AnnRhythm))\n",
    "print(type(AnnSamp))\n",
    "print(type(records[22]))\n",
    "print(len(AnnRhythm[0]))"
   ]
  },
  {
   "cell_type": "code",
   "execution_count": 206,
   "metadata": {},
   "outputs": [
    {
     "name": "stdout",
     "output_type": "stream",
     "text": [
      "1128561\n"
     ]
    }
   ],
   "source": [
    "amount = 0\n",
    "for i in range(23):\n",
    "        amount += len(Rpeak_Samp[i])\n",
    "print(amount)"
   ]
  },
  {
   "cell_type": "code",
   "execution_count": 205,
   "metadata": {
    "scrolled": false
   },
   "outputs": [
    {
     "data": {
      "text/html": [
       "<div>\n",
       "<style scoped>\n",
       "    .dataframe tbody tr th:only-of-type {\n",
       "        vertical-align: middle;\n",
       "    }\n",
       "\n",
       "    .dataframe tbody tr th {\n",
       "        vertical-align: top;\n",
       "    }\n",
       "\n",
       "    .dataframe thead th {\n",
       "        text-align: right;\n",
       "    }\n",
       "</style>\n",
       "<table border=\"1\" class=\"dataframe\">\n",
       "  <thead>\n",
       "    <tr style=\"text-align: right;\">\n",
       "      <th></th>\n",
       "      <th>0</th>\n",
       "      <th>Label</th>\n",
       "    </tr>\n",
       "  </thead>\n",
       "  <tbody>\n",
       "    <tr>\n",
       "      <th>0</th>\n",
       "      <td>61</td>\n",
       "      <td>(N</td>\n",
       "    </tr>\n",
       "    <tr>\n",
       "      <th>1</th>\n",
       "      <td>200</td>\n",
       "      <td>(N</td>\n",
       "    </tr>\n",
       "    <tr>\n",
       "      <th>2</th>\n",
       "      <td>358</td>\n",
       "      <td>(N</td>\n",
       "    </tr>\n",
       "    <tr>\n",
       "      <th>3</th>\n",
       "      <td>584</td>\n",
       "      <td>(N</td>\n",
       "    </tr>\n",
       "    <tr>\n",
       "      <th>4</th>\n",
       "      <td>729</td>\n",
       "      <td>(N</td>\n",
       "    </tr>\n",
       "    <tr>\n",
       "      <th>...</th>\n",
       "      <td>...</td>\n",
       "      <td>...</td>\n",
       "    </tr>\n",
       "    <tr>\n",
       "      <th>15373</th>\n",
       "      <td>2849597</td>\n",
       "      <td>(N</td>\n",
       "    </tr>\n",
       "    <tr>\n",
       "      <th>15374</th>\n",
       "      <td>2849785</td>\n",
       "      <td>(N</td>\n",
       "    </tr>\n",
       "    <tr>\n",
       "      <th>15375</th>\n",
       "      <td>2849975</td>\n",
       "      <td>(N</td>\n",
       "    </tr>\n",
       "    <tr>\n",
       "      <th>15376</th>\n",
       "      <td>2850083</td>\n",
       "      <td>(N</td>\n",
       "    </tr>\n",
       "    <tr>\n",
       "      <th>15377</th>\n",
       "      <td>2850266</td>\n",
       "      <td>(N</td>\n",
       "    </tr>\n",
       "  </tbody>\n",
       "</table>\n",
       "<p>714255 rows × 2 columns</p>\n",
       "</div>"
      ],
      "text/plain": [
       "             0 Label\n",
       "0           61    (N\n",
       "1          200    (N\n",
       "2          358    (N\n",
       "3          584    (N\n",
       "4          729    (N\n",
       "...        ...   ...\n",
       "15373  2849597    (N\n",
       "15374  2849785    (N\n",
       "15375  2849975    (N\n",
       "15376  2850083    (N\n",
       "15377  2850266    (N\n",
       "\n",
       "[714255 rows x 2 columns]"
      ]
     },
     "execution_count": 205,
     "metadata": {},
     "output_type": "execute_result"
    }
   ],
   "source": [
    "#labeled_Rpeaks_specific_index = []\n",
    "labeled_Rpeaks = []\n",
    "appended_data = []\n",
    "for i in range(23): ## 23 records\n",
    "    for j in range(len(AnnSamp[i])-1): ## AnnSamp or AnnRhythm -- both same dimensions\n",
    "        df = pd.DataFrame(Rpeak_Samp[i][(Rpeak_Samp[i] > AnnSamp[i][j]) & (Rpeak_Samp[i] < AnnSamp[i][j+1])])\n",
    "        df['Label'] = AnnRhythm[i][j]\n",
    "        appended_data.append(df)\n",
    "        \n",
    "#arr = numpy.array(my_list, dtype = object)\n",
    "labeled_Rpeaks = pd.concat(appended_data)\n",
    "labeled_Rpeaks"
   ]
  },
  {
   "cell_type": "code",
   "execution_count": 203,
   "metadata": {},
   "outputs": [
    {
     "name": "stdout",
     "output_type": "stream",
     "text": [
      "Length: 714255\n"
     ]
    }
   ],
   "source": [
    "print(f\"Length: {len(labeled_Rpeaks[0])}\")"
   ]
  },
  {
   "cell_type": "code",
   "execution_count": 9,
   "metadata": {},
   "outputs": [
    {
     "name": "stdout",
     "output_type": "stream",
     "text": [
      "[[-0.37 ]\n",
      " [-0.45 ]\n",
      " [-0.43 ]\n",
      " ...\n",
      " [-0.52 ]\n",
      " [-0.52 ]\n",
      " [-0.565]]\n",
      "(9205760, 1)\n",
      "\n",
      "\n",
      "(1, 9205760)\n"
     ]
    }
   ],
   "source": [
    "print(records[22])\n",
    "print(np.shape(records[22]))\n",
    "print()\n",
    "print()\n",
    "records_trans = np.transpose(records[22])\n",
    "print(np.shape(records_trans))\n",
    "#records[22].flatten()\n",
    "#np.squeeze(records[22], axis=1)\n",
    "#np.shape(records[22])"
   ]
  },
  {
   "cell_type": "code",
   "execution_count": 207,
   "metadata": {},
   "outputs": [],
   "source": [
    "###Run with heartbeats ##convert to numpy array \n",
    "#from window_slider import Slider\n",
    "#import numpy\n",
    "#list = records_trans\n",
    "#bucket_size = 6600\n",
    "#overlap_count = 3300\n",
    "#slider = Slider(bucket_size,overlap_count)\n",
    "#slider.fit(list)       \n",
    "#while True:\n",
    "#    window_data = slider.slide()\n",
    "#    # do your stuff\n",
    "#    print(window_data)\n",
    "#   if slider.reached_end_of_list(): break"
   ]
  },
  {
   "cell_type": "markdown",
   "metadata": {},
   "source": [
    "### Visualising the ECG signals"
   ]
  },
  {
   "cell_type": "code",
   "execution_count": 11,
   "metadata": {
    "scrolled": false
   },
   "outputs": [
    {
     "data": {
      "text/plain": [
       "[<matplotlib.lines.Line2D at 0x26780330340>]"
      ]
     },
     "execution_count": 11,
     "metadata": {},
     "output_type": "execute_result"
    },
    {
     "data": {
      "image/png": "[encoded data removed]",
      "text/plain": [
       "<Figure size 432x288 with 1 Axes>"
      ]
     },
     "metadata": {
      "needs_background": "light"
     },
     "output_type": "display_data"
    }
   ],
   "source": [
    "#plt.title(\"Both Channels (0 and 1)\")\n",
    "#plt.title(\"Channel 0 of the ECG\") #Called ['ECG1']\n",
    "plt.title('Channel 1 of the ECG') #Called ['ECG2']\n",
    "plt.plot(sig[:500])"
   ]
  },
  {
   "cell_type": "markdown",
   "metadata": {},
   "source": [
    "### Accessing annotations "
   ]
  },
  {
   "cell_type": "code",
   "execution_count": 12,
   "metadata": {
    "scrolled": true
   },
   "outputs": [],
   "source": [
    "#display(fields) ### Last record annotation\n",
    "#print(f\"Units in which the ECG is measured {fields['units']}\")"
   ]
  },
  {
   "cell_type": "code",
   "execution_count": 13,
   "metadata": {},
   "outputs": [],
   "source": [
    "#display(properties[22])\n",
    "#print(f\"Units in which the ECG is measured {properties[22]['units']}\")"
   ]
  },
  {
   "cell_type": "markdown",
   "metadata": {},
   "source": [
    "# Calculating the R to R Intervals"
   ]
  },
  {
   "cell_type": "code",
   "execution_count": 14,
   "metadata": {},
   "outputs": [],
   "source": [
    "single_record_rri = []\n",
    "rri = []\n",
    "\n",
    "squared_summed_differencies = 0\n",
    "i = 0\n",
    "for i in range(len(Rpeak_Samp)): ### loops 23 times\n",
    "    single_record_rri = np.diff(Rpeak_Samp[i])\n",
    "    rri.append(single_record_rri)"
   ]
  },
  {
   "cell_type": "code",
   "execution_count": 15,
   "metadata": {},
   "outputs": [],
   "source": [
    "#A sample of 250 elements, gives 1 clear signal (because 250hz frequency)\n",
    "#x = np.arange(0,250)\n",
    "#plt.plot(x,rri[22][750:1000])"
   ]
  },
  {
   "cell_type": "markdown",
   "metadata": {},
   "source": [
    "# Segmenting the records and calculating features"
   ]
  },
  {
   "cell_type": "code",
   "execution_count": 16,
   "metadata": {},
   "outputs": [],
   "source": [
    "#seg_all_rec = []\n",
    "\n",
    "#amount_to_segment = -(len(rri[0]) % 20)\n",
    "#record_to_segment = rri[0][:amount_to_segment]\n",
    "#length = len(record_to_segment) / 20\n",
    "#segmented_record = np.split(record_to_segment,length)\n",
    "#seg_all_rec.append(segmented_record)"
   ]
  },
  {
   "cell_type": "code",
   "execution_count": 17,
   "metadata": {
    "scrolled": true
   },
   "outputs": [],
   "source": [
    "single_record_mean = []\n",
    "rri_mean = []\n",
    "single_record_std = []\n",
    "rri_std = []\n",
    "single_record_RMSSD = []\n",
    "RMSSD = []\n",
    "single_record_nRMSSD = []\n",
    "nRMSSD = []\n",
    "\n",
    "all_segmented_records = []\n",
    "all_features = []\n",
    "\n",
    "\n",
    "### TO acess every single record\n",
    "### record_to_segment = rri[index]\n",
    "for index in range(len(rri)): ### Loops 23 times\n",
    "    #(below line) gives a value between 0 and 19, which is the amount used to remove from the end of a record, by slicing.\n",
    "    amount_to_segment = -(len(rri[index]) % 20)\n",
    "    if amount_to_segment != 0:\n",
    "        rri_segmented_record = rri[index][:amount_to_segment]\n",
    "    else: \n",
    "        rri_segmented_record = rri[index] #if divisible by 20, no need to slice this record\n",
    "    #(below line) gives us the number of \"blocks\" to put every single 20-segment into.\n",
    "    length = len(rri_segmented_record) / 20\n",
    "    rri_segmented_record = np.split(rri_segmented_record,length)\n",
    "    all_segmented_records.append(rri_segmented_record)\n",
    "    \n",
    "    features = []\n",
    "    \n",
    "    ### Calculating features for every single segmented \"block\" inside the segmented_record variable\n",
    "    for i in range(len(rri_segmented_record)):\n",
    "        #MEAN\n",
    "        f1 = np.mean(rri_segmented_record[i])\n",
    "        #STD\n",
    "        f2 = np.std(rri_segmented_record[i])\n",
    "        #RMSSD\n",
    "        sqaured_summed_differencies = 0\n",
    "        for k in range(len(rri_segmented_record[i]) - 1): ### loops 19 times\n",
    "            sqaured_summed_differencies += (rri_segmented_record[i][k] - rri_segmented_record[i][k+1])**2\n",
    "        squared_summed_differencies_multiplied = 1/(len(rri_segmented_record) - 1) * sqaured_summed_differencies\n",
    "        f3 = np.sqrt(squared_summed_differencies_multiplied)\n",
    "        #NORMALIZED RMSSD\n",
    "        f4 = (f3 / f1)\n",
    "        \n",
    "        my_features = pd.Series([np.around(f1,3), np.around(f2,3), np.around(f3,3), np.around(f4,3)], index=['Mean','STD','RMSSD','Normalized RMSSD'])\n",
    "        features.append(my_features)\n",
    "        \n",
    "    all_features.append(features)"
   ]
  },
  {
   "cell_type": "markdown",
   "metadata": {},
   "source": [
    "### Features for a single block (20 heart beats), inside a given record\n",
    "### Accessing the 23 individual records (index 0 to 22), gives a single record, that is segmented into arrays of 20. Accessing each 20 array segment/block, by indexing, this time second dimension [ ]-->[ ]<--"
   ]
  },
  {
   "cell_type": "code",
   "execution_count": 18,
   "metadata": {
    "scrolled": true
   },
   "outputs": [
    {
     "name": "stdout",
     "output_type": "stream",
     "text": [
      "Record nr 3, and index 156 in that record contains this segment:\n",
      "[165 175 173 170 162 163 165 169 167 169 164 165 162 168 170 169 169 165\n",
      " 168 169]\n",
      "Features for that specific segment:\n",
      "Mean                167.350\n",
      "STD                   3.380\n",
      "RMSSD                 0.379\n",
      "Normalized RMSSD      0.002\n",
      "dtype: float64\n"
     ]
    }
   ],
   "source": [
    "n = 3\n",
    "m = 156\n",
    "\n",
    "print(f\"Record nr {n}, and index {m} in that record contains this segment:\") \n",
    "print(all_segmented_records[n][m])\n",
    "print(\"Features for that specific segment:\") \n",
    "print(all_features[n][m])"
   ]
  },
  {
   "cell_type": "markdown",
   "metadata": {},
   "source": [
    "### conversion to numpy arrays"
   ]
  },
  {
   "cell_type": "code",
   "execution_count": 19,
   "metadata": {},
   "outputs": [],
   "source": [
    "#print(len(all_segmented_records[17]))\n",
    "#print(len(all_features[18]))"
   ]
  },
  {
   "cell_type": "code",
   "execution_count": 20,
   "metadata": {},
   "outputs": [],
   "source": [
    "#segmented_arr = np.asarray(all_segmented_records[17])\n",
    "#feature_arr = np.asarray(all_features[17])\n",
    "#feature_arr"
   ]
  },
  {
   "cell_type": "markdown",
   "metadata": {},
   "source": [
    "# Classifications algorithms"
   ]
  },
  {
   "cell_type": "markdown",
   "metadata": {},
   "source": [
    "### SVM"
   ]
  },
  {
   "cell_type": "code",
   "execution_count": 21,
   "metadata": {},
   "outputs": [],
   "source": [
    "#from sklearn.model_selection import train_test_split\n",
    "#X = all_features[3]"
   ]
  },
  {
   "cell_type": "code",
   "execution_count": 22,
   "metadata": {},
   "outputs": [],
   "source": [
    "#from sklearn import svm\n",
    "#X = [[0, 0], [1, 1]]\n",
    "#y = [0, 1]\n",
    "#X = all_features[3]\n",
    "#y = np.arange(2167)\n",
    "#clf = svm.SVC()\n",
    "#clf.fit(X, y)"
   ]
  },
  {
   "cell_type": "code",
   "execution_count": 23,
   "metadata": {},
   "outputs": [],
   "source": [
    "#Z = np.asarray(all_features[18])\n",
    "#predicted = clf.predict(Z) "
   ]
  },
  {
   "cell_type": "markdown",
   "metadata": {},
   "source": [
    "### Decision trees"
   ]
  },
  {
   "cell_type": "code",
   "execution_count": 24,
   "metadata": {},
   "outputs": [],
   "source": [
    "from sklearn import tree\n",
    "X = [[0, 0], [1, 1]]\n",
    "Y = [0, 1]\n",
    "clf = tree.DecisionTreeClassifier()\n",
    "clf = clf.fit(X, Y)"
   ]
  },
  {
   "cell_type": "code",
   "execution_count": 25,
   "metadata": {},
   "outputs": [
    {
     "data": {
      "text/plain": [
       "array([1])"
      ]
     },
     "execution_count": 25,
     "metadata": {},
     "output_type": "execute_result"
    }
   ],
   "source": [
    "clf.predict([[2., 2.]])"
   ]
  },
  {
   "cell_type": "code",
   "execution_count": 26,
   "metadata": {},
   "outputs": [],
   "source": [
    "from sklearn.datasets import load_iris\n",
    "from sklearn import tree\n",
    "X, y = load_iris(return_X_y=True)\n",
    "clf = tree.DecisionTreeClassifier()\n",
    "clf = clf.fit(X, y)"
   ]
  },
  {
   "cell_type": "code",
   "execution_count": 27,
   "metadata": {},
   "outputs": [
    {
     "data": {
      "text/plain": [
       "[Text(167.4, 199.32, 'X[2] <= 2.45\\ngini = 0.667\\nsamples = 150\\nvalue = [50, 50, 50]'),\n",
       " Text(141.64615384615385, 163.07999999999998, 'gini = 0.0\\nsamples = 50\\nvalue = [50, 0, 0]'),\n",
       " Text(193.15384615384616, 163.07999999999998, 'X[3] <= 1.75\\ngini = 0.5\\nsamples = 100\\nvalue = [0, 50, 50]'),\n",
       " Text(103.01538461538462, 126.83999999999999, 'X[2] <= 4.95\\ngini = 0.168\\nsamples = 54\\nvalue = [0, 49, 5]'),\n",
       " Text(51.50769230769231, 90.6, 'X[3] <= 1.65\\ngini = 0.041\\nsamples = 48\\nvalue = [0, 47, 1]'),\n",
       " Text(25.753846153846155, 54.359999999999985, 'gini = 0.0\\nsamples = 47\\nvalue = [0, 47, 0]'),\n",
       " Text(77.26153846153846, 54.359999999999985, 'gini = 0.0\\nsamples = 1\\nvalue = [0, 0, 1]'),\n",
       " Text(154.52307692307693, 90.6, 'X[3] <= 1.55\\ngini = 0.444\\nsamples = 6\\nvalue = [0, 2, 4]'),\n",
       " Text(128.76923076923077, 54.359999999999985, 'gini = 0.0\\nsamples = 3\\nvalue = [0, 0, 3]'),\n",
       " Text(180.27692307692308, 54.359999999999985, 'X[2] <= 5.45\\ngini = 0.444\\nsamples = 3\\nvalue = [0, 2, 1]'),\n",
       " Text(154.52307692307693, 18.119999999999976, 'gini = 0.0\\nsamples = 2\\nvalue = [0, 2, 0]'),\n",
       " Text(206.03076923076924, 18.119999999999976, 'gini = 0.0\\nsamples = 1\\nvalue = [0, 0, 1]'),\n",
       " Text(283.2923076923077, 126.83999999999999, 'X[2] <= 4.85\\ngini = 0.043\\nsamples = 46\\nvalue = [0, 1, 45]'),\n",
       " Text(257.53846153846155, 90.6, 'X[1] <= 3.1\\ngini = 0.444\\nsamples = 3\\nvalue = [0, 1, 2]'),\n",
       " Text(231.7846153846154, 54.359999999999985, 'gini = 0.0\\nsamples = 2\\nvalue = [0, 0, 2]'),\n",
       " Text(283.2923076923077, 54.359999999999985, 'gini = 0.0\\nsamples = 1\\nvalue = [0, 1, 0]'),\n",
       " Text(309.04615384615386, 90.6, 'gini = 0.0\\nsamples = 43\\nvalue = [0, 0, 43]')]"
      ]
     },
     "execution_count": 27,
     "metadata": {},
     "output_type": "execute_result"
    },
    {
     "data": {
      "image/png": "[encoded data removed]",
      "text/plain": [
       "<Figure size 432x288 with 1 Axes>"
      ]
     },
     "metadata": {
      "needs_background": "light"
     },
     "output_type": "display_data"
    }
   ],
   "source": [
    "tree.plot_tree(clf) "
   ]
  },
  {
   "cell_type": "markdown",
   "metadata": {},
   "source": [
    "# Cross-validation"
   ]
  },
  {
   "cell_type": "code",
   "execution_count": 28,
   "metadata": {},
   "outputs": [
    {
     "data": {
      "text/plain": [
       "((150, 4), (150,))"
      ]
     },
     "execution_count": 28,
     "metadata": {},
     "output_type": "execute_result"
    }
   ],
   "source": [
    "import numpy as np\n",
    "from sklearn.model_selection import train_test_split\n",
    "from sklearn import datasets\n",
    "from sklearn import svm\n",
    "\n",
    "X, y = datasets.load_iris(return_X_y=True) ### instead of using iris dataset\n",
    "X.shape, y.shape"
   ]
  },
  {
   "cell_type": "code",
   "execution_count": 29,
   "metadata": {},
   "outputs": [
    {
     "data": {
      "text/plain": [
       "0.9666666666666667"
      ]
     },
     "execution_count": 29,
     "metadata": {},
     "output_type": "execute_result"
    }
   ],
   "source": [
    "X_train, X_test, y_train, y_test = train_test_split(\n",
    "    X, y, test_size=0.4, random_state=0)\n",
    "\n",
    "X_train.shape, y_train.shape\n",
    "\n",
    "X_test.shape, y_test.shape\n",
    "\n",
    "\n",
    "clf = svm.SVC(kernel='linear', C=1).fit(X_train, y_train)\n",
    "clf.score(X_test, y_test)"
   ]
  },
  {
   "cell_type": "code",
   "execution_count": 30,
   "metadata": {},
   "outputs": [
    {
     "data": {
      "text/plain": [
       "array([0.96666667, 1.        , 0.96666667, 0.96666667, 1.        ])"
      ]
     },
     "execution_count": 30,
     "metadata": {},
     "output_type": "execute_result"
    }
   ],
   "source": [
    "from sklearn.model_selection import cross_val_score\n",
    "clf = svm.SVC(kernel='linear', C=1, random_state=42)\n",
    "scores = cross_val_score(clf, X, y, cv=5)\n",
    "scores\n"
   ]
  },
  {
   "cell_type": "code",
   "execution_count": null,
   "metadata": {},
   "outputs": [],
   "source": []
  }
 ],
 "metadata": {
  "kernelspec": {
   "display_name": "Python 3",
   "language": "python",
   "name": "python3"
  },
  "language_info": {
   "codemirror_mode": {
    "name": "ipython",
    "version": 3
   },
   "file_extension": ".py",
   "mimetype": "text/x-python",
   "name": "python",
   "nbconvert_exporter": "python",
   "pygments_lexer": "ipython3",
   "version": "3.8.5"
  }
 },
 "nbformat": 4,
 "nbformat_minor": 4
}
