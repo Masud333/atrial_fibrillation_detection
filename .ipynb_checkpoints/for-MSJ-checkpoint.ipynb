{
 "cells": [
  {
   "cell_type": "code",
   "execution_count": 1,
   "metadata": {},
   "outputs": [],
   "source": [
    "# pip install wfdb"
   ]
  },
  {
   "cell_type": "code",
   "execution_count": 2,
   "metadata": {},
   "outputs": [],
   "source": [
    "import wfdb\n",
    "import os\n",
    "import glob\n",
    "import pandas as pd\n",
    "import numpy as np\n",
    "import matplotlib.pyplot as plt\n",
    "import math"
   ]
  },
  {
   "cell_type": "code",
   "execution_count": 3,
   "metadata": {},
   "outputs": [],
   "source": [
    "#print('Current directory is: {}'.format(os.getcwd()))"
   ]
  },
  {
   "cell_type": "code",
   "execution_count": 4,
   "metadata": {},
   "outputs": [],
   "source": [
    "records = []\n",
    "properties = []\n",
    "annot = []\n",
    "AnnSymb = []\n",
    "AnnSamp = []\n",
    "AnnRhythm = []\n",
    "Rpeak_Samp = []\n",
    "Rpeak_Symb = []\n",
    "\n",
    "\n",
    "for f in glob.glob('C:/Users/masud/Desktop/Github_Bachelor_Project/wfdb-python/data/*.dat'): ##### change the path (afib) to your own directory. The rest should \n",
    "                                                                                             ##### remin the same\n",
    "    sig, fields = wfdb.rdsamp(f[:-4])  #### In this function, you have the opportunity to pass \n",
    "                                       #### \"channels=[0]\" or \"channels=[1]\" to select channel 1 or 2.\n",
    "    ann = wfdb.rdann(f[:-4], 'atr')\n",
    "    QRS = wfdb.rdann(f[:-4], 'qrs')\n",
    "    Symb = pd.Series(ann.symbol)\n",
    "    Samp = pd.Series(ann.sample)\n",
    "    QRS_Symb = pd.Series(QRS.symbol)\n",
    "    QRS_Samp = pd.Series(QRS.sample)\n",
    "    Rhythm = pd.Series(ann.aux_note)\n",
    "    records.append(sig)\n",
    "    properties.append(fields)\n",
    "    annot.append(ann)\n",
    "    AnnSymb.append(Symb)\n",
    "    AnnSamp.append(Samp)\n",
    "    Rpeak_Symb.append(QRS_Symb)\n",
    "    Rpeak_Samp.append(QRS_Samp)\n",
    "    AnnRhythm.append(Rhythm)\n",
    "    \n",
    "    \n",
    "\n",
    "AnnSymb = pd.Series(AnnSymb).values\n",
    "AnnSamp = pd.Series(AnnSamp).values"
   ]
  },
  {
   "cell_type": "code",
   "execution_count": 69,
   "metadata": {
    "scrolled": true
   },
   "outputs": [
    {
     "name": "stdout",
     "output_type": "stream",
     "text": [
      "['(N', '(AFIB', '(N', '(AFIB']\n",
      "[    193     390     586 ... 8999879 8999948 9000001]\n"
     ]
    }
   ],
   "source": [
    "#This is only for last record, calculated in above loop\n",
    "print(ann.aux_note)\n",
    "print(QRS.sample)"
   ]
  },
  {
   "cell_type": "code",
   "execution_count": 61,
   "metadata": {},
   "outputs": [],
   "source": [
    "single_record_rri = []\n",
    "rri = []\n",
    "single_record_mean = []\n",
    "rri_mean = []\n",
    "single_record_std = []\n",
    "rri_std = []\n",
    "single_record_RMSSD = []\n",
    "RMSSD = []\n",
    "single_record_nRMSSD = []\n",
    "nRMSSD = []\n",
    "\n",
    "\n",
    "i = 0\n",
    "for item in Rpeak_Samp:\n",
    "    single_record_rri = np.diff(Rpeak_Samp[i])\n",
    "    rri.append(single_record_rri)\n",
    "    single_record_mean = np.mean(single_record_rri)\n",
    "    rri_mean.append(single_record_mean)\n",
    "    single_record_std = np.std(Rpeak_Samp[i])\n",
    "    rri_std.append(single_record_std)\n",
    "    \n",
    "    # to estimate HRV in a specified intervals of an ECG\n",
    "    #Root mean square of successive differences = RMSSD\n",
    "\n",
    "    #range -1, gives no error out of bound, because of index i+1 inside the loop. (range = 59550)\n",
    "    for k in range(len(single_record_rri)-1):\n",
    "        squared_summed_differencies += (single_record_rri[k+1] - single_record_rri[k])**2\n",
    "\n",
    "    squared_summed_differencies_multiplied = 1/(len(single_record_rri)-1) * squared_summed_differencies\n",
    "    single_record_RMSSD = math.sqrt(squared_summed_differencies_multiplied)\n",
    "    RMSSD.append(single_record_RMSSD)\n",
    "    single_record_nRMSSD = (single_record_RMSSD / single_record_mean)\n",
    "    nRMSSD.append(single_record_nRMSSD)\n",
    "    \n",
    "    squared_summed_differencies = 0\n",
    "    i += 1"
   ]
  },
  {
   "cell_type": "code",
   "execution_count": 70,
   "metadata": {},
   "outputs": [
    {
     "name": "stdout",
     "output_type": "stream",
     "text": [
      "R-R intervals: [197 196 196 ...  68  69  53]\n",
      "Mean: 151.12773924871118\n",
      "Standard deviation: 2450606.0325444057\n",
      "RMSSD: 42.482330598711705\n",
      "Normalized RMSSD: 0.28110213789937305\n"
     ]
    }
   ],
   "source": [
    "#Only result for last record\n",
    "print(f\"R-R intervals: {single_record_rri}\")\n",
    "print(f\"Mean: {single_record_mean}\")\n",
    "print(f\"Standard deviation: {single_record_std}\")\n",
    "print(f\"RMSSD: {single_record_RMSSD}\")\n",
    "print(f\"Normalized RMSSD: {single_record_nRMSSD}\")"
   ]
  },
  {
   "cell_type": "code",
   "execution_count": null,
   "metadata": {},
   "outputs": [],
   "source": [
    "#A sample of 250 elements, gives 1 clear signal (because 250hz frequency)\n",
    "#x = np.arange(0,250)\n",
    "#plt.plot(x,rri[750:1000])"
   ]
  }
 ],
 "metadata": {
  "kernelspec": {
   "display_name": "Python 3",
   "language": "python",
   "name": "python3"
  },
  "language_info": {
   "codemirror_mode": {
    "name": "ipython",
    "version": 3
   },
   "file_extension": ".py",
   "mimetype": "text/x-python",
   "name": "python",
   "nbconvert_exporter": "python",
   "pygments_lexer": "ipython3",
   "version": "3.8.5"
  }
 },
 "nbformat": 4,
 "nbformat_minor": 4
}
