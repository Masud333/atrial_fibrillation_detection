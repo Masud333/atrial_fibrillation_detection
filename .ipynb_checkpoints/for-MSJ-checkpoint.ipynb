{
 "cells": [
  {
   "cell_type": "markdown",
   "metadata": {},
   "source": [
    "# Importing/Storing data"
   ]
  },
  {
   "cell_type": "code",
   "execution_count": 1,
   "metadata": {},
   "outputs": [],
   "source": [
    "# pip install wfdb\n",
    "# pip install "
   ]
  },
  {
   "cell_type": "code",
   "execution_count": 2,
   "metadata": {},
   "outputs": [],
   "source": [
    "import wfdb\n",
    "import os\n",
    "import glob\n",
    "import pandas as pd\n",
    "import numpy as np\n",
    "#%matplotlib notebook\n",
    "import matplotlib.pyplot as plt"
   ]
  },
  {
   "cell_type": "code",
   "execution_count": 3,
   "metadata": {},
   "outputs": [],
   "source": [
    "#print('Current directory is: {}'.format(os.getcwd()))"
   ]
  },
  {
   "cell_type": "code",
   "execution_count": 4,
   "metadata": {},
   "outputs": [],
   "source": [
    "records = []\n",
    "properties = []\n",
    "annot = []\n",
    "AnnSymb = []\n",
    "AnnSamp = []\n",
    "AnnRhythm = []\n",
    "Rpeak_Samp = []\n",
    "Rpeak_Symb = []\n",
    "\n",
    "\n",
    "for f in glob.glob('C:/Users/masud/Desktop/Github_Bachelor_Project/wfdb-python/data/*.dat'): ##### change the path (afib) to your own directory. The rest should \n",
    "                                                                                             ##### remin the same\n",
    "    sig, fields = wfdb.rdsamp(f[:-4])  #### In this function, you have the opportunity to pass \n",
    "                                       #### \"channels=[0]\" or \"channels=[1]\" to select channel 1 or 2.\n",
    "    ann = wfdb.rdann(f[:-4], 'atr')\n",
    "    QRS = wfdb.rdann(f[:-4], 'qrs')\n",
    "    Symb = pd.Series(ann.symbol)\n",
    "    Samp = pd.Series(ann.sample)\n",
    "    QRS_Symb = pd.Series(QRS.symbol)\n",
    "    QRS_Samp = pd.Series(QRS.sample)\n",
    "    Rhythm = pd.Series(ann.aux_note)\n",
    "    records.append(sig)\n",
    "    properties.append(fields)\n",
    "    annot.append(ann)\n",
    "    AnnSymb.append(Symb)\n",
    "    AnnSamp.append(Samp)\n",
    "    Rpeak_Symb.append(QRS_Symb)\n",
    "    Rpeak_Samp.append(QRS_Samp)\n",
    "    AnnRhythm.append(Rhythm)\n",
    "    \n",
    "    \n",
    "\n",
    "AnnSymb = pd.Series(AnnSymb).values\n",
    "AnnSamp = pd.Series(AnnSamp).values"
   ]
  },
  {
   "cell_type": "code",
   "execution_count": null,
   "metadata": {},
   "outputs": [],
   "source": []
  },
  {
   "cell_type": "code",
   "execution_count": 41,
   "metadata": {
    "scrolled": false
   },
   "outputs": [
    {
     "name": "stdout",
     "output_type": "stream",
     "text": [
      "0       (N\n",
      "1    (AFIB\n",
      "2       (N\n",
      "3    (AFIB\n",
      "dtype: object\n",
      "------------------------------------\n",
      "0         96\n",
      "1    2808396\n",
      "2    2820743\n",
      "3    2850351\n",
      "dtype: int32\n",
      "------------------------------------\n",
      "All samples of R-peaks below\n",
      "0            193\n",
      "1            390\n",
      "2            586\n",
      "3            782\n",
      "4            905\n",
      "          ...   \n",
      "59547    8999654\n",
      "59548    8999811\n",
      "59549    8999879\n",
      "59550    8999948\n",
      "59551    9000001\n",
      "Length: 59552, dtype: int32\n",
      "------------------------------------\n",
      "59552\n"
     ]
    }
   ],
   "source": [
    "#This is only for last record, calculated in above loop\n",
    "print(AnnRhythm[22])\n",
    "print(\"------------------------------------\")\n",
    "print(AnnSamp[22])\n",
    "print(\"------------------------------------\")\n",
    "print(\"All samples of R-peaks below\")\n",
    "print(Rpeak_Samp[22])\n",
    "print(\"------------------------------------\")\n",
    "print(len(Rpeak_Samp[22]))\n",
    "#print(np.where(Rpeak_Samp[22] <= ))"
   ]
  },
  {
   "cell_type": "markdown",
   "metadata": {},
   "source": [
    "# Working oon..."
   ]
  },
  {
   "cell_type": "code",
   "execution_count": null,
   "metadata": {},
   "outputs": [],
   "source": []
  },
  {
   "cell_type": "code",
   "execution_count": 10,
   "metadata": {
    "scrolled": true
   },
   "outputs": [
    {
     "name": "stdout",
     "output_type": "stream",
     "text": [
      "[ 0  1  2  3  4  5  6  7  8  9 10 11 12 13 14 15 16 17 18 19]\n",
      "[10 11 12 13 14 15 16 17 18 19 20 21 22 23 24 25 26 27 28 29]\n",
      "[20 21 22 23 24 25 26 27 28 29 30 31 32 33 34 35 36 37 38 39]\n",
      "[30 31 32 33 34 35 36 37 38 39 40 41 42 43 44 45 46 47 48 49]\n",
      "[40 41 42 43 44 45 46 47 48 49 50 51 52 53 54 55 56 57 58 59]\n",
      "[50 51 52 53 54 55 56 57 58 59 60 61 62 63 64 65 66 67 68 69]\n",
      "[60 61 62 63 64 65 66 67 68 69 70 71 72 73 74 75 76 77 78 79]\n",
      "[70 71 72 73 74 75 76 77 78 79 80 81 82 83 84 85 86 87 88 89]\n",
      "[80 81 82 83 84 85 86 87 88 89 90 91 92 93 94 95 96 97 98 99]\n",
      "[ 90  91  92  93  94  95  96  97  98  99 100 101 102 103 104]\n"
     ]
    }
   ],
   "source": [
    "from window_slider import Slider\n",
    "list = np.arange(105)\n",
    "bucket_size = 20\n",
    "overlap_count = 10\n",
    "slider = Slider(bucket_size,overlap_count)\n",
    "slider.fit(list)       \n",
    "while True:\n",
    "    window_data = slider.slide()\n",
    "    # do your stuff\n",
    "    print(window_data)\n",
    "    if slider.reached_end_of_list(): break"
   ]
  },
  {
   "cell_type": "markdown",
   "metadata": {},
   "source": [
    "### Visualising the ECG signals"
   ]
  },
  {
   "cell_type": "code",
   "execution_count": 11,
   "metadata": {
    "scrolled": false
   },
   "outputs": [
    {
     "data": {
      "text/plain": [
       "[<matplotlib.lines.Line2D at 0x2718029ebb0>,\n",
       " <matplotlib.lines.Line2D at 0x2718029ec70>]"
      ]
     },
     "execution_count": 11,
     "metadata": {},
     "output_type": "execute_result"
    },
    {
     "data": {
      "image/png": "[encoded data removed]",
      "text/plain": [
       "<Figure size 432x288 with 1 Axes>"
      ]
     },
     "metadata": {
      "needs_background": "light"
     },
     "output_type": "display_data"
    }
   ],
   "source": [
    "plt.title(\"Both Channels (0 and 1)\")\n",
    "#plt.title(\"Channel 0 of the ECG\") #Called ['ECG1']\n",
    "#plt.title('Channel 1 of the ECG') #Called ['ECG2']\n",
    "plt.plot(sig[:500])"
   ]
  },
  {
   "cell_type": "markdown",
   "metadata": {},
   "source": [
    "### Accessing annotations "
   ]
  },
  {
   "cell_type": "code",
   "execution_count": 12,
   "metadata": {
    "scrolled": true
   },
   "outputs": [],
   "source": [
    "#display(fields) ### Last record annotation\n",
    "#print(f\"Units in which the ECG is measured {fields['units']}\")"
   ]
  },
  {
   "cell_type": "code",
   "execution_count": 13,
   "metadata": {},
   "outputs": [],
   "source": [
    "#display(properties[22])\n",
    "#print(f\"Units in which the ECG is measured {properties[22]['units']}\")"
   ]
  },
  {
   "cell_type": "markdown",
   "metadata": {},
   "source": [
    "# Calculating the R to R Intervals"
   ]
  },
  {
   "cell_type": "code",
   "execution_count": 14,
   "metadata": {},
   "outputs": [],
   "source": [
    "single_record_rri = []\n",
    "rri = []\n",
    "\n",
    "squared_summed_differencies = 0\n",
    "i = 0\n",
    "for i in range(len(Rpeak_Samp)): ### loops 23 times\n",
    "    single_record_rri = np.diff(Rpeak_Samp[i])\n",
    "    rri.append(single_record_rri)"
   ]
  },
  {
   "cell_type": "code",
   "execution_count": 15,
   "metadata": {},
   "outputs": [],
   "source": [
    "#A sample of 250 elements, gives 1 clear signal (because 250hz frequency)\n",
    "#x = np.arange(0,250)\n",
    "#plt.plot(x,rri[22][750:1000])"
   ]
  },
  {
   "cell_type": "markdown",
   "metadata": {},
   "source": [
    "# Segmenting the records and calculating features"
   ]
  },
  {
   "cell_type": "code",
   "execution_count": 16,
   "metadata": {},
   "outputs": [],
   "source": [
    "#seg_all_rec = []\n",
    "\n",
    "#amount_to_segment = -(len(rri[0]) % 20)\n",
    "#record_to_segment = rri[0][:amount_to_segment]\n",
    "#length = len(record_to_segment) / 20\n",
    "#segmented_record = np.split(record_to_segment,length)\n",
    "#seg_all_rec.append(segmented_record)"
   ]
  },
  {
   "cell_type": "code",
   "execution_count": 17,
   "metadata": {
    "scrolled": true
   },
   "outputs": [],
   "source": [
    "single_record_mean = []\n",
    "rri_mean = []\n",
    "single_record_std = []\n",
    "rri_std = []\n",
    "single_record_RMSSD = []\n",
    "RMSSD = []\n",
    "single_record_nRMSSD = []\n",
    "nRMSSD = []\n",
    "\n",
    "all_segmented_records = []\n",
    "all_features = []\n",
    "\n",
    "\n",
    "### TO acess every single record\n",
    "### record_to_segment = rri[index]\n",
    "for index in range(len(rri)): ### Loops 23 times\n",
    "    #(below line) gives a value between 0 and 19, which is the amount used to remove from the end of a record, by slicing.\n",
    "    amount_to_segment = -(len(rri[index]) % 20)\n",
    "    if amount_to_segment != 0:\n",
    "        rri_segmented_record = rri[index][:amount_to_segment]\n",
    "    else: \n",
    "        rri_segmented_record = rri[index] #if divisible by 20, no need to slice this record\n",
    "    #(below line) gives us the number of \"blocks\" to put every single 20-segment into.\n",
    "    length = len(rri_segmented_record) / 20\n",
    "    rri_segmented_record = np.split(rri_segmented_record,length)\n",
    "    all_segmented_records.append(rri_segmented_record)\n",
    "    \n",
    "    features = []\n",
    "    \n",
    "    ### Calculating features for every single segmented \"block\" inside the segmented_record variable\n",
    "    for i in range(len(rri_segmented_record)):\n",
    "        #MEAN\n",
    "        f1 = np.mean(rri_segmented_record[i])\n",
    "        #STD\n",
    "        f2 = np.std(rri_segmented_record[i])\n",
    "        #RMSSD\n",
    "        sqaured_summed_differencies = 0\n",
    "        for k in range(len(rri_segmented_record[i]) - 1): ### loops 19 times\n",
    "            sqaured_summed_differencies += (rri_segmented_record[i][k] - rri_segmented_record[i][k+1])**2\n",
    "        squared_summed_differencies_multiplied = 1/(len(rri_segmented_record) - 1) * sqaured_summed_differencies\n",
    "        f3 = np.sqrt(squared_summed_differencies_multiplied)\n",
    "        #NORMALIZED RMSSD\n",
    "        f4 = (f3 / f1)\n",
    "        \n",
    "        my_features = pd.Series([np.around(f1,3), np.around(f2,3), np.around(f3,3), np.around(f4,3)], index=['Mean','STD','RMSSD','Normalized RMSSD'])\n",
    "        features.append(my_features)\n",
    "        \n",
    "    all_features.append(features)"
   ]
  },
  {
   "cell_type": "markdown",
   "metadata": {},
   "source": [
    "### Features for a single block (20 heart beats), inside a given record\n",
    "### Accessing the 23 individual records (index 0 to 22), gives a single record, that is segmented into arrays of 20. Accessing each 20 array segment/block, by indexing, this time second dimension [ ]-->[ ]<--"
   ]
  },
  {
   "cell_type": "code",
   "execution_count": 18,
   "metadata": {
    "scrolled": true
   },
   "outputs": [
    {
     "name": "stdout",
     "output_type": "stream",
     "text": [
      "Record nr 3, and index 156 in that record contains this segment:\n",
      "[165 175 173 170 162 163 165 169 167 169 164 165 162 168 170 169 169 165\n",
      " 168 169]\n",
      "Features for that specific segment:\n",
      "Mean                167.350\n",
      "STD                   3.380\n",
      "RMSSD                 0.379\n",
      "Normalized RMSSD      0.002\n",
      "dtype: float64\n"
     ]
    }
   ],
   "source": [
    "n = 3\n",
    "m = 156\n",
    "\n",
    "print(f\"Record nr {n}, and index {m} in that record contains this segment:\") \n",
    "print(all_segmented_records[n][m])\n",
    "print(\"Features for that specific segment:\") \n",
    "print(all_features[n][m])"
   ]
  },
  {
   "cell_type": "markdown",
   "metadata": {},
   "source": [
    "### Conversion into panda DataFrame"
   ]
  },
  {
   "cell_type": "code",
   "execution_count": null,
   "metadata": {
    "scrolled": false
   },
   "outputs": [],
   "source": [
    "#df = pd.DataFrame(all_features[3])\n",
    "#df"
   ]
  },
  {
   "cell_type": "code",
   "execution_count": null,
   "metadata": {
    "scrolled": true
   },
   "outputs": [],
   "source": [
    "#plt.scatter(df['STD'],df['RMSSD'], color='green', marker='+')"
   ]
  },
  {
   "cell_type": "markdown",
   "metadata": {},
   "source": [
    "### If needed conversion to numpy arrays"
   ]
  },
  {
   "cell_type": "code",
   "execution_count": null,
   "metadata": {},
   "outputs": [],
   "source": [
    "#print(len(all_segmented_records[17]))\n",
    "#print(len(all_features[18]))"
   ]
  },
  {
   "cell_type": "code",
   "execution_count": null,
   "metadata": {},
   "outputs": [],
   "source": [
    "#segmented_arr = np.asarray(all_segmented_records[17])\n",
    "#feature_arr = np.asarray(all_features[17])\n",
    "#feature_arr"
   ]
  },
  {
   "cell_type": "markdown",
   "metadata": {},
   "source": [
    "# Classifications algorithms"
   ]
  },
  {
   "cell_type": "code",
   "execution_count": null,
   "metadata": {},
   "outputs": [],
   "source": [
    "#from sklearn.model_selection import train_test_split\n",
    "#X = all_features[3]"
   ]
  },
  {
   "cell_type": "code",
   "execution_count": null,
   "metadata": {},
   "outputs": [],
   "source": [
    "#from sklearn import svm\n",
    "#X = [[0, 0], [1, 1]]\n",
    "#y = [0, 1]\n",
    "#X = all_features[3]\n",
    "#y = np.arange(2167)\n",
    "#clf = svm.SVC()\n",
    "#clf.fit(X, y)"
   ]
  },
  {
   "cell_type": "code",
   "execution_count": null,
   "metadata": {},
   "outputs": [],
   "source": [
    "#Z = np.asarray(all_features[18])\n",
    "#predicted = clf.predict(Z)"
   ]
  }
 ],
 "metadata": {
  "kernelspec": {
   "display_name": "Python 3",
   "language": "python",
   "name": "python3"
  },
  "language_info": {
   "codemirror_mode": {
    "name": "ipython",
    "version": 3
   },
   "file_extension": ".py",
   "mimetype": "text/x-python",
   "name": "python",
   "nbconvert_exporter": "python",
   "pygments_lexer": "ipython3",
   "version": "3.8.5"
  }
 },
 "nbformat": 4,
 "nbformat_minor": 4
}
