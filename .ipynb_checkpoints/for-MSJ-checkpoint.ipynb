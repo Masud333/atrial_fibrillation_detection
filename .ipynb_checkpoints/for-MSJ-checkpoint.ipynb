{
 "cells": [
  {
   "cell_type": "markdown",
   "metadata": {},
   "source": [
    "# Importing/Storing data"
   ]
  },
  {
   "cell_type": "code",
   "execution_count": 1,
   "metadata": {},
   "outputs": [],
   "source": [
    "# pip install wfdb\n",
    "# pip install \n",
    "#print('Current directory is: {}'.format(os.getcwd()))"
   ]
  },
  {
   "cell_type": "code",
   "execution_count": 2,
   "metadata": {},
   "outputs": [],
   "source": [
    "import wfdb\n",
    "import os\n",
    "import glob\n",
    "import pandas as pd\n",
    "import numpy as np\n",
    "#%matplotlib notebook\n",
    "import matplotlib.pyplot as plt\n",
    "import seaborn as sn"
   ]
  },
  {
   "cell_type": "code",
   "execution_count": 3,
   "metadata": {},
   "outputs": [],
   "source": [
    "records = []\n",
    "properties = []\n",
    "annot = []\n",
    "AnnSymb = []\n",
    "AnnSamp = []\n",
    "AnnRhythm = []\n",
    "Rpeak_Samp = []\n",
    "Rpeak_Symb = []\n",
    "\n",
    "\n",
    "for f in glob.glob('C:/Users/masud/Desktop/Github_Bachelor_Project/wfdb-python/data/*.dat'): ##### change the path (afib) to your own directory. The rest should \n",
    "                                                                                             ##### remin the same\n",
    "    sig, fields = wfdb.rdsamp(f[:-4], channels=[1])  #### In this function, you have the opportunity to pass \n",
    "                                       #### \"channels=[0]\" or \"channels=[1]\" to select channel 1 or 2.\n",
    "    ann = wfdb.rdann(f[:-4], 'atr')\n",
    "    QRS = wfdb.rdann(f[:-4], 'qrs')\n",
    "    Symb = pd.Series(ann.symbol)\n",
    "    Samp = pd.Series(ann.sample)\n",
    "    QRS_Symb = pd.Series(QRS.symbol)\n",
    "    QRS_Samp = pd.Series(QRS.sample)\n",
    "    Rhythm = pd.Series(ann.aux_note)\n",
    "    records.append(sig)\n",
    "    properties.append(fields)\n",
    "    annot.append(ann)\n",
    "    AnnSymb.append(Symb)\n",
    "    AnnSamp.append(Samp)\n",
    "    Rpeak_Symb.append(QRS_Symb)\n",
    "    Rpeak_Samp.append(QRS_Samp)\n",
    "    AnnRhythm.append(Rhythm)\n",
    "    \n",
    "    \n",
    "\n",
    "AnnSymb = pd.Series(AnnSymb).values\n",
    "AnnSamp = pd.Series(AnnSamp).values"
   ]
  },
  {
   "cell_type": "code",
   "execution_count": 4,
   "metadata": {
    "scrolled": true
   },
   "outputs": [
    {
     "name": "stdout",
     "output_type": "stream",
     "text": [
      "0        (N\n",
      "1     (AFIB\n",
      "2        (N\n",
      "3     (AFIB\n",
      "4        (N\n",
      "5     (AFIB\n",
      "6        (N\n",
      "7     (AFIB\n",
      "8        (N\n",
      "9     (AFIB\n",
      "10       (N\n",
      "11    (AFIB\n",
      "12       (N\n",
      "13    (AFIB\n",
      "14       (N\n",
      "dtype: object\n",
      "------------------------------------\n",
      "0          30\n",
      "1      102584\n",
      "2      119604\n",
      "3      121773\n",
      "4      122194\n",
      "5      133348\n",
      "6      166857\n",
      "7     1096245\n",
      "8     1098054\n",
      "9     1135296\n",
      "10    1139595\n",
      "11    1422436\n",
      "12    1423548\n",
      "13    1459277\n",
      "14    1460416\n",
      "dtype: int32\n",
      "------------------------------------\n",
      "All samples of R-peaks below\n",
      "0             61\n",
      "1            200\n",
      "2            358\n",
      "3            584\n",
      "4            729\n",
      "          ...   \n",
      "44000    8999121\n",
      "44001    8999327\n",
      "44002    8999531\n",
      "44003    8999734\n",
      "44004    8999941\n",
      "Length: 44005, dtype: int32\n",
      "------------------------------------\n"
     ]
    }
   ],
   "source": [
    "#This is only for last record, calculated in above loop\n",
    "print(AnnRhythm[0])\n",
    "print(\"------------------------------------\")\n",
    "print(AnnSamp[0])\n",
    "print(\"------------------------------------\")\n",
    "print(\"All samples of R-peaks below\")\n",
    "print(Rpeak_Samp[0])\n",
    "print(\"------------------------------------\")\n",
    "#print(records[0])\n",
    "#print(type(records[0]))\n",
    "#print(np.where(Rpeak_Samp[22] <= ))\n",
    "#df.iloc[22] # acessing ROW 22\n",
    "#print(\"------------------------------------\")"
   ]
  },
  {
   "cell_type": "markdown",
   "metadata": {},
   "source": [
    "# Pre processing data..."
   ]
  },
  {
   "cell_type": "code",
   "execution_count": 5,
   "metadata": {
    "scrolled": true
   },
   "outputs": [
    {
     "data": {
      "text/html": [
       "<div>\n",
       "<style scoped>\n",
       "    .dataframe tbody tr th:only-of-type {\n",
       "        vertical-align: middle;\n",
       "    }\n",
       "\n",
       "    .dataframe tbody tr th {\n",
       "        vertical-align: top;\n",
       "    }\n",
       "\n",
       "    .dataframe thead th {\n",
       "        text-align: right;\n",
       "    }\n",
       "</style>\n",
       "<table border=\"1\" class=\"dataframe\">\n",
       "  <thead>\n",
       "    <tr style=\"text-align: right;\">\n",
       "      <th></th>\n",
       "      <th>0</th>\n",
       "      <th>Label</th>\n",
       "    </tr>\n",
       "  </thead>\n",
       "  <tbody>\n",
       "    <tr>\n",
       "      <th>0</th>\n",
       "      <td>61</td>\n",
       "      <td>(N</td>\n",
       "    </tr>\n",
       "    <tr>\n",
       "      <th>1</th>\n",
       "      <td>200</td>\n",
       "      <td>(N</td>\n",
       "    </tr>\n",
       "    <tr>\n",
       "      <th>2</th>\n",
       "      <td>358</td>\n",
       "      <td>(N</td>\n",
       "    </tr>\n",
       "    <tr>\n",
       "      <th>3</th>\n",
       "      <td>584</td>\n",
       "      <td>(N</td>\n",
       "    </tr>\n",
       "    <tr>\n",
       "      <th>4</th>\n",
       "      <td>729</td>\n",
       "      <td>(N</td>\n",
       "    </tr>\n",
       "    <tr>\n",
       "      <th>...</th>\n",
       "      <td>...</td>\n",
       "      <td>...</td>\n",
       "    </tr>\n",
       "    <tr>\n",
       "      <th>15373</th>\n",
       "      <td>2849597</td>\n",
       "      <td>(N</td>\n",
       "    </tr>\n",
       "    <tr>\n",
       "      <th>15374</th>\n",
       "      <td>2849785</td>\n",
       "      <td>(N</td>\n",
       "    </tr>\n",
       "    <tr>\n",
       "      <th>15375</th>\n",
       "      <td>2849975</td>\n",
       "      <td>(N</td>\n",
       "    </tr>\n",
       "    <tr>\n",
       "      <th>15376</th>\n",
       "      <td>2850083</td>\n",
       "      <td>(N</td>\n",
       "    </tr>\n",
       "    <tr>\n",
       "      <th>15377</th>\n",
       "      <td>2850266</td>\n",
       "      <td>(N</td>\n",
       "    </tr>\n",
       "  </tbody>\n",
       "</table>\n",
       "<p>714255 rows × 2 columns</p>\n",
       "</div>"
      ],
      "text/plain": [
       "             0 Label\n",
       "0           61    (N\n",
       "1          200    (N\n",
       "2          358    (N\n",
       "3          584    (N\n",
       "4          729    (N\n",
       "...        ...   ...\n",
       "15373  2849597    (N\n",
       "15374  2849785    (N\n",
       "15375  2849975    (N\n",
       "15376  2850083    (N\n",
       "15377  2850266    (N\n",
       "\n",
       "[714255 rows x 2 columns]"
      ]
     },
     "execution_count": 5,
     "metadata": {},
     "output_type": "execute_result"
    }
   ],
   "source": [
    "labeled_Rpeaks = []\n",
    "appended_data = []\n",
    "for i in range(23): ## 23 records\n",
    "    for j in range(len(AnnSamp[i])-1): ## AnnSamp or AnnRhythm -- both same dimensions\n",
    "        df = pd.DataFrame(Rpeak_Samp[i][(Rpeak_Samp[i] > AnnSamp[i][j]) & (Rpeak_Samp[i] < AnnSamp[i][j+1])])\n",
    "        df['Label'] = AnnRhythm[i][j]\n",
    "        appended_data.append(df)\n",
    "        \n",
    "\n",
    "labeled_Rpeaks = pd.concat(appended_data)\n",
    "labeled_Rpeaks"
   ]
  },
  {
   "cell_type": "markdown",
   "metadata": {},
   "source": [
    "### Filter, only get Hearbeats with annotations '(N' OR '(AFIB'"
   ]
  },
  {
   "cell_type": "code",
   "execution_count": 6,
   "metadata": {
    "scrolled": true
   },
   "outputs": [
    {
     "data": {
      "text/html": [
       "<div>\n",
       "<style scoped>\n",
       "    .dataframe tbody tr th:only-of-type {\n",
       "        vertical-align: middle;\n",
       "    }\n",
       "\n",
       "    .dataframe tbody tr th {\n",
       "        vertical-align: top;\n",
       "    }\n",
       "\n",
       "    .dataframe thead th {\n",
       "        text-align: right;\n",
       "    }\n",
       "</style>\n",
       "<table border=\"1\" class=\"dataframe\">\n",
       "  <thead>\n",
       "    <tr style=\"text-align: right;\">\n",
       "      <th></th>\n",
       "      <th>0</th>\n",
       "      <th>Label</th>\n",
       "    </tr>\n",
       "  </thead>\n",
       "  <tbody>\n",
       "    <tr>\n",
       "      <th>0</th>\n",
       "      <td>61</td>\n",
       "      <td>(N</td>\n",
       "    </tr>\n",
       "    <tr>\n",
       "      <th>1</th>\n",
       "      <td>200</td>\n",
       "      <td>(N</td>\n",
       "    </tr>\n",
       "    <tr>\n",
       "      <th>2</th>\n",
       "      <td>358</td>\n",
       "      <td>(N</td>\n",
       "    </tr>\n",
       "    <tr>\n",
       "      <th>3</th>\n",
       "      <td>584</td>\n",
       "      <td>(N</td>\n",
       "    </tr>\n",
       "    <tr>\n",
       "      <th>4</th>\n",
       "      <td>729</td>\n",
       "      <td>(N</td>\n",
       "    </tr>\n",
       "    <tr>\n",
       "      <th>...</th>\n",
       "      <td>...</td>\n",
       "      <td>...</td>\n",
       "    </tr>\n",
       "    <tr>\n",
       "      <th>995</th>\n",
       "      <td>149897</td>\n",
       "      <td>(AFIB</td>\n",
       "    </tr>\n",
       "    <tr>\n",
       "      <th>996</th>\n",
       "      <td>149989</td>\n",
       "      <td>(AFIB</td>\n",
       "    </tr>\n",
       "    <tr>\n",
       "      <th>997</th>\n",
       "      <td>150086</td>\n",
       "      <td>(AFIB</td>\n",
       "    </tr>\n",
       "    <tr>\n",
       "      <th>998</th>\n",
       "      <td>150169</td>\n",
       "      <td>(AFIB</td>\n",
       "    </tr>\n",
       "    <tr>\n",
       "      <th>999</th>\n",
       "      <td>150248</td>\n",
       "      <td>(AFIB</td>\n",
       "    </tr>\n",
       "  </tbody>\n",
       "</table>\n",
       "<p>1000 rows × 2 columns</p>\n",
       "</div>"
      ],
      "text/plain": [
       "          0  Label\n",
       "0        61     (N\n",
       "1       200     (N\n",
       "2       358     (N\n",
       "3       584     (N\n",
       "4       729     (N\n",
       "..      ...    ...\n",
       "995  149897  (AFIB\n",
       "996  149989  (AFIB\n",
       "997  150086  (AFIB\n",
       "998  150169  (AFIB\n",
       "999  150248  (AFIB\n",
       "\n",
       "[1000 rows x 2 columns]"
      ]
     },
     "execution_count": 6,
     "metadata": {},
     "output_type": "execute_result"
    }
   ],
   "source": [
    "labeled_Rpeaks_N_AFIB = labeled_Rpeaks.loc[(labeled_Rpeaks.Label == '(N') | (labeled_Rpeaks.Label == '(AFIB'), :]\n",
    "labeled_Rpeaks_N_AFIB[0:1000]"
   ]
  },
  {
   "cell_type": "markdown",
   "metadata": {},
   "source": [
    "### Convert 'Label' column to boolean expr"
   ]
  },
  {
   "cell_type": "code",
   "execution_count": 7,
   "metadata": {},
   "outputs": [
    {
     "name": "stderr",
     "output_type": "stream",
     "text": [
      "<ipython-input-7-36743a647d57>:3: SettingWithCopyWarning: \n",
      "A value is trying to be set on a copy of a slice from a DataFrame.\n",
      "Try using .loc[row_indexer,col_indexer] = value instead\n",
      "\n",
      "See the caveats in the documentation: https://pandas.pydata.org/pandas-docs/stable/user_guide/indexing.html#returning-a-view-versus-a-copy\n",
      "  labeled_Rpeaks_N_AFIB['Label'] = labeled_Rpeaks_N_AFIB['Label'].map(\n"
     ]
    }
   ],
   "source": [
    "### s.where(s > 1, 10)\n",
    "#labeled_Rpeaks_N_AFIB['Label'] = labeled_Rpeaks_N_AFIB['Label'].astype('bool')\n",
    "labeled_Rpeaks_N_AFIB['Label'] = labeled_Rpeaks_N_AFIB['Label'].map( \n",
    "                   {'(N':False ,'(AFIB':True}) "
   ]
  },
  {
   "cell_type": "code",
   "execution_count": 8,
   "metadata": {},
   "outputs": [
    {
     "name": "stderr",
     "output_type": "stream",
     "text": [
      "<ipython-input-8-9cd7ad84a37a>:1: SettingWithCopyWarning: \n",
      "A value is trying to be set on a copy of a slice from a DataFrame.\n",
      "Try using .loc[row_indexer,col_indexer] = value instead\n",
      "\n",
      "See the caveats in the documentation: https://pandas.pydata.org/pandas-docs/stable/user_guide/indexing.html#returning-a-view-versus-a-copy\n",
      "  labeled_Rpeaks_N_AFIB['Label'] = labeled_Rpeaks_N_AFIB['Label'].astype(int)\n",
      "D:\\anaconda3\\lib\\site-packages\\pandas\\core\\frame.py:4296: SettingWithCopyWarning: \n",
      "A value is trying to be set on a copy of a slice from a DataFrame\n",
      "\n",
      "See the caveats in the documentation: https://pandas.pydata.org/pandas-docs/stable/user_guide/indexing.html#returning-a-view-versus-a-copy\n",
      "  return super().rename(\n"
     ]
    }
   ],
   "source": [
    "labeled_Rpeaks_N_AFIB['Label'] = labeled_Rpeaks_N_AFIB['Label'].astype(int)\n",
    "\n",
    "labeled_Rpeaks_N_AFIB.rename(columns={0: 'Rpeaks'},\n",
    "          inplace=True, errors='raise')"
   ]
  },
  {
   "cell_type": "code",
   "execution_count": 9,
   "metadata": {
    "scrolled": false
   },
   "outputs": [
    {
     "data": {
      "text/html": [
       "<div>\n",
       "<style scoped>\n",
       "    .dataframe tbody tr th:only-of-type {\n",
       "        vertical-align: middle;\n",
       "    }\n",
       "\n",
       "    .dataframe tbody tr th {\n",
       "        vertical-align: top;\n",
       "    }\n",
       "\n",
       "    .dataframe thead th {\n",
       "        text-align: right;\n",
       "    }\n",
       "</style>\n",
       "<table border=\"1\" class=\"dataframe\">\n",
       "  <thead>\n",
       "    <tr style=\"text-align: right;\">\n",
       "      <th></th>\n",
       "      <th>Rpeaks</th>\n",
       "      <th>Label</th>\n",
       "    </tr>\n",
       "  </thead>\n",
       "  <tbody>\n",
       "    <tr>\n",
       "      <th>0</th>\n",
       "      <td>61</td>\n",
       "      <td>0</td>\n",
       "    </tr>\n",
       "    <tr>\n",
       "      <th>1</th>\n",
       "      <td>200</td>\n",
       "      <td>0</td>\n",
       "    </tr>\n",
       "    <tr>\n",
       "      <th>2</th>\n",
       "      <td>358</td>\n",
       "      <td>0</td>\n",
       "    </tr>\n",
       "    <tr>\n",
       "      <th>3</th>\n",
       "      <td>584</td>\n",
       "      <td>0</td>\n",
       "    </tr>\n",
       "    <tr>\n",
       "      <th>4</th>\n",
       "      <td>729</td>\n",
       "      <td>0</td>\n",
       "    </tr>\n",
       "    <tr>\n",
       "      <th>...</th>\n",
       "      <td>...</td>\n",
       "      <td>...</td>\n",
       "    </tr>\n",
       "    <tr>\n",
       "      <th>995</th>\n",
       "      <td>149897</td>\n",
       "      <td>1</td>\n",
       "    </tr>\n",
       "    <tr>\n",
       "      <th>996</th>\n",
       "      <td>149989</td>\n",
       "      <td>1</td>\n",
       "    </tr>\n",
       "    <tr>\n",
       "      <th>997</th>\n",
       "      <td>150086</td>\n",
       "      <td>1</td>\n",
       "    </tr>\n",
       "    <tr>\n",
       "      <th>998</th>\n",
       "      <td>150169</td>\n",
       "      <td>1</td>\n",
       "    </tr>\n",
       "    <tr>\n",
       "      <th>999</th>\n",
       "      <td>150248</td>\n",
       "      <td>1</td>\n",
       "    </tr>\n",
       "  </tbody>\n",
       "</table>\n",
       "<p>1000 rows × 2 columns</p>\n",
       "</div>"
      ],
      "text/plain": [
       "     Rpeaks  Label\n",
       "0        61      0\n",
       "1       200      0\n",
       "2       358      0\n",
       "3       584      0\n",
       "4       729      0\n",
       "..      ...    ...\n",
       "995  149897      1\n",
       "996  149989      1\n",
       "997  150086      1\n",
       "998  150169      1\n",
       "999  150248      1\n",
       "\n",
       "[1000 rows x 2 columns]"
      ]
     },
     "execution_count": 9,
     "metadata": {},
     "output_type": "execute_result"
    }
   ],
   "source": [
    "Rpeaks_N_AFIB = labeled_Rpeaks_N_AFIB[\"Rpeaks\"]\n",
    "Label_N_AFIB = labeled_Rpeaks_N_AFIB[\"Label\"]\n",
    "Label_N_AFIB = np.array(Label_N_AFIB, dtype=np.float64)\n",
    "\n",
    "labeled_Rpeaks_N_AFIB[0:1000]"
   ]
  },
  {
   "cell_type": "markdown",
   "metadata": {},
   "source": [
    "### Window slider"
   ]
  },
  {
   "cell_type": "code",
   "execution_count": 10,
   "metadata": {},
   "outputs": [],
   "source": [
    "#print(records[0])\n",
    "#print(np.shape(records[0]))\n",
    "#print()\n",
    "#print()\n",
    "#records_trans = np.transpose(records[0])\n",
    "#print(np.shape(records_trans))\n",
    "#records[0].flatten()\n",
    "#np.squeeze(records[0], axis=1)\n",
    "#np.shape(records[0])"
   ]
  },
  {
   "cell_type": "code",
   "execution_count": 11,
   "metadata": {},
   "outputs": [],
   "source": [
    "###Run with heartbeats ##convert to numpy array \n",
    "#from window_slider import Slider\n",
    "#import numpy\n",
    "#list = records_trans\n",
    "#bucket_size = 6600\n",
    "#overlap_count = 3300\n",
    "#slider = Slider(bucket_size,overlap_count)\n",
    "#slider.fit(list)       \n",
    "#while True:\n",
    "#    window_data = slider.slide()\n",
    "#    # do your stuff\n",
    "#    print(window_data)\n",
    "#    if slider.reached_end_of_list(): break"
   ]
  },
  {
   "cell_type": "markdown",
   "metadata": {},
   "source": [
    "### Visualising the ECG signals"
   ]
  },
  {
   "cell_type": "code",
   "execution_count": 12,
   "metadata": {
    "scrolled": false
   },
   "outputs": [
    {
     "data": {
      "text/plain": [
       "[<matplotlib.lines.Line2D at 0x285802b3820>]"
      ]
     },
     "execution_count": 12,
     "metadata": {},
     "output_type": "execute_result"
    },
    {
     "data": {
      "image/png": "[encoded data removed]",
      "text/plain": [
       "<Figure size 432x288 with 1 Axes>"
      ]
     },
     "metadata": {
      "needs_background": "light"
     },
     "output_type": "display_data"
    }
   ],
   "source": [
    "#plt.title(\"Both Channels (0 and 1)\")\n",
    "#plt.title(\"Channel 0 of the ECG\") #Called ['ECG1']\n",
    "plt.title('Channel 1 of the ECG') #Called ['ECG2']\n",
    "plt.plot(sig[:500])\n",
    "\n",
    "#################### Accessing annotations \n",
    "#display(fields) ### Last record annotation\n",
    "#print(f\"Units in which the ECG is measured {fields['units']}\")\n",
    "#display(properties[22])\n",
    "#print(f\"Units in which the ECG is measured {properties[22]['units']}\")"
   ]
  },
  {
   "cell_type": "markdown",
   "metadata": {},
   "source": [
    "# Segmenting & Calculating features METHOD: Rpeaks_N_AFIB"
   ]
  },
  {
   "cell_type": "markdown",
   "metadata": {},
   "source": [
    "### X"
   ]
  },
  {
   "cell_type": "code",
   "execution_count": 13,
   "metadata": {
    "scrolled": true
   },
   "outputs": [
    {
     "name": "stdout",
     "output_type": "stream",
     "text": [
      "int32\n",
      "float64\n",
      "708566\n",
      "-6\n",
      "708560\n"
     ]
    },
    {
     "data": {
      "text/plain": [
       "array([139., 158., 226., 145., 144., 239., 148., 149., 234., 212., 217.,\n",
       "       202., 207., 206., 137., 135., 131.,  94., 125., 117.])"
      ]
     },
     "execution_count": 13,
     "metadata": {},
     "output_type": "execute_result"
    }
   ],
   "source": [
    "rri2 = np.diff(Rpeaks_N_AFIB) ### Storing the intervals between rpeaks\n",
    "print(rri2.dtype)\n",
    "rri2 = np.array(rri2, dtype=np.float64) ### So no overflow issues happens when calc in for loop later\n",
    "print(rri2.dtype)\n",
    "print(len(rri2))\n",
    "amount = -(len(rri2) % 20)\n",
    "print(amount)\n",
    "rec_amount = rri2[:amount]\n",
    "print(len(rec_amount))\n",
    "segmented_rec = rec_amount.reshape(35428,20)\n",
    "segmented_rec[0]"
   ]
  },
  {
   "cell_type": "code",
   "execution_count": 14,
   "metadata": {},
   "outputs": [],
   "source": [
    "features2 = []\n",
    "\n",
    "    ### Calculating features for every single segmented \"block\" inside the segmented_record variable\n",
    "for x in range(len(segmented_rec)):\n",
    "    #MEAN\n",
    "    ff1 = np.mean(segmented_rec[x])\n",
    "    #STD\n",
    "    ff2 = np.std(segmented_rec[x])\n",
    "    #RMSSD\n",
    "    sum_ = 0\n",
    "    for y in range(len(segmented_rec[x]) - 1): ### loops 19 times\n",
    "        sum_ += (segmented_rec[x][y] - segmented_rec[x][y+1])**2\n",
    "    sum_multiplied = 1/(len(segmented_rec) - 1) * sum_\n",
    "    ff3 = np.sqrt(sum_multiplied)\n",
    "    #NORMALIZED RMSSD\n",
    "    ff4 = (ff3 / ff1)\n",
    "\n",
    "    my_features2 = pd.Series([np.around(ff1,3), np.around(ff2,3), np.around(ff3,3), np.around(ff4,3)], \n",
    "                            index=['Mean','STD','RMSSD','Normalized RMSSD'])\n",
    "    features2.append(my_features2)"
   ]
  },
  {
   "cell_type": "code",
   "execution_count": 15,
   "metadata": {
    "scrolled": true
   },
   "outputs": [
    {
     "name": "stdout",
     "output_type": "stream",
     "text": [
      "Features for that specific segment:\n",
      "Mean                168.250\n",
      "STD                  43.226\n",
      "RMSSD                 1.115\n",
      "Normalized RMSSD      0.007\n",
      "dtype: float64\n",
      "\n",
      "features2 variable contains 35428 segments\n"
     ]
    }
   ],
   "source": [
    "n = 0\n",
    "\n",
    "print(f\"Features for that specific segment:\\n{features2[n]}\") \n",
    "print('\\n'f\"features2 variable contains {len(features2)} segments\")"
   ]
  },
  {
   "cell_type": "markdown",
   "metadata": {},
   "source": [
    "### Y"
   ]
  },
  {
   "cell_type": "code",
   "execution_count": 16,
   "metadata": {},
   "outputs": [
    {
     "name": "stdout",
     "output_type": "stream",
     "text": [
      "float64\n",
      "Length of y_list: 35428\n"
     ]
    }
   ],
   "source": [
    "y_amount = Label_N_AFIB[:- 7] ### So it is divisible by 20\n",
    "y_shape = y_amount.reshape(35428,20)\n",
    "y_list = []\n",
    "\n",
    "### Calc if every 20 segment block is Normal synus rythm or AFIB\n",
    "for l in range(len(y_shape)):\n",
    "    #y_segment = y_shape\n",
    "    sum_segment = np.sum(y_shape[l])\n",
    "    if sum_segment >= 10:\n",
    "        sum_segment = 1\n",
    "    else: sum_segment = 0\n",
    "    y_list.append(sum_segment)\n",
    "\n",
    "y_list = np.array(y_list, dtype=np.float64)\n",
    "print(y_list.dtype)\n",
    "print(f\"Length of y_list: {len(y_list)}\")"
   ]
  },
  {
   "cell_type": "markdown",
   "metadata": {},
   "source": [
    "# Segmenting & Calculating features METHOD: RRI"
   ]
  },
  {
   "cell_type": "code",
   "execution_count": 17,
   "metadata": {
    "tags": [
     "hide-cell"
    ]
   },
   "outputs": [],
   "source": [
    "#A sample of 250 elements, gives 1 clear signal (because 250hz frequency)\n",
    "# single_record_rri = []\n",
    "# rri = []\n",
    "\n",
    "# squared_summed_differencies = 0\n",
    "# i = 0\n",
    "# for i in range(len(Rpeak_Samp)): ### loops 23 times\n",
    "#     single_record_rri = np.diff(Rpeak_Samp[i])\n",
    "#     rri.append(single_record_rri)"
   ]
  },
  {
   "cell_type": "code",
   "execution_count": 18,
   "metadata": {
    "scrolled": true,
    "tags": [
     "hide-cell"
    ]
   },
   "outputs": [],
   "source": [
    "# single_record_mean = []\n",
    "# rri_mean = []\n",
    "# single_record_std = []\n",
    "# rri_std = []\n",
    "# single_record_RMSSD = []\n",
    "# RMSSD = []\n",
    "# single_record_nRMSSD = []\n",
    "# nRMSSD = []\n",
    "\n",
    "# all_segmented_records = []\n",
    "# all_features = []\n",
    "\n",
    "\n",
    "# ### TO acess every single record\n",
    "# ### record_to_segment = rri[index]\n",
    "# for index in range(len(rri)): ### Loops 23 times\n",
    "#     #(below line) gives a value between 0 and 19, which is the amount used to remove from the end of a record, by slicing.\n",
    "#     amount_to_segment = -(len(rri[index]) % 20)\n",
    "#     if amount_to_segment != 0:\n",
    "#         rri_segmented_record = rri[index][:amount_to_segment]\n",
    "#     else: \n",
    "#         rri_segmented_record = rri[index] #if divisible by 20, no need to slice this record\n",
    "#     #(below line) gives us the number of \"blocks\" to put every single 20-segment into.\n",
    "#     length = len(rri_segmented_record) / 20\n",
    "#     rri_segmented_record = np.split(rri_segmented_record,length)\n",
    "#     all_segmented_records.append(rri_segmented_record)\n",
    "    \n",
    "#     features = []\n",
    "    \n",
    "#     ### Calculating features for every single segmented \"block\" inside the segmented_record variable\n",
    "#     for i in range(len(rri_segmented_record)):\n",
    "#         #MEAN\n",
    "#         f1 = np.mean(rri_segmented_record[i])\n",
    "#         #STD\n",
    "#         f2 = np.std(rri_segmented_record[i])\n",
    "#         #RMSSD\n",
    "#         sqaured_summed_differencies = 0\n",
    "#         for k in range(len(rri_segmented_record[i]) - 1): ### loops 19 times\n",
    "#             sqaured_summed_differencies += (rri_segmented_record[i][k] - rri_segmented_record[i][k+1])**2\n",
    "#         squared_summed_differencies_multiplied = 1/(len(rri_segmented_record) - 1) * sqaured_summed_differencies\n",
    "#         f3 = np.sqrt(squared_summed_differencies_multiplied)\n",
    "#         #NORMALIZED RMSSD\n",
    "#         f4 = (f3 / f1)\n",
    "        \n",
    "#         my_features = pd.Series([np.around(f1,3), np.around(f2,3), np.around(f3,3), np.around(f4,3)], \n",
    "#                                 index=['Mean','STD','RMSSD','Normalized RMSSD'])\n",
    "#         features.append(my_features)\n",
    "        \n",
    "#     all_features.append(features)"
   ]
  },
  {
   "cell_type": "markdown",
   "metadata": {},
   "source": [
    "### Features for a single block (20 heart beats), inside a given record\n",
    "### Accessing the 23 individual records (index 0 to 22), gives a single record, that is segmented into arrays of 20. Accessing each 20 array segment/block, by indexing, this time second dimension [ ]-->[ ]<--"
   ]
  },
  {
   "cell_type": "code",
   "execution_count": 19,
   "metadata": {
    "scrolled": true
   },
   "outputs": [],
   "source": [
    "# n = 3\n",
    "# m = 156\n",
    "\n",
    "# print(f\"Record nr {n}, and index {m} in that record contains this segment:\") \n",
    "# print(all_segmented_records[n][m])\n",
    "# print(\"Features for that specific segment:\") \n",
    "# print(all_features[n][m])\n",
    "\n",
    "# summed = 0\n",
    "# for z in range(len(all_features)):\n",
    "#     summed += len(all_features[z])\n",
    "# print('\\n'f\"all_features variable contains {summed} segments\")"
   ]
  },
  {
   "cell_type": "markdown",
   "metadata": {},
   "source": [
    "# Classifications algorithms"
   ]
  },
  {
   "cell_type": "markdown",
   "metadata": {},
   "source": [
    "### sklearn import"
   ]
  },
  {
   "cell_type": "code",
   "execution_count": 20,
   "metadata": {},
   "outputs": [],
   "source": [
    "from sklearn.model_selection import train_test_split\n",
    "from sklearn.svm import SVC\n",
    "from sklearn import tree\n",
    "from sklearn.metrics import classification_report\n",
    "from sklearn.metrics import confusion_matrix\n",
    "from sklearn.preprocessing import StandardScaler\n",
    "from sklearn.model_selection import StratifiedKFold ### For class inbalances through out the data\n",
    "from sklearn.ensemble import RandomForestClassifier\n",
    "from sklearn.datasets import make_classification\n",
    "from sklearn.model_selection import GridSearchCV"
   ]
  },
  {
   "cell_type": "code",
   "execution_count": 21,
   "metadata": {},
   "outputs": [
    {
     "name": "stdout",
     "output_type": "stream",
     "text": [
      "shape of y: (35428,), type of y: <class 'numpy.ndarray'>\n",
      "shape of X: (35428, 4), type of X: <class 'numpy.ndarray'>\n"
     ]
    }
   ],
   "source": [
    "y = np.asarray(y_list)\n",
    "print(f\"shape of y: {np.shape(y)}, type of y: {type(y)}\")\n",
    "X = np.asarray(features2)\n",
    "print(f\"shape of X: {np.shape(X)}, type of X: {type(X)}\")"
   ]
  },
  {
   "cell_type": "code",
   "execution_count": 22,
   "metadata": {},
   "outputs": [
    {
     "data": {
      "text/html": [
       "<div>\n",
       "<style scoped>\n",
       "    .dataframe tbody tr th:only-of-type {\n",
       "        vertical-align: middle;\n",
       "    }\n",
       "\n",
       "    .dataframe tbody tr th {\n",
       "        vertical-align: top;\n",
       "    }\n",
       "\n",
       "    .dataframe thead th {\n",
       "        text-align: right;\n",
       "    }\n",
       "</style>\n",
       "<table border=\"1\" class=\"dataframe\">\n",
       "  <thead>\n",
       "    <tr style=\"text-align: right;\">\n",
       "      <th></th>\n",
       "      <th>Mean</th>\n",
       "      <th>STD</th>\n",
       "      <th>RMSSD</th>\n",
       "      <th>Normalized RMSSD</th>\n",
       "    </tr>\n",
       "  </thead>\n",
       "  <tbody>\n",
       "    <tr>\n",
       "      <th>0</th>\n",
       "      <td>168.25</td>\n",
       "      <td>43.226</td>\n",
       "      <td>1.115</td>\n",
       "      <td>0.007</td>\n",
       "    </tr>\n",
       "    <tr>\n",
       "      <th>1</th>\n",
       "      <td>169.10</td>\n",
       "      <td>50.353</td>\n",
       "      <td>1.126</td>\n",
       "      <td>0.007</td>\n",
       "    </tr>\n",
       "    <tr>\n",
       "      <th>2</th>\n",
       "      <td>150.75</td>\n",
       "      <td>62.874</td>\n",
       "      <td>1.669</td>\n",
       "      <td>0.011</td>\n",
       "    </tr>\n",
       "    <tr>\n",
       "      <th>3</th>\n",
       "      <td>194.20</td>\n",
       "      <td>32.262</td>\n",
       "      <td>1.038</td>\n",
       "      <td>0.005</td>\n",
       "    </tr>\n",
       "    <tr>\n",
       "      <th>4</th>\n",
       "      <td>169.85</td>\n",
       "      <td>43.731</td>\n",
       "      <td>1.013</td>\n",
       "      <td>0.006</td>\n",
       "    </tr>\n",
       "    <tr>\n",
       "      <th>...</th>\n",
       "      <td>...</td>\n",
       "      <td>...</td>\n",
       "      <td>...</td>\n",
       "      <td>...</td>\n",
       "    </tr>\n",
       "    <tr>\n",
       "      <th>35423</th>\n",
       "      <td>189.30</td>\n",
       "      <td>2.326</td>\n",
       "      <td>0.052</td>\n",
       "      <td>0.000</td>\n",
       "    </tr>\n",
       "    <tr>\n",
       "      <th>35424</th>\n",
       "      <td>188.80</td>\n",
       "      <td>2.272</td>\n",
       "      <td>0.048</td>\n",
       "      <td>0.000</td>\n",
       "    </tr>\n",
       "    <tr>\n",
       "      <th>35425</th>\n",
       "      <td>188.00</td>\n",
       "      <td>2.000</td>\n",
       "      <td>0.056</td>\n",
       "      <td>0.000</td>\n",
       "    </tr>\n",
       "    <tr>\n",
       "      <th>35426</th>\n",
       "      <td>187.85</td>\n",
       "      <td>1.621</td>\n",
       "      <td>0.051</td>\n",
       "      <td>0.000</td>\n",
       "    </tr>\n",
       "    <tr>\n",
       "      <th>35427</th>\n",
       "      <td>188.20</td>\n",
       "      <td>1.965</td>\n",
       "      <td>0.061</td>\n",
       "      <td>0.000</td>\n",
       "    </tr>\n",
       "  </tbody>\n",
       "</table>\n",
       "<p>35428 rows × 4 columns</p>\n",
       "</div>"
      ],
      "text/plain": [
       "         Mean     STD  RMSSD  Normalized RMSSD\n",
       "0      168.25  43.226  1.115             0.007\n",
       "1      169.10  50.353  1.126             0.007\n",
       "2      150.75  62.874  1.669             0.011\n",
       "3      194.20  32.262  1.038             0.005\n",
       "4      169.85  43.731  1.013             0.006\n",
       "...       ...     ...    ...               ...\n",
       "35423  189.30   2.326  0.052             0.000\n",
       "35424  188.80   2.272  0.048             0.000\n",
       "35425  188.00   2.000  0.056             0.000\n",
       "35426  187.85   1.621  0.051             0.000\n",
       "35427  188.20   1.965  0.061             0.000\n",
       "\n",
       "[35428 rows x 4 columns]"
      ]
     },
     "execution_count": 22,
     "metadata": {},
     "output_type": "execute_result"
    }
   ],
   "source": [
    "df5 = pd.DataFrame(features2)\n",
    "X = df5.values\n",
    "df5"
   ]
  },
  {
   "cell_type": "markdown",
   "metadata": {},
   "source": [
    "### SVM"
   ]
  },
  {
   "cell_type": "code",
   "execution_count": 23,
   "metadata": {},
   "outputs": [],
   "source": [
    "model = SVC()"
   ]
  },
  {
   "cell_type": "code",
   "execution_count": 24,
   "metadata": {},
   "outputs": [],
   "source": [
    "# parameters = {'kernel':('linear', 'rbf'), 'C':[1, 10]}\n",
    "# clf = GridSearchCV(model, parameters)\n",
    "# clf.fit(X_train, y_train)\n",
    "\n",
    "# df_svm_results = pd.DataFrame(clf.cv_results_)\n",
    "# df_svm_results"
   ]
  },
  {
   "cell_type": "code",
   "execution_count": 25,
   "metadata": {
    "scrolled": false
   },
   "outputs": [],
   "source": [
    "#X_train, X_test, y_train, y_test = train_test_split(X, y, test_size=0.2)\n",
    "# scaler = StandardScaler()\n",
    "# scaler.fit(X)\n",
    "# scaler.transform(X)"
   ]
  },
  {
   "cell_type": "markdown",
   "metadata": {},
   "source": [
    "### Decision trees"
   ]
  },
  {
   "cell_type": "code",
   "execution_count": 26,
   "metadata": {
    "scrolled": true
   },
   "outputs": [],
   "source": [
    "### How do you select the optimal order?\n",
    "# clf = tree.DecisionTreeClassifier()\n",
    "# clf.fit(X_train, y_train)"
   ]
  },
  {
   "cell_type": "code",
   "execution_count": 27,
   "metadata": {},
   "outputs": [],
   "source": [
    "#clf.score(X_test, y_test) "
   ]
  },
  {
   "cell_type": "markdown",
   "metadata": {},
   "source": [
    "### Random forest"
   ]
  },
  {
   "cell_type": "code",
   "execution_count": 28,
   "metadata": {},
   "outputs": [],
   "source": [
    "# clf = RandomForestClassifier()\n",
    "# clf.fit(X_train, y_train)\n",
    "# clf.score(X_test, y_test)"
   ]
  },
  {
   "cell_type": "code",
   "execution_count": 29,
   "metadata": {},
   "outputs": [],
   "source": [
    "# rf_y_predicted = clf.predict(X_test)\n",
    "# cm = confusion_matrix(y_test, rf_y_predicted)\n",
    "# %matplotlib inline\n",
    "# plt.figure(figsize=(6,4))\n",
    "# sn.heatmap(cm,annot=True)\n",
    "# plt.xlabel('Predicted')\n",
    "# plt.ylabel('Truth')"
   ]
  },
  {
   "cell_type": "markdown",
   "metadata": {},
   "source": [
    "# Pipelines"
   ]
  },
  {
   "cell_type": "code",
   "execution_count": 30,
   "metadata": {},
   "outputs": [],
   "source": [
    "##### Choosen params after runned GridsearchCV\n",
    "from sklearn.pipeline import Pipeline\n",
    "\n",
    "pipeline_svm = Pipeline([('scalar1', StandardScaler()),\n",
    "                         ('svm_classifier', SVC(gamma=\"auto\", C=20, kernel='rbf'))])\n",
    "\n",
    "pipeline_dt = Pipeline([('scalar2', StandardScaler()),\n",
    "                        ('dt_classifier', tree.DecisionTreeClassifier(criterion='entropy', max_depth=12))])\n",
    "\n",
    "pipeline_rf = Pipeline([('scalar 3', StandardScaler()),\n",
    "                         ('rf_classifier', RandomForestClassifier(n_estimators=200))])"
   ]
  },
  {
   "cell_type": "code",
   "execution_count": 56,
   "metadata": {},
   "outputs": [],
   "source": [
    "# pipelines = [pipeline_svm, pipeline_dt, pipeline_rf]\n",
    "# best_accuracy = 0.0\n",
    "# best_classifier = 0\n",
    "# best_pipeline = \"\""
   ]
  },
  {
   "cell_type": "code",
   "execution_count": 55,
   "metadata": {},
   "outputs": [],
   "source": [
    "# pipe_dict = {0: 'Support Vector Machine', 1: 'Decision Tree', 2: 'Random Forest'}\n",
    "\n",
    "# for pipe in pipelines:\n",
    "#     pipe.fit(X_train, y_train)\n",
    "    \n",
    "# for i, model in enumerate(pipelines):\n",
    "#     print(f\"{pipe_dict[i]} Test Accuracy: {model.score(X_test, y_test)}\")"
   ]
  },
  {
   "cell_type": "code",
   "execution_count": 57,
   "metadata": {},
   "outputs": [],
   "source": [
    "# for i, model in enumerate(pipelines):\n",
    "#     if model.score(X_test, y_test) > best_accuracy:\n",
    "#         best_accuracy = model.score(X_test, y_test)\n",
    "#         best_pipeline = model\n",
    "#         best_classifier = i\n",
    "# print(f\"Classifier with best accuracy: {pipe_dict[best_classifier]}\")"
   ]
  },
  {
   "cell_type": "markdown",
   "metadata": {},
   "source": [
    "# StackingClassifier"
   ]
  },
  {
   "cell_type": "code",
   "execution_count": 51,
   "metadata": {},
   "outputs": [],
   "source": [
    "from sklearn.ensemble import StackingClassifier\n",
    "from sklearn.linear_model import LogisticRegression\n",
    "estimators = [('svm',pipeline_svm), ('dt',pipeline_dt), ('rf',pipeline_rf)]\n",
    "clf = StackingClassifier(\n",
    "    estimators=estimators, final_estimator=LogisticRegression())"
   ]
  },
  {
   "cell_type": "code",
   "execution_count": null,
   "metadata": {},
   "outputs": [],
   "source": []
  },
  {
   "cell_type": "markdown",
   "metadata": {},
   "source": [
    "# Cross validation"
   ]
  },
  {
   "cell_type": "code",
   "execution_count": 34,
   "metadata": {},
   "outputs": [
    {
     "name": "stdout",
     "output_type": "stream",
     "text": [
      "Length of each fold: 7085.6\n"
     ]
    }
   ],
   "source": [
    "print(f\"Length of each fold: {35428 / 5}\")"
   ]
  },
  {
   "cell_type": "code",
   "execution_count": 59,
   "metadata": {},
   "outputs": [
    {
     "name": "stdout",
     "output_type": "stream",
     "text": [
      "TRAIN: [ 5448  5449  5450 ... 35425 35426 35427], TEST: [   0    1    2 ... 9746 9747 9748] \n",
      "\n",
      "TRAIN: [    0     1     2 ... 35425 35426 35427], TEST: [ 5448  5449  5450 ... 16284 16285 16286] \n",
      "\n",
      "TRAIN: [    0     1     2 ... 35425 35426 35427], TEST: [11814 11815 11816 ... 21989 21990 21991] \n",
      "\n",
      "TRAIN: [    0     1     2 ... 35425 35426 35427], TEST: [20776 20777 20778 ... 29115 29116 29117] \n",
      "\n",
      "TRAIN: [    0     1     2 ... 29115 29116 29117], TEST: [26725 26726 26727 ... 35425 35426 35427] \n",
      "\n"
     ]
    }
   ],
   "source": [
    "skf = StratifiedKFold(n_splits=5)\n",
    "\n",
    "score_svm = []\n",
    "score_dt = []\n",
    "score_rf = []\n",
    "score_stacking = []\n",
    "\n",
    "for train_index, test_index in skf.split(X, y):\n",
    "    print(f\"TRAIN: {train_index}, TEST: {test_index} \\n\")\n",
    "    X_train, X_test = X[train_index], X[test_index]\n",
    "    y_train, y_test = y[train_index], y[test_index]\n",
    "    \n",
    "    pipeline_svm.fit(X_train, y_train)\n",
    "    pipeline_dt.fit(X_train, y_train)\n",
    "    pipeline_rf.fit(X_train, y_train)\n",
    "    clf.fit(X_train, y_train)\n",
    "    \n",
    "    sco_svm = pipeline_svm.score(X_test, y_test)\n",
    "    sco_dt = pipeline_dt.score(X_test, y_test)\n",
    "    sco_rf = pipeline_rf.score(X_test, y_test)\n",
    "    sco_stacking = clf.score(X_test, y_test)\n",
    "    \n",
    "    score_svm.append(sco_svm)\n",
    "    score_dt.append(sco_dt)\n",
    "    score_rf.append(sco_rf)\n",
    "    score_stacking.append(sco_stacking)\n",
    "    \n",
    "\n",
    "# print(f\"80% data for training: {len(X_train)}\")\n",
    "# print(f\"20% data for testing: {len(X_test)}\")"
   ]
  },
  {
   "cell_type": "code",
   "execution_count": 60,
   "metadata": {},
   "outputs": [
    {
     "name": "stdout",
     "output_type": "stream",
     "text": [
      "SWM Scores: [0.9324019192774485, 0.8755292125317528, 0.8601467682754728, 0.8671841919548342, 0.7697953422724065]\n",
      "Mean score: 0.861011486862383\n",
      "\n",
      "Decision tree Scores: [0.9185718317809766, 0.9053062376517076, 0.8841377363815975, 0.8920254057868737, 0.7987297106563161]\n",
      "Mean score: 0.8797541844514942\n",
      "\n",
      "Random forest Scores: [0.9201241885407846, 0.8974033305108665, 0.8979678238780694, 0.9198306280875088, 0.8143966125617502]\n",
      "Mean score: 0.8899445167157959\n",
      "\n",
      "Stacking classifier Scores: [0.9314140558848434, 0.9058707310189106, 0.8952864803838555, 0.928863796753705, 0.8069160197600564]\n",
      "Mean score: 0.8936702167602742\n"
     ]
    }
   ],
   "source": [
    "print(f\"SWM Scores: {score_svm}\")\n",
    "print(f\"Mean score: {np.mean(score_svm)}\")\n",
    "print()\n",
    "print(f\"Decision tree Scores: {score_dt}\")\n",
    "print(f\"Mean score: {np.mean(score_dt)}\")\n",
    "print()\n",
    "print(f\"Random forest Scores: {score_rf}\")\n",
    "print(f\"Mean score: {np.mean(score_rf)}\")\n",
    "print()\n",
    "print(f\"Stacking classifier Scores: {score_stacking}\")\n",
    "print(f\"Mean score: {np.mean(score_stacking)}\")"
   ]
  },
  {
   "cell_type": "markdown",
   "metadata": {},
   "source": [
    "### Clasification report for SVM"
   ]
  },
  {
   "cell_type": "code",
   "execution_count": 37,
   "metadata": {},
   "outputs": [
    {
     "name": "stdout",
     "output_type": "stream",
     "text": [
      "              precision    recall  f1-score   support\n",
      "\n",
      "     class 0       0.92      0.70      0.80      4547\n",
      "     class 1       0.63      0.89      0.74      2538\n",
      "\n",
      "    accuracy                           0.77      7085\n",
      "   macro avg       0.77      0.80      0.77      7085\n",
      "weighted avg       0.81      0.77      0.77      7085\n",
      "\n"
     ]
    }
   ],
   "source": [
    "y_pred_test = pipeline_svm.predict(X_test)\n",
    "# print(classification_report(y_pred_test, y_test))\n",
    "\n",
    "### (above) the parameters was inputted in wrong positions.\n",
    "target_names = ['class 0', 'class 1']\n",
    "print(classification_report(y_test, y_pred_test, target_names=target_names))"
   ]
  },
  {
   "cell_type": "code",
   "execution_count": 38,
   "metadata": {},
   "outputs": [
    {
     "data": {
      "text/plain": [
       "Text(33.0, 0.5, 'Truth')"
      ]
     },
     "execution_count": 38,
     "metadata": {},
     "output_type": "execute_result"
    },
    {
     "data": {
      "image/png": "[encoded data removed]",
      "text/plain": [
       "<Figure size 432x288 with 2 Axes>"
      ]
     },
     "metadata": {
      "needs_background": "light"
     },
     "output_type": "display_data"
    }
   ],
   "source": [
    "cm = confusion_matrix(y_test, y_pred_test)\n",
    "%matplotlib inline\n",
    "plt.figure(figsize=(6,4))\n",
    "sn.heatmap(cm,annot=True)\n",
    "plt.xlabel('Predicted')\n",
    "plt.ylabel('Truth')"
   ]
  },
  {
   "cell_type": "markdown",
   "metadata": {},
   "source": [
    "# GridsearchCV"
   ]
  },
  {
   "cell_type": "code",
   "execution_count": 39,
   "metadata": {},
   "outputs": [
    {
     "data": {
      "text/plain": [
       "dict_keys(['memory', 'steps', 'verbose', 'scalar 3', 'rf_classifier', 'scalar 3__copy', 'scalar 3__with_mean', 'scalar 3__with_std', 'rf_classifier__bootstrap', 'rf_classifier__ccp_alpha', 'rf_classifier__class_weight', 'rf_classifier__criterion', 'rf_classifier__max_depth', 'rf_classifier__max_features', 'rf_classifier__max_leaf_nodes', 'rf_classifier__max_samples', 'rf_classifier__min_impurity_decrease', 'rf_classifier__min_impurity_split', 'rf_classifier__min_samples_leaf', 'rf_classifier__min_samples_split', 'rf_classifier__min_weight_fraction_leaf', 'rf_classifier__n_estimators', 'rf_classifier__n_jobs', 'rf_classifier__oob_score', 'rf_classifier__random_state', 'rf_classifier__verbose', 'rf_classifier__warm_start'])"
      ]
     },
     "execution_count": 39,
     "metadata": {},
     "output_type": "execute_result"
    }
   ],
   "source": [
    "pipeline_rf.get_params().keys()"
   ]
  },
  {
   "cell_type": "code",
   "execution_count": 40,
   "metadata": {},
   "outputs": [
    {
     "name": "stdout",
     "output_type": "stream",
     "text": [
      "done in 1769.663s\n"
     ]
    }
   ],
   "source": [
    "from time import time\n",
    "t0 = time()\n",
    "#parameters = {'svm_classifier__C':[1, 10, 20], 'svm_classifier__kernel':['linear', 'rbf']}\n",
    "parameters = {'rf_classifier__n_estimators': [200, 700], 'rf_classifier__max_features': ['auto', 'sqrt', 'log2'], 'rf_classifier__criterion':['gini','entropy']}\n",
    "clf = GridSearchCV(pipeline_rf, parameters, cv=5)\n",
    "clf.fit(X_train, y_train)\n",
    "print(\"done in %0.3fs\" % (time() - t0))"
   ]
  },
  {
   "cell_type": "code",
   "execution_count": 42,
   "metadata": {
    "collapsed": true
   },
   "outputs": [
    {
     "data": {
      "text/html": [
       "<div>\n",
       "<style scoped>\n",
       "    .dataframe tbody tr th:only-of-type {\n",
       "        vertical-align: middle;\n",
       "    }\n",
       "\n",
       "    .dataframe tbody tr th {\n",
       "        vertical-align: top;\n",
       "    }\n",
       "\n",
       "    .dataframe thead th {\n",
       "        text-align: right;\n",
       "    }\n",
       "</style>\n",
       "<table border=\"1\" class=\"dataframe\">\n",
       "  <thead>\n",
       "    <tr style=\"text-align: right;\">\n",
       "      <th></th>\n",
       "      <th>mean_fit_time</th>\n",
       "      <th>std_fit_time</th>\n",
       "      <th>mean_score_time</th>\n",
       "      <th>std_score_time</th>\n",
       "      <th>param_rf_classifier__criterion</th>\n",
       "      <th>param_rf_classifier__max_features</th>\n",
       "      <th>param_rf_classifier__n_estimators</th>\n",
       "      <th>params</th>\n",
       "      <th>split0_test_score</th>\n",
       "      <th>split1_test_score</th>\n",
       "      <th>split2_test_score</th>\n",
       "      <th>split3_test_score</th>\n",
       "      <th>split4_test_score</th>\n",
       "      <th>mean_test_score</th>\n",
       "      <th>std_test_score</th>\n",
       "      <th>rank_test_score</th>\n",
       "    </tr>\n",
       "  </thead>\n",
       "  <tbody>\n",
       "    <tr>\n",
       "      <th>0</th>\n",
       "      <td>11.799162</td>\n",
       "      <td>1.446359</td>\n",
       "      <td>0.369925</td>\n",
       "      <td>0.050664</td>\n",
       "      <td>gini</td>\n",
       "      <td>auto</td>\n",
       "      <td>200</td>\n",
       "      <td>{'rf_classifier__criterion': 'gini', 'rf_class...</td>\n",
       "      <td>0.927148</td>\n",
       "      <td>0.923796</td>\n",
       "      <td>0.908802</td>\n",
       "      <td>0.908257</td>\n",
       "      <td>0.915843</td>\n",
       "      <td>0.916769</td>\n",
       "      <td>0.007667</td>\n",
       "      <td>1</td>\n",
       "    </tr>\n",
       "    <tr>\n",
       "      <th>1</th>\n",
       "      <td>37.827838</td>\n",
       "      <td>2.321134</td>\n",
       "      <td>1.093838</td>\n",
       "      <td>0.156039</td>\n",
       "      <td>gini</td>\n",
       "      <td>auto</td>\n",
       "      <td>700</td>\n",
       "      <td>{'rf_classifier__criterion': 'gini', 'rf_class...</td>\n",
       "      <td>0.925384</td>\n",
       "      <td>0.922561</td>\n",
       "      <td>0.908097</td>\n",
       "      <td>0.909315</td>\n",
       "      <td>0.915138</td>\n",
       "      <td>0.916099</td>\n",
       "      <td>0.006913</td>\n",
       "      <td>6</td>\n",
       "    </tr>\n",
       "    <tr>\n",
       "      <th>2</th>\n",
       "      <td>11.361036</td>\n",
       "      <td>0.260676</td>\n",
       "      <td>0.351615</td>\n",
       "      <td>0.039375</td>\n",
       "      <td>gini</td>\n",
       "      <td>sqrt</td>\n",
       "      <td>200</td>\n",
       "      <td>{'rf_classifier__criterion': 'gini', 'rf_class...</td>\n",
       "      <td>0.925384</td>\n",
       "      <td>0.922032</td>\n",
       "      <td>0.907391</td>\n",
       "      <td>0.907728</td>\n",
       "      <td>0.916549</td>\n",
       "      <td>0.915817</td>\n",
       "      <td>0.007309</td>\n",
       "      <td>9</td>\n",
       "    </tr>\n",
       "    <tr>\n",
       "      <th>3</th>\n",
       "      <td>43.375872</td>\n",
       "      <td>3.962146</td>\n",
       "      <td>1.372226</td>\n",
       "      <td>0.127529</td>\n",
       "      <td>gini</td>\n",
       "      <td>sqrt</td>\n",
       "      <td>700</td>\n",
       "      <td>{'rf_classifier__criterion': 'gini', 'rf_class...</td>\n",
       "      <td>0.925913</td>\n",
       "      <td>0.922738</td>\n",
       "      <td>0.908979</td>\n",
       "      <td>0.909668</td>\n",
       "      <td>0.915314</td>\n",
       "      <td>0.916522</td>\n",
       "      <td>0.006814</td>\n",
       "      <td>3</td>\n",
       "    </tr>\n",
       "    <tr>\n",
       "      <th>4</th>\n",
       "      <td>12.053103</td>\n",
       "      <td>1.125215</td>\n",
       "      <td>0.338454</td>\n",
       "      <td>0.040972</td>\n",
       "      <td>gini</td>\n",
       "      <td>log2</td>\n",
       "      <td>200</td>\n",
       "      <td>{'rf_classifier__criterion': 'gini', 'rf_class...</td>\n",
       "      <td>0.927148</td>\n",
       "      <td>0.922385</td>\n",
       "      <td>0.908273</td>\n",
       "      <td>0.908786</td>\n",
       "      <td>0.916549</td>\n",
       "      <td>0.916628</td>\n",
       "      <td>0.007418</td>\n",
       "      <td>2</td>\n",
       "    </tr>\n",
       "    <tr>\n",
       "      <th>5</th>\n",
       "      <td>38.001769</td>\n",
       "      <td>1.380964</td>\n",
       "      <td>1.170341</td>\n",
       "      <td>0.051151</td>\n",
       "      <td>gini</td>\n",
       "      <td>log2</td>\n",
       "      <td>700</td>\n",
       "      <td>{'rf_classifier__criterion': 'gini', 'rf_class...</td>\n",
       "      <td>0.926266</td>\n",
       "      <td>0.921856</td>\n",
       "      <td>0.909331</td>\n",
       "      <td>0.909139</td>\n",
       "      <td>0.915490</td>\n",
       "      <td>0.916416</td>\n",
       "      <td>0.006791</td>\n",
       "      <td>5</td>\n",
       "    </tr>\n",
       "    <tr>\n",
       "      <th>6</th>\n",
       "      <td>13.950228</td>\n",
       "      <td>0.348033</td>\n",
       "      <td>0.313355</td>\n",
       "      <td>0.014730</td>\n",
       "      <td>entropy</td>\n",
       "      <td>auto</td>\n",
       "      <td>200</td>\n",
       "      <td>{'rf_classifier__criterion': 'entropy', 'rf_cl...</td>\n",
       "      <td>0.925913</td>\n",
       "      <td>0.921856</td>\n",
       "      <td>0.907567</td>\n",
       "      <td>0.908610</td>\n",
       "      <td>0.912844</td>\n",
       "      <td>0.915358</td>\n",
       "      <td>0.007296</td>\n",
       "      <td>12</td>\n",
       "    </tr>\n",
       "    <tr>\n",
       "      <th>7</th>\n",
       "      <td>48.432120</td>\n",
       "      <td>0.487080</td>\n",
       "      <td>1.071949</td>\n",
       "      <td>0.089983</td>\n",
       "      <td>entropy</td>\n",
       "      <td>auto</td>\n",
       "      <td>700</td>\n",
       "      <td>{'rf_classifier__criterion': 'entropy', 'rf_cl...</td>\n",
       "      <td>0.925207</td>\n",
       "      <td>0.924325</td>\n",
       "      <td>0.908626</td>\n",
       "      <td>0.907904</td>\n",
       "      <td>0.912668</td>\n",
       "      <td>0.915746</td>\n",
       "      <td>0.007547</td>\n",
       "      <td>10</td>\n",
       "    </tr>\n",
       "    <tr>\n",
       "      <th>8</th>\n",
       "      <td>13.920794</td>\n",
       "      <td>0.357336</td>\n",
       "      <td>0.314845</td>\n",
       "      <td>0.016581</td>\n",
       "      <td>entropy</td>\n",
       "      <td>sqrt</td>\n",
       "      <td>200</td>\n",
       "      <td>{'rf_classifier__criterion': 'entropy', 'rf_cl...</td>\n",
       "      <td>0.926618</td>\n",
       "      <td>0.922914</td>\n",
       "      <td>0.909508</td>\n",
       "      <td>0.908610</td>\n",
       "      <td>0.914608</td>\n",
       "      <td>0.916452</td>\n",
       "      <td>0.007187</td>\n",
       "      <td>4</td>\n",
       "    </tr>\n",
       "    <tr>\n",
       "      <th>9</th>\n",
       "      <td>48.580914</td>\n",
       "      <td>1.365072</td>\n",
       "      <td>1.134182</td>\n",
       "      <td>0.056718</td>\n",
       "      <td>entropy</td>\n",
       "      <td>sqrt</td>\n",
       "      <td>700</td>\n",
       "      <td>{'rf_classifier__criterion': 'entropy', 'rf_cl...</td>\n",
       "      <td>0.924678</td>\n",
       "      <td>0.923972</td>\n",
       "      <td>0.910037</td>\n",
       "      <td>0.908257</td>\n",
       "      <td>0.913373</td>\n",
       "      <td>0.916064</td>\n",
       "      <td>0.006946</td>\n",
       "      <td>8</td>\n",
       "    </tr>\n",
       "    <tr>\n",
       "      <th>10</th>\n",
       "      <td>13.806424</td>\n",
       "      <td>0.398325</td>\n",
       "      <td>0.317889</td>\n",
       "      <td>0.019687</td>\n",
       "      <td>entropy</td>\n",
       "      <td>log2</td>\n",
       "      <td>200</td>\n",
       "      <td>{'rf_classifier__criterion': 'entropy', 'rf_cl...</td>\n",
       "      <td>0.924149</td>\n",
       "      <td>0.924325</td>\n",
       "      <td>0.909155</td>\n",
       "      <td>0.908786</td>\n",
       "      <td>0.913903</td>\n",
       "      <td>0.916064</td>\n",
       "      <td>0.006914</td>\n",
       "      <td>7</td>\n",
       "    </tr>\n",
       "    <tr>\n",
       "      <th>11</th>\n",
       "      <td>48.684409</td>\n",
       "      <td>1.218477</td>\n",
       "      <td>1.135617</td>\n",
       "      <td>0.051408</td>\n",
       "      <td>entropy</td>\n",
       "      <td>log2</td>\n",
       "      <td>700</td>\n",
       "      <td>{'rf_classifier__criterion': 'entropy', 'rf_cl...</td>\n",
       "      <td>0.923972</td>\n",
       "      <td>0.924325</td>\n",
       "      <td>0.909508</td>\n",
       "      <td>0.907904</td>\n",
       "      <td>0.911609</td>\n",
       "      <td>0.915464</td>\n",
       "      <td>0.007189</td>\n",
       "      <td>11</td>\n",
       "    </tr>\n",
       "  </tbody>\n",
       "</table>\n",
       "</div>"
      ],
      "text/plain": [
       "    mean_fit_time  std_fit_time  mean_score_time  std_score_time  \\\n",
       "0       11.799162      1.446359         0.369925        0.050664   \n",
       "1       37.827838      2.321134         1.093838        0.156039   \n",
       "2       11.361036      0.260676         0.351615        0.039375   \n",
       "3       43.375872      3.962146         1.372226        0.127529   \n",
       "4       12.053103      1.125215         0.338454        0.040972   \n",
       "5       38.001769      1.380964         1.170341        0.051151   \n",
       "6       13.950228      0.348033         0.313355        0.014730   \n",
       "7       48.432120      0.487080         1.071949        0.089983   \n",
       "8       13.920794      0.357336         0.314845        0.016581   \n",
       "9       48.580914      1.365072         1.134182        0.056718   \n",
       "10      13.806424      0.398325         0.317889        0.019687   \n",
       "11      48.684409      1.218477         1.135617        0.051408   \n",
       "\n",
       "   param_rf_classifier__criterion param_rf_classifier__max_features  \\\n",
       "0                            gini                              auto   \n",
       "1                            gini                              auto   \n",
       "2                            gini                              sqrt   \n",
       "3                            gini                              sqrt   \n",
       "4                            gini                              log2   \n",
       "5                            gini                              log2   \n",
       "6                         entropy                              auto   \n",
       "7                         entropy                              auto   \n",
       "8                         entropy                              sqrt   \n",
       "9                         entropy                              sqrt   \n",
       "10                        entropy                              log2   \n",
       "11                        entropy                              log2   \n",
       "\n",
       "   param_rf_classifier__n_estimators  \\\n",
       "0                                200   \n",
       "1                                700   \n",
       "2                                200   \n",
       "3                                700   \n",
       "4                                200   \n",
       "5                                700   \n",
       "6                                200   \n",
       "7                                700   \n",
       "8                                200   \n",
       "9                                700   \n",
       "10                               200   \n",
       "11                               700   \n",
       "\n",
       "                                               params  split0_test_score  \\\n",
       "0   {'rf_classifier__criterion': 'gini', 'rf_class...           0.927148   \n",
       "1   {'rf_classifier__criterion': 'gini', 'rf_class...           0.925384   \n",
       "2   {'rf_classifier__criterion': 'gini', 'rf_class...           0.925384   \n",
       "3   {'rf_classifier__criterion': 'gini', 'rf_class...           0.925913   \n",
       "4   {'rf_classifier__criterion': 'gini', 'rf_class...           0.927148   \n",
       "5   {'rf_classifier__criterion': 'gini', 'rf_class...           0.926266   \n",
       "6   {'rf_classifier__criterion': 'entropy', 'rf_cl...           0.925913   \n",
       "7   {'rf_classifier__criterion': 'entropy', 'rf_cl...           0.925207   \n",
       "8   {'rf_classifier__criterion': 'entropy', 'rf_cl...           0.926618   \n",
       "9   {'rf_classifier__criterion': 'entropy', 'rf_cl...           0.924678   \n",
       "10  {'rf_classifier__criterion': 'entropy', 'rf_cl...           0.924149   \n",
       "11  {'rf_classifier__criterion': 'entropy', 'rf_cl...           0.923972   \n",
       "\n",
       "    split1_test_score  split2_test_score  split3_test_score  \\\n",
       "0            0.923796           0.908802           0.908257   \n",
       "1            0.922561           0.908097           0.909315   \n",
       "2            0.922032           0.907391           0.907728   \n",
       "3            0.922738           0.908979           0.909668   \n",
       "4            0.922385           0.908273           0.908786   \n",
       "5            0.921856           0.909331           0.909139   \n",
       "6            0.921856           0.907567           0.908610   \n",
       "7            0.924325           0.908626           0.907904   \n",
       "8            0.922914           0.909508           0.908610   \n",
       "9            0.923972           0.910037           0.908257   \n",
       "10           0.924325           0.909155           0.908786   \n",
       "11           0.924325           0.909508           0.907904   \n",
       "\n",
       "    split4_test_score  mean_test_score  std_test_score  rank_test_score  \n",
       "0            0.915843         0.916769        0.007667                1  \n",
       "1            0.915138         0.916099        0.006913                6  \n",
       "2            0.916549         0.915817        0.007309                9  \n",
       "3            0.915314         0.916522        0.006814                3  \n",
       "4            0.916549         0.916628        0.007418                2  \n",
       "5            0.915490         0.916416        0.006791                5  \n",
       "6            0.912844         0.915358        0.007296               12  \n",
       "7            0.912668         0.915746        0.007547               10  \n",
       "8            0.914608         0.916452        0.007187                4  \n",
       "9            0.913373         0.916064        0.006946                8  \n",
       "10           0.913903         0.916064        0.006914                7  \n",
       "11           0.911609         0.915464        0.007189               11  "
      ]
     },
     "execution_count": 42,
     "metadata": {},
     "output_type": "execute_result"
    }
   ],
   "source": [
    "df_search_results = pd.DataFrame(clf.cv_results_)\n",
    "df_search_results"
   ]
  },
  {
   "cell_type": "code",
   "execution_count": 43,
   "metadata": {
    "scrolled": false
   },
   "outputs": [
    {
     "data": {
      "text/plain": [
       "{'rf_classifier__criterion': 'gini',\n",
       " 'rf_classifier__max_features': 'auto',\n",
       " 'rf_classifier__n_estimators': 200}"
      ]
     },
     "execution_count": 43,
     "metadata": {},
     "output_type": "execute_result"
    }
   ],
   "source": [
    "#df_search_results[['param_rf_classifier__criterion', 'param_rf_classifier__max_depth', 'mean_test_score']]\n",
    "clf.best_params_"
   ]
  }
 ],
 "metadata": {
  "kernelspec": {
   "display_name": "Python 3",
   "language": "python",
   "name": "python3"
  },
  "language_info": {
   "codemirror_mode": {
    "name": "ipython",
    "version": 3
   },
   "file_extension": ".py",
   "mimetype": "text/x-python",
   "name": "python",
   "nbconvert_exporter": "python",
   "pygments_lexer": "ipython3",
   "version": "3.8.5"
  }
 },
 "nbformat": 4,
 "nbformat_minor": 4
}
