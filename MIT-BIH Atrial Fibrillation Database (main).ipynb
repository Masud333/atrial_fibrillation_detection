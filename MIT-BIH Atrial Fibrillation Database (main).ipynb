{
 "cells": [
  {
   "cell_type": "markdown",
   "metadata": {},
   "source": [
    "# Importing/Storing data"
   ]
  },
  {
   "cell_type": "code",
   "execution_count": 1,
   "metadata": {},
   "outputs": [],
   "source": [
    "# pip install wfdb\n",
    "# pip install xgboost \n",
    "#print('Current directory is: {}'.format(os.getcwd()))"
   ]
  },
  {
   "cell_type": "code",
   "execution_count": 68,
   "metadata": {},
   "outputs": [
    {
     "name": "stdout",
     "output_type": "stream",
     "text": [
      "int32\n",
      "float64\n",
      "1806791\n",
      "-11\n",
      "Divisble by 20 --> 1806780\n",
      "Features for that specific segment:\n",
      "Mean                78.150\n",
      "STD                  6.552\n",
      "RMSSD                0.092\n",
      "Normalized RMSSD     0.001\n",
      "dtype: float64\n",
      "\n",
      "features_nsr variable contains 90339 segments\n",
      "float64\n",
      "Length of y_list: 90339\n",
      "shape of y: (18067,), type of y: <class 'numpy.ndarray'>\n",
      "shape of X_test_nsr: (18067, 4), type of X_test_nsr: <class 'numpy.ndarray'>\n"
     ]
    }
   ],
   "source": [
    "%run \"MIT-BIH Normal Sinus Rhythm Database.ipynb\""
   ]
  },
  {
   "cell_type": "code",
   "execution_count": 2,
   "metadata": {},
   "outputs": [],
   "source": [
    "import wfdb\n",
    "import os\n",
    "import glob\n",
    "import pandas as pd\n",
    "import numpy as np\n",
    "#%matplotlib notebook\n",
    "import matplotlib.pyplot as plt\n",
    "import seaborn as sn"
   ]
  },
  {
   "cell_type": "code",
   "execution_count": 3,
   "metadata": {},
   "outputs": [],
   "source": [
    "records = []\n",
    "properties = []\n",
    "annot = []\n",
    "AnnSymb = []\n",
    "AnnSamp = []\n",
    "AnnRhythm = []\n",
    "Rpeak_Samp = []\n",
    "Rpeak_Symb = []\n",
    "\n",
    "\n",
    "for f in glob.glob('C:/Users/masud/Desktop/Github_Bachelor_Project/wfdb-python/data/*.dat'): ##### change the path (afib) to your own directory. The rest should \n",
    "                                                                                             ##### remin the same\n",
    "    sig, fields = wfdb.rdsamp(f[:-4], channels=[1])  #### In this function, you have the opportunity to pass \n",
    "                                       #### \"channels=[0]\" or \"channels=[1]\" to select channel 1 or 2.\n",
    "    ann = wfdb.rdann(f[:-4], 'atr')\n",
    "    QRS = wfdb.rdann(f[:-4], 'qrs')\n",
    "    Symb = pd.Series(ann.symbol)\n",
    "    Samp = pd.Series(ann.sample)\n",
    "    QRS_Symb = pd.Series(QRS.symbol)\n",
    "    QRS_Samp = pd.Series(QRS.sample)\n",
    "    Rhythm = pd.Series(ann.aux_note)\n",
    "    records.append(sig)\n",
    "    properties.append(fields)\n",
    "    annot.append(ann)\n",
    "    AnnSymb.append(Symb)\n",
    "    AnnSamp.append(Samp)\n",
    "    Rpeak_Symb.append(QRS_Symb)\n",
    "    Rpeak_Samp.append(QRS_Samp)\n",
    "    AnnRhythm.append(Rhythm)\n",
    "    \n",
    "    \n",
    "\n",
    "AnnSymb = pd.Series(AnnSymb).values\n",
    "AnnSamp = pd.Series(AnnSamp).values"
   ]
  },
  {
   "cell_type": "code",
   "execution_count": 63,
   "metadata": {
    "scrolled": true
   },
   "outputs": [
    {
     "name": "stdout",
     "output_type": "stream",
     "text": [
      "0        (N\n",
      "1     (AFIB\n",
      "2        (N\n",
      "3     (AFIB\n",
      "4        (N\n",
      "5     (AFIB\n",
      "6        (N\n",
      "7     (AFIB\n",
      "8        (N\n",
      "9     (AFIB\n",
      "10       (N\n",
      "11    (AFIB\n",
      "12       (N\n",
      "13    (AFIB\n",
      "14       (N\n",
      "dtype: object\n",
      "------------------------------------\n",
      "0          30\n",
      "1      102584\n",
      "2      119604\n",
      "3      121773\n",
      "4      122194\n",
      "5      133348\n",
      "6      166857\n",
      "7     1096245\n",
      "8     1098054\n",
      "9     1135296\n",
      "10    1139595\n",
      "11    1422436\n",
      "12    1423548\n",
      "13    1459277\n",
      "14    1460416\n",
      "dtype: int32\n",
      "------------------------------------\n",
      "All samples of R-peaks below\n",
      "0             61\n",
      "1            200\n",
      "2            358\n",
      "3            584\n",
      "4            729\n",
      "          ...   \n",
      "44000    8999121\n",
      "44001    8999327\n",
      "44002    8999531\n",
      "44003    8999734\n",
      "44004    8999941\n",
      "Length: 44005, dtype: int32\n",
      "------------------------------------\n",
      "0        N\n",
      "1        N\n",
      "2        N\n",
      "3        N\n",
      "4        N\n",
      "        ..\n",
      "44000    N\n",
      "44001    N\n",
      "44002    N\n",
      "44003    N\n",
      "44004    N\n",
      "Length: 44005, dtype: object\n"
     ]
    }
   ],
   "source": [
    "#This is only for last record, calculated in above loop\n",
    "print(AnnRhythm[0])\n",
    "print(\"------------------------------------\")\n",
    "print(AnnSamp[0])\n",
    "print(\"------------------------------------\")\n",
    "print(\"All samples of R-peaks below\")\n",
    "print(Rpeak_Samp[0])\n",
    "print(\"------------------------------------\")\n",
    "print(Rpeak_Symb[0])\n",
    "#print(records[0])\n",
    "#print(type(records[0]))\n",
    "#print(np.where(Rpeak_Samp[22] <= ))\n",
    "#df.iloc[22] # acessing ROW 22\n",
    "#print(\"------------------------------------\")"
   ]
  },
  {
   "cell_type": "markdown",
   "metadata": {},
   "source": [
    "# Pre processing data..."
   ]
  },
  {
   "cell_type": "code",
   "execution_count": 5,
   "metadata": {
    "scrolled": true
   },
   "outputs": [
    {
     "data": {
      "text/html": [
       "<div>\n",
       "<style scoped>\n",
       "    .dataframe tbody tr th:only-of-type {\n",
       "        vertical-align: middle;\n",
       "    }\n",
       "\n",
       "    .dataframe tbody tr th {\n",
       "        vertical-align: top;\n",
       "    }\n",
       "\n",
       "    .dataframe thead th {\n",
       "        text-align: right;\n",
       "    }\n",
       "</style>\n",
       "<table border=\"1\" class=\"dataframe\">\n",
       "  <thead>\n",
       "    <tr style=\"text-align: right;\">\n",
       "      <th></th>\n",
       "      <th>0</th>\n",
       "      <th>Label</th>\n",
       "    </tr>\n",
       "  </thead>\n",
       "  <tbody>\n",
       "    <tr>\n",
       "      <th>0</th>\n",
       "      <td>61</td>\n",
       "      <td>(N</td>\n",
       "    </tr>\n",
       "    <tr>\n",
       "      <th>1</th>\n",
       "      <td>200</td>\n",
       "      <td>(N</td>\n",
       "    </tr>\n",
       "    <tr>\n",
       "      <th>2</th>\n",
       "      <td>358</td>\n",
       "      <td>(N</td>\n",
       "    </tr>\n",
       "    <tr>\n",
       "      <th>3</th>\n",
       "      <td>584</td>\n",
       "      <td>(N</td>\n",
       "    </tr>\n",
       "    <tr>\n",
       "      <th>4</th>\n",
       "      <td>729</td>\n",
       "      <td>(N</td>\n",
       "    </tr>\n",
       "    <tr>\n",
       "      <th>...</th>\n",
       "      <td>...</td>\n",
       "      <td>...</td>\n",
       "    </tr>\n",
       "    <tr>\n",
       "      <th>15373</th>\n",
       "      <td>2849597</td>\n",
       "      <td>(N</td>\n",
       "    </tr>\n",
       "    <tr>\n",
       "      <th>15374</th>\n",
       "      <td>2849785</td>\n",
       "      <td>(N</td>\n",
       "    </tr>\n",
       "    <tr>\n",
       "      <th>15375</th>\n",
       "      <td>2849975</td>\n",
       "      <td>(N</td>\n",
       "    </tr>\n",
       "    <tr>\n",
       "      <th>15376</th>\n",
       "      <td>2850083</td>\n",
       "      <td>(N</td>\n",
       "    </tr>\n",
       "    <tr>\n",
       "      <th>15377</th>\n",
       "      <td>2850266</td>\n",
       "      <td>(N</td>\n",
       "    </tr>\n",
       "  </tbody>\n",
       "</table>\n",
       "<p>714255 rows × 2 columns</p>\n",
       "</div>"
      ],
      "text/plain": [
       "             0 Label\n",
       "0           61    (N\n",
       "1          200    (N\n",
       "2          358    (N\n",
       "3          584    (N\n",
       "4          729    (N\n",
       "...        ...   ...\n",
       "15373  2849597    (N\n",
       "15374  2849785    (N\n",
       "15375  2849975    (N\n",
       "15376  2850083    (N\n",
       "15377  2850266    (N\n",
       "\n",
       "[714255 rows x 2 columns]"
      ]
     },
     "execution_count": 5,
     "metadata": {},
     "output_type": "execute_result"
    }
   ],
   "source": [
    "labeled_Rpeaks = []\n",
    "appended_data = []\n",
    "for i in range(23): ## 23 records\n",
    "    for j in range(len(AnnSamp[i])-1): ## AnnSamp or AnnRhythm -- both same dimensions\n",
    "        df = pd.DataFrame(Rpeak_Samp[i][(Rpeak_Samp[i] > AnnSamp[i][j]) & (Rpeak_Samp[i] < AnnSamp[i][j+1])])\n",
    "        df['Label'] = AnnRhythm[i][j]\n",
    "        appended_data.append(df)\n",
    "        \n",
    "\n",
    "labeled_Rpeaks = pd.concat(appended_data)\n",
    "labeled_Rpeaks\n",
    "\n"
   ]
  },
  {
   "cell_type": "markdown",
   "metadata": {},
   "source": [
    "### Filter, only get Hearbeats with annotations '(N' OR '(AFIB'"
   ]
  },
  {
   "cell_type": "code",
   "execution_count": 6,
   "metadata": {
    "scrolled": true
   },
   "outputs": [
    {
     "data": {
      "text/html": [
       "<div>\n",
       "<style scoped>\n",
       "    .dataframe tbody tr th:only-of-type {\n",
       "        vertical-align: middle;\n",
       "    }\n",
       "\n",
       "    .dataframe tbody tr th {\n",
       "        vertical-align: top;\n",
       "    }\n",
       "\n",
       "    .dataframe thead th {\n",
       "        text-align: right;\n",
       "    }\n",
       "</style>\n",
       "<table border=\"1\" class=\"dataframe\">\n",
       "  <thead>\n",
       "    <tr style=\"text-align: right;\">\n",
       "      <th></th>\n",
       "      <th>0</th>\n",
       "      <th>Label</th>\n",
       "    </tr>\n",
       "  </thead>\n",
       "  <tbody>\n",
       "    <tr>\n",
       "      <th>0</th>\n",
       "      <td>61</td>\n",
       "      <td>(N</td>\n",
       "    </tr>\n",
       "    <tr>\n",
       "      <th>1</th>\n",
       "      <td>200</td>\n",
       "      <td>(N</td>\n",
       "    </tr>\n",
       "    <tr>\n",
       "      <th>2</th>\n",
       "      <td>358</td>\n",
       "      <td>(N</td>\n",
       "    </tr>\n",
       "    <tr>\n",
       "      <th>3</th>\n",
       "      <td>584</td>\n",
       "      <td>(N</td>\n",
       "    </tr>\n",
       "    <tr>\n",
       "      <th>4</th>\n",
       "      <td>729</td>\n",
       "      <td>(N</td>\n",
       "    </tr>\n",
       "    <tr>\n",
       "      <th>...</th>\n",
       "      <td>...</td>\n",
       "      <td>...</td>\n",
       "    </tr>\n",
       "    <tr>\n",
       "      <th>995</th>\n",
       "      <td>149897</td>\n",
       "      <td>(AFIB</td>\n",
       "    </tr>\n",
       "    <tr>\n",
       "      <th>996</th>\n",
       "      <td>149989</td>\n",
       "      <td>(AFIB</td>\n",
       "    </tr>\n",
       "    <tr>\n",
       "      <th>997</th>\n",
       "      <td>150086</td>\n",
       "      <td>(AFIB</td>\n",
       "    </tr>\n",
       "    <tr>\n",
       "      <th>998</th>\n",
       "      <td>150169</td>\n",
       "      <td>(AFIB</td>\n",
       "    </tr>\n",
       "    <tr>\n",
       "      <th>999</th>\n",
       "      <td>150248</td>\n",
       "      <td>(AFIB</td>\n",
       "    </tr>\n",
       "  </tbody>\n",
       "</table>\n",
       "<p>1000 rows × 2 columns</p>\n",
       "</div>"
      ],
      "text/plain": [
       "          0  Label\n",
       "0        61     (N\n",
       "1       200     (N\n",
       "2       358     (N\n",
       "3       584     (N\n",
       "4       729     (N\n",
       "..      ...    ...\n",
       "995  149897  (AFIB\n",
       "996  149989  (AFIB\n",
       "997  150086  (AFIB\n",
       "998  150169  (AFIB\n",
       "999  150248  (AFIB\n",
       "\n",
       "[1000 rows x 2 columns]"
      ]
     },
     "execution_count": 6,
     "metadata": {},
     "output_type": "execute_result"
    }
   ],
   "source": [
    "labeled_Rpeaks_N_AFIB = labeled_Rpeaks.loc[(labeled_Rpeaks.Label == '(N') | (labeled_Rpeaks.Label == '(AFIB'), :]\n",
    "labeled_Rpeaks_N_AFIB[0:1000]"
   ]
  },
  {
   "cell_type": "markdown",
   "metadata": {},
   "source": [
    "### Convert 'Label' column to boolean expr"
   ]
  },
  {
   "cell_type": "code",
   "execution_count": 7,
   "metadata": {},
   "outputs": [
    {
     "name": "stderr",
     "output_type": "stream",
     "text": [
      "<ipython-input-7-36743a647d57>:3: SettingWithCopyWarning: \n",
      "A value is trying to be set on a copy of a slice from a DataFrame.\n",
      "Try using .loc[row_indexer,col_indexer] = value instead\n",
      "\n",
      "See the caveats in the documentation: https://pandas.pydata.org/pandas-docs/stable/user_guide/indexing.html#returning-a-view-versus-a-copy\n",
      "  labeled_Rpeaks_N_AFIB['Label'] = labeled_Rpeaks_N_AFIB['Label'].map(\n"
     ]
    }
   ],
   "source": [
    "### s.where(s > 1, 10)\n",
    "#labeled_Rpeaks_N_AFIB['Label'] = labeled_Rpeaks_N_AFIB['Label'].astype('bool')\n",
    "labeled_Rpeaks_N_AFIB['Label'] = labeled_Rpeaks_N_AFIB['Label'].map( \n",
    "                   {'(N':False ,'(AFIB':True}) "
   ]
  },
  {
   "cell_type": "code",
   "execution_count": 8,
   "metadata": {},
   "outputs": [
    {
     "name": "stderr",
     "output_type": "stream",
     "text": [
      "<ipython-input-8-9cd7ad84a37a>:1: SettingWithCopyWarning: \n",
      "A value is trying to be set on a copy of a slice from a DataFrame.\n",
      "Try using .loc[row_indexer,col_indexer] = value instead\n",
      "\n",
      "See the caveats in the documentation: https://pandas.pydata.org/pandas-docs/stable/user_guide/indexing.html#returning-a-view-versus-a-copy\n",
      "  labeled_Rpeaks_N_AFIB['Label'] = labeled_Rpeaks_N_AFIB['Label'].astype(int)\n",
      "D:\\anaconda3\\lib\\site-packages\\pandas\\core\\frame.py:4296: SettingWithCopyWarning: \n",
      "A value is trying to be set on a copy of a slice from a DataFrame\n",
      "\n",
      "See the caveats in the documentation: https://pandas.pydata.org/pandas-docs/stable/user_guide/indexing.html#returning-a-view-versus-a-copy\n",
      "  return super().rename(\n"
     ]
    }
   ],
   "source": [
    "labeled_Rpeaks_N_AFIB['Label'] = labeled_Rpeaks_N_AFIB['Label'].astype(int)\n",
    "\n",
    "labeled_Rpeaks_N_AFIB.rename(columns={0: 'Rpeaks'},\n",
    "          inplace=True, errors='raise')"
   ]
  },
  {
   "cell_type": "code",
   "execution_count": 9,
   "metadata": {
    "scrolled": false
   },
   "outputs": [
    {
     "data": {
      "text/html": [
       "<div>\n",
       "<style scoped>\n",
       "    .dataframe tbody tr th:only-of-type {\n",
       "        vertical-align: middle;\n",
       "    }\n",
       "\n",
       "    .dataframe tbody tr th {\n",
       "        vertical-align: top;\n",
       "    }\n",
       "\n",
       "    .dataframe thead th {\n",
       "        text-align: right;\n",
       "    }\n",
       "</style>\n",
       "<table border=\"1\" class=\"dataframe\">\n",
       "  <thead>\n",
       "    <tr style=\"text-align: right;\">\n",
       "      <th></th>\n",
       "      <th>Rpeaks</th>\n",
       "      <th>Label</th>\n",
       "    </tr>\n",
       "  </thead>\n",
       "  <tbody>\n",
       "    <tr>\n",
       "      <th>0</th>\n",
       "      <td>61</td>\n",
       "      <td>0</td>\n",
       "    </tr>\n",
       "    <tr>\n",
       "      <th>1</th>\n",
       "      <td>200</td>\n",
       "      <td>0</td>\n",
       "    </tr>\n",
       "    <tr>\n",
       "      <th>2</th>\n",
       "      <td>358</td>\n",
       "      <td>0</td>\n",
       "    </tr>\n",
       "    <tr>\n",
       "      <th>3</th>\n",
       "      <td>584</td>\n",
       "      <td>0</td>\n",
       "    </tr>\n",
       "    <tr>\n",
       "      <th>4</th>\n",
       "      <td>729</td>\n",
       "      <td>0</td>\n",
       "    </tr>\n",
       "    <tr>\n",
       "      <th>...</th>\n",
       "      <td>...</td>\n",
       "      <td>...</td>\n",
       "    </tr>\n",
       "    <tr>\n",
       "      <th>995</th>\n",
       "      <td>149897</td>\n",
       "      <td>1</td>\n",
       "    </tr>\n",
       "    <tr>\n",
       "      <th>996</th>\n",
       "      <td>149989</td>\n",
       "      <td>1</td>\n",
       "    </tr>\n",
       "    <tr>\n",
       "      <th>997</th>\n",
       "      <td>150086</td>\n",
       "      <td>1</td>\n",
       "    </tr>\n",
       "    <tr>\n",
       "      <th>998</th>\n",
       "      <td>150169</td>\n",
       "      <td>1</td>\n",
       "    </tr>\n",
       "    <tr>\n",
       "      <th>999</th>\n",
       "      <td>150248</td>\n",
       "      <td>1</td>\n",
       "    </tr>\n",
       "  </tbody>\n",
       "</table>\n",
       "<p>1000 rows × 2 columns</p>\n",
       "</div>"
      ],
      "text/plain": [
       "     Rpeaks  Label\n",
       "0        61      0\n",
       "1       200      0\n",
       "2       358      0\n",
       "3       584      0\n",
       "4       729      0\n",
       "..      ...    ...\n",
       "995  149897      1\n",
       "996  149989      1\n",
       "997  150086      1\n",
       "998  150169      1\n",
       "999  150248      1\n",
       "\n",
       "[1000 rows x 2 columns]"
      ]
     },
     "execution_count": 9,
     "metadata": {},
     "output_type": "execute_result"
    }
   ],
   "source": [
    "Rpeaks_N_AFIB = labeled_Rpeaks_N_AFIB[\"Rpeaks\"]\n",
    "Label_N_AFIB = labeled_Rpeaks_N_AFIB[\"Label\"]\n",
    "Label_N_AFIB = np.array(Label_N_AFIB, dtype=np.float64)\n",
    "\n",
    "labeled_Rpeaks_N_AFIB[0:1000]"
   ]
  },
  {
   "cell_type": "markdown",
   "metadata": {},
   "source": [
    "### Window slider"
   ]
  },
  {
   "cell_type": "code",
   "execution_count": 10,
   "metadata": {},
   "outputs": [],
   "source": [
    "#print(records[0])\n",
    "#print(np.shape(records[0]))\n",
    "#print()\n",
    "#print()\n",
    "#records_trans = np.transpose(records[0])\n",
    "#print(np.shape(records_trans))\n",
    "#records[0].flatten()\n",
    "#np.squeeze(records[0], axis=1)\n",
    "#np.shape(records[0])"
   ]
  },
  {
   "cell_type": "code",
   "execution_count": 11,
   "metadata": {},
   "outputs": [],
   "source": [
    "###Run with heartbeats ##convert to numpy array \n",
    "#from window_slider import Slider\n",
    "#import numpy\n",
    "#list = records_trans\n",
    "#bucket_size = 6600\n",
    "#overlap_count = 3300\n",
    "#slider = Slider(bucket_size,overlap_count)\n",
    "#slider.fit(list)       \n",
    "#while True:\n",
    "#    window_data = slider.slide()\n",
    "#    # do your stuff\n",
    "#    print(window_data)\n",
    "#    if slider.reached_end_of_list(): break"
   ]
  },
  {
   "cell_type": "markdown",
   "metadata": {},
   "source": [
    "### Visualising the ECG signals"
   ]
  },
  {
   "cell_type": "code",
   "execution_count": 12,
   "metadata": {
    "scrolled": false
   },
   "outputs": [
    {
     "data": {
      "text/plain": [
       "[<matplotlib.lines.Line2D at 0x18900337640>]"
      ]
     },
     "execution_count": 12,
     "metadata": {},
     "output_type": "execute_result"
    },
    {
     "data": {
      "image/png": "[encoded data removed]",
      "text/plain": [
       "<Figure size 432x288 with 1 Axes>"
      ]
     },
     "metadata": {
      "needs_background": "light"
     },
     "output_type": "display_data"
    }
   ],
   "source": [
    "#plt.title(\"Both Channels (0 and 1)\")\n",
    "#plt.title(\"Channel 0 of the ECG\") #Called ['ECG1']\n",
    "plt.title('Channel 1 of the ECG') #Called ['ECG2']\n",
    "plt.plot(sig[:500])\n",
    "\n",
    "#################### Accessing annotations \n",
    "#display(fields) ### Last record annotation\n",
    "#print(f\"Units in which the ECG is measured {fields['units']}\")\n",
    "#display(properties[22])\n",
    "#print(f\"Units in which the ECG is measured {properties[22]['units']}\")"
   ]
  },
  {
   "cell_type": "markdown",
   "metadata": {},
   "source": [
    "# Segmenting & Calculating features METHOD: Rpeaks_N_AFIB"
   ]
  },
  {
   "cell_type": "markdown",
   "metadata": {},
   "source": [
    "### X"
   ]
  },
  {
   "cell_type": "code",
   "execution_count": 13,
   "metadata": {
    "scrolled": true
   },
   "outputs": [
    {
     "name": "stdout",
     "output_type": "stream",
     "text": [
      "int32\n",
      "float64\n",
      "708566\n",
      "-6\n",
      "708560\n"
     ]
    },
    {
     "data": {
      "text/plain": [
       "array([139., 158., 226., 145., 144., 239., 148., 149., 234., 212., 217.,\n",
       "       202., 207., 206., 137., 135., 131.,  94., 125., 117.])"
      ]
     },
     "execution_count": 13,
     "metadata": {},
     "output_type": "execute_result"
    }
   ],
   "source": [
    "rri2 = np.diff(Rpeaks_N_AFIB) ### Storing the intervals between rpeaks\n",
    "print(rri2.dtype)\n",
    "rri2 = np.array(rri2, dtype=np.float64) ### So no overflow issues happens when calc in for loop later\n",
    "print(rri2.dtype)\n",
    "print(len(rri2))\n",
    "amount = -(len(rri2) % 20)\n",
    "print(amount)\n",
    "rec_amount = rri2[:amount]\n",
    "print(len(rec_amount))\n",
    "segmented_rec = rec_amount.reshape(35428,20)\n",
    "segmented_rec[0]"
   ]
  },
  {
   "cell_type": "code",
   "execution_count": 14,
   "metadata": {},
   "outputs": [],
   "source": [
    "features2 = []\n",
    "\n",
    "    ### Calculating features for every single segmented \"block\" inside the segmented_record variable\n",
    "for x in range(len(segmented_rec)):\n",
    "    #MEAN\n",
    "    ff1 = np.mean(segmented_rec[x])\n",
    "    #STD\n",
    "    ff2 = np.std(segmented_rec[x])\n",
    "    #RMSSD\n",
    "    sum_ = 0\n",
    "    for y in range(len(segmented_rec[x]) - 1): ### loops 19 times\n",
    "        sum_ += (segmented_rec[x][y] - segmented_rec[x][y+1])**2\n",
    "    sum_multiplied = 1/(len(segmented_rec) - 1) * sum_\n",
    "    ff3 = np.sqrt(sum_multiplied)\n",
    "    #NORMALIZED RMSSD\n",
    "    ff4 = (ff3 / ff1)\n",
    "\n",
    "    my_features2 = pd.Series([np.around(ff1,3), np.around(ff2,3), np.around(ff3,3), np.around(ff4,3)], \n",
    "                            index=['Mean','STD','RMSSD','Normalized RMSSD'])\n",
    "    features2.append(my_features2)"
   ]
  },
  {
   "cell_type": "code",
   "execution_count": 15,
   "metadata": {
    "scrolled": true
   },
   "outputs": [
    {
     "name": "stdout",
     "output_type": "stream",
     "text": [
      "Features for that specific segment:\n",
      "Mean                168.250\n",
      "STD                  43.226\n",
      "RMSSD                 1.115\n",
      "Normalized RMSSD      0.007\n",
      "dtype: float64\n",
      "\n",
      "features2 variable contains 35428 segments\n"
     ]
    }
   ],
   "source": [
    "n = 0\n",
    "\n",
    "print(f\"Features for that specific segment:\\n{features2[n]}\") \n",
    "print('\\n'f\"features2 variable contains {len(features2)} segments\")"
   ]
  },
  {
   "cell_type": "markdown",
   "metadata": {},
   "source": [
    "### Y"
   ]
  },
  {
   "cell_type": "code",
   "execution_count": 16,
   "metadata": {},
   "outputs": [
    {
     "name": "stdout",
     "output_type": "stream",
     "text": [
      "float64\n",
      "Length of y_list: 35428\n"
     ]
    }
   ],
   "source": [
    "y_amount = Label_N_AFIB[:- 7] ### So it is divisible by 20\n",
    "y_shape = y_amount.reshape(35428,20)\n",
    "y_list = []\n",
    "\n",
    "### Calc if every 20 segment block is Normal synus rythm or AFIB\n",
    "for l in range(len(y_shape)):\n",
    "    #y_segment = y_shape\n",
    "    sum_segment = np.sum(y_shape[l])\n",
    "    if sum_segment >= 10:\n",
    "        sum_segment = 1\n",
    "    else: sum_segment = 0\n",
    "    y_list.append(sum_segment)\n",
    "\n",
    "y_list = np.array(y_list, dtype=np.float64)\n",
    "print(y_list.dtype)\n",
    "print(f\"Length of y_list: {len(y_list)}\")"
   ]
  },
  {
   "cell_type": "markdown",
   "metadata": {},
   "source": [
    "# Segmenting & Calculating features METHOD: RRI"
   ]
  },
  {
   "cell_type": "code",
   "execution_count": 17,
   "metadata": {
    "tags": [
     "hide-cell"
    ]
   },
   "outputs": [],
   "source": [
    "#A sample of 250 elements, gives 1 clear signal (because 250hz frequency)\n",
    "# single_record_rri = []\n",
    "# rri = []\n",
    "\n",
    "# squared_summed_differencies = 0\n",
    "# i = 0\n",
    "# for i in range(len(Rpeak_Samp)): ### loops 23 times\n",
    "#     single_record_rri = np.diff(Rpeak_Samp[i])\n",
    "#     rri.append(single_record_rri)"
   ]
  },
  {
   "cell_type": "code",
   "execution_count": 18,
   "metadata": {
    "scrolled": true,
    "tags": [
     "hide-cell"
    ]
   },
   "outputs": [],
   "source": [
    "# single_record_mean = []\n",
    "# rri_mean = []\n",
    "# single_record_std = []\n",
    "# rri_std = []\n",
    "# single_record_RMSSD = []\n",
    "# RMSSD = []\n",
    "# single_record_nRMSSD = []\n",
    "# nRMSSD = []\n",
    "\n",
    "# all_segmented_records = []\n",
    "# all_features = []\n",
    "\n",
    "\n",
    "# ### TO acess every single record\n",
    "# ### record_to_segment = rri[index]\n",
    "# for index in range(len(rri)): ### Loops 23 times\n",
    "#     #(below line) gives a value between 0 and 19, which is the amount used to remove from the end of a record, by slicing.\n",
    "#     amount_to_segment = -(len(rri[index]) % 20)\n",
    "#     if amount_to_segment != 0:\n",
    "#         rri_segmented_record = rri[index][:amount_to_segment]\n",
    "#     else: \n",
    "#         rri_segmented_record = rri[index] #if divisible by 20, no need to slice this record\n",
    "#     #(below line) gives us the number of \"blocks\" to put every single 20-segment into.\n",
    "#     length = len(rri_segmented_record) / 20\n",
    "#     rri_segmented_record = np.split(rri_segmented_record,length)\n",
    "#     all_segmented_records.append(rri_segmented_record)\n",
    "    \n",
    "#     features = []\n",
    "    \n",
    "#     ### Calculating features for every single segmented \"block\" inside the segmented_record variable\n",
    "#     for i in range(len(rri_segmented_record)):\n",
    "#         #MEAN\n",
    "#         f1 = np.mean(rri_segmented_record[i])\n",
    "#         #STD\n",
    "#         f2 = np.std(rri_segmented_record[i])\n",
    "#         #RMSSD\n",
    "#         sqaured_summed_differencies = 0\n",
    "#         for k in range(len(rri_segmented_record[i]) - 1): ### loops 19 times\n",
    "#             sqaured_summed_differencies += (rri_segmented_record[i][k] - rri_segmented_record[i][k+1])**2\n",
    "#         squared_summed_differencies_multiplied = 1/(len(rri_segmented_record) - 1) * sqaured_summed_differencies\n",
    "#         f3 = np.sqrt(squared_summed_differencies_multiplied)\n",
    "#         #NORMALIZED RMSSD\n",
    "#         f4 = (f3 / f1)\n",
    "        \n",
    "#         my_features = pd.Series([np.around(f1,3), np.around(f2,3), np.around(f3,3), np.around(f4,3)], \n",
    "#                                 index=['Mean','STD','RMSSD','Normalized RMSSD'])\n",
    "#         features.append(my_features)\n",
    "        \n",
    "#     all_features.append(features)"
   ]
  },
  {
   "cell_type": "markdown",
   "metadata": {},
   "source": [
    "### Features for a single block (20 heart beats), inside a given record\n",
    "### Accessing the 23 individual records (index 0 to 22), gives a single record, that is segmented into arrays of 20. Accessing each 20 array segment/block, by indexing, this time second dimension [ ]-->[ ]<--"
   ]
  },
  {
   "cell_type": "code",
   "execution_count": 19,
   "metadata": {
    "scrolled": true
   },
   "outputs": [],
   "source": [
    "# n = 3\n",
    "# m = 156\n",
    "\n",
    "# print(f\"Record nr {n}, and index {m} in that record contains this segment:\") \n",
    "# print(all_segmented_records[n][m])\n",
    "# print(\"Features for that specific segment:\") \n",
    "# print(all_features[n][m])\n",
    "\n",
    "# summed = 0\n",
    "# for z in range(len(all_features)):\n",
    "#     summed += len(all_features[z])\n",
    "# print('\\n'f\"all_features variable contains {summed} segments\")"
   ]
  },
  {
   "cell_type": "markdown",
   "metadata": {},
   "source": [
    "# Estimators -> Classifications algorithms"
   ]
  },
  {
   "cell_type": "code",
   "execution_count": 20,
   "metadata": {},
   "outputs": [],
   "source": [
    "from sklearn.model_selection import train_test_split\n",
    "from sklearn.svm import SVC\n",
    "from sklearn import tree\n",
    "from sklearn.naive_bayes import GaussianNB\n",
    "from sklearn.ensemble import RandomForestClassifier"
   ]
  },
  {
   "cell_type": "code",
   "execution_count": 21,
   "metadata": {},
   "outputs": [
    {
     "name": "stdout",
     "output_type": "stream",
     "text": [
      "shape of y: (35428,), type of y: <class 'numpy.ndarray'>\n",
      "shape of X: (35428, 4), type of X: <class 'numpy.ndarray'>\n"
     ]
    }
   ],
   "source": [
    "y = np.asarray(y_list)\n",
    "print(f\"shape of y: {np.shape(y)}, type of y: {type(y)}\")\n",
    "X = np.asarray(features2)\n",
    "print(f\"shape of X: {np.shape(X)}, type of X: {type(X)}\")"
   ]
  },
  {
   "cell_type": "code",
   "execution_count": 66,
   "metadata": {},
   "outputs": [
    {
     "data": {
      "text/html": [
       "<div>\n",
       "<style scoped>\n",
       "    .dataframe tbody tr th:only-of-type {\n",
       "        vertical-align: middle;\n",
       "    }\n",
       "\n",
       "    .dataframe tbody tr th {\n",
       "        vertical-align: top;\n",
       "    }\n",
       "\n",
       "    .dataframe thead th {\n",
       "        text-align: right;\n",
       "    }\n",
       "</style>\n",
       "<table border=\"1\" class=\"dataframe\">\n",
       "  <thead>\n",
       "    <tr style=\"text-align: right;\">\n",
       "      <th></th>\n",
       "      <th>Mean</th>\n",
       "      <th>STD</th>\n",
       "      <th>RMSSD</th>\n",
       "      <th>Normalized RMSSD</th>\n",
       "    </tr>\n",
       "  </thead>\n",
       "  <tbody>\n",
       "    <tr>\n",
       "      <th>0</th>\n",
       "      <td>168.25</td>\n",
       "      <td>43.226</td>\n",
       "      <td>1.115</td>\n",
       "      <td>0.007</td>\n",
       "    </tr>\n",
       "    <tr>\n",
       "      <th>1</th>\n",
       "      <td>169.10</td>\n",
       "      <td>50.353</td>\n",
       "      <td>1.126</td>\n",
       "      <td>0.007</td>\n",
       "    </tr>\n",
       "    <tr>\n",
       "      <th>2</th>\n",
       "      <td>150.75</td>\n",
       "      <td>62.874</td>\n",
       "      <td>1.669</td>\n",
       "      <td>0.011</td>\n",
       "    </tr>\n",
       "    <tr>\n",
       "      <th>3</th>\n",
       "      <td>194.20</td>\n",
       "      <td>32.262</td>\n",
       "      <td>1.038</td>\n",
       "      <td>0.005</td>\n",
       "    </tr>\n",
       "    <tr>\n",
       "      <th>4</th>\n",
       "      <td>169.85</td>\n",
       "      <td>43.731</td>\n",
       "      <td>1.013</td>\n",
       "      <td>0.006</td>\n",
       "    </tr>\n",
       "    <tr>\n",
       "      <th>...</th>\n",
       "      <td>...</td>\n",
       "      <td>...</td>\n",
       "      <td>...</td>\n",
       "      <td>...</td>\n",
       "    </tr>\n",
       "    <tr>\n",
       "      <th>35423</th>\n",
       "      <td>189.30</td>\n",
       "      <td>2.326</td>\n",
       "      <td>0.052</td>\n",
       "      <td>0.000</td>\n",
       "    </tr>\n",
       "    <tr>\n",
       "      <th>35424</th>\n",
       "      <td>188.80</td>\n",
       "      <td>2.272</td>\n",
       "      <td>0.048</td>\n",
       "      <td>0.000</td>\n",
       "    </tr>\n",
       "    <tr>\n",
       "      <th>35425</th>\n",
       "      <td>188.00</td>\n",
       "      <td>2.000</td>\n",
       "      <td>0.056</td>\n",
       "      <td>0.000</td>\n",
       "    </tr>\n",
       "    <tr>\n",
       "      <th>35426</th>\n",
       "      <td>187.85</td>\n",
       "      <td>1.621</td>\n",
       "      <td>0.051</td>\n",
       "      <td>0.000</td>\n",
       "    </tr>\n",
       "    <tr>\n",
       "      <th>35427</th>\n",
       "      <td>188.20</td>\n",
       "      <td>1.965</td>\n",
       "      <td>0.061</td>\n",
       "      <td>0.000</td>\n",
       "    </tr>\n",
       "  </tbody>\n",
       "</table>\n",
       "<p>35428 rows × 4 columns</p>\n",
       "</div>"
      ],
      "text/plain": [
       "         Mean     STD  RMSSD  Normalized RMSSD\n",
       "0      168.25  43.226  1.115             0.007\n",
       "1      169.10  50.353  1.126             0.007\n",
       "2      150.75  62.874  1.669             0.011\n",
       "3      194.20  32.262  1.038             0.005\n",
       "4      169.85  43.731  1.013             0.006\n",
       "...       ...     ...    ...               ...\n",
       "35423  189.30   2.326  0.052             0.000\n",
       "35424  188.80   2.272  0.048             0.000\n",
       "35425  188.00   2.000  0.056             0.000\n",
       "35426  187.85   1.621  0.051             0.000\n",
       "35427  188.20   1.965  0.061             0.000\n",
       "\n",
       "[35428 rows x 4 columns]"
      ]
     },
     "execution_count": 66,
     "metadata": {},
     "output_type": "execute_result"
    }
   ],
   "source": [
    "df5 = pd.DataFrame(features2)\n",
    "X = df5.values\n",
    "df5"
   ]
  },
  {
   "cell_type": "markdown",
   "metadata": {},
   "source": [
    "### SVM"
   ]
  },
  {
   "cell_type": "code",
   "execution_count": 23,
   "metadata": {},
   "outputs": [],
   "source": [
    "model = SVC()"
   ]
  },
  {
   "cell_type": "code",
   "execution_count": 24,
   "metadata": {},
   "outputs": [],
   "source": [
    "# parameters = {'kernel':('linear', 'rbf'), 'C':[1, 10]}\n",
    "# clf = GridSearchCV(model, parameters)\n",
    "# clf.fit(X_train, y_train)\n",
    "\n",
    "# df_svm_results = pd.DataFrame(clf.cv_results_)\n",
    "# df_svm_results"
   ]
  },
  {
   "cell_type": "code",
   "execution_count": 25,
   "metadata": {
    "scrolled": false
   },
   "outputs": [],
   "source": [
    "#X_train, X_test, y_train, y_test = train_test_split(X, y, test_size=0.2)\n",
    "# scaler = StandardScaler()\n",
    "# scaler.fit(X)\n",
    "# scaler.transform(X)"
   ]
  },
  {
   "cell_type": "markdown",
   "metadata": {},
   "source": [
    "### Decision trees"
   ]
  },
  {
   "cell_type": "code",
   "execution_count": 26,
   "metadata": {
    "scrolled": true
   },
   "outputs": [],
   "source": [
    "### How do you select the optimal order?\n",
    "# clf = tree.DecisionTreeClassifier()\n",
    "# clf.fit(X_train, y_train)"
   ]
  },
  {
   "cell_type": "code",
   "execution_count": 27,
   "metadata": {},
   "outputs": [],
   "source": [
    "#clf.score(X_test, y_test) "
   ]
  },
  {
   "cell_type": "markdown",
   "metadata": {},
   "source": [
    "### Random forest"
   ]
  },
  {
   "cell_type": "code",
   "execution_count": 28,
   "metadata": {},
   "outputs": [],
   "source": [
    "# clf = RandomForestClassifier()\n",
    "# clf.fit(X_train, y_train)\n",
    "# clf.score(X_test, y_test)"
   ]
  },
  {
   "cell_type": "code",
   "execution_count": 29,
   "metadata": {},
   "outputs": [],
   "source": [
    "# rf_y_predicted = clf.predict(X_test)\n",
    "# cm = confusion_matrix(y_test, rf_y_predicted)\n",
    "# %matplotlib inline\n",
    "# plt.figure(figsize=(6,4))\n",
    "# sn.heatmap(cm,annot=True)\n",
    "# plt.xlabel('Predicted')\n",
    "# plt.ylabel('Truth')"
   ]
  },
  {
   "cell_type": "markdown",
   "metadata": {},
   "source": [
    "# Pipelines"
   ]
  },
  {
   "cell_type": "code",
   "execution_count": 30,
   "metadata": {},
   "outputs": [],
   "source": [
    "from sklearn.pipeline import Pipeline\n",
    "from sklearn.preprocessing import StandardScaler"
   ]
  },
  {
   "cell_type": "code",
   "execution_count": 31,
   "metadata": {},
   "outputs": [],
   "source": [
    "##### Choosen params after runned GridsearchCV \n",
    "\n",
    "pipeline_svm = Pipeline([('scalar1', StandardScaler()),\n",
    "                         ('svm_classifier', SVC(gamma=\"scale\", C=20, kernel='rbf', probability=True))])\n",
    "\n",
    "pipeline_dt = Pipeline([('scalar2', StandardScaler()),\n",
    "                        ('dt_classifier', tree.DecisionTreeClassifier(criterion='entropy', max_depth=12))])\n",
    "\n",
    "pipeline_nb = Pipeline([('scalar3', StandardScaler()),\n",
    "                       ('nb_classifier', GaussianNB())]) ### No gridsearch, because no hyperparameters\n",
    "\n",
    "pipeline_rf = Pipeline([('scalar 4', StandardScaler()),\n",
    "                         ('rf_classifier', RandomForestClassifier(n_estimators=200))])\n"
   ]
  },
  {
   "cell_type": "code",
   "execution_count": 32,
   "metadata": {},
   "outputs": [],
   "source": [
    "# pipelines = [pipeline_svm, pipeline_dt, pipeline_nb, pipeline_rf]\n",
    "# best_accuracy = 0.0\n",
    "# best_classifier = 0\n",
    "# best_pipeline = \"\""
   ]
  },
  {
   "cell_type": "code",
   "execution_count": 33,
   "metadata": {},
   "outputs": [],
   "source": [
    "# pipe_dict = {0: 'Support Vector Machine', 1: 'Decision Tree', 2: 'Naive Bayes', 3: 'Random Forest'}\n",
    "\n",
    "# for pipe in pipelines:\n",
    "#     pipe.fit(X_train, y_train)\n",
    "    \n",
    "# for i, model in enumerate(pipelines):\n",
    "#     print(f\"{pipe_dict[i]} Test Accuracy: {model.score(X_test, y_test)}\")"
   ]
  },
  {
   "cell_type": "code",
   "execution_count": 34,
   "metadata": {},
   "outputs": [],
   "source": [
    "# for i, model in enumerate(pipelines):\n",
    "#     if model.score(X_test, y_test) > best_accuracy:\n",
    "#         best_accuracy = model.score(X_test, y_test)\n",
    "#         best_pipeline = model\n",
    "#         best_classifier = i\n",
    "# print(f\"Classifier with best accuracy: {pipe_dict[best_classifier]}\")"
   ]
  },
  {
   "cell_type": "markdown",
   "metadata": {},
   "source": [
    "# Ensemble classifiers"
   ]
  },
  {
   "cell_type": "code",
   "execution_count": 35,
   "metadata": {},
   "outputs": [],
   "source": [
    "from sklearn.linear_model import LogisticRegression\n",
    "from sklearn.ensemble import StackingClassifier\n",
    "from xgboost import XGBClassifier\n",
    "from sklearn.ensemble import AdaBoostClassifier"
   ]
  },
  {
   "cell_type": "markdown",
   "metadata": {},
   "source": [
    "### StackingClassifier"
   ]
  },
  {
   "cell_type": "code",
   "execution_count": 36,
   "metadata": {},
   "outputs": [],
   "source": [
    "estimators = [('svm',pipeline_svm), ('dt',pipeline_dt), ('nb',pipeline_nb), ('rf',pipeline_rf)]\n",
    "clf = StackingClassifier(\n",
    "    estimators=estimators, final_estimator=LogisticRegression())"
   ]
  },
  {
   "cell_type": "markdown",
   "metadata": {},
   "source": [
    "### xgboost"
   ]
  },
  {
   "cell_type": "code",
   "execution_count": 37,
   "metadata": {},
   "outputs": [],
   "source": [
    "xgb_model = XGBClassifier()"
   ]
  },
  {
   "cell_type": "markdown",
   "metadata": {},
   "source": [
    "### AdaBoost"
   ]
  },
  {
   "cell_type": "code",
   "execution_count": 38,
   "metadata": {},
   "outputs": [],
   "source": [
    "adaBoost_clf = AdaBoostClassifier()"
   ]
  },
  {
   "cell_type": "markdown",
   "metadata": {},
   "source": [
    "# Cross validation"
   ]
  },
  {
   "cell_type": "code",
   "execution_count": 39,
   "metadata": {},
   "outputs": [],
   "source": [
    "from sklearn.model_selection import cross_validate, cross_val_predict\n",
    "from sklearn import metrics\n",
    "from sklearn.metrics import make_scorer\n",
    "from sklearn.model_selection import StratifiedKFold ### For class inbalances through out the data"
   ]
  },
  {
   "cell_type": "code",
   "execution_count": 40,
   "metadata": {
    "scrolled": true
   },
   "outputs": [],
   "source": [
    "scoring = ['precision_macro']\n",
    "\n",
    "cv_swm_results = cross_validate(pipeline_svm, X, y,\n",
    "                        scoring=scoring, cv=5,\n",
    "                        return_estimator=False) ### set return_estimator=True to return the fitted estimator"
   ]
  },
  {
   "cell_type": "code",
   "execution_count": 41,
   "metadata": {},
   "outputs": [],
   "source": [
    "cv_dt_results = cross_validate(pipeline_dt, X, y,\n",
    "                        scoring=scoring, cv=5,\n",
    "                        return_estimator=False)\n",
    "cv_nb_results = cross_validate(pipeline_nb, X, y,\n",
    "                        scoring=scoring, cv=5,\n",
    "                        return_estimator=False)\n",
    "cv_rf_results = cross_validate(pipeline_rf, X, y,\n",
    "                        scoring=scoring, cv=5,\n",
    "                        return_estimator=False)\n",
    "cv_rf_results = cross_validate(pipeline_rf, X, y,\n",
    "                        scoring=scoring, cv=5,\n",
    "                        return_estimator=False)"
   ]
  },
  {
   "cell_type": "code",
   "execution_count": 42,
   "metadata": {
    "scrolled": true
   },
   "outputs": [
    {
     "name": "stderr",
     "output_type": "stream",
     "text": [
      "D:\\anaconda3\\lib\\site-packages\\xgboost\\sklearn.py:888: UserWarning: The use of label encoder in XGBClassifier is deprecated and will be removed in a future release. To remove this warning, do the following: 1) Pass option use_label_encoder=False when constructing XGBClassifier object; and 2) Encode your labels (y) as integers starting with 0, i.e. 0, 1, 2, ..., [num_class - 1].\n",
      "  warnings.warn(label_encoder_deprecation_msg, UserWarning)\n"
     ]
    },
    {
     "name": "stdout",
     "output_type": "stream",
     "text": [
      "[10:45:12] WARNING: C:/Users/Administrator/workspace/xgboost-win64_release_1.3.0/src/learner.cc:1061: Starting in XGBoost 1.3.0, the default evaluation metric used with the objective 'binary:logistic' was changed from 'error' to 'logloss'. Explicitly set eval_metric if you'd like to restore the old behavior.\n",
      "[10:45:13] WARNING: C:/Users/Administrator/workspace/xgboost-win64_release_1.3.0/src/learner.cc:1061: Starting in XGBoost 1.3.0, the default evaluation metric used with the objective 'binary:logistic' was changed from 'error' to 'logloss'. Explicitly set eval_metric if you'd like to restore the old behavior.\n",
      "[10:45:14] WARNING: C:/Users/Administrator/workspace/xgboost-win64_release_1.3.0/src/learner.cc:1061: Starting in XGBoost 1.3.0, the default evaluation metric used with the objective 'binary:logistic' was changed from 'error' to 'logloss'. Explicitly set eval_metric if you'd like to restore the old behavior.\n",
      "[10:45:15] WARNING: C:/Users/Administrator/workspace/xgboost-win64_release_1.3.0/src/learner.cc:1061: Starting in XGBoost 1.3.0, the default evaluation metric used with the objective 'binary:logistic' was changed from 'error' to 'logloss'. Explicitly set eval_metric if you'd like to restore the old behavior.\n",
      "[10:45:15] WARNING: C:/Users/Administrator/workspace/xgboost-win64_release_1.3.0/src/learner.cc:1061: Starting in XGBoost 1.3.0, the default evaluation metric used with the objective 'binary:logistic' was changed from 'error' to 'logloss'. Explicitly set eval_metric if you'd like to restore the old behavior.\n"
     ]
    }
   ],
   "source": [
    "cv_stacking_results = cross_validate(clf, X, y,\n",
    "                        scoring=scoring, cv=5,\n",
    "                        return_estimator=False)\n",
    "cv_xgb_results = cross_validate(xgb_model, X, y,\n",
    "                        scoring=scoring, cv=5,\n",
    "                        return_estimator=False)\n",
    "cv_ab_results = cross_validate(adaBoost_clf, X, y,\n",
    "                        scoring=scoring, cv=5,\n",
    "                        return_estimator=False)"
   ]
  },
  {
   "cell_type": "markdown",
   "metadata": {},
   "source": [
    "### Predict values"
   ]
  },
  {
   "cell_type": "code",
   "execution_count": 43,
   "metadata": {},
   "outputs": [],
   "source": [
    "# y_swm_pred = cross_val_predict(pipeline_svm, X, y)\n",
    "# y_dt_pred = cross_val_predict(pipeline_dt, X, y)\n",
    "# y_nb_pred = cross_val_predict(pipeline_nb, X, y)\n",
    "# y_rf_pred = cross_val_predict(pipeline_rf, X, y)"
   ]
  },
  {
   "cell_type": "code",
   "execution_count": 44,
   "metadata": {},
   "outputs": [
    {
     "data": {
      "text/plain": [
       "Pipeline(steps=[('scalar 4', StandardScaler()),\n",
       "                ('rf_classifier', RandomForestClassifier(n_estimators=200))])"
      ]
     },
     "execution_count": 44,
     "metadata": {},
     "output_type": "execute_result"
    }
   ],
   "source": [
    "X_train, X_test, y_train, y_test = train_test_split(X, y, test_size=0.2)\n",
    "pipeline_svm.fit(X_train, y_train)\n",
    "pipeline_dt.fit(X_train, y_train)\n",
    "pipeline_nb.fit(X_train, y_train)\n",
    "pipeline_rf.fit(X_train, y_train)"
   ]
  },
  {
   "cell_type": "code",
   "execution_count": 45,
   "metadata": {},
   "outputs": [],
   "source": [
    "#r_probs = [0 for _ in range(len(y_test))]\n",
    "probs_swm = pipeline_svm.predict_proba(X_test)\n",
    "probs_dt = pipeline_dt.predict_proba(X_test)\n",
    "probs_nb = pipeline_nb.predict_proba(X_test)\n",
    "probs_rf = pipeline_rf.predict_proba(X_test)\n",
    "\n",
    "### Probabilities for the positive outcome is kept\n",
    "probs_swm = probs_swm[:,1]\n",
    "probs_dt = probs_dt[:,1]\n",
    "probs_nb = probs_nb[:,1]\n",
    "probs_rf = probs_rf[:,1]"
   ]
  },
  {
   "cell_type": "code",
   "execution_count": 46,
   "metadata": {},
   "outputs": [],
   "source": [
    "auc_svm = metrics.roc_auc_score(y_test, probs_swm)\n",
    "auc_dt = metrics.roc_auc_score(y_test, probs_dt)\n",
    "auc_nb = metrics.roc_auc_score(y_test, probs_nb)\n",
    "auc_rf = metrics.roc_auc_score(y_test, probs_rf)"
   ]
  },
  {
   "cell_type": "code",
   "execution_count": 47,
   "metadata": {},
   "outputs": [],
   "source": [
    "fpr_swm, tpr_swm, thresholds_swm = metrics.roc_curve(y_test, probs_swm)\n",
    "fpr_dt, tpr_dt, thresholds_dt = metrics.roc_curve(y_test, probs_dt)\n",
    "fpr_nb, tpr_nb, thresholds_nb = metrics.roc_curve(y_test, probs_nb)\n",
    "fpr_rf, tpr_rf, thresholds_rf = metrics.roc_curve(y_test, probs_rf)"
   ]
  },
  {
   "cell_type": "markdown",
   "metadata": {},
   "source": [
    "# Results"
   ]
  },
  {
   "cell_type": "code",
   "execution_count": 48,
   "metadata": {},
   "outputs": [],
   "source": [
    "from sklearn.metrics import classification_report\n",
    "from sklearn.metrics import confusion_matrix\n",
    "#from sklearn.datasets import make_classification"
   ]
  },
  {
   "cell_type": "markdown",
   "metadata": {},
   "source": [
    "### scores"
   ]
  },
  {
   "cell_type": "code",
   "execution_count": 62,
   "metadata": {
    "scrolled": true
   },
   "outputs": [
    {
     "name": "stdout",
     "output_type": "stream",
     "text": [
      "SWM Scores: [0.92118499 0.86178046 0.84719857 0.85588685 0.77298434]\n",
      "Mean: 0.8518070430052868\n",
      "\n",
      "Decision tree Scores: [0.90779809 0.89728847 0.87172179 0.87779525 0.7823578 ]\n",
      "Mean: 0.8673922823519342\n",
      "\n",
      "Naive bayes Scores: [0.51917108 0.55599557 0.40606327 0.50279532 0.57143782]\n",
      "Mean: 0.5110926102570704\n",
      "\n",
      "Random forest: [0.90847345 0.89069007 0.88700552 0.907296   0.79976784]\n",
      "Mean: 0.8786465777080522\n",
      "\n",
      "Stacking classifier Scores: [0.91967063 0.89628047 0.88280548 0.91768539 0.79023471]\n",
      "Mean: 0.8813353363660628\n",
      "\n",
      "xgboost Scores: [0.91116523 0.89531492 0.89047711 0.90500501 0.80120198]\n",
      "Mean: 0.8806328505197618\n",
      "\n",
      "adaBoost Scores: [0.92199619 0.89281512 0.87258715 0.88516904 0.77376375]\n",
      "Mean: 0.8692662490378071\n"
     ]
    }
   ],
   "source": [
    "print(f\"SWM Scores: {cv_swm_results['test_precision_macro']}\")\n",
    "print(f\"Mean: {np.mean(cv_swm_results['test_precision_macro'])}\")\n",
    "print()\n",
    "print(f\"Decision tree Scores: {cv_dt_results['test_precision_macro']}\")\n",
    "print(f\"Mean: {np.mean(cv_dt_results['test_precision_macro'])}\")\n",
    "print()\n",
    "print(f\"Naive bayes Scores: {cv_nb_results['test_precision_macro']}\")\n",
    "print(f\"Mean: {np.mean(cv_nb_results['test_precision_macro'])}\")\n",
    "print()\n",
    "print(f\"Random forest: {cv_rf_results['test_precision_macro']}\")\n",
    "print(f\"Mean: {np.mean(cv_rf_results['test_precision_macro'])}\")\n",
    "print()\n",
    "print(f\"Stacking classifier Scores: {cv_stacking_results['test_precision_macro']}\")\n",
    "print(f\"Mean: {np.mean(cv_stacking_results['test_precision_macro'])}\")\n",
    "print()\n",
    "print(f\"xgboost Scores: {cv_xgb_results['test_precision_macro']}\")\n",
    "print(f\"Mean: {np.mean(cv_xgb_results['test_precision_macro'])}\")\n",
    "print()\n",
    "print(f\"adaBoost Scores: {cv_ab_results['test_precision_macro']}\")\n",
    "print(f\"Mean: {np.mean(cv_ab_results['test_precision_macro'])}\")"
   ]
  },
  {
   "cell_type": "markdown",
   "metadata": {},
   "source": [
    "### Evaluate on MIT-BIH Normal Sinus Rhythm Database"
   ]
  },
  {
   "cell_type": "code",
   "execution_count": 75,
   "metadata": {},
   "outputs": [
    {
     "name": "stdout",
     "output_type": "stream",
     "text": [
      "SVM: 0.9009796867216472\n",
      "DT: 0.3611003487020535\n",
      "NB: 0.9970111252559916\n",
      "RF: 0.1990922676703382\n"
     ]
    }
   ],
   "source": [
    "print(f\"SVM: {pipeline_svm.score(X_test_nsr, y_test_nsr)}\")\n",
    "print(f\"DT: {pipeline_dt.score(X_test_nsr, y_test_nsr)}\")\n",
    "print(f\"NB: {pipeline_nb.score(X_test_nsr, y_test_nsr)}\")\n",
    "print(f\"RF: {pipeline_rf.score(X_test_nsr, y_test_nsr)}\")"
   ]
  },
  {
   "cell_type": "code",
   "execution_count": 50,
   "metadata": {},
   "outputs": [],
   "source": [
    "# print(f\"SWM Scores: {np.round(score_svm, 5)}\")\n",
    "# print(f\"Mean score: {np.round(np.mean(score_svm), 5)} ({np.round(np.std(score_svm), 5)})\")\n",
    "# print()\n",
    "# print(f\"Decision tree Scores: {np.round(score_dt, 5)}\")\n",
    "# print(f\"Mean score: {np.round(np.mean(score_dt), 5)} ({np.round(np.std(score_dt), 5)})\")\n",
    "# print()\n",
    "# print(f\"Naive bayes Scores: {np.round(score_nb, 5)}\")\n",
    "# print(f\"Mean score: {np.round(np.mean(score_nb), 5)} ({np.round(np.std(score_nb), 5)})\")\n",
    "# print()\n",
    "# print(f\"Random forest Scores: {np.round(score_rf,5)}\")\n",
    "# print(f\"Mean score: {np.round(np.mean(score_rf), 5)} ({np.round(np.std(score_rf), 5)})\")\n",
    "# print()\n",
    "# print(f\"Stacking classifier Scores: {np.round(score_stacking,5)}\")\n",
    "# print(f\"Mean score: {np.round(np.mean(score_stacking), 5)} ({np.round(np.std(score_stacking), 5)})\")\n",
    "# print()\n",
    "# print(f\"xgboost Scores: {np.round(score_xgb,5)}\")\n",
    "# print(f\"Mean score: {np.round(np.mean(score_xgb), 5)} ({np.round(np.std(score_xgb), 5)})\")\n",
    "# print()\n",
    "# print(f\"adaBoost Scores: {np.round(score_ab,5)}\")\n",
    "# print(f\"Mean score: {np.round(np.mean(score_ab), 5)} ({np.round(np.std(score_ab), 5)})\")"
   ]
  },
  {
   "cell_type": "markdown",
   "metadata": {},
   "source": [
    "### Clasification report for SVM"
   ]
  },
  {
   "cell_type": "code",
   "execution_count": 51,
   "metadata": {},
   "outputs": [],
   "source": [
    "# y_pred_test = pipeline_svm.predict(X_test)\n",
    "# # print(classification_report(y_pred_test, y_test))\n",
    "\n",
    "# ### (above) the parameters was inputted in wrong positions.\n",
    "# target_names = ['class 0', 'class 1']\n",
    "# print(classification_report(y_test, y_pred_test, target_names=target_names))"
   ]
  },
  {
   "cell_type": "markdown",
   "metadata": {},
   "source": [
    "### Confusion Matrix"
   ]
  },
  {
   "cell_type": "code",
   "execution_count": 52,
   "metadata": {},
   "outputs": [],
   "source": [
    "y_pred_svm = pipeline_svm.predict(X_test)\n",
    "y_pred_dt = pipeline_dt.predict(X_test)\n",
    "y_pred_nb = pipeline_nb.predict(X_test)\n",
    "y_pred_rf = pipeline_rf.predict(X_test)\n",
    "\n",
    "cm_svm = confusion_matrix(y_test, y_pred_svm)\n",
    "cm_dt = confusion_matrix(y_test, y_pred_dt)\n",
    "cm_nb = confusion_matrix(y_test, y_pred_nb)\n",
    "cm_rf = confusion_matrix(y_test, y_pred_rf)\n",
    "target_names = ['Normal', 'AFIB']"
   ]
  },
  {
   "cell_type": "code",
   "execution_count": 53,
   "metadata": {},
   "outputs": [],
   "source": [
    "def plot_confusion_matrix(cm,\n",
    "                          target_names,\n",
    "                          title='Confusion matrix',\n",
    "                          cmap=None,\n",
    "                          normalize=True):\n",
    "    \"\"\"\n",
    "    given a sklearn confusion matrix (cm), make a nice plot\n",
    "\n",
    "    Arguments\n",
    "    ---------\n",
    "    cm:           confusion matrix from sklearn.metrics.confusion_matrix\n",
    "\n",
    "    target_names: given classification classes such as [0, 1, 2]\n",
    "                  the class names, for example: ['high', 'medium', 'low']\n",
    "\n",
    "    title:        the text to display at the top of the matrix\n",
    "\n",
    "    cmap:         the gradient of the values displayed from matplotlib.pyplot.cm\n",
    "                  see http://matplotlib.org/examples/color/colormaps_reference.html\n",
    "                  plt.get_cmap('jet') or plt.cm.Blues\n",
    "\n",
    "    normalize:    If False, plot the raw numbers\n",
    "                  If True, plot the proportions\n",
    "\n",
    "    Usage\n",
    "    -----\n",
    "    plot_confusion_matrix(cm           = cm,                  # confusion matrix created by\n",
    "                                                              # sklearn.metrics.confusion_matrix\n",
    "                          normalize    = True,                # show proportions\n",
    "                          target_names = y_labels_vals,       # list of names of the classes\n",
    "                          title        = best_estimator_name) # title of graph\n",
    "\n",
    "    Citiation\n",
    "    ---------\n",
    "    http://scikit-learn.org/stable/auto_examples/model_selection/plot_confusion_matrix.html\n",
    "    \"\"\"\n",
    "    import matplotlib.pyplot as plt\n",
    "    import numpy as np\n",
    "    import itertools\n",
    "\n",
    "    accuracy = np.trace(cm) / np.sum(cm).astype('float')\n",
    "    misclass = 1 - accuracy\n",
    "\n",
    "    if cmap is None:\n",
    "        cmap = plt.get_cmap('Blues')\n",
    "\n",
    "    plt.figure(figsize=(7, 5))\n",
    "    plt.imshow(cm, interpolation='nearest', cmap=cmap)\n",
    "    plt.title(title)\n",
    "    plt.colorbar()\n",
    "\n",
    "    if target_names is not None:\n",
    "        tick_marks = np.arange(len(target_names))\n",
    "        plt.xticks(tick_marks, target_names, rotation=45)\n",
    "        plt.yticks(tick_marks, target_names)\n",
    "\n",
    "    if normalize:\n",
    "        cm = cm.astype('float') / cm.sum(axis=1)[:, np.newaxis]\n",
    "\n",
    "\n",
    "    thresh = cm.max() / 1.5 if normalize else cm.max() / 2\n",
    "    for i, j in itertools.product(range(cm.shape[0]), range(cm.shape[1])):\n",
    "        if normalize:\n",
    "            plt.text(j, i, \"{:0.4f}\".format(cm[i, j]),\n",
    "                     horizontalalignment=\"center\",\n",
    "                     color=\"white\" if cm[i, j] > thresh else \"black\")\n",
    "        else:\n",
    "            plt.text(j, i, \"{:,}\".format(cm[i, j]),\n",
    "                     horizontalalignment=\"center\",\n",
    "                     color=\"white\" if cm[i, j] > thresh else \"black\")\n",
    "\n",
    "\n",
    "    plt.tight_layout()\n",
    "    plt.ylabel('True label')\n",
    "    plt.xlabel('Predicted label\\naccuracy={:0.4f}; misclass={:0.4f}'.format(accuracy, misclass))\n",
    "    plt.show()"
   ]
  },
  {
   "cell_type": "code",
   "execution_count": 54,
   "metadata": {},
   "outputs": [
    {
     "data": {
      "image/png": "[encoded data removed]",
      "text/plain": [
       "<Figure size 504x360 with 2 Axes>"
      ]
     },
     "metadata": {
      "needs_background": "light"
     },
     "output_type": "display_data"
    }
   ],
   "source": [
    "plot_confusion_matrix(cm=cm_svm, target_names=target_names)"
   ]
  },
  {
   "cell_type": "markdown",
   "metadata": {},
   "source": [
    "### ROC curve"
   ]
  },
  {
   "cell_type": "code",
   "execution_count": 55,
   "metadata": {
    "scrolled": false
   },
   "outputs": [
    {
     "data": {
      "image/png": "[encoded data removed]",
      "text/plain": [
       "<Figure size 504x360 with 1 Axes>"
      ]
     },
     "metadata": {
      "needs_background": "light"
     },
     "output_type": "display_data"
    }
   ],
   "source": [
    "plt.figure(figsize=(7,5))\n",
    "plt.plot([0, 1], [0, 1], 'k--') # dashed line with black(k) color\n",
    "plt.plot(fpr_rf, tpr_rf, label='RF (auc = %0.3f)' % auc_rf)\n",
    "plt.plot(fpr_swm, tpr_swm, label='SWM (auc = %0.3f)' % auc_svm)\n",
    "plt.plot(fpr_dt, tpr_dt, label='DT (auc = %0.3f)' % auc_dt)\n",
    "plt.plot(fpr_nb, tpr_nb, label='NB (auc = %0.3f)' % auc_nb)\n",
    "plt.xlabel('False positive rate')\n",
    "plt.ylabel('True positive rate')\n",
    "plt.title('ROC curve')\n",
    "plt.legend(loc='best')\n",
    "plt.show()"
   ]
  },
  {
   "cell_type": "markdown",
   "metadata": {},
   "source": [
    "# GridsearchCV"
   ]
  },
  {
   "cell_type": "code",
   "execution_count": 56,
   "metadata": {},
   "outputs": [],
   "source": [
    "# from sklearn.model_selection import GridSearchCV\n",
    "# pipeline_nb.get_params().keys()"
   ]
  },
  {
   "cell_type": "code",
   "execution_count": 57,
   "metadata": {
    "scrolled": true
   },
   "outputs": [],
   "source": [
    "# from time import time\n",
    "# t0 = time()\n",
    "# parameters = {'svm_classifier__C':[1, 10, 20], 'svm_classifier__kernel':['linear', 'rbf']}\n",
    "# #parameters = {'rf_classifier__n_estimators': [200, 700], 'rf_classifier__max_features': ['auto', 'sqrt', 'log2'], 'rf_classifier__criterion':['gini','entropy']}\n",
    "# clf = GridSearchCV(pipeline_swm, parameters, cv=5)\n",
    "# clf.fit(X_train, y_train)\n",
    "# print(\"done in %0.3fs\" % (time() - t0))"
   ]
  },
  {
   "cell_type": "code",
   "execution_count": 58,
   "metadata": {},
   "outputs": [],
   "source": [
    "#df_search_results = pd.DataFrame(clf.cv_results_)\n",
    "#df_search_results"
   ]
  },
  {
   "cell_type": "code",
   "execution_count": 59,
   "metadata": {
    "scrolled": false
   },
   "outputs": [],
   "source": [
    "#df_search_results[['param_rf_classifier__criterion', 'param_rf_classifier__max_depth', 'mean_test_score']]\n",
    "#clf.best_params_"
   ]
  }
 ],
 "metadata": {
  "kernelspec": {
   "display_name": "Python 3",
   "language": "python",
   "name": "python3"
  },
  "language_info": {
   "codemirror_mode": {
    "name": "ipython",
    "version": 3
   },
   "file_extension": ".py",
   "mimetype": "text/x-python",
   "name": "python",
   "nbconvert_exporter": "python",
   "pygments_lexer": "ipython3",
   "version": "3.8.5"
  }
 },
 "nbformat": 4,
 "nbformat_minor": 4
}
