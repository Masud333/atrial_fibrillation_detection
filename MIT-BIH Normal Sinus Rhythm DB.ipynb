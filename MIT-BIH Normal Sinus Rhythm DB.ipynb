{
 "cells": [
  {
   "cell_type": "code",
   "execution_count": 1,
   "metadata": {},
   "outputs": [],
   "source": [
    "#import seaborn as sn\n",
    "import wfdb\n",
    "from wfdb import processing\n",
    "import os\n",
    "import glob\n",
    "import pandas as pd\n",
    "import numpy as np\n",
    "#%matplotlib notebook\n",
    "import matplotlib.pyplot as plt\n",
    "from scipy import signal"
   ]
  },
  {
   "cell_type": "code",
   "execution_count": 2,
   "metadata": {
    "scrolled": false
   },
   "outputs": [],
   "source": [
    "### 128 ticks per second NOT 250\n",
    "fs = 128\n",
    "fs_target = 250\n",
    "\n",
    "\n",
    "records_nsr = []\n",
    "properties_nsr = []\n",
    "annot_nsr = []\n",
    "AnnSymb_nsr = []\n",
    "AnnSamp_nsr = []\n",
    "AnnRhythm_nsr = []\n",
    "#Rpeak_Samp = []\n",
    "#Rpeak_Symb = []\n",
    "new_records_nsr = []\n",
    "AnnSamp_250_nsr = []\n",
    "\n",
    "for f in glob.glob('C:/Users/masud/Skrivebord/Github_Bachelor_Project/wfdb-python/normal-sinus-rhythm-data/*.dat'): ##### change the path (afib) to your own directory.\n",
    "    sig, fields = wfdb.rdsamp(f[:-4], channels=[1])  #### In this function, you have the opportunity to pass \"channels=[0]\" or \"channels=[1]\" to select channel 1 or 2.\n",
    "    \n",
    "#    x, _ = processing.resample_sig(x=sig[:,0], fs=fields['fs'], fs_target=250)\n",
    "#    new_sig = processing.resample_sig(x=sig, fs=128, fs_target=250)\n",
    "#    new_sig = signal.resample(sig, 250)\n",
    "    \n",
    "    ann = wfdb.rdann(f[:-4], 'atr')\n",
    "#    QRS = wfdb.rdann(f[:-4], 'qrs') ### xws extension instead\n",
    "    Symb = pd.Series(ann.symbol)\n",
    "    Samp = pd.Series(ann.sample)\n",
    "#    x = processing.resample_sig(Samp, fs=fields['fs'], fs_target=250)\n",
    "#    QRS_Symb = pd.Series(QRS.symbol)\n",
    "#    QRS_Samp = pd.Series(QRS.sample)\n",
    "    Rhythm = pd.Series(ann.aux_note)\n",
    "    records_nsr.append(sig)\n",
    "    properties_nsr.append(fields)\n",
    "    annot_nsr.append(ann)\n",
    "    AnnSymb_nsr.append(Symb)\n",
    "    AnnSamp_nsr.append(Samp)\n",
    "#    AnnSamp_250_nsr.append(x)\n",
    "#    Rpeak_Symb.append(QRS_Symb)\n",
    "#    Rpeak_Samp.append(QRS_Samp)\n",
    "    AnnRhythm_nsr.append(Rhythm)\n",
    "    \n",
    "    \n",
    "\n",
    "AnnSymb_nsr = pd.Series(AnnSymb_nsr).values\n",
    "AnnSamp_nsr = pd.Series(AnnSamp_nsr).values"
   ]
  },
  {
   "cell_type": "markdown",
   "metadata": {},
   "source": [
    "# --------------------------- ALTERNATIVE (BELOW) ---------------------------"
   ]
  },
  {
   "cell_type": "code",
   "execution_count": 3,
   "metadata": {},
   "outputs": [],
   "source": [
    "# ### 128 ticks per second NOT 250\n",
    "# fs = 128\n",
    "# fs_target = 250\n",
    "\n",
    "\n",
    "# records_nsr2 = []\n",
    "# properties_nsr2 = []\n",
    "# annot_nsr2 = []\n",
    "# AnnSymb_nsr2 = []\n",
    "# AnnSamp_nsr2 = []\n",
    "# AnnRhythm_nsr2 = []\n",
    "# Rpeak_Samp = []\n",
    "# Rpeak_Symb = []\n",
    "# new_records_nsr2 = []\n",
    "# AnnSamp_250_nsr2 = []\n",
    "\n",
    "# for f in glob.glob('C:/Users/masud/Skrivebord/Github_Bachelor_Project/wfdb-python/normal-sinus-rhythm-data/*.dat'):\n",
    "#     sig, fields = wfdb.rdsamp(f[:-4], channels=[1])  #### pass \"channels=[0]\" or \"channels=[1]\" to select channel 1 or 2.\n",
    "    \n",
    "# #    x, _ = processing.resample_sig(x=sig[:,0], fs=fields['fs'], fs_target=250)\n",
    "# #    new_sig = processing.resample_sig(x=sig, fs=128, fs_target=250)\n",
    "# #    new_sig = signal.resample(sig, 250)\n",
    "    \n",
    "#     ann = wfdb.rdann(f[:-4], 'atr')\n",
    "#     QRS = wfdb.rdann(f[:-4], 'xws') ### xws extension instead\n",
    "#     Symb = pd.Series(ann.symbol)\n",
    "#     Samp = pd.Series(ann.sample)\n",
    "#     x = processing.resample_sig(Samp, fs=fields['fs'], fs_target=250)\n",
    "#     QRS_Symb = pd.Series(QRS.symbol)\n",
    "#     QRS_Samp = pd.Series(QRS.sample)\n",
    "#     Rhythm = pd.Series(ann.aux_note)\n",
    "#     records_nsr2.append(sig)\n",
    "#     properties_nsr2.append(fields)\n",
    "#     annot_nsr2.append(ann)\n",
    "#     AnnSymb_nsr2.append(Symb)\n",
    "#     AnnSamp_nsr2.append(Samp)\n",
    "#     AnnSamp_250_nsr2.append(x)\n",
    "#     Rpeak_Symb.append(QRS_Symb)\n",
    "#     Rpeak_Samp.append(QRS_Samp)\n",
    "#     AnnRhythm_nsr2.append(Rhythm)\n",
    "    \n",
    "    \n",
    "\n",
    "# AnnSymb_nsr2 = pd.Series(AnnSymb_nsr2).values\n",
    "# AnnSamp_nsr2 = pd.Series(AnnSamp_nsr2).values"
   ]
  },
  {
   "cell_type": "markdown",
   "metadata": {},
   "source": [
    "##### Contains 18 records (AFIB contains 23)"
   ]
  },
  {
   "cell_type": "code",
   "execution_count": 4,
   "metadata": {},
   "outputs": [],
   "source": [
    "#print(len(AnnSamp_nsr2))\n",
    "#print(len(AnnSamp_nsr2[17]))"
   ]
  },
  {
   "cell_type": "code",
   "execution_count": 5,
   "metadata": {},
   "outputs": [],
   "source": [
    "#print(AnnRhythm_nsr2[17])"
   ]
  },
  {
   "cell_type": "code",
   "execution_count": 6,
   "metadata": {},
   "outputs": [],
   "source": [
    "#print(Rpeak_Samp)"
   ]
  },
  {
   "cell_type": "markdown",
   "metadata": {},
   "source": [
    "# --------------------------- ALTERNATIVE (ABOVE) ---------------------------"
   ]
  },
  {
   "cell_type": "code",
   "execution_count": 7,
   "metadata": {
    "scrolled": true
   },
   "outputs": [],
   "source": [
    "# print(\"Prints the last signal of the loop above\")\n",
    "# print(f\"sig length:     {len(sig)}\")\n",
    "# print(f\"new_sig length: {len(x)}\")"
   ]
  },
  {
   "cell_type": "code",
   "execution_count": 8,
   "metadata": {
    "scrolled": true
   },
   "outputs": [],
   "source": [
    "# print(AnnRhythm_nsr[0])\n",
    "# print(\"------------------------------------\")\n",
    "# print(AnnSamp_nsr[0])\n",
    "# print(\"------------------------------------\")\n",
    "# print(\"All samples of R-peaks below\")\n",
    "# print(Rpeak_Samp[0])\n",
    "# print(\"------------------------------------\")\n",
    "# print(Rpeak_Symb[0])\n",
    "# print(records[0])\n",
    "# print(type(records[0]))\n",
    "# print(np.where(Rpeak_Samp[22] <= ))\n",
    "# df.iloc[22] # acessing ROW 22\n",
    "# print(\"------------------------------------\")"
   ]
  },
  {
   "cell_type": "code",
   "execution_count": 9,
   "metadata": {},
   "outputs": [],
   "source": [
    "#print(AnnSamp_nsr[0])\n",
    "#print(AnnSamp_nsr[0]*2)"
   ]
  },
  {
   "cell_type": "markdown",
   "metadata": {},
   "source": [
    "# Pre processing data..."
   ]
  },
  {
   "cell_type": "code",
   "execution_count": 3,
   "metadata": {
    "scrolled": true
   },
   "outputs": [],
   "source": [
    "labeled_Rpeaks_nsr = []\n",
    "appended_data_nsr = []\n",
    "for i in range(18): ## 18 records\n",
    "    df = pd.DataFrame(AnnSamp_nsr[i]*2) ### Roughly resampling from 128 to 250 Hz\n",
    "    appended_data_nsr.append(df)\n",
    "        \n",
    "\n",
    "labeled_Rpeaks_nsr = pd.concat(appended_data_nsr)\n",
    "#labeled_Rpeaks_nsr"
   ]
  },
  {
   "cell_type": "code",
   "execution_count": 4,
   "metadata": {},
   "outputs": [
    {
     "data": {
      "text/html": [
       "<div>\n",
       "<style scoped>\n",
       "    .dataframe tbody tr th:only-of-type {\n",
       "        vertical-align: middle;\n",
       "    }\n",
       "\n",
       "    .dataframe tbody tr th {\n",
       "        vertical-align: top;\n",
       "    }\n",
       "\n",
       "    .dataframe thead th {\n",
       "        text-align: right;\n",
       "    }\n",
       "</style>\n",
       "<table border=\"1\" class=\"dataframe\">\n",
       "  <thead>\n",
       "    <tr style=\"text-align: right;\">\n",
       "      <th></th>\n",
       "      <th>Rpeaks</th>\n",
       "      <th>Label</th>\n",
       "    </tr>\n",
       "  </thead>\n",
       "  <tbody>\n",
       "    <tr>\n",
       "      <th>0</th>\n",
       "      <td>2</td>\n",
       "      <td>0</td>\n",
       "    </tr>\n",
       "    <tr>\n",
       "      <th>1</th>\n",
       "      <td>104</td>\n",
       "      <td>0</td>\n",
       "    </tr>\n",
       "    <tr>\n",
       "      <th>2</th>\n",
       "      <td>258</td>\n",
       "      <td>0</td>\n",
       "    </tr>\n",
       "    <tr>\n",
       "      <th>3</th>\n",
       "      <td>414</td>\n",
       "      <td>0</td>\n",
       "    </tr>\n",
       "    <tr>\n",
       "      <th>4</th>\n",
       "      <td>568</td>\n",
       "      <td>0</td>\n",
       "    </tr>\n",
       "    <tr>\n",
       "      <th>...</th>\n",
       "      <td>...</td>\n",
       "      <td>...</td>\n",
       "    </tr>\n",
       "    <tr>\n",
       "      <th>111258</th>\n",
       "      <td>19446442</td>\n",
       "      <td>0</td>\n",
       "    </tr>\n",
       "    <tr>\n",
       "      <th>111259</th>\n",
       "      <td>19446610</td>\n",
       "      <td>0</td>\n",
       "    </tr>\n",
       "    <tr>\n",
       "      <th>111260</th>\n",
       "      <td>19446776</td>\n",
       "      <td>0</td>\n",
       "    </tr>\n",
       "    <tr>\n",
       "      <th>111261</th>\n",
       "      <td>19446938</td>\n",
       "      <td>0</td>\n",
       "    </tr>\n",
       "    <tr>\n",
       "      <th>111262</th>\n",
       "      <td>19447046</td>\n",
       "      <td>0</td>\n",
       "    </tr>\n",
       "  </tbody>\n",
       "</table>\n",
       "<p>1806792 rows × 2 columns</p>\n",
       "</div>"
      ],
      "text/plain": [
       "          Rpeaks  Label\n",
       "0              2      0\n",
       "1            104      0\n",
       "2            258      0\n",
       "3            414      0\n",
       "4            568      0\n",
       "...          ...    ...\n",
       "111258  19446442      0\n",
       "111259  19446610      0\n",
       "111260  19446776      0\n",
       "111261  19446938      0\n",
       "111262  19447046      0\n",
       "\n",
       "[1806792 rows x 2 columns]"
      ]
     },
     "execution_count": 4,
     "metadata": {},
     "output_type": "execute_result"
    }
   ],
   "source": [
    "labeled_Rpeaks_nsr.rename(columns={0: 'Rpeaks'},\n",
    "          inplace=True, errors='raise')\n",
    "labeled_Rpeaks_nsr['Label'] = 0\n",
    "labeled_Rpeaks_nsr"
   ]
  },
  {
   "cell_type": "code",
   "execution_count": 5,
   "metadata": {},
   "outputs": [
    {
     "data": {
      "text/plain": [
       "False"
      ]
     },
     "execution_count": 5,
     "metadata": {},
     "output_type": "execute_result"
    }
   ],
   "source": [
    "Rpeaks_nsr = labeled_Rpeaks_nsr[\"Rpeaks\"]\n",
    "Label_nsr = labeled_Rpeaks_nsr[\"Label\"]\n",
    "Label_nsr = np.array(Label_nsr, dtype=np.float64)\n",
    "\n",
    "#labeled_Rpeaks_N_AFIB[0:1000]\n",
    "labeled_Rpeaks_nsr.isnull().values.any() ### Check for NaN values"
   ]
  },
  {
   "cell_type": "markdown",
   "metadata": {},
   "source": [
    "### X"
   ]
  },
  {
   "cell_type": "markdown",
   "metadata": {},
   "source": [
    "# --------------------------- ALTERNATIVE (BELOW) ---------------------------"
   ]
  },
  {
   "cell_type": "code",
   "execution_count": 6,
   "metadata": {},
   "outputs": [],
   "source": [
    "def segmenting_record_nsr(seg_value_nsr):\n",
    "    rri2_nsr = np.diff(Rpeaks_nsr) ### Storing the intervals between rpeaks\n",
    "    #print(rri2.dtype)\n",
    "    rri2_nsr = np.array(rri2_nsr, dtype=np.float64) ### So no overflow issues happens when calc in for loop later\n",
    "    #print(rri2.dtype)\n",
    "    #print(f\"length before: {len(rri2)}\")\n",
    "    amount_nsr = -(len(rri2_nsr) % seg_value_nsr) #\n",
    "    print(f\"Amount to remove {amount_nsr}\")\n",
    "    rec_amount_nsr = rri2_nsr[:amount_nsr]\n",
    "    #print(f\"length before: {len(rec_amount)}\")\n",
    "    seg_shape_nsr = len(rec_amount_nsr) // seg_value_nsr #\n",
    "    print(f\"Shape 0: {seg_shape_nsr}\")\n",
    "    segmented_rec_nsr = rec_amount_nsr.reshape(seg_shape_nsr,seg_value_nsr) #\n",
    "    return segmented_rec_nsr"
   ]
  },
  {
   "cell_type": "code",
   "execution_count": 7,
   "metadata": {
    "scrolled": false
   },
   "outputs": [
    {
     "name": "stdout",
     "output_type": "stream",
     "text": [
      "Amount to remove -11\n",
      "Shape 0: 30113\n"
     ]
    }
   ],
   "source": [
    "segmented_record_nsr = segmenting_record_nsr(60)"
   ]
  },
  {
   "cell_type": "code",
   "execution_count": 8,
   "metadata": {},
   "outputs": [],
   "source": [
    "features2_nsr = []\n",
    "\n",
    "    ### Calculating features for every single segmented \"block\" inside the segmented_record variable\n",
    "for q in range(len(segmented_record_nsr)):\n",
    "    #MEAN\n",
    "    ff1_nsr = np.nanmean(segmented_record_nsr[q]) ### nanmean, nanstd computes values while ignoring nan-values\n",
    "    #STD\n",
    "    ff2_nsr = np.nanstd(segmented_record_nsr[q])\n",
    "    #RMSSD\n",
    "    sum_nsr = 0\n",
    "    for z in range(len(segmented_record_nsr[q]) - 1): ### loops 19 times\n",
    "        sum_nsr += (segmented_record_nsr[q][z] - segmented_record_nsr[q][z+1])**2\n",
    "    sum_multiplied_nsr = 1/(len(segmented_record_nsr) - 1) * sum_nsr\n",
    "    ff3_nsr = np.sqrt(sum_multiplied_nsr)\n",
    "    #NORMALIZED RMSSD\n",
    "    ff4_nsr = (ff3_nsr / ff1_nsr)\n",
    "    ### COVARIANCE\n",
    "    #z = np.stack((ff1, ff2))\n",
    "    #ff5 = np.cov(z) ### try cov with previous segment\n",
    "\n",
    "    my_features2_nsr = pd.Series([np.around(ff1_nsr,3), np.around(ff2_nsr,3), np.around(ff3_nsr,3), np.around(ff4_nsr,3)], \n",
    "                            index=['Mean','STD','RMSSD','Normalized RMSSD'])\n",
    "    features2_nsr.append(my_features2_nsr)"
   ]
  },
  {
   "cell_type": "code",
   "execution_count": 9,
   "metadata": {
    "scrolled": true
   },
   "outputs": [
    {
     "name": "stdout",
     "output_type": "stream",
     "text": [
      "Features for that specific segment:\n",
      "Mean                160.400\n",
      "STD                   8.830\n",
      "RMSSD                 0.338\n",
      "Normalized RMSSD      0.002\n",
      "dtype: float64\n",
      "\n",
      "features2 variable contains 30113 segments\n"
     ]
    }
   ],
   "source": [
    "n_nsr = 0\n",
    "\n",
    "print(f\"Features for that specific segment:\\n{features2_nsr[n_nsr]}\") \n",
    "print('\\n'f\"features2 variable contains {len(features2_nsr)} segments\")"
   ]
  },
  {
   "cell_type": "code",
   "execution_count": 10,
   "metadata": {},
   "outputs": [
    {
     "name": "stdout",
     "output_type": "stream",
     "text": [
      "float64\n",
      "Length of y_list: 30113\n"
     ]
    }
   ],
   "source": [
    "y_amount_nsr = Label_nsr[:-12] # <=============== (1)\n",
    "y_shape_nsr = y_amount_nsr.reshape(30113, 60) # <=============== (2)\n",
    "y_list_nsr = []\n",
    "\n",
    "### Calc if every 20 segment block is Normal synus rythm or AFIB\n",
    "for g in range(len(y_shape_nsr)):\n",
    "    #y_segment = y_shape\n",
    "    sum_segment_nsr = np.sum(y_shape_nsr[g])\n",
    "    if sum_segment_nsr >= 30: # <=============== (3)\n",
    "        sum_segment_nsr = 1\n",
    "    else: sum_segment_nsr = 0\n",
    "    y_list_nsr.append(sum_segment_nsr)\n",
    "\n",
    "y_list_nsr = np.array(y_list_nsr, dtype=np.float64)\n",
    "print(y_list_nsr.dtype)\n",
    "print(f\"Length of y_list: {len(y_list_nsr)}\")"
   ]
  },
  {
   "cell_type": "markdown",
   "metadata": {},
   "source": [
    "# --------------------------- ALTERNATIVE (ABOVE) ---------------------------"
   ]
  },
  {
   "cell_type": "code",
   "execution_count": 29,
   "metadata": {},
   "outputs": [],
   "source": [
    "# rri2 = np.diff(Rpeaks_nsr) ### Storing the intervals between rpeaks ### multiply by 2 here\n",
    "# print(rri2.dtype)\n",
    "# rri2 = np.array(rri2, dtype=np.float64) ### So no overflow issues happens when calc in for loop later\n",
    "# print(rri2.dtype)\n",
    "# print(len(rri2))\n",
    "# amount = -(len(rri2) % 20)\n",
    "# print(amount)\n",
    "# rec_amount = rri2[:amount]\n",
    "# print(f\"Divisble by 20 --> {len(rec_amount)}\")\n",
    "# segmented_rec = rec_amount.reshape(90339,20)\n",
    "# segmented_rec[0]"
   ]
  },
  {
   "cell_type": "code",
   "execution_count": 14,
   "metadata": {},
   "outputs": [],
   "source": [
    "# features_nsr = []\n",
    "\n",
    "#     ### Calculating features for every single segmented \"block\" inside the segmented_record variable\n",
    "# for x in range(len(segmented_rec)):\n",
    "#     #MEAN\n",
    "#     ff1 = np.mean(segmented_rec[x])\n",
    "#     #STD\n",
    "#     ff2 = np.std(segmented_rec[x])\n",
    "#     #RMSSD\n",
    "#     sum_ = 0\n",
    "#     for y in range(len(segmented_rec[x]) - 1): ### loops 19 times\n",
    "#         sum_ += (segmented_rec[x][y] - segmented_rec[x][y+1])**2\n",
    "#     sum_multiplied = 1/(len(segmented_rec) - 1) * sum_\n",
    "#     ff3 = np.sqrt(sum_multiplied)\n",
    "#     #NORMALIZED RMSSD\n",
    "#     ff4 = (ff3 / ff1)\n",
    "\n",
    "#     my_features_nsr = pd.Series([np.around(ff1,3), np.around(ff2,3), np.around(ff3,3), np.around(ff4,3)], \n",
    "#                             index=['Mean','STD','RMSSD','Normalized RMSSD'])\n",
    "#     features_nsr.append(my_features_nsr)"
   ]
  },
  {
   "cell_type": "code",
   "execution_count": 30,
   "metadata": {},
   "outputs": [],
   "source": [
    "# n = 0\n",
    "\n",
    "# print(f\"Features for that specific segment:\\n{features_nsr[n]}\") \n",
    "# print('\\n'f\"features_nsr variable contains {len(features_nsr)} segments\")"
   ]
  },
  {
   "cell_type": "markdown",
   "metadata": {},
   "source": [
    "### Y"
   ]
  },
  {
   "cell_type": "code",
   "execution_count": 31,
   "metadata": {},
   "outputs": [],
   "source": [
    "# y_amount = Label_nsr[:- 12] ### So it is divisible by 20\n",
    "# y_shape = y_amount.reshape(90339,20)\n",
    "# y_list = []\n",
    "\n",
    "# ### Calc if every 20 segment block is Normal synus rythm or AFIB\n",
    "# for l in range(len(y_shape)):\n",
    "#     #y_segment = y_shape\n",
    "#     sum_segment = np.sum(y_shape[l])\n",
    "#     if sum_segment >= 10:\n",
    "#         sum_segment = 1\n",
    "#     else: sum_segment = 0\n",
    "#     y_list.append(sum_segment)\n",
    "\n",
    "# y_list = np.array(y_list, dtype=np.float64)\n",
    "# print(y_list.dtype)\n",
    "# print(f\"Length of y_list: {len(y_list)}\")"
   ]
  },
  {
   "cell_type": "markdown",
   "metadata": {},
   "source": [
    "### X_train, X_test...."
   ]
  },
  {
   "cell_type": "code",
   "execution_count": 17,
   "metadata": {},
   "outputs": [],
   "source": [
    "# split_amount = int(90339 * 0.2)"
   ]
  },
  {
   "cell_type": "code",
   "execution_count": 32,
   "metadata": {},
   "outputs": [],
   "source": [
    "# y_test_nsr = np.asarray(y_list[:split_amount])\n",
    "# print(f\"shape of y_test_nsr: {np.shape(y_test_nsr)}, type of y_test_nsr: {type(y_test_nsr)}\")\n",
    "# X_test_nsr = np.asarray(features_nsr[:split_amount])\n",
    "# print(f\"shape of X_test_nsr: {np.shape(X_test_nsr)}, type of X_test_nsr: {type(X_test_nsr)}\")\n",
    "\n",
    "# y_train_nsr = np.asarray(y_list[:-split_amount])\n",
    "# print(f\"shape of y_train_nsr: {np.shape(y_train_nsr)}, type of y_train_nsr: {type(y_train_nsr)}\")\n",
    "# X_train_nsr = np.asarray(features_nsr[:-split_amount])\n",
    "# print(f\"shape of X_train_nsr: {np.shape(X_train_nsr)}, type of X_train_nsr: {type(X_train_nsr)}\")"
   ]
  },
  {
   "cell_type": "markdown",
   "metadata": {},
   "source": [
    "# CYGWIN"
   ]
  },
  {
   "cell_type": "code",
   "execution_count": 19,
   "metadata": {},
   "outputs": [],
   "source": [
    "# import os\n",
    "# import subprocess #, shlex\n",
    "\n",
    "# def cygwin(command):\n",
    "#     \"\"\"\n",
    "#     Run a Bash command with Cygwin and return output.\n",
    "#     \"\"\"\n",
    "#     # Find Cygwin binary directory\n",
    "#     for cygwin_bin in [r'C:\\cygwin\\bin', r'C:\\cygwin64\\bin']:\n",
    "#         if os.path.isdir(cygwin_bin):\n",
    "#             break\n",
    "#     else:\n",
    "#         raise RuntimeError('Cygwin not found!')\n",
    "#     # Make sure Cygwin binary directory in path\n",
    "#     if cygwin_bin not in os.environ['PATH']:\n",
    "#         os.environ['PATH'] += ';' + cygwin_bin\n",
    "#     # Launch Bash\n",
    "#     p = subprocess.Popen(\n",
    "#         args=['bash', '-c', command],\n",
    "#         stdout=subprocess.PIPE, stderr=subprocess.PIPE)\n",
    "#     p.wait()\n",
    "#     # Raise exception if return code indicates error\n",
    "#     if p.returncode != 0:\n",
    "#         raise RuntimeError(p.stderr.read().rstrip())\n",
    "#     # Remove trailing newline from output\n",
    "#     return (p.stdout.read() + p.stderr.read()).rstrip()"
   ]
  },
  {
   "cell_type": "code",
   "execution_count": 20,
   "metadata": {},
   "outputs": [],
   "source": [
    "# cygwin('pwd')"
   ]
  },
  {
   "cell_type": "code",
   "execution_count": 21,
   "metadata": {},
   "outputs": [],
   "source": [
    "# cygwin('rdann -r 04936 -f 0 -a atr -v > data/04936_atr.txt')\n",
    "\n",
    "# command_atr_new = \"rdann -r 04936 -f 0 -a atr -v > /data/04936_atr.txt\"\n",
    "# command_atr = \"rdann -r 04936 -f 0 -a atr -v > C:/Users/masud/Desktop/Github_Bachelor_Project/wfdb-python/data/04936_atr.txt\""
   ]
  }
 ],
 "metadata": {
  "kernelspec": {
   "display_name": "Python 3",
   "language": "python",
   "name": "python3"
  },
  "language_info": {
   "codemirror_mode": {
    "name": "ipython",
    "version": 3
   },
   "file_extension": ".py",
   "mimetype": "text/x-python",
   "name": "python",
   "nbconvert_exporter": "python",
   "pygments_lexer": "ipython3",
   "version": "3.8.8"
  }
 },
 "nbformat": 4,
 "nbformat_minor": 4
}
