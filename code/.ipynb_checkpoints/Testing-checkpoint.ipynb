{
 "cells": [
  {
   "cell_type": "markdown",
   "metadata": {},
   "source": [
    "# CYGWIN testing"
   ]
  },
  {
   "cell_type": "code",
   "execution_count": 1,
   "metadata": {},
   "outputs": [],
   "source": [
    "import os\n",
    "import subprocess #, shlex\n",
    "\n",
    "def cygwin(command):\n",
    "    \"\"\"\n",
    "    Run a Bash command with Cygwin and return output.\n",
    "    \"\"\"\n",
    "    # Find Cygwin binary directory\n",
    "    for cygwin_bin in [r'C:\\cygwin\\bin', r'C:\\cygwin64\\bin']:\n",
    "        if os.path.isdir(cygwin_bin):\n",
    "            break\n",
    "    else:\n",
    "        raise RuntimeError('Cygwin not found!')\n",
    "    # Make sure Cygwin binary directory in path\n",
    "    if cygwin_bin not in os.environ['PATH']:\n",
    "        os.environ['PATH'] += ';' + cygwin_bin\n",
    "    # Launch Bash\n",
    "    p = subprocess.Popen(\n",
    "        args=['bash', '-c', command],\n",
    "        stdout=subprocess.PIPE, stderr=subprocess.PIPE)\n",
    "    p.wait()\n",
    "    # Raise exception if return code indicates error\n",
    "    if p.returncode != 0:\n",
    "        raise RuntimeError(p.stderr.read().rstrip())\n",
    "    # Remove trailing newline from output\n",
    "    return (p.stdout.read() + p.stderr.read()).rstrip()"
   ]
  },
  {
   "cell_type": "code",
   "execution_count": 2,
   "metadata": {},
   "outputs": [
    {
     "data": {
      "text/plain": [
       "b'/mnt/c/Users/masud/Desktop/Github_Bachelor_Project/wfdb-python'"
      ]
     },
     "execution_count": 2,
     "metadata": {},
     "output_type": "execute_result"
    }
   ],
   "source": [
    "cygwin('pwd')"
   ]
  },
  {
   "cell_type": "code",
   "execution_count": 4,
   "metadata": {
    "scrolled": true
   },
   "outputs": [],
   "source": [
    "command  = 'wrsamp -F 250 -i foo.csv -o foo -s, 0'\n",
    "cygwin(command)"
   ]
  },
  {
   "cell_type": "code",
   "execution_count": 5,
   "metadata": {},
   "outputs": [],
   "source": [
    "cygwin('rdann -r 04936 -f 0 -a atr -v > data/04936_atr.txt')\n",
    "\n",
    "command_atr_new = \"rdann -r 04936 -f 0 -a atr -v > /data/04936_atr.txt\"\n",
    "command_atr = \"rdann -r 04936 -f 0 -a atr -v > C:/Users/masud/Desktop/Github_Bachelor_Project/wfdb-python/data/04936_atr.txt\""
   ]
  },
  {
   "cell_type": "code",
   "execution_count": 1,
   "metadata": {},
   "outputs": [],
   "source": [
    "# Read data from ediagnostic\n",
    "from os import listdir, mkdir, system\n",
    "from os.path import isfile, isdir, join, exists\n",
    "import json\n",
    "\n",
    "types = ['II', 'V1']\n",
    "dataset = 'C:/Users/masud/Desktop/ECGPUWAVE/WFDB-utils-and-others/ediagnostic/'\n",
    "\n",
    "\n",
    "patients = [f for f in listdir(dataset) if isdir(join(dataset, f))]\n",
    "\n",
    "print(patients)\n",
    "\n",
    "freq = '250'\n",
    "\n",
    "\n",
    "#Create folder\n",
    "wfdb_dir = dataset + 'wfdb'\n",
    "#Create folder\n",
    "\n",
    "if not exists(wfdb_dir):\n",
    "\tmkdir(wfdb_dir)\n",
    "\n",
    "for p in patients:\n",
    "\tif p != 'wfdb':\n",
    "\t\t# Read metadata\n",
    "\t\tmetadata_file = dataset + p + '/metadata.json'\n",
    "\t\tdata_file = open(metadata_file)\n",
    "\t\tmetadata = json.load(data_file)\n",
    "\n",
    "\t\twindow = {}\n",
    "\t\tfor v in metadata['ventanas']:\n",
    "\t\t\ttipo = v['tipo']\n",
    "\t\t\twindow[str(tipo)] = v['inicioVentana']\n",
    "\t\tprint('Derivation II: ', window['II'], ':', window['III'], ' V1: ', window['V1'], ':', window['V2'])\n",
    "\n",
    "\t\t# 1. Write the desired signal at individual .csv files\n",
    "\t\tsignal_file = dataset + p + '/' + p + '.txt'\n",
    "\t\tsignal_data = open(signal_file, 'r')\t\n",
    "\t\tsignal_data = signal_data.read()\n",
    "\t\tsignal_II = signal_data[window['II']:window['III']]\n",
    "\n",
    "\t\tsignal_II_file = dataset + p + '/' + p + '_II.csv'\n",
    "\t\tfile_II = open(signal_II_file, 'w')\t\n",
    "\t\tfile_II.write(signal_II)\n",
    "\t\tfile_II.close()\n",
    "\n",
    "\n",
    "\t\t# 2. Write the signals and headers at WFDB format\n",
    "\n",
    "\t\twfdb_filename = wfdb_dir + '/' + p[:-3]\n",
    "\t\tcommand = 'wrsamp -F ' + freq + ' -i ' + signal_II_file + ' -o ' + wfdb_filename\n",
    "\t\tprint(command)\n",
    "\t\tsystem(command)\n",
    "\n",
    "\t\t# Edit .hea file... metadata['edad'] .... \n",
    "\t\t# header # <age>: 35  <sex>: M  <diagnoses>: (none)"
   ]
  },
  {
   "cell_type": "markdown",
   "metadata": {},
   "source": [
    "# MAIN testing"
   ]
  },
  {
   "cell_type": "code",
   "execution_count": 1,
   "metadata": {},
   "outputs": [],
   "source": [
    "import wfdb\n",
    "import os\n",
    "import glob\n",
    "import pandas as pd\n",
    "import numpy as np\n",
    "import matplotlib.pyplot as plt"
   ]
  },
  {
   "cell_type": "code",
   "execution_count": 2,
   "metadata": {},
   "outputs": [],
   "source": [
    "records = []\n",
    "properties = []\n",
    "annot = []\n",
    "AnnSymb = []\n",
    "AnnSamp = []\n",
    "AnnRhythm = []\n",
    "Rpeak_Samp = []\n",
    "Rpeak_Symb = []\n",
    "\n",
    "\n",
    "for f in glob.glob('C:/Users/masud/Skrivebord/Github_Bachelor_Project/wfdb-python/data/atrial_fibrillation_data/*.dat'): ##### change the path to own directory.       \n",
    "                                                                                             ##### The rest should remin the same\n",
    "                                                                                             ##### Useful function:\n",
    "                                                                                             ##### print('Current directory is: {}'.format(os.getcwd()))\n",
    "    sig, fields = wfdb.rdsamp(f[:-4], channels=[1])  #### In this function, pass \n",
    "                                                     #### \"channels=[0]\" or \"channels=[1]\" to select channel 1 or 2.\n",
    "    ann = wfdb.rdann(f[:-4], 'atr')\n",
    "    QRS = wfdb.rdann(f[:-4], 'qrs')\n",
    "    Symb = pd.Series(ann.symbol)\n",
    "    Samp = pd.Series(ann.sample)\n",
    "    QRS_Symb = pd.Series(QRS.symbol)\n",
    "    QRS_Samp = pd.Series(QRS.sample)\n",
    "    Rhythm = pd.Series(ann.aux_note)\n",
    "    records.append(sig)\n",
    "    properties.append(fields)\n",
    "    annot.append(ann)\n",
    "    AnnSymb.append(Symb)\n",
    "    AnnSamp.append(Samp)\n",
    "    Rpeak_Symb.append(QRS_Symb)\n",
    "    Rpeak_Samp.append(QRS_Samp)\n",
    "    AnnRhythm.append(Rhythm)\n",
    "    \n",
    "    \n",
    "\n",
    "AnnSymb = pd.Series(AnnSymb).values\n",
    "AnnSamp = pd.Series(AnnSamp).values"
   ]
  },
  {
   "cell_type": "markdown",
   "metadata": {},
   "source": [
    "# -----------------------------------------------------------------------------------------------"
   ]
  },
  {
   "cell_type": "code",
   "execution_count": 11,
   "metadata": {},
   "outputs": [
    {
     "data": {
      "text/plain": [
       "0     +\n",
       "1     +\n",
       "2     +\n",
       "3     +\n",
       "4     +\n",
       "5     +\n",
       "6     +\n",
       "7     +\n",
       "8     +\n",
       "9     +\n",
       "10    +\n",
       "11    +\n",
       "12    +\n",
       "13    +\n",
       "14    +\n",
       "dtype: object"
      ]
     },
     "execution_count": 11,
     "metadata": {},
     "output_type": "execute_result"
    }
   ],
   "source": [
    "AnnSymb[0]"
   ]
  },
  {
   "cell_type": "code",
   "execution_count": 13,
   "metadata": {
    "scrolled": true
   },
   "outputs": [
    {
     "data": {
      "text/plain": [
       "0          30\n",
       "1      102584\n",
       "2      119604\n",
       "3      121773\n",
       "4      122194\n",
       "5      133348\n",
       "6      166857\n",
       "7     1096245\n",
       "8     1098054\n",
       "9     1135296\n",
       "10    1139595\n",
       "11    1422436\n",
       "12    1423548\n",
       "13    1459277\n",
       "14    1460416\n",
       "dtype: int32"
      ]
     },
     "execution_count": 13,
     "metadata": {},
     "output_type": "execute_result"
    }
   ],
   "source": [
    "AnnSamp[0]"
   ]
  },
  {
   "cell_type": "markdown",
   "metadata": {},
   "source": [
    "# -----------------------------------------------------------------------------------------------"
   ]
  },
  {
   "cell_type": "code",
   "execution_count": 15,
   "metadata": {},
   "outputs": [
    {
     "data": {
      "text/plain": [
       "0        N\n",
       "1        N\n",
       "2        N\n",
       "3        N\n",
       "4        N\n",
       "        ..\n",
       "44000    N\n",
       "44001    N\n",
       "44002    N\n",
       "44003    N\n",
       "44004    N\n",
       "Length: 44005, dtype: object"
      ]
     },
     "execution_count": 15,
     "metadata": {},
     "output_type": "execute_result"
    }
   ],
   "source": [
    "Rpeak_Symb[0]"
   ]
  },
  {
   "cell_type": "code",
   "execution_count": 14,
   "metadata": {},
   "outputs": [
    {
     "data": {
      "text/plain": [
       "0             61\n",
       "1            200\n",
       "2            358\n",
       "3            584\n",
       "4            729\n",
       "          ...   \n",
       "44000    8999121\n",
       "44001    8999327\n",
       "44002    8999531\n",
       "44003    8999734\n",
       "44004    8999941\n",
       "Length: 44005, dtype: int32"
      ]
     },
     "execution_count": 14,
     "metadata": {},
     "output_type": "execute_result"
    }
   ],
   "source": [
    "Rpeak_Samp[0]"
   ]
  },
  {
   "cell_type": "code",
   "execution_count": 3,
   "metadata": {},
   "outputs": [
    {
     "name": "stdout",
     "output_type": "stream",
     "text": [
      "All Rpeaks amount: 1128561\n"
     ]
    }
   ],
   "source": [
    "x = 0\n",
    "for i in range(23):\n",
    "    x += np.sum(len(Rpeak_Samp[i]))\n",
    "print(f\"All Rpeaks amount: {x}\")"
   ]
  },
  {
   "cell_type": "code",
   "execution_count": 4,
   "metadata": {},
   "outputs": [
    {
     "data": {
      "text/plain": [
       "0          30\n",
       "1      102584\n",
       "2      119604\n",
       "3      121773\n",
       "4      122194\n",
       "5      133348\n",
       "6      166857\n",
       "7     1096245\n",
       "8     1098054\n",
       "9     1135296\n",
       "10    1139595\n",
       "11    1422436\n",
       "12    1423548\n",
       "13    1459277\n",
       "14    1460416\n",
       "dtype: int32"
      ]
     },
     "execution_count": 4,
     "metadata": {},
     "output_type": "execute_result"
    }
   ],
   "source": [
    "AnnSamp[0]"
   ]
  },
  {
   "cell_type": "code",
   "execution_count": 7,
   "metadata": {},
   "outputs": [
    {
     "data": {
      "text/plain": [
       "0             61\n",
       "1            200\n",
       "2            358\n",
       "3            584\n",
       "4            729\n",
       "          ...   \n",
       "44000    8999121\n",
       "44001    8999327\n",
       "44002    8999531\n",
       "44003    8999734\n",
       "44004    8999941\n",
       "Length: 44005, dtype: int32"
      ]
     },
     "execution_count": 7,
     "metadata": {},
     "output_type": "execute_result"
    }
   ],
   "source": [
    "Rpeak_Samp[0]\n",
    "#print(\"len(Rpeak_Samp[0]): \", len(Rpeak_Samp[0]))"
   ]
  },
  {
   "cell_type": "code",
   "execution_count": 8,
   "metadata": {},
   "outputs": [],
   "source": [
    "labeled_Rpeaks = []\n",
    "appended_data = []\n",
    "for i in range(23): ## 23 records\n",
    "    for j in range(len(AnnSamp[i])-1): ## AnnSamp or AnnRhythm -- both same dimensions\n",
    "        df = pd.DataFrame(Rpeak_Samp[i][(Rpeak_Samp[i] > AnnSamp[i][j]) & (Rpeak_Samp[i] < AnnSamp[i][j+1])])\n",
    "        df['Label'] = AnnRhythm[i][j]\n",
    "        appended_data.append(df)\n",
    "        \n",
    "\n",
    "labeled_Rpeaks = pd.concat(appended_data)"
   ]
  },
  {
   "cell_type": "code",
   "execution_count": null,
   "metadata": {},
   "outputs": [],
   "source": []
  }
 ],
 "metadata": {
  "kernelspec": {
   "display_name": "Python 3",
   "language": "python",
   "name": "python3"
  },
  "language_info": {
   "codemirror_mode": {
    "name": "ipython",
    "version": 3
   },
   "file_extension": ".py",
   "mimetype": "text/x-python",
   "name": "python",
   "nbconvert_exporter": "python",
   "pygments_lexer": "ipython3",
   "version": "3.8.8"
  }
 },
 "nbformat": 4,
 "nbformat_minor": 4
}
