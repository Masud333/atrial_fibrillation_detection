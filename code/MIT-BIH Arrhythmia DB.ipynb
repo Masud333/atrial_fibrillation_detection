{
 "cells": [
  {
   "cell_type": "markdown",
   "id": "e547a21e",
   "metadata": {},
   "source": [
    "# (1) Importing/Storing data"
   ]
  },
  {
   "cell_type": "code",
   "execution_count": 1,
   "id": "d192ddc1",
   "metadata": {},
   "outputs": [],
   "source": [
    "import wfdb\n",
    "import os\n",
    "import glob\n",
    "import pandas as pd\n",
    "import numpy as np\n",
    "import matplotlib.pyplot as plt"
   ]
  },
  {
   "cell_type": "code",
   "execution_count": 2,
   "id": "9dfd3479",
   "metadata": {},
   "outputs": [],
   "source": [
    "### sampled at 360 samples per second"
   ]
  },
  {
   "cell_type": "code",
   "execution_count": 3,
   "id": "987ac65e",
   "metadata": {},
   "outputs": [],
   "source": [
    "records_A = []\n",
    "properties_A = []\n",
    "annot_A = []\n",
    "AnnSymb_A = []\n",
    "AnnSamp_A = []\n",
    "AnnRhythm_A = []\n",
    "Rpeak_Samp_A = []\n",
    "Rpeak_Symb_A = []\n",
    "\n",
    "\n",
    "for f in glob.glob('C:/Users/masud/Skrivebord/Github_Bachelor_Project/wfdb-python/data/arrhythmia_data/*.dat'): ##### change the path to own directory.       \n",
    "    sig, fields = wfdb.rdsamp(f[:-4], channels=[1])  #### In this function, pass \"channels=[0]\" or \"channels=[1]\" to select channel 1 or 2.\n",
    "    \n",
    "    ann = wfdb.rdann(f[:-4], 'atr')\n",
    "    QRS = wfdb.rdann(f[:-4], 'xws')\n",
    "    Symb = pd.Series(ann.symbol)\n",
    "    Samp = pd.Series(ann.sample)\n",
    "    \n",
    "    QRS_Symb = pd.Series(QRS.symbol)\n",
    "    QRS_Samp = pd.Series(QRS.sample)\n",
    "    Rhythm = pd.Series(ann.aux_note)\n",
    "    records_A.append(sig)\n",
    "    properties_A.append(fields)\n",
    "    annot_A.append(ann)\n",
    "    AnnSymb_A.append(Symb)\n",
    "    AnnSamp_A.append(Samp)\n",
    "    Rpeak_Symb_A.append(QRS_Symb)\n",
    "    Rpeak_Samp_A.append(QRS_Samp)\n",
    "    AnnRhythm_A.append(Rhythm)\n",
    "    \n",
    "    \n",
    "\n",
    "AnnSymb_A = pd.Series(AnnSymb_A).values\n",
    "AnnSamp_A = pd.Series(AnnSamp_A).values"
   ]
  },
  {
   "cell_type": "code",
   "execution_count": 4,
   "id": "d076e5f9",
   "metadata": {
    "scrolled": true
   },
   "outputs": [
    {
     "data": {
      "text/plain": [
       "0       +\n",
       "1       N\n",
       "2       N\n",
       "3       N\n",
       "4       N\n",
       "       ..\n",
       "2034    N\n",
       "2035    a\n",
       "2036    N\n",
       "2037    x\n",
       "2038    N\n",
       "Length: 2039, dtype: object"
      ]
     },
     "execution_count": 4,
     "metadata": {},
     "output_type": "execute_result"
    }
   ],
   "source": [
    "AnnSymb_A[24] #Rpeak_Symbol"
   ]
  },
  {
   "cell_type": "code",
   "execution_count": 5,
   "id": "acee306f",
   "metadata": {},
   "outputs": [
    {
     "data": {
      "text/plain": [
       "0           60\n",
       "1          159\n",
       "2          415\n",
       "3          686\n",
       "4          905\n",
       "         ...  \n",
       "2034    648419\n",
       "2035    648594\n",
       "2036    649104\n",
       "2037    649181\n",
       "2038    649800\n",
       "Length: 2039, dtype: int32"
      ]
     },
     "execution_count": 5,
     "metadata": {},
     "output_type": "execute_result"
    }
   ],
   "source": [
    "AnnSamp_A[24] #Rpeak_Sample"
   ]
  },
  {
   "cell_type": "code",
   "execution_count": 6,
   "id": "6f376099",
   "metadata": {},
   "outputs": [
    {
     "data": {
      "text/plain": [
       "0       (AFIB\u0000\n",
       "1             \n",
       "2             \n",
       "3             \n",
       "4             \n",
       "         ...  \n",
       "2034          \n",
       "2035          \n",
       "2036          \n",
       "2037          \n",
       "2038          \n",
       "Length: 2039, dtype: object"
      ]
     },
     "execution_count": 6,
     "metadata": {},
     "output_type": "execute_result"
    }
   ],
   "source": [
    "AnnRhythm_A[24]"
   ]
  },
  {
   "cell_type": "code",
   "execution_count": 7,
   "id": "4fbdf34c",
   "metadata": {
    "scrolled": true
   },
   "outputs": [],
   "source": [
    "# Rpeak_Symb_A[47] ###Annotaion_Symbol\n",
    "# print(len(Rpeak_Symb_A[47])) ### length = 43"
   ]
  },
  {
   "cell_type": "code",
   "execution_count": 8,
   "id": "c4b49d1d",
   "metadata": {
    "scrolled": true
   },
   "outputs": [],
   "source": [
    "# Rpeak_Samp_A[24] ### Annotaion_Sample\n",
    "# print(len(Rpeak_Samp_A[47])) ### length = 43"
   ]
  },
  {
   "cell_type": "code",
   "execution_count": 9,
   "id": "770a0ce1",
   "metadata": {},
   "outputs": [],
   "source": [
    "# df = pd.DataFrame(AnnRhythm_A[24]) ### length = 2764\n",
    "# df\n",
    "# df.to_excel(\"AnnRhythm_A[24].xlsx\") ### output an excel file"
   ]
  },
  {
   "cell_type": "markdown",
   "id": "a07c7090",
   "metadata": {},
   "source": [
    "# (2) Pre processing data"
   ]
  },
  {
   "cell_type": "code",
   "execution_count": 10,
   "id": "fc2d428c",
   "metadata": {},
   "outputs": [],
   "source": [
    "appended_AnnSamp = [item for i in range(len(AnnSamp_A)) for item in AnnSamp_A[i]]\n",
    "appended_AnnSymb = [item for i in range(len(AnnRhythm_A)) for item in AnnRhythm_A[i]]"
   ]
  },
  {
   "cell_type": "code",
   "execution_count": 11,
   "id": "063e0196",
   "metadata": {
    "scrolled": false
   },
   "outputs": [
    {
     "data": {
      "text/html": [
       "<div>\n",
       "<style scoped>\n",
       "    .dataframe tbody tr th:only-of-type {\n",
       "        vertical-align: middle;\n",
       "    }\n",
       "\n",
       "    .dataframe tbody tr th {\n",
       "        vertical-align: top;\n",
       "    }\n",
       "\n",
       "    .dataframe thead th {\n",
       "        text-align: right;\n",
       "    }\n",
       "</style>\n",
       "<table border=\"1\" class=\"dataframe\">\n",
       "  <thead>\n",
       "    <tr style=\"text-align: right;\">\n",
       "      <th></th>\n",
       "      <th>Rpeaks</th>\n",
       "      <th>Symbol</th>\n",
       "    </tr>\n",
       "  </thead>\n",
       "  <tbody>\n",
       "    <tr>\n",
       "      <th>0</th>\n",
       "      <td>18</td>\n",
       "      <td>(N\u0000</td>\n",
       "    </tr>\n",
       "    <tr>\n",
       "      <th>1</th>\n",
       "      <td>77</td>\n",
       "      <td></td>\n",
       "    </tr>\n",
       "    <tr>\n",
       "      <th>2</th>\n",
       "      <td>370</td>\n",
       "      <td></td>\n",
       "    </tr>\n",
       "    <tr>\n",
       "      <th>3</th>\n",
       "      <td>662</td>\n",
       "      <td></td>\n",
       "    </tr>\n",
       "    <tr>\n",
       "      <th>4</th>\n",
       "      <td>946</td>\n",
       "      <td></td>\n",
       "    </tr>\n",
       "    <tr>\n",
       "      <th>...</th>\n",
       "      <td>...</td>\n",
       "      <td>...</td>\n",
       "    </tr>\n",
       "    <tr>\n",
       "      <th>112642</th>\n",
       "      <td>648797</td>\n",
       "      <td></td>\n",
       "    </tr>\n",
       "    <tr>\n",
       "      <th>112643</th>\n",
       "      <td>649040</td>\n",
       "      <td></td>\n",
       "    </tr>\n",
       "    <tr>\n",
       "      <th>112644</th>\n",
       "      <td>649292</td>\n",
       "      <td></td>\n",
       "    </tr>\n",
       "    <tr>\n",
       "      <th>112645</th>\n",
       "      <td>649536</td>\n",
       "      <td></td>\n",
       "    </tr>\n",
       "    <tr>\n",
       "      <th>112646</th>\n",
       "      <td>649772</td>\n",
       "      <td></td>\n",
       "    </tr>\n",
       "  </tbody>\n",
       "</table>\n",
       "<p>112647 rows × 2 columns</p>\n",
       "</div>"
      ],
      "text/plain": [
       "        Rpeaks Symbol\n",
       "0           18    (N\u0000\n",
       "1           77       \n",
       "2          370       \n",
       "3          662       \n",
       "4          946       \n",
       "...        ...    ...\n",
       "112642  648797       \n",
       "112643  649040       \n",
       "112644  649292       \n",
       "112645  649536       \n",
       "112646  649772       \n",
       "\n",
       "[112647 rows x 2 columns]"
      ]
     },
     "execution_count": 11,
     "metadata": {},
     "output_type": "execute_result"
    }
   ],
   "source": [
    "df = pd.DataFrame(\n",
    "    {'Rpeaks': appended_AnnSamp,\n",
    "     'Symbol': appended_AnnSymb\n",
    "    })\n",
    "\n",
    "df"
   ]
  },
  {
   "cell_type": "code",
   "execution_count": 12,
   "id": "433cde3a",
   "metadata": {},
   "outputs": [
    {
     "data": {
      "text/html": [
       "<div>\n",
       "<style scoped>\n",
       "    .dataframe tbody tr th:only-of-type {\n",
       "        vertical-align: middle;\n",
       "    }\n",
       "\n",
       "    .dataframe tbody tr th {\n",
       "        vertical-align: top;\n",
       "    }\n",
       "\n",
       "    .dataframe thead th {\n",
       "        text-align: right;\n",
       "    }\n",
       "</style>\n",
       "<table border=\"1\" class=\"dataframe\">\n",
       "  <thead>\n",
       "    <tr style=\"text-align: right;\">\n",
       "      <th></th>\n",
       "      <th>Rpeaks</th>\n",
       "      <th>Symbol</th>\n",
       "    </tr>\n",
       "  </thead>\n",
       "  <tbody>\n",
       "    <tr>\n",
       "      <th>0</th>\n",
       "      <td>18</td>\n",
       "      <td>(N\u0000</td>\n",
       "    </tr>\n",
       "    <tr>\n",
       "      <th>1</th>\n",
       "      <td>77</td>\n",
       "      <td>NaN</td>\n",
       "    </tr>\n",
       "    <tr>\n",
       "      <th>2</th>\n",
       "      <td>370</td>\n",
       "      <td>NaN</td>\n",
       "    </tr>\n",
       "    <tr>\n",
       "      <th>3</th>\n",
       "      <td>662</td>\n",
       "      <td>NaN</td>\n",
       "    </tr>\n",
       "    <tr>\n",
       "      <th>4</th>\n",
       "      <td>946</td>\n",
       "      <td>NaN</td>\n",
       "    </tr>\n",
       "    <tr>\n",
       "      <th>...</th>\n",
       "      <td>...</td>\n",
       "      <td>...</td>\n",
       "    </tr>\n",
       "    <tr>\n",
       "      <th>112642</th>\n",
       "      <td>648797</td>\n",
       "      <td>NaN</td>\n",
       "    </tr>\n",
       "    <tr>\n",
       "      <th>112643</th>\n",
       "      <td>649040</td>\n",
       "      <td>NaN</td>\n",
       "    </tr>\n",
       "    <tr>\n",
       "      <th>112644</th>\n",
       "      <td>649292</td>\n",
       "      <td>NaN</td>\n",
       "    </tr>\n",
       "    <tr>\n",
       "      <th>112645</th>\n",
       "      <td>649536</td>\n",
       "      <td>NaN</td>\n",
       "    </tr>\n",
       "    <tr>\n",
       "      <th>112646</th>\n",
       "      <td>649772</td>\n",
       "      <td>NaN</td>\n",
       "    </tr>\n",
       "  </tbody>\n",
       "</table>\n",
       "<p>112647 rows × 2 columns</p>\n",
       "</div>"
      ],
      "text/plain": [
       "        Rpeaks Symbol\n",
       "0           18    (N\u0000\n",
       "1           77    NaN\n",
       "2          370    NaN\n",
       "3          662    NaN\n",
       "4          946    NaN\n",
       "...        ...    ...\n",
       "112642  648797    NaN\n",
       "112643  649040    NaN\n",
       "112644  649292    NaN\n",
       "112645  649536    NaN\n",
       "112646  649772    NaN\n",
       "\n",
       "[112647 rows x 2 columns]"
      ]
     },
     "execution_count": 12,
     "metadata": {},
     "output_type": "execute_result"
    }
   ],
   "source": [
    "df = df.replace(r'^\\s*$', np.nan, regex=True) ### Replace empty places with NaN\n",
    "df"
   ]
  },
  {
   "cell_type": "code",
   "execution_count": 13,
   "id": "9bb48575",
   "metadata": {},
   "outputs": [
    {
     "data": {
      "text/html": [
       "<div>\n",
       "<style scoped>\n",
       "    .dataframe tbody tr th:only-of-type {\n",
       "        vertical-align: middle;\n",
       "    }\n",
       "\n",
       "    .dataframe tbody tr th {\n",
       "        vertical-align: top;\n",
       "    }\n",
       "\n",
       "    .dataframe thead th {\n",
       "        text-align: right;\n",
       "    }\n",
       "</style>\n",
       "<table border=\"1\" class=\"dataframe\">\n",
       "  <thead>\n",
       "    <tr style=\"text-align: right;\">\n",
       "      <th></th>\n",
       "      <th>Rpeaks</th>\n",
       "      <th>Symbol</th>\n",
       "    </tr>\n",
       "  </thead>\n",
       "  <tbody>\n",
       "    <tr>\n",
       "      <th>0</th>\n",
       "      <td>18</td>\n",
       "      <td>(N\u0000</td>\n",
       "    </tr>\n",
       "    <tr>\n",
       "      <th>1</th>\n",
       "      <td>77</td>\n",
       "      <td>(N\u0000</td>\n",
       "    </tr>\n",
       "    <tr>\n",
       "      <th>2</th>\n",
       "      <td>370</td>\n",
       "      <td>(N\u0000</td>\n",
       "    </tr>\n",
       "    <tr>\n",
       "      <th>3</th>\n",
       "      <td>662</td>\n",
       "      <td>(N\u0000</td>\n",
       "    </tr>\n",
       "    <tr>\n",
       "      <th>4</th>\n",
       "      <td>946</td>\n",
       "      <td>(N\u0000</td>\n",
       "    </tr>\n",
       "    <tr>\n",
       "      <th>...</th>\n",
       "      <td>...</td>\n",
       "      <td>...</td>\n",
       "    </tr>\n",
       "    <tr>\n",
       "      <th>112642</th>\n",
       "      <td>648797</td>\n",
       "      <td>(N\u0000</td>\n",
       "    </tr>\n",
       "    <tr>\n",
       "      <th>112643</th>\n",
       "      <td>649040</td>\n",
       "      <td>(N\u0000</td>\n",
       "    </tr>\n",
       "    <tr>\n",
       "      <th>112644</th>\n",
       "      <td>649292</td>\n",
       "      <td>(N\u0000</td>\n",
       "    </tr>\n",
       "    <tr>\n",
       "      <th>112645</th>\n",
       "      <td>649536</td>\n",
       "      <td>(N\u0000</td>\n",
       "    </tr>\n",
       "    <tr>\n",
       "      <th>112646</th>\n",
       "      <td>649772</td>\n",
       "      <td>(N\u0000</td>\n",
       "    </tr>\n",
       "  </tbody>\n",
       "</table>\n",
       "<p>112647 rows × 2 columns</p>\n",
       "</div>"
      ],
      "text/plain": [
       "        Rpeaks Symbol\n",
       "0           18    (N\u0000\n",
       "1           77    (N\u0000\n",
       "2          370    (N\u0000\n",
       "3          662    (N\u0000\n",
       "4          946    (N\u0000\n",
       "...        ...    ...\n",
       "112642  648797    (N\u0000\n",
       "112643  649040    (N\u0000\n",
       "112644  649292    (N\u0000\n",
       "112645  649536    (N\u0000\n",
       "112646  649772    (N\u0000\n",
       "\n",
       "[112647 rows x 2 columns]"
      ]
     },
     "execution_count": 13,
     "metadata": {},
     "output_type": "execute_result"
    }
   ],
   "source": [
    "df = df.fillna(method='ffill') ### Perform \"forward fill\" - filling instances (NaN) in front row with preceeeding value\n",
    "df"
   ]
  },
  {
   "cell_type": "code",
   "execution_count": 14,
   "id": "eb8e7357",
   "metadata": {},
   "outputs": [
    {
     "data": {
      "text/html": [
       "<div>\n",
       "<style scoped>\n",
       "    .dataframe tbody tr th:only-of-type {\n",
       "        vertical-align: middle;\n",
       "    }\n",
       "\n",
       "    .dataframe tbody tr th {\n",
       "        vertical-align: top;\n",
       "    }\n",
       "\n",
       "    .dataframe thead th {\n",
       "        text-align: right;\n",
       "    }\n",
       "</style>\n",
       "<table border=\"1\" class=\"dataframe\">\n",
       "  <thead>\n",
       "    <tr style=\"text-align: right;\">\n",
       "      <th></th>\n",
       "      <th>Rpeaks</th>\n",
       "      <th>Symbol</th>\n",
       "    </tr>\n",
       "  </thead>\n",
       "  <tbody>\n",
       "    <tr>\n",
       "      <th>17671</th>\n",
       "      <td>23</td>\n",
       "      <td>(N</td>\n",
       "    </tr>\n",
       "    <tr>\n",
       "      <th>17672</th>\n",
       "      <td>88</td>\n",
       "      <td>(N</td>\n",
       "    </tr>\n",
       "    <tr>\n",
       "      <th>17673</th>\n",
       "      <td>442</td>\n",
       "      <td>(N</td>\n",
       "    </tr>\n",
       "    <tr>\n",
       "      <th>17674</th>\n",
       "      <td>789</td>\n",
       "      <td>(N</td>\n",
       "    </tr>\n",
       "    <tr>\n",
       "      <th>17675</th>\n",
       "      <td>1155</td>\n",
       "      <td>(N</td>\n",
       "    </tr>\n",
       "    <tr>\n",
       "      <th>...</th>\n",
       "      <td>...</td>\n",
       "      <td>...</td>\n",
       "    </tr>\n",
       "    <tr>\n",
       "      <th>95413</th>\n",
       "      <td>597713</td>\n",
       "      <td>(AFIB</td>\n",
       "    </tr>\n",
       "    <tr>\n",
       "      <th>95414</th>\n",
       "      <td>597904</td>\n",
       "      <td>(AFIB</td>\n",
       "    </tr>\n",
       "    <tr>\n",
       "      <th>95415</th>\n",
       "      <td>598044</td>\n",
       "      <td>(AFIB</td>\n",
       "    </tr>\n",
       "    <tr>\n",
       "      <th>95416</th>\n",
       "      <td>598210</td>\n",
       "      <td>(AFIB</td>\n",
       "    </tr>\n",
       "    <tr>\n",
       "      <th>95417</th>\n",
       "      <td>598505</td>\n",
       "      <td>(AFIB</td>\n",
       "    </tr>\n",
       "  </tbody>\n",
       "</table>\n",
       "<p>2637 rows × 2 columns</p>\n",
       "</div>"
      ],
      "text/plain": [
       "       Rpeaks Symbol\n",
       "17671      23     (N\n",
       "17672      88     (N\n",
       "17673     442     (N\n",
       "17674     789     (N\n",
       "17675    1155     (N\n",
       "...       ...    ...\n",
       "95413  597713  (AFIB\n",
       "95414  597904  (AFIB\n",
       "95415  598044  (AFIB\n",
       "95416  598210  (AFIB\n",
       "95417  598505  (AFIB\n",
       "\n",
       "[2637 rows x 2 columns]"
      ]
     },
     "execution_count": 14,
     "metadata": {},
     "output_type": "execute_result"
    }
   ],
   "source": [
    "final_df = df[(df['Symbol'] == '(N') | (df['Symbol'] == '(AFIB')]\n",
    "final_df"
   ]
  }
 ],
 "metadata": {
  "kernelspec": {
   "display_name": "Python 3",
   "language": "python",
   "name": "python3"
  },
  "language_info": {
   "codemirror_mode": {
    "name": "ipython",
    "version": 3
   },
   "file_extension": ".py",
   "mimetype": "text/x-python",
   "name": "python",
   "nbconvert_exporter": "python",
   "pygments_lexer": "ipython3",
   "version": "3.8.8"
  }
 },
 "nbformat": 4,
 "nbformat_minor": 5
}
