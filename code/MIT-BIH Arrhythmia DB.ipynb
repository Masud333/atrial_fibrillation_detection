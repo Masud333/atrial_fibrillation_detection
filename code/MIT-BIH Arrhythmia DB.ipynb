{
 "cells": [
  {
   "cell_type": "markdown",
   "id": "e547a21e",
   "metadata": {},
   "source": [
    "# (1) Importing/Storing data"
   ]
  },
  {
   "cell_type": "code",
   "execution_count": 1,
   "id": "d192ddc1",
   "metadata": {},
   "outputs": [],
   "source": [
    "import wfdb\n",
    "import os\n",
    "import glob\n",
    "import pandas as pd\n",
    "import numpy as np\n",
    "import matplotlib.pyplot as plt"
   ]
  },
  {
   "cell_type": "code",
   "execution_count": 2,
   "id": "987ac65e",
   "metadata": {},
   "outputs": [],
   "source": [
    "records_A = []\n",
    "properties_A = []\n",
    "annot_A = []\n",
    "AnnSymb_A = []\n",
    "AnnSamp_A = []\n",
    "AnnRhythm_A = []\n",
    "Rpeak_Samp_A = []\n",
    "Rpeak_Symb_A = []\n",
    "\n",
    "\n",
    "for f in glob.glob('C:/Users/masud/Skrivebord/Github_Bachelor_Project/wfdb-python/data/arrhythmia_data/*.dat'): ##### change the path to own directory.       \n",
    "    sig, fields = wfdb.rdsamp(f[:-4], channels=[1])  #### In this function, pass \"channels=[0]\" or \"channels=[1]\" to select channel 1 or 2.\n",
    "    \n",
    "    ann = wfdb.rdann(f[:-4], 'atr')\n",
    "    QRS = wfdb.rdann(f[:-4], 'xws')\n",
    "    Symb = pd.Series(ann.symbol)\n",
    "    Samp = pd.Series(ann.sample)\n",
    "    \n",
    "    QRS_Symb = pd.Series(QRS.symbol)\n",
    "    QRS_Samp = pd.Series(QRS.sample)\n",
    "    Rhythm = pd.Series(ann.aux_note)\n",
    "    records_A.append(sig)\n",
    "    properties_A.append(fields)\n",
    "    annot_A.append(ann)\n",
    "    AnnSymb_A.append(Symb)\n",
    "    AnnSamp_A.append(Samp)\n",
    "    Rpeak_Symb_A.append(QRS_Symb)\n",
    "    Rpeak_Samp_A.append(QRS_Samp)\n",
    "    AnnRhythm_A.append(Rhythm)\n",
    "    \n",
    "    \n",
    "\n",
    "AnnSymb_A = pd.Series(AnnSymb_A).values\n",
    "AnnSamp_A = pd.Series(AnnSamp_A).values"
   ]
  },
  {
   "cell_type": "code",
   "execution_count": 3,
   "id": "d076e5f9",
   "metadata": {
    "scrolled": false
   },
   "outputs": [],
   "source": [
    "# AnnSymb_A[24] #Rpeak_Symbol"
   ]
  },
  {
   "cell_type": "code",
   "execution_count": 4,
   "id": "acee306f",
   "metadata": {},
   "outputs": [],
   "source": [
    "# AnnSamp_A[24] #Rpeak_Sample"
   ]
  },
  {
   "cell_type": "code",
   "execution_count": 5,
   "id": "4fbdf34c",
   "metadata": {
    "scrolled": true
   },
   "outputs": [],
   "source": [
    "# Rpeak_Symb_A[47] ###Annotaion_Symbol\n",
    "# print(len(Rpeak_Symb_A[47])) ### length = 43"
   ]
  },
  {
   "cell_type": "code",
   "execution_count": 6,
   "id": "c4b49d1d",
   "metadata": {
    "scrolled": true
   },
   "outputs": [],
   "source": [
    "# Rpeak_Samp_A[24] ### Annotaion_Sample\n",
    "# print(len(Rpeak_Samp_A[47])) ### length = 43"
   ]
  },
  {
   "cell_type": "code",
   "execution_count": 7,
   "id": "770a0ce1",
   "metadata": {},
   "outputs": [],
   "source": [
    "# AnnRhythm_A[24] ### length = 2764"
   ]
  },
  {
   "cell_type": "markdown",
   "id": "a07c7090",
   "metadata": {},
   "source": [
    "# (2) Pre processing data"
   ]
  },
  {
   "cell_type": "code",
   "execution_count": 8,
   "id": "4b833b2f",
   "metadata": {},
   "outputs": [
    {
     "data": {
      "text/plain": [
       "650000"
      ]
     },
     "execution_count": 8,
     "metadata": {},
     "output_type": "execute_result"
    }
   ],
   "source": [
    "len(records_A[0])"
   ]
  },
  {
   "cell_type": "code",
   "execution_count": 9,
   "id": "d4268117",
   "metadata": {},
   "outputs": [
    {
     "data": {
      "text/plain": [
       "array([[-0.065],\n",
       "       [-0.065],\n",
       "       [-0.065],\n",
       "       ...,\n",
       "       [-0.365],\n",
       "       [-0.335],\n",
       "       [ 0.   ]])"
      ]
     },
     "execution_count": 9,
     "metadata": {},
     "output_type": "execute_result"
    }
   ],
   "source": [
    "records_A[0]"
   ]
  },
  {
   "cell_type": "code",
   "execution_count": 10,
   "id": "8bbfe23f",
   "metadata": {},
   "outputs": [
    {
     "data": {
      "text/plain": [
       "2274"
      ]
     },
     "execution_count": 10,
     "metadata": {},
     "output_type": "execute_result"
    }
   ],
   "source": [
    "len(AnnSymb_A[0])"
   ]
  },
  {
   "cell_type": "code",
   "execution_count": 11,
   "id": "5376bec6",
   "metadata": {},
   "outputs": [
    {
     "data": {
      "text/plain": [
       "2274"
      ]
     },
     "execution_count": 11,
     "metadata": {},
     "output_type": "execute_result"
    }
   ],
   "source": [
    "len(AnnRhythm_A[0])"
   ]
  },
  {
   "cell_type": "code",
   "execution_count": 12,
   "id": "595408a8",
   "metadata": {},
   "outputs": [
    {
     "data": {
      "text/plain": [
       "0       (N\u0000\n",
       "1          \n",
       "2          \n",
       "3          \n",
       "4          \n",
       "       ... \n",
       "2269       \n",
       "2270       \n",
       "2271       \n",
       "2272       \n",
       "2273       \n",
       "Length: 2274, dtype: object"
      ]
     },
     "execution_count": 12,
     "metadata": {},
     "output_type": "execute_result"
    }
   ],
   "source": [
    "AnnRhythm_A[0]"
   ]
  },
  {
   "cell_type": "code",
   "execution_count": 13,
   "id": "7a88655d",
   "metadata": {},
   "outputs": [],
   "source": [
    "# lst = []\n",
    "# for i in range(48):\n",
    "#     print(f\"Length of record {i} is: {len(AnnSymb_A[i])}\")\n",
    "#     for item in range(len(AnnSymb_A[i])):\n",
    "#         lst.append(item)\n",
    "# print(\"Total amount of r-peaks: \", len(lst))"
   ]
  },
  {
   "cell_type": "code",
   "execution_count": 14,
   "id": "fc2d428c",
   "metadata": {},
   "outputs": [],
   "source": [
    "appended_AnnSamp = [item for i in range(len(AnnSamp_A)) for item in AnnSamp_A[i]]\n",
    "appended_AnnSymb = [item for i in range(len(AnnRhythm_A)) for item in AnnRhythm_A[i]]"
   ]
  },
  {
   "cell_type": "code",
   "execution_count": 15,
   "id": "063e0196",
   "metadata": {
    "scrolled": false
   },
   "outputs": [
    {
     "data": {
      "text/html": [
       "<div>\n",
       "<style scoped>\n",
       "    .dataframe tbody tr th:only-of-type {\n",
       "        vertical-align: middle;\n",
       "    }\n",
       "\n",
       "    .dataframe tbody tr th {\n",
       "        vertical-align: top;\n",
       "    }\n",
       "\n",
       "    .dataframe thead th {\n",
       "        text-align: right;\n",
       "    }\n",
       "</style>\n",
       "<table border=\"1\" class=\"dataframe\">\n",
       "  <thead>\n",
       "    <tr style=\"text-align: right;\">\n",
       "      <th></th>\n",
       "      <th>Rpeaks</th>\n",
       "      <th>Label</th>\n",
       "    </tr>\n",
       "  </thead>\n",
       "  <tbody>\n",
       "    <tr>\n",
       "      <th>0</th>\n",
       "      <td>18</td>\n",
       "      <td>(N\u0000</td>\n",
       "    </tr>\n",
       "    <tr>\n",
       "      <th>1</th>\n",
       "      <td>77</td>\n",
       "      <td></td>\n",
       "    </tr>\n",
       "    <tr>\n",
       "      <th>2</th>\n",
       "      <td>370</td>\n",
       "      <td></td>\n",
       "    </tr>\n",
       "    <tr>\n",
       "      <th>3</th>\n",
       "      <td>662</td>\n",
       "      <td></td>\n",
       "    </tr>\n",
       "    <tr>\n",
       "      <th>4</th>\n",
       "      <td>946</td>\n",
       "      <td></td>\n",
       "    </tr>\n",
       "    <tr>\n",
       "      <th>...</th>\n",
       "      <td>...</td>\n",
       "      <td>...</td>\n",
       "    </tr>\n",
       "    <tr>\n",
       "      <th>112642</th>\n",
       "      <td>648797</td>\n",
       "      <td></td>\n",
       "    </tr>\n",
       "    <tr>\n",
       "      <th>112643</th>\n",
       "      <td>649040</td>\n",
       "      <td></td>\n",
       "    </tr>\n",
       "    <tr>\n",
       "      <th>112644</th>\n",
       "      <td>649292</td>\n",
       "      <td></td>\n",
       "    </tr>\n",
       "    <tr>\n",
       "      <th>112645</th>\n",
       "      <td>649536</td>\n",
       "      <td></td>\n",
       "    </tr>\n",
       "    <tr>\n",
       "      <th>112646</th>\n",
       "      <td>649772</td>\n",
       "      <td></td>\n",
       "    </tr>\n",
       "  </tbody>\n",
       "</table>\n",
       "<p>112647 rows × 2 columns</p>\n",
       "</div>"
      ],
      "text/plain": [
       "        Rpeaks Label\n",
       "0           18   (N\u0000\n",
       "1           77      \n",
       "2          370      \n",
       "3          662      \n",
       "4          946      \n",
       "...        ...   ...\n",
       "112642  648797      \n",
       "112643  649040      \n",
       "112644  649292      \n",
       "112645  649536      \n",
       "112646  649772      \n",
       "\n",
       "[112647 rows x 2 columns]"
      ]
     },
     "execution_count": 15,
     "metadata": {},
     "output_type": "execute_result"
    }
   ],
   "source": [
    "df = pd.DataFrame(\n",
    "    {'Rpeaks': appended_AnnSamp,\n",
    "     'Label': appended_AnnSymb\n",
    "    })\n",
    "\n",
    "df"
   ]
  },
  {
   "cell_type": "markdown",
   "id": "bb07a428",
   "metadata": {},
   "source": [
    "### Rescaling 360 Hz samples (Arrhythmia) into 250 Hz samples (Atrial Fibrillation)"
   ]
  },
  {
   "cell_type": "code",
   "execution_count": 16,
   "id": "1b0deb7a",
   "metadata": {},
   "outputs": [],
   "source": [
    "df['Rpeaks'] = round(0.694 * df['Rpeaks'])"
   ]
  },
  {
   "cell_type": "markdown",
   "id": "d8a390fb",
   "metadata": {},
   "source": [
    "### Adding differences column"
   ]
  },
  {
   "cell_type": "code",
   "execution_count": 17,
   "id": "cd0b9528",
   "metadata": {},
   "outputs": [
    {
     "data": {
      "text/html": [
       "<div>\n",
       "<style scoped>\n",
       "    .dataframe tbody tr th:only-of-type {\n",
       "        vertical-align: middle;\n",
       "    }\n",
       "\n",
       "    .dataframe tbody tr th {\n",
       "        vertical-align: top;\n",
       "    }\n",
       "\n",
       "    .dataframe thead th {\n",
       "        text-align: right;\n",
       "    }\n",
       "</style>\n",
       "<table border=\"1\" class=\"dataframe\">\n",
       "  <thead>\n",
       "    <tr style=\"text-align: right;\">\n",
       "      <th></th>\n",
       "      <th>Rpeaks</th>\n",
       "      <th>Label</th>\n",
       "      <th>RRI</th>\n",
       "    </tr>\n",
       "  </thead>\n",
       "  <tbody>\n",
       "    <tr>\n",
       "      <th>0</th>\n",
       "      <td>12.0</td>\n",
       "      <td>(N\u0000</td>\n",
       "      <td>41.0</td>\n",
       "    </tr>\n",
       "    <tr>\n",
       "      <th>1</th>\n",
       "      <td>53.0</td>\n",
       "      <td></td>\n",
       "      <td>204.0</td>\n",
       "    </tr>\n",
       "    <tr>\n",
       "      <th>2</th>\n",
       "      <td>257.0</td>\n",
       "      <td></td>\n",
       "      <td>202.0</td>\n",
       "    </tr>\n",
       "    <tr>\n",
       "      <th>3</th>\n",
       "      <td>459.0</td>\n",
       "      <td></td>\n",
       "      <td>198.0</td>\n",
       "    </tr>\n",
       "    <tr>\n",
       "      <th>4</th>\n",
       "      <td>657.0</td>\n",
       "      <td></td>\n",
       "      <td>197.0</td>\n",
       "    </tr>\n",
       "    <tr>\n",
       "      <th>...</th>\n",
       "      <td>...</td>\n",
       "      <td>...</td>\n",
       "      <td>...</td>\n",
       "    </tr>\n",
       "    <tr>\n",
       "      <th>112642</th>\n",
       "      <td>450265.0</td>\n",
       "      <td></td>\n",
       "      <td>169.0</td>\n",
       "    </tr>\n",
       "    <tr>\n",
       "      <th>112643</th>\n",
       "      <td>450434.0</td>\n",
       "      <td></td>\n",
       "      <td>175.0</td>\n",
       "    </tr>\n",
       "    <tr>\n",
       "      <th>112644</th>\n",
       "      <td>450609.0</td>\n",
       "      <td></td>\n",
       "      <td>169.0</td>\n",
       "    </tr>\n",
       "    <tr>\n",
       "      <th>112645</th>\n",
       "      <td>450778.0</td>\n",
       "      <td></td>\n",
       "      <td>164.0</td>\n",
       "    </tr>\n",
       "    <tr>\n",
       "      <th>112646</th>\n",
       "      <td>450942.0</td>\n",
       "      <td></td>\n",
       "      <td>NaN</td>\n",
       "    </tr>\n",
       "  </tbody>\n",
       "</table>\n",
       "<p>112647 rows × 3 columns</p>\n",
       "</div>"
      ],
      "text/plain": [
       "          Rpeaks Label    RRI\n",
       "0           12.0   (N\u0000   41.0\n",
       "1           53.0        204.0\n",
       "2          257.0        202.0\n",
       "3          459.0        198.0\n",
       "4          657.0        197.0\n",
       "...          ...   ...    ...\n",
       "112642  450265.0        169.0\n",
       "112643  450434.0        175.0\n",
       "112644  450609.0        169.0\n",
       "112645  450778.0        164.0\n",
       "112646  450942.0          NaN\n",
       "\n",
       "[112647 rows x 3 columns]"
      ]
     },
     "execution_count": 17,
     "metadata": {},
     "output_type": "execute_result"
    }
   ],
   "source": [
    "df['RRI'] = abs(df['Rpeaks'] - df['Rpeaks'].shift(-1))\n",
    "df"
   ]
  },
  {
   "cell_type": "markdown",
   "id": "8fde219b",
   "metadata": {},
   "source": [
    "### Labeling all the samples"
   ]
  },
  {
   "cell_type": "code",
   "execution_count": 18,
   "id": "662a839c",
   "metadata": {},
   "outputs": [
    {
     "data": {
      "text/html": [
       "<div>\n",
       "<style scoped>\n",
       "    .dataframe tbody tr th:only-of-type {\n",
       "        vertical-align: middle;\n",
       "    }\n",
       "\n",
       "    .dataframe tbody tr th {\n",
       "        vertical-align: top;\n",
       "    }\n",
       "\n",
       "    .dataframe thead th {\n",
       "        text-align: right;\n",
       "    }\n",
       "</style>\n",
       "<table border=\"1\" class=\"dataframe\">\n",
       "  <thead>\n",
       "    <tr style=\"text-align: right;\">\n",
       "      <th></th>\n",
       "      <th>Rpeaks</th>\n",
       "      <th>Label</th>\n",
       "      <th>RRI</th>\n",
       "    </tr>\n",
       "  </thead>\n",
       "  <tbody>\n",
       "    <tr>\n",
       "      <th>0</th>\n",
       "      <td>12.0</td>\n",
       "      <td>(N\u0000</td>\n",
       "      <td>41.0</td>\n",
       "    </tr>\n",
       "    <tr>\n",
       "      <th>1</th>\n",
       "      <td>53.0</td>\n",
       "      <td>NaN</td>\n",
       "      <td>204.0</td>\n",
       "    </tr>\n",
       "    <tr>\n",
       "      <th>2</th>\n",
       "      <td>257.0</td>\n",
       "      <td>NaN</td>\n",
       "      <td>202.0</td>\n",
       "    </tr>\n",
       "    <tr>\n",
       "      <th>3</th>\n",
       "      <td>459.0</td>\n",
       "      <td>NaN</td>\n",
       "      <td>198.0</td>\n",
       "    </tr>\n",
       "    <tr>\n",
       "      <th>4</th>\n",
       "      <td>657.0</td>\n",
       "      <td>NaN</td>\n",
       "      <td>197.0</td>\n",
       "    </tr>\n",
       "    <tr>\n",
       "      <th>...</th>\n",
       "      <td>...</td>\n",
       "      <td>...</td>\n",
       "      <td>...</td>\n",
       "    </tr>\n",
       "    <tr>\n",
       "      <th>112642</th>\n",
       "      <td>450265.0</td>\n",
       "      <td>NaN</td>\n",
       "      <td>169.0</td>\n",
       "    </tr>\n",
       "    <tr>\n",
       "      <th>112643</th>\n",
       "      <td>450434.0</td>\n",
       "      <td>NaN</td>\n",
       "      <td>175.0</td>\n",
       "    </tr>\n",
       "    <tr>\n",
       "      <th>112644</th>\n",
       "      <td>450609.0</td>\n",
       "      <td>NaN</td>\n",
       "      <td>169.0</td>\n",
       "    </tr>\n",
       "    <tr>\n",
       "      <th>112645</th>\n",
       "      <td>450778.0</td>\n",
       "      <td>NaN</td>\n",
       "      <td>164.0</td>\n",
       "    </tr>\n",
       "    <tr>\n",
       "      <th>112646</th>\n",
       "      <td>450942.0</td>\n",
       "      <td>NaN</td>\n",
       "      <td>NaN</td>\n",
       "    </tr>\n",
       "  </tbody>\n",
       "</table>\n",
       "<p>112647 rows × 3 columns</p>\n",
       "</div>"
      ],
      "text/plain": [
       "          Rpeaks Label    RRI\n",
       "0           12.0   (N\u0000   41.0\n",
       "1           53.0   NaN  204.0\n",
       "2          257.0   NaN  202.0\n",
       "3          459.0   NaN  198.0\n",
       "4          657.0   NaN  197.0\n",
       "...          ...   ...    ...\n",
       "112642  450265.0   NaN  169.0\n",
       "112643  450434.0   NaN  175.0\n",
       "112644  450609.0   NaN  169.0\n",
       "112645  450778.0   NaN  164.0\n",
       "112646  450942.0   NaN    NaN\n",
       "\n",
       "[112647 rows x 3 columns]"
      ]
     },
     "execution_count": 18,
     "metadata": {},
     "output_type": "execute_result"
    }
   ],
   "source": [
    "df = df.replace(r'^\\s*$', np.nan, regex=True) ### Replace empty places with NaN\n",
    "df"
   ]
  },
  {
   "cell_type": "code",
   "execution_count": 19,
   "id": "9bb48575",
   "metadata": {},
   "outputs": [
    {
     "data": {
      "text/html": [
       "<div>\n",
       "<style scoped>\n",
       "    .dataframe tbody tr th:only-of-type {\n",
       "        vertical-align: middle;\n",
       "    }\n",
       "\n",
       "    .dataframe tbody tr th {\n",
       "        vertical-align: top;\n",
       "    }\n",
       "\n",
       "    .dataframe thead th {\n",
       "        text-align: right;\n",
       "    }\n",
       "</style>\n",
       "<table border=\"1\" class=\"dataframe\">\n",
       "  <thead>\n",
       "    <tr style=\"text-align: right;\">\n",
       "      <th></th>\n",
       "      <th>Rpeaks</th>\n",
       "      <th>Label</th>\n",
       "      <th>RRI</th>\n",
       "    </tr>\n",
       "  </thead>\n",
       "  <tbody>\n",
       "    <tr>\n",
       "      <th>0</th>\n",
       "      <td>12.0</td>\n",
       "      <td>(N\u0000</td>\n",
       "      <td>41.0</td>\n",
       "    </tr>\n",
       "    <tr>\n",
       "      <th>1</th>\n",
       "      <td>53.0</td>\n",
       "      <td>(N\u0000</td>\n",
       "      <td>204.0</td>\n",
       "    </tr>\n",
       "    <tr>\n",
       "      <th>2</th>\n",
       "      <td>257.0</td>\n",
       "      <td>(N\u0000</td>\n",
       "      <td>202.0</td>\n",
       "    </tr>\n",
       "    <tr>\n",
       "      <th>3</th>\n",
       "      <td>459.0</td>\n",
       "      <td>(N\u0000</td>\n",
       "      <td>198.0</td>\n",
       "    </tr>\n",
       "    <tr>\n",
       "      <th>4</th>\n",
       "      <td>657.0</td>\n",
       "      <td>(N\u0000</td>\n",
       "      <td>197.0</td>\n",
       "    </tr>\n",
       "    <tr>\n",
       "      <th>...</th>\n",
       "      <td>...</td>\n",
       "      <td>...</td>\n",
       "      <td>...</td>\n",
       "    </tr>\n",
       "    <tr>\n",
       "      <th>112642</th>\n",
       "      <td>450265.0</td>\n",
       "      <td>(N\u0000</td>\n",
       "      <td>169.0</td>\n",
       "    </tr>\n",
       "    <tr>\n",
       "      <th>112643</th>\n",
       "      <td>450434.0</td>\n",
       "      <td>(N\u0000</td>\n",
       "      <td>175.0</td>\n",
       "    </tr>\n",
       "    <tr>\n",
       "      <th>112644</th>\n",
       "      <td>450609.0</td>\n",
       "      <td>(N\u0000</td>\n",
       "      <td>169.0</td>\n",
       "    </tr>\n",
       "    <tr>\n",
       "      <th>112645</th>\n",
       "      <td>450778.0</td>\n",
       "      <td>(N\u0000</td>\n",
       "      <td>164.0</td>\n",
       "    </tr>\n",
       "    <tr>\n",
       "      <th>112646</th>\n",
       "      <td>450942.0</td>\n",
       "      <td>(N\u0000</td>\n",
       "      <td>164.0</td>\n",
       "    </tr>\n",
       "  </tbody>\n",
       "</table>\n",
       "<p>112647 rows × 3 columns</p>\n",
       "</div>"
      ],
      "text/plain": [
       "          Rpeaks Label    RRI\n",
       "0           12.0   (N\u0000   41.0\n",
       "1           53.0   (N\u0000  204.0\n",
       "2          257.0   (N\u0000  202.0\n",
       "3          459.0   (N\u0000  198.0\n",
       "4          657.0   (N\u0000  197.0\n",
       "...          ...   ...    ...\n",
       "112642  450265.0   (N\u0000  169.0\n",
       "112643  450434.0   (N\u0000  175.0\n",
       "112644  450609.0   (N\u0000  169.0\n",
       "112645  450778.0   (N\u0000  164.0\n",
       "112646  450942.0   (N\u0000  164.0\n",
       "\n",
       "[112647 rows x 3 columns]"
      ]
     },
     "execution_count": 19,
     "metadata": {},
     "output_type": "execute_result"
    }
   ],
   "source": [
    "df = df.fillna(method='ffill') ### Perform \"forward fill\" - filling instances (NaN) in front row with preceeeding value\n",
    "df"
   ]
  },
  {
   "cell_type": "code",
   "execution_count": 20,
   "id": "4ef341de",
   "metadata": {},
   "outputs": [],
   "source": [
    "# unique, counts = np.unique(df.Label, return_counts=True)\n",
    "# dict(zip(unique, counts))"
   ]
  },
  {
   "cell_type": "code",
   "execution_count": 21,
   "id": "39504b55",
   "metadata": {},
   "outputs": [
    {
     "data": {
      "text/html": [
       "<div>\n",
       "<style scoped>\n",
       "    .dataframe tbody tr th:only-of-type {\n",
       "        vertical-align: middle;\n",
       "    }\n",
       "\n",
       "    .dataframe tbody tr th {\n",
       "        vertical-align: top;\n",
       "    }\n",
       "\n",
       "    .dataframe thead th {\n",
       "        text-align: right;\n",
       "    }\n",
       "</style>\n",
       "<table border=\"1\" class=\"dataframe\">\n",
       "  <thead>\n",
       "    <tr style=\"text-align: right;\">\n",
       "      <th></th>\n",
       "      <th>Rpeaks</th>\n",
       "      <th>Label</th>\n",
       "      <th>RRI</th>\n",
       "    </tr>\n",
       "  </thead>\n",
       "  <tbody>\n",
       "    <tr>\n",
       "      <th>0</th>\n",
       "      <td>12.0</td>\n",
       "      <td>(N\u0000</td>\n",
       "      <td>41.0</td>\n",
       "    </tr>\n",
       "    <tr>\n",
       "      <th>1</th>\n",
       "      <td>53.0</td>\n",
       "      <td>(N\u0000</td>\n",
       "      <td>204.0</td>\n",
       "    </tr>\n",
       "    <tr>\n",
       "      <th>2</th>\n",
       "      <td>257.0</td>\n",
       "      <td>(N\u0000</td>\n",
       "      <td>202.0</td>\n",
       "    </tr>\n",
       "    <tr>\n",
       "      <th>3</th>\n",
       "      <td>459.0</td>\n",
       "      <td>(N\u0000</td>\n",
       "      <td>198.0</td>\n",
       "    </tr>\n",
       "    <tr>\n",
       "      <th>4</th>\n",
       "      <td>657.0</td>\n",
       "      <td>(N\u0000</td>\n",
       "      <td>197.0</td>\n",
       "    </tr>\n",
       "    <tr>\n",
       "      <th>...</th>\n",
       "      <td>...</td>\n",
       "      <td>...</td>\n",
       "      <td>...</td>\n",
       "    </tr>\n",
       "    <tr>\n",
       "      <th>112642</th>\n",
       "      <td>450265.0</td>\n",
       "      <td>(N\u0000</td>\n",
       "      <td>169.0</td>\n",
       "    </tr>\n",
       "    <tr>\n",
       "      <th>112643</th>\n",
       "      <td>450434.0</td>\n",
       "      <td>(N\u0000</td>\n",
       "      <td>175.0</td>\n",
       "    </tr>\n",
       "    <tr>\n",
       "      <th>112644</th>\n",
       "      <td>450609.0</td>\n",
       "      <td>(N\u0000</td>\n",
       "      <td>169.0</td>\n",
       "    </tr>\n",
       "    <tr>\n",
       "      <th>112645</th>\n",
       "      <td>450778.0</td>\n",
       "      <td>(N\u0000</td>\n",
       "      <td>164.0</td>\n",
       "    </tr>\n",
       "    <tr>\n",
       "      <th>112646</th>\n",
       "      <td>450942.0</td>\n",
       "      <td>(N\u0000</td>\n",
       "      <td>164.0</td>\n",
       "    </tr>\n",
       "  </tbody>\n",
       "</table>\n",
       "<p>91087 rows × 3 columns</p>\n",
       "</div>"
      ],
      "text/plain": [
       "          Rpeaks Label    RRI\n",
       "0           12.0   (N\u0000   41.0\n",
       "1           53.0   (N\u0000  204.0\n",
       "2          257.0   (N\u0000  202.0\n",
       "3          459.0   (N\u0000  198.0\n",
       "4          657.0   (N\u0000  197.0\n",
       "...          ...   ...    ...\n",
       "112642  450265.0   (N\u0000  169.0\n",
       "112643  450434.0   (N\u0000  175.0\n",
       "112644  450609.0   (N\u0000  169.0\n",
       "112645  450778.0   (N\u0000  164.0\n",
       "112646  450942.0   (N\u0000  164.0\n",
       "\n",
       "[91087 rows x 3 columns]"
      ]
     },
     "execution_count": 21,
     "metadata": {},
     "output_type": "execute_result"
    }
   ],
   "source": [
    "# final_df = df[(df['Label'] == '(N') | (df['Label'] == '(AFIB')]\n",
    "# final_df\n",
    "\n",
    "arrhythmia_list = ['(N', '(N\\x00', '(AFIB', '(AFIB\\x00']\n",
    "\n",
    "final_df = df[df['Label'].isin(arrhythmia_list)]\n",
    "final_df"
   ]
  },
  {
   "cell_type": "code",
   "execution_count": 22,
   "id": "9e20e323",
   "metadata": {},
   "outputs": [
    {
     "data": {
      "text/html": [
       "<div>\n",
       "<style scoped>\n",
       "    .dataframe tbody tr th:only-of-type {\n",
       "        vertical-align: middle;\n",
       "    }\n",
       "\n",
       "    .dataframe tbody tr th {\n",
       "        vertical-align: top;\n",
       "    }\n",
       "\n",
       "    .dataframe thead th {\n",
       "        text-align: right;\n",
       "    }\n",
       "</style>\n",
       "<table border=\"1\" class=\"dataframe\">\n",
       "  <thead>\n",
       "    <tr style=\"text-align: right;\">\n",
       "      <th></th>\n",
       "      <th>Rpeaks</th>\n",
       "      <th>Label</th>\n",
       "      <th>RRI</th>\n",
       "    </tr>\n",
       "  </thead>\n",
       "  <tbody>\n",
       "    <tr>\n",
       "      <th>0</th>\n",
       "      <td>12.0</td>\n",
       "      <td>(N</td>\n",
       "      <td>41.0</td>\n",
       "    </tr>\n",
       "    <tr>\n",
       "      <th>1</th>\n",
       "      <td>53.0</td>\n",
       "      <td>(N</td>\n",
       "      <td>204.0</td>\n",
       "    </tr>\n",
       "    <tr>\n",
       "      <th>2</th>\n",
       "      <td>257.0</td>\n",
       "      <td>(N</td>\n",
       "      <td>202.0</td>\n",
       "    </tr>\n",
       "    <tr>\n",
       "      <th>3</th>\n",
       "      <td>459.0</td>\n",
       "      <td>(N</td>\n",
       "      <td>198.0</td>\n",
       "    </tr>\n",
       "    <tr>\n",
       "      <th>4</th>\n",
       "      <td>657.0</td>\n",
       "      <td>(N</td>\n",
       "      <td>197.0</td>\n",
       "    </tr>\n",
       "    <tr>\n",
       "      <th>...</th>\n",
       "      <td>...</td>\n",
       "      <td>...</td>\n",
       "      <td>...</td>\n",
       "    </tr>\n",
       "    <tr>\n",
       "      <th>112642</th>\n",
       "      <td>450265.0</td>\n",
       "      <td>(N</td>\n",
       "      <td>169.0</td>\n",
       "    </tr>\n",
       "    <tr>\n",
       "      <th>112643</th>\n",
       "      <td>450434.0</td>\n",
       "      <td>(N</td>\n",
       "      <td>175.0</td>\n",
       "    </tr>\n",
       "    <tr>\n",
       "      <th>112644</th>\n",
       "      <td>450609.0</td>\n",
       "      <td>(N</td>\n",
       "      <td>169.0</td>\n",
       "    </tr>\n",
       "    <tr>\n",
       "      <th>112645</th>\n",
       "      <td>450778.0</td>\n",
       "      <td>(N</td>\n",
       "      <td>164.0</td>\n",
       "    </tr>\n",
       "    <tr>\n",
       "      <th>112646</th>\n",
       "      <td>450942.0</td>\n",
       "      <td>(N</td>\n",
       "      <td>164.0</td>\n",
       "    </tr>\n",
       "  </tbody>\n",
       "</table>\n",
       "<p>91087 rows × 3 columns</p>\n",
       "</div>"
      ],
      "text/plain": [
       "          Rpeaks Label    RRI\n",
       "0           12.0    (N   41.0\n",
       "1           53.0    (N  204.0\n",
       "2          257.0    (N  202.0\n",
       "3          459.0    (N  198.0\n",
       "4          657.0    (N  197.0\n",
       "...          ...   ...    ...\n",
       "112642  450265.0    (N  169.0\n",
       "112643  450434.0    (N  175.0\n",
       "112644  450609.0    (N  169.0\n",
       "112645  450778.0    (N  164.0\n",
       "112646  450942.0    (N  164.0\n",
       "\n",
       "[91087 rows x 3 columns]"
      ]
     },
     "execution_count": 22,
     "metadata": {},
     "output_type": "execute_result"
    }
   ],
   "source": [
    "### Change (N\\x00 and (AFIB\\x00\n",
    "final_df.loc[df['Label'].astype(str) == '(N\\x00', 'Label'] = '(N'\n",
    "final_df.loc[df['Label'].astype(str) == '(AFIB\\x00', 'Label'] = '(AFIB'\n",
    "final_df"
   ]
  },
  {
   "cell_type": "code",
   "execution_count": 23,
   "id": "0a4f658b",
   "metadata": {},
   "outputs": [
    {
     "data": {
      "text/plain": [
       "{'(AFIB': 11675, '(N': 79412}"
      ]
     },
     "execution_count": 23,
     "metadata": {},
     "output_type": "execute_result"
    }
   ],
   "source": [
    "unique2, counts2 = np.unique(final_df.Label, return_counts=True)\n",
    "dict(zip(unique2, counts2))"
   ]
  },
  {
   "cell_type": "code",
   "execution_count": 24,
   "id": "756eab44",
   "metadata": {},
   "outputs": [],
   "source": [
    "# final_df['Label'] = np.where((final_df.Label == '(N\\x00'), '(N', final_df.Label)\n",
    "# final_df"
   ]
  },
  {
   "cell_type": "code",
   "execution_count": 25,
   "id": "7a5db4c7",
   "metadata": {},
   "outputs": [],
   "source": [
    "# final_df.Label == '(N\\x00'\n",
    "# mask = final_df.Label == '(N\\x00'\n",
    "# column_name = 'Label'\n",
    "# df.loc[mask, column_name] = '(N'"
   ]
  },
  {
   "cell_type": "markdown",
   "id": "f30b2c4a",
   "metadata": {},
   "source": [
    "***Some major diviations in samples calculates differences with values of approx. 40.000 \n",
    "where it should be approx. 200-300, this rows are omitted***"
   ]
  },
  {
   "cell_type": "code",
   "execution_count": 26,
   "id": "2348ec5d",
   "metadata": {},
   "outputs": [
    {
     "data": {
      "text/html": [
       "<div>\n",
       "<style scoped>\n",
       "    .dataframe tbody tr th:only-of-type {\n",
       "        vertical-align: middle;\n",
       "    }\n",
       "\n",
       "    .dataframe tbody tr th {\n",
       "        vertical-align: top;\n",
       "    }\n",
       "\n",
       "    .dataframe thead th {\n",
       "        text-align: right;\n",
       "    }\n",
       "</style>\n",
       "<table border=\"1\" class=\"dataframe\">\n",
       "  <thead>\n",
       "    <tr style=\"text-align: right;\">\n",
       "      <th></th>\n",
       "      <th>Rpeaks</th>\n",
       "      <th>Label</th>\n",
       "      <th>RRI</th>\n",
       "    </tr>\n",
       "  </thead>\n",
       "  <tbody>\n",
       "    <tr>\n",
       "      <th>0</th>\n",
       "      <td>12.0</td>\n",
       "      <td>(N</td>\n",
       "      <td>41.0</td>\n",
       "    </tr>\n",
       "    <tr>\n",
       "      <th>1</th>\n",
       "      <td>53.0</td>\n",
       "      <td>(N</td>\n",
       "      <td>204.0</td>\n",
       "    </tr>\n",
       "    <tr>\n",
       "      <th>2</th>\n",
       "      <td>257.0</td>\n",
       "      <td>(N</td>\n",
       "      <td>202.0</td>\n",
       "    </tr>\n",
       "    <tr>\n",
       "      <th>3</th>\n",
       "      <td>459.0</td>\n",
       "      <td>(N</td>\n",
       "      <td>198.0</td>\n",
       "    </tr>\n",
       "    <tr>\n",
       "      <th>4</th>\n",
       "      <td>657.0</td>\n",
       "      <td>(N</td>\n",
       "      <td>197.0</td>\n",
       "    </tr>\n",
       "    <tr>\n",
       "      <th>...</th>\n",
       "      <td>...</td>\n",
       "      <td>...</td>\n",
       "      <td>...</td>\n",
       "    </tr>\n",
       "    <tr>\n",
       "      <th>112642</th>\n",
       "      <td>450265.0</td>\n",
       "      <td>(N</td>\n",
       "      <td>169.0</td>\n",
       "    </tr>\n",
       "    <tr>\n",
       "      <th>112643</th>\n",
       "      <td>450434.0</td>\n",
       "      <td>(N</td>\n",
       "      <td>175.0</td>\n",
       "    </tr>\n",
       "    <tr>\n",
       "      <th>112644</th>\n",
       "      <td>450609.0</td>\n",
       "      <td>(N</td>\n",
       "      <td>169.0</td>\n",
       "    </tr>\n",
       "    <tr>\n",
       "      <th>112645</th>\n",
       "      <td>450778.0</td>\n",
       "      <td>(N</td>\n",
       "      <td>164.0</td>\n",
       "    </tr>\n",
       "    <tr>\n",
       "      <th>112646</th>\n",
       "      <td>450942.0</td>\n",
       "      <td>(N</td>\n",
       "      <td>164.0</td>\n",
       "    </tr>\n",
       "  </tbody>\n",
       "</table>\n",
       "<p>91049 rows × 3 columns</p>\n",
       "</div>"
      ],
      "text/plain": [
       "          Rpeaks Label    RRI\n",
       "0           12.0    (N   41.0\n",
       "1           53.0    (N  204.0\n",
       "2          257.0    (N  202.0\n",
       "3          459.0    (N  198.0\n",
       "4          657.0    (N  197.0\n",
       "...          ...   ...    ...\n",
       "112642  450265.0    (N  169.0\n",
       "112643  450434.0    (N  175.0\n",
       "112644  450609.0    (N  169.0\n",
       "112645  450778.0    (N  164.0\n",
       "112646  450942.0    (N  164.0\n",
       "\n",
       "[91049 rows x 3 columns]"
      ]
     },
     "execution_count": 26,
     "metadata": {},
     "output_type": "execute_result"
    }
   ],
   "source": [
    "final_df = final_df.drop(final_df[final_df.RRI > 1000].index)\n",
    "final_df"
   ]
  },
  {
   "cell_type": "code",
   "execution_count": 27,
   "id": "0e066fd2",
   "metadata": {},
   "outputs": [],
   "source": [
    "#### For printing/viewing entire Dataframe\n",
    "# with pd.option_context('display.max_rows', None, 'display.max_columns', None):  # more options can be specified also\n",
    "#     print(final_df)"
   ]
  },
  {
   "cell_type": "markdown",
   "id": "f7133902",
   "metadata": {},
   "source": [
    "### Convert 'Label' column to boolean expr ----> '(AFIB' = 1 and '(N' = 0"
   ]
  },
  {
   "cell_type": "code",
   "execution_count": 28,
   "id": "43b0dc0e",
   "metadata": {},
   "outputs": [],
   "source": [
    "final_df['Label'] = final_df['Label'].map( \n",
    "                   {'(N':False , '(AFIB':True}) \n",
    "# final_df['Label'] = final_df['Label'].map( \n",
    "#                    {'(N\\x00':False ,'(AFIB\\x00':True})"
   ]
  },
  {
   "cell_type": "code",
   "execution_count": 29,
   "id": "ef51c09f",
   "metadata": {},
   "outputs": [
    {
     "data": {
      "text/html": [
       "<div>\n",
       "<style scoped>\n",
       "    .dataframe tbody tr th:only-of-type {\n",
       "        vertical-align: middle;\n",
       "    }\n",
       "\n",
       "    .dataframe tbody tr th {\n",
       "        vertical-align: top;\n",
       "    }\n",
       "\n",
       "    .dataframe thead th {\n",
       "        text-align: right;\n",
       "    }\n",
       "</style>\n",
       "<table border=\"1\" class=\"dataframe\">\n",
       "  <thead>\n",
       "    <tr style=\"text-align: right;\">\n",
       "      <th></th>\n",
       "      <th>Rpeaks</th>\n",
       "      <th>Label</th>\n",
       "      <th>RRI</th>\n",
       "    </tr>\n",
       "  </thead>\n",
       "  <tbody>\n",
       "    <tr>\n",
       "      <th>0</th>\n",
       "      <td>12.0</td>\n",
       "      <td>0</td>\n",
       "      <td>41.0</td>\n",
       "    </tr>\n",
       "    <tr>\n",
       "      <th>1</th>\n",
       "      <td>53.0</td>\n",
       "      <td>0</td>\n",
       "      <td>204.0</td>\n",
       "    </tr>\n",
       "    <tr>\n",
       "      <th>2</th>\n",
       "      <td>257.0</td>\n",
       "      <td>0</td>\n",
       "      <td>202.0</td>\n",
       "    </tr>\n",
       "    <tr>\n",
       "      <th>3</th>\n",
       "      <td>459.0</td>\n",
       "      <td>0</td>\n",
       "      <td>198.0</td>\n",
       "    </tr>\n",
       "    <tr>\n",
       "      <th>4</th>\n",
       "      <td>657.0</td>\n",
       "      <td>0</td>\n",
       "      <td>197.0</td>\n",
       "    </tr>\n",
       "    <tr>\n",
       "      <th>...</th>\n",
       "      <td>...</td>\n",
       "      <td>...</td>\n",
       "      <td>...</td>\n",
       "    </tr>\n",
       "    <tr>\n",
       "      <th>112642</th>\n",
       "      <td>450265.0</td>\n",
       "      <td>0</td>\n",
       "      <td>169.0</td>\n",
       "    </tr>\n",
       "    <tr>\n",
       "      <th>112643</th>\n",
       "      <td>450434.0</td>\n",
       "      <td>0</td>\n",
       "      <td>175.0</td>\n",
       "    </tr>\n",
       "    <tr>\n",
       "      <th>112644</th>\n",
       "      <td>450609.0</td>\n",
       "      <td>0</td>\n",
       "      <td>169.0</td>\n",
       "    </tr>\n",
       "    <tr>\n",
       "      <th>112645</th>\n",
       "      <td>450778.0</td>\n",
       "      <td>0</td>\n",
       "      <td>164.0</td>\n",
       "    </tr>\n",
       "    <tr>\n",
       "      <th>112646</th>\n",
       "      <td>450942.0</td>\n",
       "      <td>0</td>\n",
       "      <td>164.0</td>\n",
       "    </tr>\n",
       "  </tbody>\n",
       "</table>\n",
       "<p>91049 rows × 3 columns</p>\n",
       "</div>"
      ],
      "text/plain": [
       "          Rpeaks  Label    RRI\n",
       "0           12.0      0   41.0\n",
       "1           53.0      0  204.0\n",
       "2          257.0      0  202.0\n",
       "3          459.0      0  198.0\n",
       "4          657.0      0  197.0\n",
       "...          ...    ...    ...\n",
       "112642  450265.0      0  169.0\n",
       "112643  450434.0      0  175.0\n",
       "112644  450609.0      0  169.0\n",
       "112645  450778.0      0  164.0\n",
       "112646  450942.0      0  164.0\n",
       "\n",
       "[91049 rows x 3 columns]"
      ]
     },
     "execution_count": 29,
     "metadata": {},
     "output_type": "execute_result"
    }
   ],
   "source": [
    "final_df['Label'] = final_df['Label'].astype(int)\n",
    "final_df"
   ]
  },
  {
   "cell_type": "code",
   "execution_count": 30,
   "id": "b5960416",
   "metadata": {},
   "outputs": [
    {
     "data": {
      "text/plain": [
       "{0: 79379, 1: 11670}"
      ]
     },
     "execution_count": 30,
     "metadata": {},
     "output_type": "execute_result"
    }
   ],
   "source": [
    "unique2, counts2 = np.unique(final_df.Label, return_counts=True)\n",
    "dict(zip(unique2, counts2))"
   ]
  },
  {
   "cell_type": "code",
   "execution_count": 31,
   "id": "c78c607f",
   "metadata": {},
   "outputs": [],
   "source": [
    "def segmenting_record_A(seg_value_A):\n",
    "    rri2_A = final_df['RRI'] ### Storing the intervals between rpeaks\n",
    "    rri2_A = np.array(rri2_A, dtype=np.float64) ### Ensuring no overflow issues happens, when calculating in for loop later\n",
    "    \n",
    "    amount_A = -(len(rri2_A) % seg_value_A) # amount of data points to remove, for equal length segments with no residue points\n",
    "    print(f\"Amount to remove {amount_A}\")\n",
    "    \n",
    "    rec_amount_A = rri2_A[:amount_A]\n",
    "    seg_shape_A = len(rec_amount_A) // seg_value_A # amount of total segments (given the specified segment length) \n",
    "    print(f\"Shape 0: {seg_shape_A}\")\n",
    "    \n",
    "    segmented_rec_A = rec_amount_A.reshape(seg_shape_A,seg_value_A)\n",
    "    return segmented_rec_A"
   ]
  },
  {
   "cell_type": "code",
   "execution_count": 32,
   "id": "7703246a",
   "metadata": {
    "scrolled": true
   },
   "outputs": [
    {
     "name": "stdout",
     "output_type": "stream",
     "text": [
      "Amount to remove -29\n",
      "Shape 0: 1517\n"
     ]
    }
   ],
   "source": [
    "segmented_record_A = segmenting_record_A(10) # Specify the segment length"
   ]
  },
  {
   "cell_type": "markdown",
   "id": "7395764f",
   "metadata": {},
   "source": [
    "### X"
   ]
  },
  {
   "cell_type": "code",
   "execution_count": 33,
   "id": "34bee21c",
   "metadata": {},
   "outputs": [],
   "source": [
    "### Loads in functions for Shannon Entropy, Mean absolute deviation calculations\n",
    "%run \"features_utils.ipynb\"\n",
    "from scipy.stats import median_abs_deviation"
   ]
  },
  {
   "cell_type": "code",
   "execution_count": 34,
   "id": "c9707257",
   "metadata": {},
   "outputs": [],
   "source": [
    "all_features_A = []\n",
    "\n",
    "### Calculating features for every single segmented \"block\" inside the segmented_record_A variable\n",
    "for x in range(len(segmented_record_A)):\n",
    "    \n",
    "    #MEAN\n",
    "    ff1 = np.nanmean(segmented_record_A[x]) ### nanmean, nanstd computes values while ignoring nan-values\n",
    "    #STD\n",
    "    ff2 = np.nanstd(segmented_record_A[x])\n",
    "    #RMSSD\n",
    "    sum_ = 0\n",
    "    for y in range(len(segmented_record_A[x]) - 1): ### loops 19 times\n",
    "        sum_ += (segmented_record_A[x][y] - segmented_record_A[x][y+1])**2\n",
    "    sum_multiplied = 1/(len(segmented_record_A) - 1) * sum_\n",
    "    ff3 = np.sqrt(sum_multiplied)\n",
    "    #NORMALIZED RMSSD\n",
    "    ff4 = (ff3 / ff1)\n",
    "    #SHANNON ENTROPY\n",
    "    ff5 = entropy(segmented_record_A[x])\n",
    "    #MEAN ABSOLUTE DEVIATION\n",
    "    ff6 = mean_abs_deviation(segmented_record_A[x])\n",
    "    #MEDIAN ABSOLUTE DEVIATION\n",
    "    ff7 = median_abs_deviation(segmented_record_A[x])\n",
    "    \n",
    "    #COVARIANCE\n",
    "    #z = np.stack((ff1, ff2))\n",
    "    #ff5 = np.cov(z) ### try cov with previous segment\n",
    "\n",
    "    my_features = pd.Series([np.around(ff1,3), np.around(ff2,3), np.around(ff3,3), np.around(ff4,3), np.around(ff5,3), \n",
    "                             np.around(ff6,3), np.around(ff7,3)],\n",
    "                            index=['Mean','STD','RMSSD','Normalized RMSSD','Shannon Entropy',\n",
    "                                   'Mean absolute deviation','Median absolute deiviation'])\n",
    "    all_features_A.append(my_features)"
   ]
  },
  {
   "cell_type": "code",
   "execution_count": 35,
   "id": "5680df5a",
   "metadata": {},
   "outputs": [
    {
     "name": "stdout",
     "output_type": "stream",
     "text": [
      "Features calculated for an example segment:\n",
      "Mean                          200.567\n",
      "STD                            22.949\n",
      "RMSSD                           5.093\n",
      "Normalized RMSSD                0.025\n",
      "Shannon Entropy                 0.741\n",
      "Mean absolute deviation         9.220\n",
      "Median absolute deiviation      5.000\n",
      "dtype: float64\n",
      "\n",
      "Features variable contains 1517 segments\n"
     ]
    }
   ],
   "source": [
    "n = 0\n",
    "\n",
    "print(f\"Features calculated for an example segment:\\n{all_features_A[n]}\") \n",
    "print('\\n'f\"Features variable contains {len(all_features_A)} segments\")"
   ]
  },
  {
   "cell_type": "markdown",
   "id": "210dbc8d",
   "metadata": {},
   "source": [
    "### Y"
   ]
  },
  {
   "cell_type": "markdown",
   "id": "d593b2b8",
   "metadata": {},
   "source": [
    "### Paste the copied information below (indicated with the arrows)\n",
    "1. Arrow: Add \"Amount to remove\", (remember the negative sign).\n",
    "2. Arrow: Add \"Shape 0\" as first argument and the segment size as second argument. (Shape 0 , segment size)\n",
    "3. Arrow: Divide segment size by 2 and add here. (meaning, if over half the segment contains \"(AFIB\", than classify the whole segment as \"(AFIB\""
   ]
  },
  {
   "cell_type": "code",
   "execution_count": 37,
   "id": "b7253792",
   "metadata": {},
   "outputs": [
    {
     "name": "stdout",
     "output_type": "stream",
     "text": [
      "float64\n",
      "Length of y_list: 1517\n"
     ]
    }
   ],
   "source": [
    "Label_A = final_df[\"Label\"]\n",
    "Label_A = np.array(Label_A, dtype=np.float64)\n",
    "\n",
    "y_amount_A = Label_A[:-9] # <=============== (1)\n",
    "y_shape_A = y_amount_A.reshape(9104, 10) # <=============== (2)\n",
    "y_list_A = []\n",
    "\n",
    "### Calc if every 20 segment block is Normal synus rythm or AFIB\n",
    "for g in range(len(y_shape_A)):\n",
    "    #y_segment = y_shape\n",
    "    sum_segment_A = np.sum(y_shape_A[g])\n",
    "    if sum_segment_A >= 5: # <=============== (3)\n",
    "        sum_segment_A = 1\n",
    "    else: sum_segment_A = 0\n",
    "    y_list_A.append(sum_segment_A)\n",
    "\n",
    "y_list_A = np.array(y_list_A, dtype=np.float64)\n",
    "print(y_list_A.dtype)\n",
    "print(f\"Length of y_list: {len(y_list_A)}\")"
   ]
  }
 ],
 "metadata": {
  "kernelspec": {
   "display_name": "Python 3 (ipykernel)",
   "language": "python",
   "name": "python3"
  },
  "language_info": {
   "codemirror_mode": {
    "name": "ipython",
    "version": 3
   },
   "file_extension": ".py",
   "mimetype": "text/x-python",
   "name": "python",
   "nbconvert_exporter": "python",
   "pygments_lexer": "ipython3",
   "version": "3.8.8"
  }
 },
 "nbformat": 4,
 "nbformat_minor": 5
}
