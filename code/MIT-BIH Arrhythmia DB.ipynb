{
 "cells": [
  {
   "cell_type": "markdown",
   "id": "e547a21e",
   "metadata": {},
   "source": [
    "# (1) Importing/Storing data"
   ]
  },
  {
   "cell_type": "code",
   "execution_count": 1,
   "id": "d192ddc1",
   "metadata": {},
   "outputs": [],
   "source": [
    "import wfdb\n",
    "import os\n",
    "import glob\n",
    "import pandas as pd\n",
    "import numpy as np\n",
    "import matplotlib.pyplot as plt"
   ]
  },
  {
   "cell_type": "code",
   "execution_count": 2,
   "id": "9dfd3479",
   "metadata": {},
   "outputs": [],
   "source": [
    "### sampled at 250 samples per second"
   ]
  },
  {
   "cell_type": "code",
   "execution_count": 3,
   "id": "987ac65e",
   "metadata": {},
   "outputs": [],
   "source": [
    "records_A = []\n",
    "properties_A = []\n",
    "annot_A = []\n",
    "AnnSymb_A = []\n",
    "AnnSamp_A = []\n",
    "AnnRhythm_A = []\n",
    "Rpeak_Samp_A = []\n",
    "Rpeak_Symb_A = []\n",
    "\n",
    "\n",
    "for f in glob.glob('C:/Users/masud/Skrivebord/Github_Bachelor_Project/wfdb-python/data/arrhythmia_data/*.dat'): ##### change the path to own directory.       \n",
    "    sig, fields = wfdb.rdsamp(f[:-4], channels=[1])  #### In this function, pass \"channels=[0]\" or \"channels=[1]\" to select channel 1 or 2.\n",
    "    \n",
    "    ann = wfdb.rdann(f[:-4], 'atr')\n",
    "    QRS = wfdb.rdann(f[:-4], 'xws')\n",
    "    Symb = pd.Series(ann.symbol)\n",
    "    Samp = pd.Series(ann.sample)\n",
    "    \n",
    "    QRS_Symb = pd.Series(QRS.symbol)\n",
    "    QRS_Samp = pd.Series(QRS.sample)\n",
    "    Rhythm = pd.Series(ann.aux_note)\n",
    "    records_A.append(sig)\n",
    "    properties_A.append(fields)\n",
    "    annot_A.append(ann)\n",
    "    AnnSymb_A.append(Symb)\n",
    "    AnnSamp_A.append(Samp)\n",
    "    Rpeak_Symb_A.append(QRS_Symb)\n",
    "    Rpeak_Samp_A.append(QRS_Samp)\n",
    "    AnnRhythm_A.append(Rhythm)\n",
    "    \n",
    "    \n",
    "\n",
    "AnnSymb_A = pd.Series(AnnSymb_A).values\n",
    "AnnSamp_A = pd.Series(AnnSamp_A).values"
   ]
  },
  {
   "cell_type": "code",
   "execution_count": 4,
   "id": "d076e5f9",
   "metadata": {},
   "outputs": [
    {
     "data": {
      "text/plain": [
       "0       +\n",
       "1       N\n",
       "2       N\n",
       "3       N\n",
       "4       N\n",
       "       ..\n",
       "2759    N\n",
       "2760    N\n",
       "2761    N\n",
       "2762    N\n",
       "2763    N\n",
       "Length: 2764, dtype: object"
      ]
     },
     "execution_count": 4,
     "metadata": {},
     "output_type": "execute_result"
    }
   ],
   "source": [
    "AnnSymb_A[47] #Rpeak_Symbol"
   ]
  },
  {
   "cell_type": "code",
   "execution_count": 5,
   "id": "acee306f",
   "metadata": {},
   "outputs": [
    {
     "data": {
      "text/plain": [
       "0           52\n",
       "1          135\n",
       "2          366\n",
       "3          606\n",
       "4          841\n",
       "         ...  \n",
       "2759    648797\n",
       "2760    649040\n",
       "2761    649292\n",
       "2762    649536\n",
       "2763    649772\n",
       "Length: 2764, dtype: int32"
      ]
     },
     "execution_count": 5,
     "metadata": {},
     "output_type": "execute_result"
    }
   ],
   "source": [
    "AnnSamp_A[47] #Rpeak_Sample"
   ]
  },
  {
   "cell_type": "code",
   "execution_count": 6,
   "id": "4fbdf34c",
   "metadata": {},
   "outputs": [
    {
     "data": {
      "text/plain": [
       "0       +\n",
       "1       /\n",
       "2       Q\n",
       "3       j\n",
       "4       A\n",
       "5       u\n",
       "6       L\n",
       "7       +\n",
       "8       ^\n",
       "9       u\n",
       "10      ~\n",
       "11      j\n",
       "12      A\n",
       "13      j\n",
       "14      B\n",
       "15      ^\n",
       "16      A\n",
       "17      p\n",
       "18    NaN\n",
       "19      *\n",
       "20      *\n",
       "21    NaN\n",
       "22      =\n",
       "23      |\n",
       "24    NaN\n",
       "25      A\n",
       "26      j\n",
       "27    NaN\n",
       "28      j\n",
       "29      A\n",
       "30      p\n",
       "31      t\n",
       "32      u\n",
       "33      +\n",
       "34      A\n",
       "35      T\n",
       "36      D\n",
       "37    NaN\n",
       "38      D\n",
       "39      D\n",
       "40      s\n",
       "41      A\n",
       "42      j\n",
       "dtype: object"
      ]
     },
     "execution_count": 6,
     "metadata": {},
     "output_type": "execute_result"
    }
   ],
   "source": [
    "Rpeak_Symb_A[47] #Annotaion_Symbol"
   ]
  },
  {
   "cell_type": "code",
   "execution_count": 7,
   "id": "c4b49d1d",
   "metadata": {},
   "outputs": [
    {
     "data": {
      "text/plain": [
       "0       557\n",
       "1      1101\n",
       "2      1152\n",
       "3      1418\n",
       "4      1515\n",
       "5      1612\n",
       "6      2238\n",
       "7      2283\n",
       "8      2315\n",
       "9      2431\n",
       "10     3055\n",
       "11     3870\n",
       "12     4186\n",
       "13     4487\n",
       "14     4778\n",
       "15     4877\n",
       "16     4988\n",
       "17     5362\n",
       "18     5732\n",
       "19     6534\n",
       "20     7115\n",
       "21     7457\n",
       "22     8307\n",
       "23     8641\n",
       "24     8974\n",
       "25     9008\n",
       "26     9309\n",
       "27     9371\n",
       "28     9660\n",
       "29    10473\n",
       "30    11342\n",
       "31    12214\n",
       "32    12758\n",
       "33    13367\n",
       "34    13940\n",
       "35    14776\n",
       "36    15099\n",
       "37    15432\n",
       "38    15510\n",
       "39    15861\n",
       "40    16199\n",
       "41    16233\n",
       "42    16534\n",
       "dtype: int32"
      ]
     },
     "execution_count": 7,
     "metadata": {},
     "output_type": "execute_result"
    }
   ],
   "source": [
    "Rpeak_Samp_A[47] #Annotaion_Sample"
   ]
  },
  {
   "cell_type": "code",
   "execution_count": 8,
   "id": "770a0ce1",
   "metadata": {},
   "outputs": [
    {
     "data": {
      "text/plain": [
       "0       (N\u0000\n",
       "1          \n",
       "2          \n",
       "3          \n",
       "4          \n",
       "       ... \n",
       "2759       \n",
       "2760       \n",
       "2761       \n",
       "2762       \n",
       "2763       \n",
       "Length: 2764, dtype: object"
      ]
     },
     "execution_count": 8,
     "metadata": {},
     "output_type": "execute_result"
    }
   ],
   "source": [
    "AnnRhythm_A[47]"
   ]
  },
  {
   "cell_type": "markdown",
   "id": "a07c7090",
   "metadata": {},
   "source": [
    "# (2) Pre processing data"
   ]
  },
  {
   "cell_type": "code",
   "execution_count": 9,
   "id": "8485315b",
   "metadata": {},
   "outputs": [],
   "source": [
    "labeled_Rpeaks_A = []\n",
    "appended_data_A = []\n",
    "for i in range(48): ## 48 records\n",
    "    for j in range(len(AnnSamp_A[i])-1): ## AnnSamp or AnnRhythm -- both same dimensions\n",
    "        df = pd.DataFrame(Rpeak_Samp_A[i][(Rpeak_Samp_A[i] > AnnSamp_A[i][j]) & (Rpeak_Samp_A[i] < AnnSamp_A[i][j+1])])\n",
    "        df['Label'] = AnnRhythm_A[i][j]\n",
    "        appended_data_A.append(df)\n",
    "        \n",
    "\n",
    "labeled_Rpeaks_A = pd.concat(appended_data_A)"
   ]
  },
  {
   "cell_type": "code",
   "execution_count": 13,
   "id": "2c3c07bb",
   "metadata": {},
   "outputs": [
    {
     "data": {
      "text/html": [
       "<div>\n",
       "<style scoped>\n",
       "    .dataframe tbody tr th:only-of-type {\n",
       "        vertical-align: middle;\n",
       "    }\n",
       "\n",
       "    .dataframe tbody tr th {\n",
       "        vertical-align: top;\n",
       "    }\n",
       "\n",
       "    .dataframe thead th {\n",
       "        text-align: right;\n",
       "    }\n",
       "</style>\n",
       "<table border=\"1\" class=\"dataframe\">\n",
       "  <thead>\n",
       "    <tr style=\"text-align: right;\">\n",
       "      <th></th>\n",
       "      <th>0</th>\n",
       "      <th>Label</th>\n",
       "    </tr>\n",
       "  </thead>\n",
       "  <tbody>\n",
       "    <tr>\n",
       "      <th>0</th>\n",
       "      <td>557</td>\n",
       "      <td></td>\n",
       "    </tr>\n",
       "    <tr>\n",
       "      <th>1</th>\n",
       "      <td>845</td>\n",
       "      <td></td>\n",
       "    </tr>\n",
       "    <tr>\n",
       "      <th>2</th>\n",
       "      <td>893</td>\n",
       "      <td></td>\n",
       "    </tr>\n",
       "    <tr>\n",
       "      <th>3</th>\n",
       "      <td>1159</td>\n",
       "      <td></td>\n",
       "    </tr>\n",
       "    <tr>\n",
       "      <th>4</th>\n",
       "      <td>1256</td>\n",
       "      <td></td>\n",
       "    </tr>\n",
       "    <tr>\n",
       "      <th>...</th>\n",
       "      <td>...</td>\n",
       "      <td>...</td>\n",
       "    </tr>\n",
       "    <tr>\n",
       "      <th>38</th>\n",
       "      <td>15510</td>\n",
       "      <td></td>\n",
       "    </tr>\n",
       "    <tr>\n",
       "      <th>39</th>\n",
       "      <td>15861</td>\n",
       "      <td></td>\n",
       "    </tr>\n",
       "    <tr>\n",
       "      <th>40</th>\n",
       "      <td>16199</td>\n",
       "      <td></td>\n",
       "    </tr>\n",
       "    <tr>\n",
       "      <th>41</th>\n",
       "      <td>16233</td>\n",
       "      <td></td>\n",
       "    </tr>\n",
       "    <tr>\n",
       "      <th>42</th>\n",
       "      <td>16534</td>\n",
       "      <td></td>\n",
       "    </tr>\n",
       "  </tbody>\n",
       "</table>\n",
       "<p>2059 rows × 2 columns</p>\n",
       "</div>"
      ],
      "text/plain": [
       "        0 Label\n",
       "0     557      \n",
       "1     845      \n",
       "2     893      \n",
       "3    1159      \n",
       "4    1256      \n",
       "..    ...   ...\n",
       "38  15510      \n",
       "39  15861      \n",
       "40  16199      \n",
       "41  16233      \n",
       "42  16534      \n",
       "\n",
       "[2059 rows x 2 columns]"
      ]
     },
     "execution_count": 13,
     "metadata": {},
     "output_type": "execute_result"
    }
   ],
   "source": [
    "labeled_Rpeaks_A"
   ]
  },
  {
   "cell_type": "markdown",
   "id": "faae2113",
   "metadata": {},
   "source": [
    "### (below) No annotations of '(N' or '(AFIB' string convention?"
   ]
  },
  {
   "cell_type": "code",
   "execution_count": 15,
   "id": "613f9ca1",
   "metadata": {},
   "outputs": [
    {
     "data": {
      "text/html": [
       "<div>\n",
       "<style scoped>\n",
       "    .dataframe tbody tr th:only-of-type {\n",
       "        vertical-align: middle;\n",
       "    }\n",
       "\n",
       "    .dataframe tbody tr th {\n",
       "        vertical-align: top;\n",
       "    }\n",
       "\n",
       "    .dataframe thead th {\n",
       "        text-align: right;\n",
       "    }\n",
       "</style>\n",
       "<table border=\"1\" class=\"dataframe\">\n",
       "  <thead>\n",
       "    <tr style=\"text-align: right;\">\n",
       "      <th></th>\n",
       "      <th>0</th>\n",
       "      <th>Label</th>\n",
       "    </tr>\n",
       "  </thead>\n",
       "  <tbody>\n",
       "  </tbody>\n",
       "</table>\n",
       "</div>"
      ],
      "text/plain": [
       "Empty DataFrame\n",
       "Columns: [0, Label]\n",
       "Index: []"
      ]
     },
     "execution_count": 15,
     "metadata": {},
     "output_type": "execute_result"
    }
   ],
   "source": [
    "labeled_Rpeaks_N_AFIB = labeled_Rpeaks_A.loc[(labeled_Rpeaks_A.Label == '(N') | (labeled_Rpeaks_A.Label == '(AFIB'), :]\n",
    "labeled_Rpeaks_N_AFIB"
   ]
  }
 ],
 "metadata": {
  "kernelspec": {
   "display_name": "Python 3",
   "language": "python",
   "name": "python3"
  },
  "language_info": {
   "codemirror_mode": {
    "name": "ipython",
    "version": 3
   },
   "file_extension": ".py",
   "mimetype": "text/x-python",
   "name": "python",
   "nbconvert_exporter": "python",
   "pygments_lexer": "ipython3",
   "version": "3.8.8"
  }
 },
 "nbformat": 4,
 "nbformat_minor": 5
}
