{
 "cells": [
  {
   "cell_type": "markdown",
   "id": "fe988743",
   "metadata": {},
   "source": [
    "# (1) Importing/Storing data"
   ]
  },
  {
   "cell_type": "code",
   "execution_count": 1,
   "id": "22b703e1",
   "metadata": {},
   "outputs": [],
   "source": [
    "import wfdb\n",
    "import os\n",
    "import glob\n",
    "import pandas as pd\n",
    "import numpy as np\n",
    "import matplotlib.pyplot as plt"
   ]
  },
  {
   "cell_type": "code",
   "execution_count": 2,
   "id": "273eeea3",
   "metadata": {},
   "outputs": [],
   "source": [
    "records = []\n",
    "properties = []\n",
    "annot = []\n",
    "AnnSymb = []\n",
    "AnnSamp = []\n",
    "AnnRhythm = []\n",
    "Rpeak_Samp = []\n",
    "Rpeak_Symb = []\n",
    "\n",
    "\n",
    "for f in glob.glob('C:/Users/masud/Skrivebord/Github_Bachelor_Project/wfdb-python/data/atrial_fibrillation_data/*.dat'): ##### change the path to own directory.       \n",
    "                                                                                             ##### The rest should remin the same\n",
    "                                                                                             ##### Useful function:\n",
    "                                                                                             ##### print('Current directory is: {}'.format(os.getcwd()))\n",
    "    sig, fields = wfdb.rdsamp(f[:-4], channels=[1])  #### In this function, pass \n",
    "                                                     #### \"channels=[0]\" or \"channels=[1]\" to select channel 1 or 2.\n",
    "    ann = wfdb.rdann(f[:-4], 'atr')\n",
    "    QRS = wfdb.rdann(f[:-4], 'qrs')\n",
    "    Symb = pd.Series(ann.symbol)\n",
    "    Samp = pd.Series(ann.sample)\n",
    "    QRS_Symb = pd.Series(QRS.symbol)\n",
    "    QRS_Samp = pd.Series(QRS.sample)\n",
    "    Rhythm = pd.Series(ann.aux_note)\n",
    "    records.append(sig)\n",
    "    properties.append(fields)\n",
    "    annot.append(ann)\n",
    "    AnnSymb.append(Symb)\n",
    "    AnnSamp.append(Samp)\n",
    "    Rpeak_Symb.append(QRS_Symb)\n",
    "    Rpeak_Samp.append(QRS_Samp)\n",
    "    AnnRhythm.append(Rhythm)\n",
    "    \n",
    "    \n",
    "\n",
    "AnnSymb = pd.Series(AnnSymb).values\n",
    "AnnSamp = pd.Series(AnnSamp).values"
   ]
  },
  {
   "cell_type": "markdown",
   "id": "e8c3fa8d",
   "metadata": {},
   "source": [
    "# (2) Pre processing data"
   ]
  },
  {
   "cell_type": "code",
   "execution_count": 3,
   "id": "ad1ae75e",
   "metadata": {},
   "outputs": [],
   "source": [
    "train_Rpeaks = []\n",
    "appended_data_t = []\n",
    "for i in range(18): ## 23 records\n",
    "    for j in range(len(AnnSamp[i])-1): ## AnnSamp or AnnRhythm -- both same dimensions\n",
    "        df = pd.DataFrame(Rpeak_Samp[i][(Rpeak_Samp[i] > AnnSamp[i][j]) & (Rpeak_Samp[i] < AnnSamp[i][j+1])])\n",
    "        df['Label'] = AnnRhythm[i][j]\n",
    "        appended_data_t.append(df)\n",
    "        \n",
    "\n",
    "train_Rpeaks = pd.concat(appended_data_t)\n",
    "# train_Rpeaks"
   ]
  },
  {
   "cell_type": "code",
   "execution_count": 4,
   "id": "a0e831ab",
   "metadata": {},
   "outputs": [],
   "source": [
    "test_Rpeaks = []\n",
    "appended_data_te = []\n",
    "for i in range(18,23): ## 23 records\n",
    "    for j in range(len(AnnSamp[i])-1): ## AnnSamp or AnnRhythm -- both same dimensions\n",
    "        df = pd.DataFrame(Rpeak_Samp[i][(Rpeak_Samp[i] > AnnSamp[i][j]) & (Rpeak_Samp[i] < AnnSamp[i][j+1])])\n",
    "        df['Label'] = AnnRhythm[i][j]\n",
    "        appended_data_te.append(df)\n",
    "        \n",
    "\n",
    "test_Rpeaks = pd.concat(appended_data_te)\n",
    "# test_Rpeaks"
   ]
  },
  {
   "cell_type": "markdown",
   "id": "300843be",
   "metadata": {},
   "source": [
    "### Filtering, only get hearbeats with annotations '(N' OR '(AFIB'"
   ]
  },
  {
   "cell_type": "code",
   "execution_count": 5,
   "id": "3fcc6d65",
   "metadata": {},
   "outputs": [],
   "source": [
    "train_Rpeaks_N_AFIB = train_Rpeaks.loc[(train_Rpeaks.Label == '(N') | (train_Rpeaks.Label == '(AFIB'), :]\n",
    "# train_Rpeaks_N_AFIB"
   ]
  },
  {
   "cell_type": "code",
   "execution_count": 6,
   "id": "b129f0b8",
   "metadata": {},
   "outputs": [],
   "source": [
    "test_Rpeaks_N_AFIB = test_Rpeaks.loc[(test_Rpeaks.Label == '(N') | (test_Rpeaks.Label == '(AFIB'), :]\n",
    "# test_Rpeaks_N_AFIB"
   ]
  },
  {
   "cell_type": "markdown",
   "id": "b82d19a0",
   "metadata": {},
   "source": [
    "### Convert 'Label' column to boolean expr ----> '(AFIB' = 1 and '(N' = 0"
   ]
  },
  {
   "cell_type": "code",
   "execution_count": 7,
   "id": "39459704",
   "metadata": {},
   "outputs": [
    {
     "name": "stderr",
     "output_type": "stream",
     "text": [
      "<ipython-input-7-abe487998316>:1: SettingWithCopyWarning: \n",
      "A value is trying to be set on a copy of a slice from a DataFrame.\n",
      "Try using .loc[row_indexer,col_indexer] = value instead\n",
      "\n",
      "See the caveats in the documentation: https://pandas.pydata.org/pandas-docs/stable/user_guide/indexing.html#returning-a-view-versus-a-copy\n",
      "  train_Rpeaks_N_AFIB['Label'] = train_Rpeaks_N_AFIB['Label'].map(\n",
      "<ipython-input-7-abe487998316>:3: SettingWithCopyWarning: \n",
      "A value is trying to be set on a copy of a slice from a DataFrame.\n",
      "Try using .loc[row_indexer,col_indexer] = value instead\n",
      "\n",
      "See the caveats in the documentation: https://pandas.pydata.org/pandas-docs/stable/user_guide/indexing.html#returning-a-view-versus-a-copy\n",
      "  train_Rpeaks_N_AFIB['Label'] = train_Rpeaks_N_AFIB['Label'].astype(int)\n",
      "D:\\Anaconda\\lib\\site-packages\\pandas\\core\\frame.py:4441: SettingWithCopyWarning: \n",
      "A value is trying to be set on a copy of a slice from a DataFrame\n",
      "\n",
      "See the caveats in the documentation: https://pandas.pydata.org/pandas-docs/stable/user_guide/indexing.html#returning-a-view-versus-a-copy\n",
      "  return super().rename(\n"
     ]
    }
   ],
   "source": [
    "train_Rpeaks_N_AFIB['Label'] = train_Rpeaks_N_AFIB['Label'].map( \n",
    "                   {'(N':False ,'(AFIB':True}) \n",
    "train_Rpeaks_N_AFIB['Label'] = train_Rpeaks_N_AFIB['Label'].astype(int)\n",
    "train_Rpeaks_N_AFIB.rename(columns={0: 'Rpeaks'},\n",
    "          inplace=True, errors='raise')\n",
    "\n",
    "# train_Rpeaks_N_AFIB"
   ]
  },
  {
   "cell_type": "code",
   "execution_count": 8,
   "id": "cde78c9a",
   "metadata": {},
   "outputs": [
    {
     "name": "stderr",
     "output_type": "stream",
     "text": [
      "<ipython-input-8-36661bec0f7e>:1: SettingWithCopyWarning: \n",
      "A value is trying to be set on a copy of a slice from a DataFrame.\n",
      "Try using .loc[row_indexer,col_indexer] = value instead\n",
      "\n",
      "See the caveats in the documentation: https://pandas.pydata.org/pandas-docs/stable/user_guide/indexing.html#returning-a-view-versus-a-copy\n",
      "  test_Rpeaks_N_AFIB['Label'] = test_Rpeaks_N_AFIB['Label'].map(\n",
      "<ipython-input-8-36661bec0f7e>:3: SettingWithCopyWarning: \n",
      "A value is trying to be set on a copy of a slice from a DataFrame.\n",
      "Try using .loc[row_indexer,col_indexer] = value instead\n",
      "\n",
      "See the caveats in the documentation: https://pandas.pydata.org/pandas-docs/stable/user_guide/indexing.html#returning-a-view-versus-a-copy\n",
      "  test_Rpeaks_N_AFIB['Label'] = test_Rpeaks_N_AFIB['Label'].astype(int)\n"
     ]
    }
   ],
   "source": [
    "test_Rpeaks_N_AFIB['Label'] = test_Rpeaks_N_AFIB['Label'].map( \n",
    "                   {'(N':False ,'(AFIB':True}) \n",
    "test_Rpeaks_N_AFIB['Label'] = test_Rpeaks_N_AFIB['Label'].astype(int)\n",
    "test_Rpeaks_N_AFIB.rename(columns={0: 'Rpeaks'},\n",
    "          inplace=True, errors='raise')\n",
    "\n",
    "# test_Rpeaks_N_AFIB"
   ]
  },
  {
   "cell_type": "code",
   "execution_count": 9,
   "id": "1994c14c",
   "metadata": {},
   "outputs": [
    {
     "name": "stderr",
     "output_type": "stream",
     "text": [
      "<ipython-input-9-a389dbb2c769>:1: SettingWithCopyWarning: \n",
      "A value is trying to be set on a copy of a slice from a DataFrame.\n",
      "Try using .loc[row_indexer,col_indexer] = value instead\n",
      "\n",
      "See the caveats in the documentation: https://pandas.pydata.org/pandas-docs/stable/user_guide/indexing.html#returning-a-view-versus-a-copy\n",
      "  train_Rpeaks_N_AFIB['RRI'] = abs(train_Rpeaks_N_AFIB['Rpeaks'] - train_Rpeaks_N_AFIB['Rpeaks'].shift(-1))\n",
      "<ipython-input-9-a389dbb2c769>:3: SettingWithCopyWarning: \n",
      "A value is trying to be set on a copy of a slice from a DataFrame.\n",
      "Try using .loc[row_indexer,col_indexer] = value instead\n",
      "\n",
      "See the caveats in the documentation: https://pandas.pydata.org/pandas-docs/stable/user_guide/indexing.html#returning-a-view-versus-a-copy\n",
      "  test_Rpeaks_N_AFIB['RRI'] = abs(test_Rpeaks_N_AFIB['Rpeaks'] - test_Rpeaks_N_AFIB['Rpeaks'].shift(-1))\n"
     ]
    }
   ],
   "source": [
    "train_Rpeaks_N_AFIB['RRI'] = abs(train_Rpeaks_N_AFIB['Rpeaks'] - train_Rpeaks_N_AFIB['Rpeaks'].shift(-1))\n",
    "# train_Rpeaks_N_AFIB\n",
    "test_Rpeaks_N_AFIB['RRI'] = abs(test_Rpeaks_N_AFIB['Rpeaks'] - test_Rpeaks_N_AFIB['Rpeaks'].shift(-1))\n",
    "# test_Rpeaks_N_AFIB"
   ]
  },
  {
   "cell_type": "code",
   "execution_count": 10,
   "id": "1b9c9972",
   "metadata": {},
   "outputs": [],
   "source": [
    "def segmenting_record(seg_val):\n",
    "    rri1 = train_Rpeaks_N_AFIB['RRI'] ### Storing the intervals between rpeaks\n",
    "    rri1 = np.array(rri1, dtype=np.float64) ### Ensuring no overflow issues happens, when calculating in for loop later\n",
    "    \n",
    "    rri2 = test_Rpeaks_N_AFIB['RRI'] ### Storing the intervals between rpeaks\n",
    "    rri2 = np.array(rri2, dtype=np.float64) ### Ensuring no overflow issues happens, when calculating in for loop later\n",
    "    \n",
    "    amount_train = -(len(rri1) % seg_val) # amount of data points to remove, for equal length segments with no residue points\n",
    "    print(f\"Amount to remove for train {amount_train}\")\n",
    "    amount_test = -(len(rri2) % seg_val) # amount of data points to remove, for equal length segments with no residue points\n",
    "    print(f\"Amount to remove for test {amount_test}\")\n",
    "    \n",
    "    rec_amount_train = rri1[:amount_train]\n",
    "    seg_shape_train = len(rec_amount_train) // seg_val # amount of total segments (given the specified segment length) \n",
    "    print(f\"Shape 0 for train: {seg_shape_train}\")\n",
    "    rec_amount_test = rri2[:amount_test]\n",
    "    seg_shape_test = len(rec_amount_test) // seg_val # amount of total segments (given the specified segment length) \n",
    "    print(f\"Shape 0 for test: {seg_shape_test}\")\n",
    "    \n",
    "    segmented_rec_train = rec_amount_train.reshape(seg_shape_train,seg_val)\n",
    "    segmented_rec_test = rec_amount_test.reshape(seg_shape_test,seg_val)\n",
    "    return segmented_rec_train, segmented_rec_test"
   ]
  },
  {
   "cell_type": "code",
   "execution_count": 11,
   "id": "c6de36c7",
   "metadata": {},
   "outputs": [
    {
     "name": "stdout",
     "output_type": "stream",
     "text": [
      "Amount to remove for train -6\n",
      "Amount to remove for test -1\n",
      "Shape 0 for train: 29816\n",
      "Shape 0 for test: 5612\n"
     ]
    }
   ],
   "source": [
    "segmented_record_train, segmented_record_test = segmenting_record(20)"
   ]
  },
  {
   "cell_type": "markdown",
   "id": "6b06a6b9",
   "metadata": {},
   "source": [
    "# (3) Segmenting & Feature Calculating"
   ]
  },
  {
   "cell_type": "code",
   "execution_count": 12,
   "id": "c019af7b",
   "metadata": {},
   "outputs": [],
   "source": [
    "### Loads in functions for Shannon Entropy, Mean absolute deviation calculations\n",
    "%run \"features_utils.ipynb\"\n",
    "from scipy.stats import median_abs_deviation"
   ]
  },
  {
   "cell_type": "markdown",
   "id": "f5f467ac",
   "metadata": {},
   "source": [
    "### X"
   ]
  },
  {
   "cell_type": "code",
   "execution_count": 13,
   "id": "e972fcc3",
   "metadata": {},
   "outputs": [],
   "source": [
    "all_features_train = []\n",
    "\n",
    "### Calculating all_features for every single segmented \"block\" inside the segmented_record_train variable\n",
    "for x in range(len(segmented_record_train)):\n",
    "    \n",
    "    #MEAN\n",
    "    ff1 = np.nanmean(segmented_record_train[x]) ### nanmean, nanstd computes values while ignoring nan-values\n",
    "    #STD\n",
    "    ff2 = np.nanstd(segmented_record_train[x])\n",
    "    #RMSSD\n",
    "    sum_ = 0\n",
    "    for y in range(len(segmented_record_train[x]) - 1): ### loops 19 times\n",
    "        sum_ += (segmented_record_train[x][y] - segmented_record_train[x][y+1])**2\n",
    "    sum_multiplied = 1/(len(segmented_record_train) - 1) * sum_\n",
    "    ff3 = np.sqrt(sum_multiplied)\n",
    "    #NORMALIZED RMSSD\n",
    "    ff4 = (ff3 / ff1)\n",
    "    #SHANNON ENTROPY\n",
    "    ff5 = entropy(segmented_record_train[x])\n",
    "    #MEAN ABSOLUTE DEVIATION\n",
    "    ff6 = mean_abs_deviation(segmented_record_train[x])\n",
    "    #MEDIAN ABSOLUTE DEVIATION\n",
    "    ff7 = median_abs_deviation(segmented_record_train[x])\n",
    "    \n",
    "    #COVARIANCE\n",
    "    #z = np.stack((ff1, ff2))\n",
    "    #ff5 = np.cov(z) ### try cov with previous segment\n",
    "\n",
    "    my_all_features = pd.Series([np.around(ff1,3), np.around(ff2,3), np.around(ff3,3), np.around(ff4,3), np.around(ff5,3), \n",
    "                             np.around(ff6,3), np.around(ff7,3)],\n",
    "                            index=['Mean','STD','RMSSD','Normalized RMSSD','Shannon Entropy',\n",
    "                                   'Mean absolute deviation','Median absolute deiviation'])\n",
    "    all_features_train.append(my_all_features)"
   ]
  },
  {
   "cell_type": "code",
   "execution_count": 14,
   "id": "651abd2d",
   "metadata": {},
   "outputs": [],
   "source": [
    "all_features_test = []\n",
    "\n",
    "### Calculating all_features for every single segmented \"block\" inside the segmented_record_test variable\n",
    "for x in range(len(segmented_record_test)):\n",
    "    \n",
    "    #MEAN\n",
    "    ff1 = np.nanmean(segmented_record_test[x]) ### nanmean, nanstd computes values while ignoring nan-values\n",
    "    #STD\n",
    "    ff2 = np.nanstd(segmented_record_test[x])\n",
    "    #RMSSD\n",
    "    sum_ = 0\n",
    "    for y in range(len(segmented_record_test[x]) - 1): ### loops 19 times\n",
    "        sum_ += (segmented_record_test[x][y] - segmented_record_test[x][y+1])**2\n",
    "    sum_multiplied = 1/(len(segmented_record_test) - 1) * sum_\n",
    "    ff3 = np.sqrt(sum_multiplied)\n",
    "    #NORMALIZED RMSSD\n",
    "    ff4 = (ff3 / ff1)\n",
    "    #SHANNON ENTROPY\n",
    "    ff5 = entropy(segmented_record_test[x])\n",
    "    #MEAN ABSOLUTE DEVIATION\n",
    "    ff6 = mean_abs_deviation(segmented_record_test[x])\n",
    "    #MEDIAN ABSOLUTE DEVIATION\n",
    "    ff7 = median_abs_deviation(segmented_record_test[x])\n",
    "    \n",
    "    #COVARIANCE\n",
    "    #z = np.stack((ff1, ff2))\n",
    "    #ff5 = np.cov(z) ### try cov with previous segment\n",
    "\n",
    "    my_all_features = pd.Series([np.around(ff1,3), np.around(ff2,3), np.around(ff3,3), np.around(ff4,3), np.around(ff5,3), \n",
    "                             np.around(ff6,3), np.around(ff7,3)],\n",
    "                            index=['Mean','STD','RMSSD','Normalized RMSSD','Shannon Entropy',\n",
    "                                   'Mean absolute deviation','Median absolute deiviation'])\n",
    "    all_features_test.append(my_all_features)"
   ]
  },
  {
   "cell_type": "markdown",
   "id": "c3524d0a",
   "metadata": {},
   "source": [
    "### Y"
   ]
  },
  {
   "cell_type": "code",
   "execution_count": 15,
   "id": "1d8224a4",
   "metadata": {},
   "outputs": [
    {
     "name": "stdout",
     "output_type": "stream",
     "text": [
      "Length: 29816, Type: float64\n"
     ]
    }
   ],
   "source": [
    "Label_train = train_Rpeaks_N_AFIB[\"Label\"]\n",
    "Label_train = np.array(Label_train, dtype=np.float64)\n",
    "\n",
    "y_amount = Label_train[:-6] # <=============== (1)\n",
    "y_shape = y_amount.reshape(29816, 20) # <=============== (2)\n",
    "y_list_train = []\n",
    "\n",
    "### Calc if every 20 segment block is Normal synus rythm or AFIB\n",
    "for l in range(len(y_shape)):\n",
    "    #y_segment = y_shape\n",
    "    sum_segment = np.sum(y_shape[l])\n",
    "    if sum_segment >= 10: # <=============== (3)\n",
    "        sum_segment = 1\n",
    "    else: sum_segment = 0\n",
    "    y_list_train.append(sum_segment)\n",
    "\n",
    "y_list_train = np.array(y_list_train, dtype=np.float64)\n",
    "print(f\"Length: {len(y_list_train)}, Type: {y_list_train.dtype}\")"
   ]
  },
  {
   "cell_type": "code",
   "execution_count": 16,
   "id": "b289c3d3",
   "metadata": {},
   "outputs": [
    {
     "name": "stdout",
     "output_type": "stream",
     "text": [
      "Length: 5612, Type: float64\n"
     ]
    }
   ],
   "source": [
    "Label_test = test_Rpeaks_N_AFIB[\"Label\"]\n",
    "Label_test = np.array(Label_test, dtype=np.float64)\n",
    "\n",
    "y_amount = Label_test[:-1] # <=============== (1)\n",
    "y_shape = y_amount.reshape(5612, 20) # <=============== (2)\n",
    "y_list_test = []\n",
    "\n",
    "### Calc if every 20 segment block is Normal synus rythm or AFIB\n",
    "for l in range(len(y_shape)):\n",
    "    #y_segment = y_shape\n",
    "    sum_segment = np.sum(y_shape[l])\n",
    "    if sum_segment >= 10: # <=============== (3)\n",
    "        sum_segment = 1\n",
    "    else: sum_segment = 0\n",
    "    y_list_test.append(sum_segment)\n",
    "\n",
    "y_list_test = np.array(y_list_test, dtype=np.float64)\n",
    "print(f\"Length: {len(y_list_test)}, Type: {y_list_test.dtype}\")"
   ]
  },
  {
   "cell_type": "code",
   "execution_count": 17,
   "id": "65a556c9",
   "metadata": {},
   "outputs": [],
   "source": [
    "X_train = np.asarray(all_features_train)\n",
    "X_test = np.asarray(all_features_test)\n",
    "y_train = np.asarray(y_list_train)\n",
    "y_test = np.asarray(y_list_test)"
   ]
  },
  {
   "cell_type": "markdown",
   "id": "0d946b04",
   "metadata": {},
   "source": [
    "# (4) Estimators"
   ]
  },
  {
   "cell_type": "code",
   "execution_count": 18,
   "id": "fcff82f3",
   "metadata": {},
   "outputs": [],
   "source": [
    "from sklearn.pipeline import Pipeline\n",
    "from sklearn.preprocessing import StandardScaler\n",
    "from sklearn.svm import SVC\n",
    "from sklearn import tree\n",
    "from sklearn.ensemble import RandomForestClassifier\n",
    "\n",
    "#pip install xgboost\n",
    "from sklearn.linear_model import LogisticRegression\n",
    "from sklearn.ensemble import StackingClassifier\n",
    "from xgboost import XGBClassifier\n",
    "from sklearn.ensemble import AdaBoostClassifier"
   ]
  },
  {
   "cell_type": "code",
   "execution_count": 19,
   "id": "387ada1b",
   "metadata": {},
   "outputs": [],
   "source": [
    "pipeline_svm = Pipeline([('scalar1', StandardScaler()),\n",
    "                         ('svm_classifier', SVC(gamma=\"scale\", C=20, kernel='rbf', probability=True))])\n",
    "\n",
    "pipeline_dt = Pipeline([('scalar2', StandardScaler()),\n",
    "                        ('dt_classifier', tree.DecisionTreeClassifier(criterion='entropy', max_depth=12))])\n",
    "\n",
    "pipeline_rf = Pipeline([('scalar 4', StandardScaler()),\n",
    "                         ('rf_classifier', RandomForestClassifier(n_estimators=200))])"
   ]
  },
  {
   "cell_type": "code",
   "execution_count": 20,
   "id": "5831ff33",
   "metadata": {},
   "outputs": [],
   "source": [
    "estimators = [('svm',pipeline_svm), ('dt',pipeline_dt), ('rf',pipeline_rf)]\n",
    "clf = StackingClassifier(\n",
    "    estimators=estimators, final_estimator=LogisticRegression(), stack_method='predict')\n",
    "\n",
    "\n",
    "xgb_model = XGBClassifier()\n",
    "\n",
    "\n",
    "adaBoost_clf = AdaBoostClassifier()"
   ]
  },
  {
   "cell_type": "markdown",
   "id": "70a59eb1",
   "metadata": {},
   "source": [
    "# (5) Training"
   ]
  },
  {
   "cell_type": "markdown",
   "id": "33715d0c",
   "metadata": {},
   "source": [
    "### This data-base are evaluatated addtionaly on the fittet estimators - see (6) Results section"
   ]
  },
  {
   "cell_type": "code",
   "execution_count": 21,
   "id": "e8c4dc50",
   "metadata": {},
   "outputs": [
    {
     "name": "stdout",
     "output_type": "stream",
     "text": [
      "Amount to remove -11\n",
      "Shape 0: 90339\n",
      "Features calculated for an example segment:\n",
      "Mean                          156.300\n",
      "STD                            13.104\n",
      "RMSSD                           0.183\n",
      "Normalized RMSSD                0.001\n",
      "Shannon Entropy                 0.678\n",
      "Mean absolute deviation         6.610\n",
      "Median absolute deiviation      3.000\n",
      "dtype: float64\n",
      "\n",
      "Features variable contains 90339 segments\n",
      "float64\n",
      "Length of y_list: 90339\n"
     ]
    }
   ],
   "source": [
    "%run \"MIT-BIH Normal Sinus Rhythm DB.ipynb\""
   ]
  },
  {
   "cell_type": "code",
   "execution_count": 22,
   "id": "0173efa8",
   "metadata": {},
   "outputs": [
    {
     "name": "stdout",
     "output_type": "stream",
     "text": [
      "Amount to remove -15\n",
      "Shape 0: 131\n",
      "Features calculated for an example segment:\n",
      "Mean                          224.000\n",
      "STD                            64.094\n",
      "RMSSD                          28.505\n",
      "Normalized RMSSD                0.127\n",
      "Shannon Entropy                 1.000\n",
      "Mean absolute deviation        43.700\n",
      "Median absolute deiviation     12.000\n",
      "dtype: float64\n",
      "\n",
      "Features variable contains 131 segments\n",
      "float64\n",
      "Length of y_list: 131\n"
     ]
    }
   ],
   "source": [
    "%run \"MIT-BIH Arrhythmia DB.ipynb\""
   ]
  },
  {
   "cell_type": "code",
   "execution_count": 23,
   "id": "fcccc1cc",
   "metadata": {},
   "outputs": [
    {
     "name": "stdout",
     "output_type": "stream",
     "text": [
      "shape of y_nsr: (90339,), type of y_nsr: <class 'numpy.ndarray'>\n",
      "shape of X_nsr: (90339, 7), type of X_nsr: <class 'numpy.ndarray'>\n"
     ]
    }
   ],
   "source": [
    "y_nsr = np.asarray(y_list_nsr)\n",
    "print(f\"shape of y_nsr: {np.shape(y_nsr)}, type of y_nsr: {type(y_nsr)}\")\n",
    "X_nsr = np.asarray(all_features_nsr)\n",
    "print(f\"shape of X_nsr: {np.shape(X_nsr)}, type of X_nsr: {type(X_nsr)}\")"
   ]
  },
  {
   "cell_type": "code",
   "execution_count": 24,
   "id": "a2865d7f",
   "metadata": {},
   "outputs": [
    {
     "name": "stdout",
     "output_type": "stream",
     "text": [
      "shape of y_A: (131,), type of y_A: <class 'numpy.ndarray'>\n",
      "shape of X_A: (131, 7), type of X_A: <class 'numpy.ndarray'>\n"
     ]
    }
   ],
   "source": [
    "y_A = np.asarray(y_list_A)\n",
    "print(f\"shape of y_A: {np.shape(y_A)}, type of y_A: {type(y_A)}\")\n",
    "X_A = np.asarray(all_features_A)\n",
    "print(f\"shape of X_A: {np.shape(X_A)}, type of X_A: {type(X_A)}\")"
   ]
  },
  {
   "cell_type": "code",
   "execution_count": 25,
   "id": "22e8fa2d",
   "metadata": {},
   "outputs": [
    {
     "name": "stderr",
     "output_type": "stream",
     "text": [
      "D:\\Anaconda\\lib\\site-packages\\xgboost\\sklearn.py:1146: UserWarning: The use of label encoder in XGBClassifier is deprecated and will be removed in a future release. To remove this warning, do the following: 1) Pass option use_label_encoder=False when constructing XGBClassifier object; and 2) Encode your labels (y) as integers starting with 0, i.e. 0, 1, 2, ..., [num_class - 1].\n",
      "  warnings.warn(label_encoder_deprecation_msg, UserWarning)\n"
     ]
    },
    {
     "name": "stdout",
     "output_type": "stream",
     "text": [
      "[00:55:44] WARNING: C:/Users/Administrator/workspace/xgboost-win64_release_1.4.0/src/learner.cc:1095: Starting in XGBoost 1.3.0, the default evaluation metric used with the objective 'binary:logistic' was changed from 'error' to 'logloss'. Explicitly set eval_metric if you'd like to restore the old behavior.\n"
     ]
    },
    {
     "data": {
      "text/plain": [
       "AdaBoostClassifier()"
      ]
     },
     "execution_count": 25,
     "metadata": {},
     "output_type": "execute_result"
    }
   ],
   "source": [
    "pipeline_svm.fit(X_train, y_train)\n",
    "pipeline_dt.fit(X_train, y_train)\n",
    "pipeline_rf.fit(X_train, y_train)\n",
    "\n",
    "clf.fit(X_train, y_train)\n",
    "xgb_model.fit(X_train, y_train)\n",
    "adaBoost_clf.fit(X_train, y_train)"
   ]
  },
  {
   "cell_type": "markdown",
   "id": "871981d7",
   "metadata": {},
   "source": [
    "# (6) RESULTS FOR SEGMENT LENGTH = 60"
   ]
  },
  {
   "cell_type": "markdown",
   "id": "bc1180f4",
   "metadata": {},
   "source": [
    "### (6.1) Feature results"
   ]
  },
  {
   "cell_type": "code",
   "execution_count": 26,
   "id": "f00b08ba",
   "metadata": {},
   "outputs": [
    {
     "data": {
      "text/html": [
       "<div>\n",
       "<style scoped>\n",
       "    .dataframe tbody tr th:only-of-type {\n",
       "        vertical-align: middle;\n",
       "    }\n",
       "\n",
       "    .dataframe tbody tr th {\n",
       "        vertical-align: top;\n",
       "    }\n",
       "\n",
       "    .dataframe thead th {\n",
       "        text-align: right;\n",
       "    }\n",
       "</style>\n",
       "<table border=\"1\" class=\"dataframe\">\n",
       "  <thead>\n",
       "    <tr style=\"text-align: right;\">\n",
       "      <th></th>\n",
       "      <th>Mean</th>\n",
       "      <th>STD</th>\n",
       "      <th>RMSSD</th>\n",
       "      <th>Normalized RMSSD</th>\n",
       "      <th>Shannon Entropy</th>\n",
       "      <th>Mean absolute deviation</th>\n",
       "      <th>Median absolute deiviation</th>\n",
       "    </tr>\n",
       "  </thead>\n",
       "  <tbody>\n",
       "    <tr>\n",
       "      <th>0</th>\n",
       "      <td>162.700</td>\n",
       "      <td>53.453</td>\n",
       "      <td>4.471</td>\n",
       "      <td>0.027</td>\n",
       "      <td>0.934</td>\n",
       "      <td>46.930</td>\n",
       "      <td>43.5</td>\n",
       "    </tr>\n",
       "    <tr>\n",
       "      <th>1</th>\n",
       "      <td>178.033</td>\n",
       "      <td>42.349</td>\n",
       "      <td>4.177</td>\n",
       "      <td>0.023</td>\n",
       "      <td>0.922</td>\n",
       "      <td>39.130</td>\n",
       "      <td>44.5</td>\n",
       "    </tr>\n",
       "    <tr>\n",
       "      <th>2</th>\n",
       "      <td>163.517</td>\n",
       "      <td>55.033</td>\n",
       "      <td>4.793</td>\n",
       "      <td>0.029</td>\n",
       "      <td>0.911</td>\n",
       "      <td>47.472</td>\n",
       "      <td>31.5</td>\n",
       "    </tr>\n",
       "    <tr>\n",
       "      <th>3</th>\n",
       "      <td>169.967</td>\n",
       "      <td>55.567</td>\n",
       "      <td>5.517</td>\n",
       "      <td>0.032</td>\n",
       "      <td>0.903</td>\n",
       "      <td>48.057</td>\n",
       "      <td>24.5</td>\n",
       "    </tr>\n",
       "    <tr>\n",
       "      <th>4</th>\n",
       "      <td>141.267</td>\n",
       "      <td>52.538</td>\n",
       "      <td>4.129</td>\n",
       "      <td>0.029</td>\n",
       "      <td>0.932</td>\n",
       "      <td>39.216</td>\n",
       "      <td>19.0</td>\n",
       "    </tr>\n",
       "    <tr>\n",
       "      <th>...</th>\n",
       "      <td>...</td>\n",
       "      <td>...</td>\n",
       "      <td>...</td>\n",
       "      <td>...</td>\n",
       "      <td>...</td>\n",
       "      <td>...</td>\n",
       "      <td>...</td>\n",
       "    </tr>\n",
       "    <tr>\n",
       "      <th>9933</th>\n",
       "      <td>199.983</td>\n",
       "      <td>37.002</td>\n",
       "      <td>3.734</td>\n",
       "      <td>0.019</td>\n",
       "      <td>0.888</td>\n",
       "      <td>27.284</td>\n",
       "      <td>22.5</td>\n",
       "    </tr>\n",
       "    <tr>\n",
       "      <th>9934</th>\n",
       "      <td>191.367</td>\n",
       "      <td>42.230</td>\n",
       "      <td>5.144</td>\n",
       "      <td>0.027</td>\n",
       "      <td>0.917</td>\n",
       "      <td>32.221</td>\n",
       "      <td>22.5</td>\n",
       "    </tr>\n",
       "    <tr>\n",
       "      <th>9935</th>\n",
       "      <td>193.000</td>\n",
       "      <td>41.136</td>\n",
       "      <td>4.552</td>\n",
       "      <td>0.024</td>\n",
       "      <td>0.936</td>\n",
       "      <td>32.800</td>\n",
       "      <td>28.0</td>\n",
       "    </tr>\n",
       "    <tr>\n",
       "      <th>9936</th>\n",
       "      <td>194.267</td>\n",
       "      <td>41.155</td>\n",
       "      <td>4.267</td>\n",
       "      <td>0.022</td>\n",
       "      <td>0.938</td>\n",
       "      <td>32.360</td>\n",
       "      <td>26.0</td>\n",
       "    </tr>\n",
       "    <tr>\n",
       "      <th>9937</th>\n",
       "      <td>184.400</td>\n",
       "      <td>31.996</td>\n",
       "      <td>3.281</td>\n",
       "      <td>0.018</td>\n",
       "      <td>0.928</td>\n",
       "      <td>25.547</td>\n",
       "      <td>20.0</td>\n",
       "    </tr>\n",
       "  </tbody>\n",
       "</table>\n",
       "<p>9938 rows × 7 columns</p>\n",
       "</div>"
      ],
      "text/plain": [
       "         Mean     STD  RMSSD  Normalized RMSSD  Shannon Entropy  \\\n",
       "0     162.700  53.453  4.471             0.027            0.934   \n",
       "1     178.033  42.349  4.177             0.023            0.922   \n",
       "2     163.517  55.033  4.793             0.029            0.911   \n",
       "3     169.967  55.567  5.517             0.032            0.903   \n",
       "4     141.267  52.538  4.129             0.029            0.932   \n",
       "...       ...     ...    ...               ...              ...   \n",
       "9933  199.983  37.002  3.734             0.019            0.888   \n",
       "9934  191.367  42.230  5.144             0.027            0.917   \n",
       "9935  193.000  41.136  4.552             0.024            0.936   \n",
       "9936  194.267  41.155  4.267             0.022            0.938   \n",
       "9937  184.400  31.996  3.281             0.018            0.928   \n",
       "\n",
       "      Mean absolute deviation  Median absolute deiviation  \n",
       "0                      46.930                        43.5  \n",
       "1                      39.130                        44.5  \n",
       "2                      47.472                        31.5  \n",
       "3                      48.057                        24.5  \n",
       "4                      39.216                        19.0  \n",
       "...                       ...                         ...  \n",
       "9933                   27.284                        22.5  \n",
       "9934                   32.221                        22.5  \n",
       "9935                   32.800                        28.0  \n",
       "9936                   32.360                        26.0  \n",
       "9937                   25.547                        20.0  \n",
       "\n",
       "[9938 rows x 7 columns]"
      ]
     },
     "execution_count": 26,
     "metadata": {},
     "output_type": "execute_result"
    }
   ],
   "source": [
    "df = pd.DataFrame(all_features_train)\n",
    "df"
   ]
  },
  {
   "cell_type": "code",
   "execution_count": 27,
   "id": "54a883d9",
   "metadata": {},
   "outputs": [
    {
     "data": {
      "image/png": "[encoded data removed]",
      "text/plain": [
       "<Figure size 432x288 with 1 Axes>"
      ]
     },
     "metadata": {
      "needs_background": "light"
     },
     "output_type": "display_data"
    }
   ],
   "source": [
    "fig, ax = plt.subplots()\n",
    "box = df.boxplot(column=['Mean', 'STD', 'Mean absolute deviation', 'RMSSD', 'Normalized RMSSD', 'Median absolute deiviation'], ax=ax, sym='', figsize=(4,3)) \n",
    "ax.margins(y=0)\n",
    "plt.setp(ax.get_xticklabels(), rotation=30, horizontalalignment='right')\n",
    "plt.show()"
   ]
  },
  {
   "cell_type": "markdown",
   "id": "b1f9e392",
   "metadata": {},
   "source": [
    "### (6.2) Scores"
   ]
  },
  {
   "cell_type": "code",
   "execution_count": 28,
   "id": "0af74b3c",
   "metadata": {},
   "outputs": [
    {
     "name": "stdout",
     "output_type": "stream",
     "text": [
      "SVM Scores: 0.9684491978609626\n",
      "\n",
      "Decision tree Scores: 0.8983957219251337\n",
      "\n",
      "Random forest: 0.8935828877005347\n",
      "\n",
      "Stacking classifier Scores: 0.879144385026738\n",
      "\n",
      "xgboost Scores: 0.818716577540107\n",
      "\n",
      "AdaBoost Scores: 0.9310160427807487\n",
      "-------------------------------(Testing scores above)------------------------------------------------------\n",
      "-----------------------------------------------------------------------------------------------------------\n",
      "-------------------------------(Training scores below)-----------------------------------------------------\n",
      "SVM Scores: 0.9411350372308311\n",
      "\n",
      "Decision tree Scores: 0.9922519621654257\n",
      "\n",
      "Random forest: 1.0\n",
      "\n",
      "Stacking classifier Scores: 0.9998993761320185\n",
      "\n",
      "xgboost Scores: 0.9990943851881666\n",
      "\n",
      "AdaBoost Scores: 0.9643791507345543\n"
     ]
    }
   ],
   "source": [
    "print(f\"SVM Scores: {pipeline_svm.score(X_test, y_test)}\")\n",
    "print()\n",
    "print(f\"Decision tree Scores: {pipeline_dt.score(X_test, y_test)}\")\n",
    "print()\n",
    "print(f\"Random forest: {pipeline_rf.score(X_test, y_test)}\")\n",
    "print()\n",
    "print(f\"Stacking classifier Scores: {clf.score(X_test, y_test)}\")\n",
    "print()\n",
    "print(f\"xgboost Scores: {xgb_model.score(X_test, y_test)}\")\n",
    "print()\n",
    "print(f\"AdaBoost Scores: {adaBoost_clf.score(X_test, y_test)}\")\n",
    "print(\"-------------------------------(Testing scores above)------------------------------------------------------\")\n",
    "print(\"-----------------------------------------------------------------------------------------------------------\")\n",
    "print(\"-------------------------------(Training scores below)-----------------------------------------------------\")\n",
    "print(f\"SVM Scores: {pipeline_svm.score(X_train, y_train)}\")\n",
    "print()\n",
    "print(f\"Decision tree Scores: {pipeline_dt.score(X_train, y_train)}\")\n",
    "print()\n",
    "print(f\"Random forest: {pipeline_rf.score(X_train, y_train)}\")\n",
    "print()\n",
    "print(f\"Stacking classifier Scores: {clf.score(X_train, y_train)}\")\n",
    "print()\n",
    "print(f\"xgboost Scores: {xgb_model.score(X_train, y_train)}\")\n",
    "print()\n",
    "print(f\"AdaBoost Scores: {adaBoost_clf.score(X_train, y_train)}\")"
   ]
  },
  {
   "cell_type": "markdown",
   "id": "b2f17dcf",
   "metadata": {},
   "source": [
    "### (6.3) Evaluate on addtional Databases (Normal Sinus Rhythm Database and Arrhythmia)"
   ]
  },
  {
   "cell_type": "code",
   "execution_count": 29,
   "id": "96f9617f",
   "metadata": {},
   "outputs": [
    {
     "name": "stdout",
     "output_type": "stream",
     "text": [
      "-------------------------------(Testing scores below for Normal sinus Rhythm DB)-----------------------------------------------\n",
      "SVM: 0.9668249593198951\n",
      "DT: 0.9470328429581908\n",
      "RF: 0.9670574170623983\n",
      "Stacking: 0.9710424069338823\n",
      "Xgbost: 0.9622090127187594\n",
      "AdaBoost: 0.9661275860923854\n",
      "\n",
      "\n",
      "-------------------------------(Testing scores below for Arrhythmia DB)-----------------------------------------------\n",
      "SVM: 0.3953488372093023\n",
      "DT: 0.9302325581395349\n",
      "RF: 0.9302325581395349\n",
      "Stacking: 0.8372093023255814\n",
      "Xgbost: 0.9302325581395349\n",
      "AdaBoost: 0.813953488372093\n"
     ]
    }
   ],
   "source": [
    "print(\"-------------------------------(Testing scores below for Normal sinus Rhythm DB)-----------------------------------------------\")\n",
    "print(f\"SVM: {pipeline_svm.score(X_nsr, y_nsr)}\")\n",
    "print(f\"DT: {pipeline_dt.score(X_nsr, y_nsr)}\")\n",
    "print(f\"RF: {pipeline_rf.score(X_nsr, y_nsr)}\")\n",
    "print(f\"Stacking: {clf.score(X_nsr, y_nsr)}\")\n",
    "print(f\"Xgbost: {xgb_model.score(X_nsr, y_nsr)}\")\n",
    "print(f\"AdaBoost: {adaBoost_clf.score(X_nsr, y_nsr)}\")\n",
    "print()\n",
    "print()\n",
    "print(\"-------------------------------(Testing scores below for Arrhythmia DB)-----------------------------------------------\")\n",
    "print(f\"SVM: {pipeline_svm.score(X_A, y_A)}\")\n",
    "print(f\"DT: {pipeline_dt.score(X_A, y_A)}\")\n",
    "print(f\"RF: {pipeline_rf.score(X_A, y_A)}\")\n",
    "print(f\"Stacking: {clf.score(X_A, y_A)}\")\n",
    "print(f\"Xgbost: {xgb_model.score(X_A, y_A)}\")\n",
    "print(f\"AdaBoost: {adaBoost_clf.score(X_A, y_A)}\")"
   ]
  },
  {
   "cell_type": "markdown",
   "id": "6bd1a1fa",
   "metadata": {},
   "source": [
    "### (6.4) F1-score and Precision recall curve"
   ]
  },
  {
   "cell_type": "code",
   "execution_count": 30,
   "id": "59f751e1",
   "metadata": {},
   "outputs": [],
   "source": [
    "from sklearn.metrics import f1_score"
   ]
  },
  {
   "cell_type": "code",
   "execution_count": 31,
   "id": "43da12df",
   "metadata": {},
   "outputs": [],
   "source": [
    "y_pred_svm = pipeline_svm.predict(X_test)\n",
    "y_pred_dt = pipeline_dt.predict(X_test)\n",
    "y_pred_rf = pipeline_rf.predict(X_test)\n",
    "y_pred_stacking = clf.predict(X_test)\n",
    "y_pred_xgboost = xgb_model.predict(X_test)\n",
    "y_pred_adaboost = adaBoost_clf.predict(X_test)"
   ]
  },
  {
   "cell_type": "code",
   "execution_count": 105,
   "id": "125bdb8a",
   "metadata": {},
   "outputs": [
    {
     "name": "stdout",
     "output_type": "stream",
     "text": [
      "SVM f1 score:  0.9370330843116329\n",
      "DT f1 score:  0.76010101010101\n",
      "RF f1 score:  0.7445442875481387\n",
      "Stacking f1 score:  0.696236559139785\n",
      "Xgboost f1 score:  0.46275752773375595\n",
      "Adaboost f1 score:  0.8614393125671321\n"
     ]
    }
   ],
   "source": [
    "svm_f1 = f1_score(y_test, y_pred_svm)\n",
    "dt_f1 = f1_score(y_test, y_pred_dt)\n",
    "rf_f1 = f1_score(y_test, y_pred_rf)\n",
    "stacking_f1 = f1_score(y_test, y_pred_stacking)\n",
    "xgboost_f1 = f1_score(y_test, y_pred_xgboost)\n",
    "adaboost_f1 = f1_score(y_test, y_pred_adaboost)\n",
    "\n",
    "print(\"SVM f1 score: \", svm_f1)\n",
    "print(\"DT f1 score: \", dt_f1)\n",
    "print(\"RF f1 score: \", rf_f1)\n",
    "print(\"Stacking f1 score: \", stacking_f1)\n",
    "print(\"Xgboost f1 score: \", xgboost_f1)\n",
    "print(\"Adaboost f1 score: \", adaboost_f1)"
   ]
  },
  {
   "cell_type": "code",
   "execution_count": 34,
   "id": "86391826",
   "metadata": {},
   "outputs": [],
   "source": [
    "from sklearn.metrics import classification_report"
   ]
  },
  {
   "cell_type": "code",
   "execution_count": 42,
   "id": "a9a70175",
   "metadata": {},
   "outputs": [
    {
     "name": "stdout",
     "output_type": "stream",
     "text": [
      "SVM below:\n",
      "              precision    recall  f1-score   support\n",
      "\n",
      "     class 0       0.98      0.98      0.98      1401\n",
      "     class 1       0.94      0.94      0.94       469\n",
      "\n",
      "    accuracy                           0.97      1870\n",
      "   macro avg       0.96      0.96      0.96      1870\n",
      "weighted avg       0.97      0.97      0.97      1870\n",
      "\n",
      "DT below:\n",
      "              precision    recall  f1-score   support\n",
      "\n",
      "     class 0       0.89      0.98      0.94      1401\n",
      "     class 1       0.93      0.64      0.76       469\n",
      "\n",
      "    accuracy                           0.90      1870\n",
      "   macro avg       0.91      0.81      0.85      1870\n",
      "weighted avg       0.90      0.90      0.89      1870\n",
      "\n",
      "RF below:\n",
      "              precision    recall  f1-score   support\n",
      "\n",
      "     class 0       0.89      0.99      0.93      1401\n",
      "     class 1       0.94      0.62      0.74       469\n",
      "\n",
      "    accuracy                           0.89      1870\n",
      "   macro avg       0.91      0.80      0.84      1870\n",
      "weighted avg       0.90      0.89      0.89      1870\n",
      "\n",
      "Stacking below:\n",
      "              precision    recall  f1-score   support\n",
      "\n",
      "     class 0       0.87      0.99      0.92      1401\n",
      "     class 1       0.94      0.55      0.70       469\n",
      "\n",
      "    accuracy                           0.88      1870\n",
      "   macro avg       0.91      0.77      0.81      1870\n",
      "weighted avg       0.89      0.88      0.87      1870\n",
      "\n",
      "Xgboost below:\n",
      "              precision    recall  f1-score   support\n",
      "\n",
      "     class 0       0.81      0.99      0.89      1401\n",
      "     class 1       0.90      0.31      0.46       469\n",
      "\n",
      "    accuracy                           0.82      1870\n",
      "   macro avg       0.86      0.65      0.68      1870\n",
      "weighted avg       0.83      0.82      0.78      1870\n",
      "\n",
      "Adaboost below:\n",
      "              precision    recall  f1-score   support\n",
      "\n",
      "     class 0       0.95      0.96      0.95      1401\n",
      "     class 1       0.87      0.86      0.86       469\n",
      "\n",
      "    accuracy                           0.93      1870\n",
      "   macro avg       0.91      0.91      0.91      1870\n",
      "weighted avg       0.93      0.93      0.93      1870\n",
      "\n"
     ]
    }
   ],
   "source": [
    "target_names = ['class 0', 'class 1'] # class 0 = Normal rythm, class 1 = AFIB\n",
    "print(\"SVM below:\")\n",
    "print(classification_report(y_test, y_pred_svm, target_names=target_names))\n",
    "print(\"DT below:\")\n",
    "print(classification_report(y_test, y_pred_dt, target_names=target_names))\n",
    "print(\"RF below:\")\n",
    "print(classification_report(y_test, y_pred_rf, target_names=target_names))\n",
    "print(\"Stacking below:\")\n",
    "print(classification_report(y_test, y_pred_stacking, target_names=target_names))\n",
    "print(\"Xgboost below:\")\n",
    "print(classification_report(y_test, y_pred_xgboost, target_names=target_names))\n",
    "print(\"Adaboost below:\")\n",
    "print(classification_report(y_test, y_pred_adaboost, target_names=target_names))"
   ]
  },
  {
   "cell_type": "code",
   "execution_count": 49,
   "id": "2738c7d8",
   "metadata": {},
   "outputs": [],
   "source": [
    "from sklearn.metrics import precision_recall_curve"
   ]
  },
  {
   "cell_type": "code",
   "execution_count": 101,
   "id": "ff1070ad",
   "metadata": {},
   "outputs": [],
   "source": [
    "y_score_svm = pipeline_svm.predict_proba(X_test)[:, 1]\n",
    "y_score_dt = pipeline_dt.predict_proba(X_test)[:, 1]\n",
    "y_score_rf = pipeline_rf.predict_proba(X_test)[:, 1]\n",
    "\n",
    "y_score_stacking = clf.predict_proba(X_test)[:, 1]\n",
    "y_score_xgboost = xgb_model.predict_proba(X_test)[:, 1]\n",
    "y_score_adaboost = adaBoost_clf.predict_proba(X_test)[:, 1]"
   ]
  },
  {
   "cell_type": "code",
   "execution_count": 102,
   "id": "9e76cd83",
   "metadata": {},
   "outputs": [],
   "source": [
    "precision_svm, recall_svm, thresholds_svm = precision_recall_curve(y_test, y_score_svm)\n",
    "precision_dt, recall_dt, thresholds_dt = precision_recall_curve(y_test, y_score_dt)\n",
    "precision_rf, recall_rf, thresholds_rf = precision_recall_curve(y_test, y_score_rf)\n",
    "\n",
    "precision_stacking, recall_stacking, thresholds_stacking = precision_recall_curve(y_test, y_score_stacking)\n",
    "precision_xgboost, recall_xgboost, thresholds_xgboost = precision_recall_curve(y_test, y_score_xgboost)\n",
    "precision_adaboost, recall_adaboost, thresholds_adaboost = precision_recall_curve(y_test, y_score_adaboost)"
   ]
  },
  {
   "cell_type": "code",
   "execution_count": 96,
   "id": "6434d398",
   "metadata": {},
   "outputs": [
    {
     "data": {
      "image/png": "[encoded data removed]",
      "text/plain": [
       "<Figure size 432x288 with 2 Axes>"
      ]
     },
     "metadata": {
      "needs_background": "light"
     },
     "output_type": "display_data"
    }
   ],
   "source": [
    "fig, (ax1, ax2) = plt.subplots(1,2)\n",
    "ax1.plot(recall_svm, precision_svm, color='purple')\n",
    "ax1.set_title('Precision-Recall Curve SVM', fontsize=20)\n",
    "ax1.set_ylabel('Precision', fontsize=20)\n",
    "ax1.set_xlabel('Recall', fontsize=20)\n",
    "\n",
    "plt.subplots_adjust(right = 2)\n",
    "\n",
    "ax2.plot(recall_dt, precision_dt, color='purple')\n",
    "ax2.set_title('Precision-Recall Curve DT', fontsize=20)\n",
    "ax2.set_ylabel('Precision', fontsize=20)\n",
    "ax2.set_xlabel('Recall', fontsize=20)\n",
    "plt.show()"
   ]
  },
  {
   "cell_type": "code",
   "execution_count": 99,
   "id": "c7b95b94",
   "metadata": {},
   "outputs": [
    {
     "data": {
      "image/png": "[encoded data removed]",
      "text/plain": [
       "<Figure size 432x288 with 2 Axes>"
      ]
     },
     "metadata": {
      "needs_background": "light"
     },
     "output_type": "display_data"
    }
   ],
   "source": [
    "fig, (ax1, ax2) = plt.subplots(1,2)\n",
    "ax1.plot(recall_rf, precision_rf, color='purple')\n",
    "ax1.set_title('Precision-Recall Curve RF', fontsize=20)\n",
    "ax1.set_ylabel('Precision', fontsize=20)\n",
    "ax1.set_xlabel('Recall', fontsize=20)\n",
    "\n",
    "plt.subplots_adjust(right = 2)\n",
    "\n",
    "ax2.plot(recall_stacking, precision_stacking, color='purple')\n",
    "ax2.set_title('Precision-Recall Curve Stacking', fontsize=20)\n",
    "ax2.set_ylabel('Precision', fontsize=20)\n",
    "ax2.set_xlabel('Recall', fontsize=20)\n",
    "plt.show()"
   ]
  },
  {
   "cell_type": "code",
   "execution_count": 103,
   "id": "4d134e63",
   "metadata": {
    "scrolled": true
   },
   "outputs": [
    {
     "data": {
      "image/png": "[encoded data removed]",
      "text/plain": [
       "<Figure size 432x288 with 2 Axes>"
      ]
     },
     "metadata": {
      "needs_background": "light"
     },
     "output_type": "display_data"
    }
   ],
   "source": [
    "fig, (ax1, ax2) = plt.subplots(1,2)\n",
    "ax1.plot(recall_xgboost, precision_xgboost, color='purple')\n",
    "ax1.set_title('Precision-Recall Curve Xgboost', fontsize=20)\n",
    "ax1.set_ylabel('Precision', fontsize=20)\n",
    "ax1.set_xlabel('Recall', fontsize=20)\n",
    "\n",
    "plt.subplots_adjust(right = 2)\n",
    "\n",
    "ax2.plot(recall_adaboost, precision_adaboost, color='purple')\n",
    "ax2.set_title('Precision-Recall Curve Adaboost', fontsize=20)\n",
    "ax2.set_ylabel('Precision', fontsize=20)\n",
    "ax2.set_xlabel('Recall', fontsize=20)\n",
    "plt.show()"
   ]
  },
  {
   "cell_type": "markdown",
   "id": "62edd01f",
   "metadata": {},
   "source": [
    "# (7) RESULTS FOR SEGMENT LENGTH = 20"
   ]
  },
  {
   "cell_type": "markdown",
   "id": "a2f169e0",
   "metadata": {},
   "source": [
    "### (7.1) Feature results"
   ]
  },
  {
   "cell_type": "code",
   "execution_count": 26,
   "id": "b8ea4009",
   "metadata": {},
   "outputs": [
    {
     "data": {
      "text/html": [
       "<div>\n",
       "<style scoped>\n",
       "    .dataframe tbody tr th:only-of-type {\n",
       "        vertical-align: middle;\n",
       "    }\n",
       "\n",
       "    .dataframe tbody tr th {\n",
       "        vertical-align: top;\n",
       "    }\n",
       "\n",
       "    .dataframe thead th {\n",
       "        text-align: right;\n",
       "    }\n",
       "</style>\n",
       "<table border=\"1\" class=\"dataframe\">\n",
       "  <thead>\n",
       "    <tr style=\"text-align: right;\">\n",
       "      <th></th>\n",
       "      <th>Mean</th>\n",
       "      <th>STD</th>\n",
       "      <th>RMSSD</th>\n",
       "      <th>Normalized RMSSD</th>\n",
       "      <th>Shannon Entropy</th>\n",
       "      <th>Mean absolute deviation</th>\n",
       "      <th>Median absolute deiviation</th>\n",
       "    </tr>\n",
       "  </thead>\n",
       "  <tbody>\n",
       "    <tr>\n",
       "      <th>0</th>\n",
       "      <td>168.25</td>\n",
       "      <td>43.226</td>\n",
       "      <td>1.215</td>\n",
       "      <td>0.007</td>\n",
       "      <td>1.000</td>\n",
       "      <td>39.700</td>\n",
       "      <td>27.5</td>\n",
       "    </tr>\n",
       "    <tr>\n",
       "      <th>1</th>\n",
       "      <td>169.10</td>\n",
       "      <td>50.353</td>\n",
       "      <td>1.227</td>\n",
       "      <td>0.007</td>\n",
       "      <td>0.977</td>\n",
       "      <td>47.210</td>\n",
       "      <td>55.0</td>\n",
       "    </tr>\n",
       "    <tr>\n",
       "      <th>2</th>\n",
       "      <td>150.75</td>\n",
       "      <td>62.874</td>\n",
       "      <td>1.820</td>\n",
       "      <td>0.012</td>\n",
       "      <td>0.977</td>\n",
       "      <td>50.850</td>\n",
       "      <td>29.0</td>\n",
       "    </tr>\n",
       "    <tr>\n",
       "      <th>3</th>\n",
       "      <td>194.20</td>\n",
       "      <td>32.262</td>\n",
       "      <td>1.132</td>\n",
       "      <td>0.006</td>\n",
       "      <td>0.931</td>\n",
       "      <td>27.120</td>\n",
       "      <td>17.0</td>\n",
       "    </tr>\n",
       "    <tr>\n",
       "      <th>4</th>\n",
       "      <td>169.85</td>\n",
       "      <td>43.731</td>\n",
       "      <td>1.104</td>\n",
       "      <td>0.006</td>\n",
       "      <td>0.977</td>\n",
       "      <td>41.550</td>\n",
       "      <td>37.5</td>\n",
       "    </tr>\n",
       "    <tr>\n",
       "      <th>...</th>\n",
       "      <td>...</td>\n",
       "      <td>...</td>\n",
       "      <td>...</td>\n",
       "      <td>...</td>\n",
       "      <td>...</td>\n",
       "      <td>...</td>\n",
       "      <td>...</td>\n",
       "    </tr>\n",
       "    <tr>\n",
       "      <th>29811</th>\n",
       "      <td>187.10</td>\n",
       "      <td>22.816</td>\n",
       "      <td>0.631</td>\n",
       "      <td>0.003</td>\n",
       "      <td>0.931</td>\n",
       "      <td>19.590</td>\n",
       "      <td>19.0</td>\n",
       "    </tr>\n",
       "    <tr>\n",
       "      <th>29812</th>\n",
       "      <td>192.05</td>\n",
       "      <td>35.712</td>\n",
       "      <td>1.425</td>\n",
       "      <td>0.007</td>\n",
       "      <td>0.954</td>\n",
       "      <td>26.860</td>\n",
       "      <td>16.0</td>\n",
       "    </tr>\n",
       "    <tr>\n",
       "      <th>29813</th>\n",
       "      <td>174.05</td>\n",
       "      <td>33.203</td>\n",
       "      <td>1.075</td>\n",
       "      <td>0.006</td>\n",
       "      <td>0.977</td>\n",
       "      <td>26.555</td>\n",
       "      <td>20.0</td>\n",
       "    </tr>\n",
       "    <tr>\n",
       "      <th>29814</th>\n",
       "      <td>171.60</td>\n",
       "      <td>25.346</td>\n",
       "      <td>0.987</td>\n",
       "      <td>0.006</td>\n",
       "      <td>0.977</td>\n",
       "      <td>22.900</td>\n",
       "      <td>23.0</td>\n",
       "    </tr>\n",
       "    <tr>\n",
       "      <th>29815</th>\n",
       "      <td>177.25</td>\n",
       "      <td>20.278</td>\n",
       "      <td>0.833</td>\n",
       "      <td>0.005</td>\n",
       "      <td>0.931</td>\n",
       "      <td>16.725</td>\n",
       "      <td>20.0</td>\n",
       "    </tr>\n",
       "  </tbody>\n",
       "</table>\n",
       "<p>29816 rows × 7 columns</p>\n",
       "</div>"
      ],
      "text/plain": [
       "         Mean     STD  RMSSD  Normalized RMSSD  Shannon Entropy  \\\n",
       "0      168.25  43.226  1.215             0.007            1.000   \n",
       "1      169.10  50.353  1.227             0.007            0.977   \n",
       "2      150.75  62.874  1.820             0.012            0.977   \n",
       "3      194.20  32.262  1.132             0.006            0.931   \n",
       "4      169.85  43.731  1.104             0.006            0.977   \n",
       "...       ...     ...    ...               ...              ...   \n",
       "29811  187.10  22.816  0.631             0.003            0.931   \n",
       "29812  192.05  35.712  1.425             0.007            0.954   \n",
       "29813  174.05  33.203  1.075             0.006            0.977   \n",
       "29814  171.60  25.346  0.987             0.006            0.977   \n",
       "29815  177.25  20.278  0.833             0.005            0.931   \n",
       "\n",
       "       Mean absolute deviation  Median absolute deiviation  \n",
       "0                       39.700                        27.5  \n",
       "1                       47.210                        55.0  \n",
       "2                       50.850                        29.0  \n",
       "3                       27.120                        17.0  \n",
       "4                       41.550                        37.5  \n",
       "...                        ...                         ...  \n",
       "29811                   19.590                        19.0  \n",
       "29812                   26.860                        16.0  \n",
       "29813                   26.555                        20.0  \n",
       "29814                   22.900                        23.0  \n",
       "29815                   16.725                        20.0  \n",
       "\n",
       "[29816 rows x 7 columns]"
      ]
     },
     "execution_count": 26,
     "metadata": {},
     "output_type": "execute_result"
    }
   ],
   "source": [
    "df = pd.DataFrame(all_features_train)\n",
    "df"
   ]
  },
  {
   "cell_type": "code",
   "execution_count": 27,
   "id": "1b23ea74",
   "metadata": {},
   "outputs": [
    {
     "data": {
      "image/png": "[encoded data removed]",
      "text/plain": [
       "<Figure size 432x288 with 1 Axes>"
      ]
     },
     "metadata": {
      "needs_background": "light"
     },
     "output_type": "display_data"
    }
   ],
   "source": [
    "fig, ax = plt.subplots()\n",
    "box = df.boxplot(column=['Mean', 'STD', 'Mean absolute deviation', 'RMSSD', 'Normalized RMSSD', 'Median absolute deiviation'], ax=ax, sym='', figsize=(4,3)) \n",
    "ax.margins(y=0)\n",
    "plt.setp(ax.get_xticklabels(), rotation=30, horizontalalignment='right')\n",
    "plt.show()"
   ]
  },
  {
   "cell_type": "markdown",
   "id": "05561673",
   "metadata": {},
   "source": [
    "### (7.2) Scores"
   ]
  },
  {
   "cell_type": "code",
   "execution_count": 28,
   "id": "294f76aa",
   "metadata": {},
   "outputs": [
    {
     "name": "stdout",
     "output_type": "stream",
     "text": [
      "SVM Scores: 0.9319315751960086\n",
      "\n",
      "Decision tree Scores: 0.8877405559515325\n",
      "\n",
      "Random forest: 0.8455096222380613\n",
      "\n",
      "Stacking classifier Scores: 0.9158945117605132\n",
      "\n",
      "xgboost Scores: 0.7888453314326443\n",
      "\n",
      "AdaBoost Scores: 0.8663578047042053\n",
      "-------------------------------(Testing scores above)------------------------------------------------------\n",
      "-----------------------------------------------------------------------------------------------------------\n",
      "-------------------------------(Training scores below)-----------------------------------------------------\n",
      "SVM Scores: 0.9278575261604508\n",
      "\n",
      "Decision tree Scores: 0.9789039441910383\n",
      "\n",
      "Random forest: 1.0\n",
      "\n",
      "Stacking classifier Scores: 0.9828280118057419\n",
      "\n",
      "xgboost Scores: 0.9847732760933727\n",
      "\n",
      "AdaBoost Scores: 0.9456332170646633\n"
     ]
    }
   ],
   "source": [
    "print(f\"SVM Scores: {pipeline_svm.score(X_test, y_test)}\")\n",
    "print()\n",
    "print(f\"Decision tree Scores: {pipeline_dt.score(X_test, y_test)}\")\n",
    "print()\n",
    "print(f\"Random forest: {pipeline_rf.score(X_test, y_test)}\")\n",
    "print()\n",
    "print(f\"Stacking classifier Scores: {clf.score(X_test, y_test)}\")\n",
    "print()\n",
    "print(f\"xgboost Scores: {xgb_model.score(X_test, y_test)}\")\n",
    "print()\n",
    "print(f\"AdaBoost Scores: {adaBoost_clf.score(X_test, y_test)}\")\n",
    "print(\"-------------------------------(Testing scores above)------------------------------------------------------\")\n",
    "print(\"-----------------------------------------------------------------------------------------------------------\")\n",
    "print(\"-------------------------------(Training scores below)-----------------------------------------------------\")\n",
    "print(f\"SVM Scores: {pipeline_svm.score(X_train, y_train)}\")\n",
    "print()\n",
    "print(f\"Decision tree Scores: {pipeline_dt.score(X_train, y_train)}\")\n",
    "print()\n",
    "print(f\"Random forest: {pipeline_rf.score(X_train, y_train)}\")\n",
    "print()\n",
    "print(f\"Stacking classifier Scores: {clf.score(X_train, y_train)}\")\n",
    "print()\n",
    "print(f\"xgboost Scores: {xgb_model.score(X_train, y_train)}\")\n",
    "print()\n",
    "print(f\"AdaBoost Scores: {adaBoost_clf.score(X_train, y_train)}\")"
   ]
  },
  {
   "cell_type": "markdown",
   "id": "d1bd4678",
   "metadata": {},
   "source": [
    "### (7.3) Evaluate on addtional Databases (Normal Sinus Rhythm Database and Arrhythmia)"
   ]
  },
  {
   "cell_type": "code",
   "execution_count": 29,
   "id": "dcaa39e5",
   "metadata": {},
   "outputs": [
    {
     "name": "stdout",
     "output_type": "stream",
     "text": [
      "-------------------------------(Testing scores below for Normal sinus Rhythm DB)-----------------------------------------------\n",
      "SVM: 0.9454720552585262\n",
      "DT: 0.9014932642601755\n",
      "RF: 0.9414870653870422\n",
      "Stacking: 0.9496784334562038\n",
      "Xgbost: 0.9418634255415712\n",
      "AdaBoost: 0.9213628665360476\n",
      "\n",
      "\n",
      "-------------------------------(Testing scores below for Arrhythmia DB)-----------------------------------------------\n",
      "SVM: 0.5267175572519084\n",
      "DT: 0.8931297709923665\n",
      "RF: 0.7862595419847328\n",
      "Stacking: 0.8778625954198473\n",
      "Xgbost: 0.7709923664122137\n",
      "AdaBoost: 0.9694656488549618\n"
     ]
    }
   ],
   "source": [
    "print(\"-------------------------------(Testing scores below for Normal sinus Rhythm DB)-----------------------------------------------\")\n",
    "print(f\"SVM: {pipeline_svm.score(X_nsr, y_nsr)}\")\n",
    "print(f\"DT: {pipeline_dt.score(X_nsr, y_nsr)}\")\n",
    "print(f\"RF: {pipeline_rf.score(X_nsr, y_nsr)}\")\n",
    "print(f\"Stacking: {clf.score(X_nsr, y_nsr)}\")\n",
    "print(f\"Xgbost: {xgb_model.score(X_nsr, y_nsr)}\")\n",
    "print(f\"AdaBoost: {adaBoost_clf.score(X_nsr, y_nsr)}\")\n",
    "print()\n",
    "print()\n",
    "print(\"-------------------------------(Testing scores below for Arrhythmia DB)-----------------------------------------------\")\n",
    "print(f\"SVM: {pipeline_svm.score(X_A, y_A)}\")\n",
    "print(f\"DT: {pipeline_dt.score(X_A, y_A)}\")\n",
    "print(f\"RF: {pipeline_rf.score(X_A, y_A)}\")\n",
    "print(f\"Stacking: {clf.score(X_A, y_A)}\")\n",
    "print(f\"Xgbost: {xgb_model.score(X_A, y_A)}\")\n",
    "print(f\"AdaBoost: {adaBoost_clf.score(X_A, y_A)}\")"
   ]
  },
  {
   "cell_type": "markdown",
   "id": "b6cde967",
   "metadata": {},
   "source": [
    "### (7.4) F1-score and Precision recall curve"
   ]
  },
  {
   "cell_type": "code",
   "execution_count": 30,
   "id": "739235b0",
   "metadata": {},
   "outputs": [],
   "source": [
    "from sklearn.metrics import f1_score"
   ]
  },
  {
   "cell_type": "code",
   "execution_count": 31,
   "id": "120c1d85",
   "metadata": {},
   "outputs": [],
   "source": [
    "y_pred_svm = pipeline_svm.predict(X_test)\n",
    "y_pred_dt = pipeline_dt.predict(X_test)\n",
    "y_pred_rf = pipeline_rf.predict(X_test)\n",
    "y_pred_stacking = clf.predict(X_test)\n",
    "y_pred_xgboost = xgb_model.predict(X_test)\n",
    "y_pred_adaboost = adaBoost_clf.predict(X_test)"
   ]
  },
  {
   "cell_type": "code",
   "execution_count": 32,
   "id": "551e8d0f",
   "metadata": {},
   "outputs": [
    {
     "name": "stdout",
     "output_type": "stream",
     "text": [
      "SVM f1 score:  0.8722408026755852\n",
      "DT f1 score:  0.7730547550432276\n",
      "RF f1 score:  0.6110363391655451\n",
      "Stacking f1 score:  0.8284883720930233\n",
      "Xgboost f1 score:  0.32861189801699714\n",
      "Adaboost f1 score:  0.693126022913257\n"
     ]
    }
   ],
   "source": [
    "svm_f1 = f1_score(y_test, y_pred_svm)\n",
    "dt_f1 = f1_score(y_test, y_pred_dt)\n",
    "rf_f1 = f1_score(y_test, y_pred_rf)\n",
    "stacking_f1 = f1_score(y_test, y_pred_stacking)\n",
    "xgboost_f1 = f1_score(y_test, y_pred_xgboost)\n",
    "adaboost_f1 = f1_score(y_test, y_pred_adaboost)\n",
    "\n",
    "print(\"SVM f1 score: \", svm_f1)\n",
    "print(\"DT f1 score: \", dt_f1)\n",
    "print(\"RF f1 score: \", rf_f1)\n",
    "print(\"Stacking f1 score: \", stacking_f1)\n",
    "print(\"Xgboost f1 score: \", xgboost_f1)\n",
    "print(\"Adaboost f1 score: \", adaboost_f1)"
   ]
  },
  {
   "cell_type": "code",
   "execution_count": 33,
   "id": "042beb2b",
   "metadata": {},
   "outputs": [],
   "source": [
    "from sklearn.metrics import classification_report"
   ]
  },
  {
   "cell_type": "code",
   "execution_count": 34,
   "id": "e533b12e",
   "metadata": {},
   "outputs": [
    {
     "name": "stdout",
     "output_type": "stream",
     "text": [
      "SVM below:\n",
      "              precision    recall  f1-score   support\n",
      "\n",
      "     class 0       0.97      0.93      0.95      4204\n",
      "     class 1       0.82      0.93      0.87      1408\n",
      "\n",
      "    accuracy                           0.93      5612\n",
      "   macro avg       0.90      0.93      0.91      5612\n",
      "weighted avg       0.94      0.93      0.93      5612\n",
      "\n",
      "DT below:\n",
      "              precision    recall  f1-score   support\n",
      "\n",
      "     class 0       0.92      0.93      0.93      4204\n",
      "     class 1       0.78      0.76      0.77      1408\n",
      "\n",
      "    accuracy                           0.89      5612\n",
      "   macro avg       0.85      0.85      0.85      5612\n",
      "weighted avg       0.89      0.89      0.89      5612\n",
      "\n",
      "RF below:\n",
      "              precision    recall  f1-score   support\n",
      "\n",
      "     class 0       0.85      0.97      0.90      4204\n",
      "     class 1       0.83      0.48      0.61      1408\n",
      "\n",
      "    accuracy                           0.85      5612\n",
      "   macro avg       0.84      0.73      0.76      5612\n",
      "weighted avg       0.84      0.85      0.83      5612\n",
      "\n",
      "Stacking below:\n",
      "              precision    recall  f1-score   support\n",
      "\n",
      "     class 0       0.94      0.95      0.94      4204\n",
      "     class 1       0.85      0.81      0.83      1408\n",
      "\n",
      "    accuracy                           0.92      5612\n",
      "   macro avg       0.89      0.88      0.89      5612\n",
      "weighted avg       0.91      0.92      0.92      5612\n",
      "\n",
      "Xgboost below:\n",
      "              precision    recall  f1-score   support\n",
      "\n",
      "     class 0       0.79      0.98      0.87      4204\n",
      "     class 1       0.81      0.21      0.33      1408\n",
      "\n",
      "    accuracy                           0.79      5612\n",
      "   macro avg       0.80      0.60      0.60      5612\n",
      "weighted avg       0.79      0.79      0.74      5612\n",
      "\n",
      "Adaboost below:\n",
      "              precision    recall  f1-score   support\n",
      "\n",
      "     class 0       0.88      0.96      0.91      4204\n",
      "     class 1       0.82      0.60      0.69      1408\n",
      "\n",
      "    accuracy                           0.87      5612\n",
      "   macro avg       0.85      0.78      0.80      5612\n",
      "weighted avg       0.86      0.87      0.86      5612\n",
      "\n"
     ]
    }
   ],
   "source": [
    "target_names = ['class 0', 'class 1'] # class 0 = Normal rythm, class 1 = AFIB\n",
    "print(\"SVM below:\")\n",
    "print(classification_report(y_test, y_pred_svm, target_names=target_names))\n",
    "print(\"DT below:\")\n",
    "print(classification_report(y_test, y_pred_dt, target_names=target_names))\n",
    "print(\"RF below:\")\n",
    "print(classification_report(y_test, y_pred_rf, target_names=target_names))\n",
    "print(\"Stacking below:\")\n",
    "print(classification_report(y_test, y_pred_stacking, target_names=target_names))\n",
    "print(\"Xgboost below:\")\n",
    "print(classification_report(y_test, y_pred_xgboost, target_names=target_names))\n",
    "print(\"Adaboost below:\")\n",
    "print(classification_report(y_test, y_pred_adaboost, target_names=target_names))"
   ]
  },
  {
   "cell_type": "code",
   "execution_count": 35,
   "id": "6e9e1299",
   "metadata": {},
   "outputs": [],
   "source": [
    "from sklearn.metrics import precision_recall_curve"
   ]
  },
  {
   "cell_type": "code",
   "execution_count": 36,
   "id": "8c4a2d38",
   "metadata": {},
   "outputs": [],
   "source": [
    "y_score_svm = pipeline_svm.predict_proba(X_test)[:, 1]\n",
    "y_score_dt = pipeline_dt.predict_proba(X_test)[:, 1]\n",
    "y_score_rf = pipeline_rf.predict_proba(X_test)[:, 1]\n",
    "\n",
    "y_score_stacking = clf.predict_proba(X_test)[:, 1]\n",
    "y_score_xgboost = xgb_model.predict_proba(X_test)[:, 1]\n",
    "y_score_adaboost = adaBoost_clf.predict_proba(X_test)[:, 1]"
   ]
  },
  {
   "cell_type": "code",
   "execution_count": 37,
   "id": "fec50eec",
   "metadata": {},
   "outputs": [],
   "source": [
    "precision_svm, recall_svm, thresholds_svm = precision_recall_curve(y_test, y_score_svm)\n",
    "precision_dt, recall_dt, thresholds_dt = precision_recall_curve(y_test, y_score_dt)\n",
    "precision_rf, recall_rf, thresholds_rf = precision_recall_curve(y_test, y_score_rf)\n",
    "\n",
    "precision_stacking, recall_stacking, thresholds_stacking = precision_recall_curve(y_test, y_score_stacking)\n",
    "precision_xgboost, recall_xgboost, thresholds_xgboost = precision_recall_curve(y_test, y_score_xgboost)\n",
    "precision_adaboost, recall_adaboost, thresholds_adaboost = precision_recall_curve(y_test, y_score_adaboost)"
   ]
  },
  {
   "cell_type": "code",
   "execution_count": 38,
   "id": "b86459a7",
   "metadata": {},
   "outputs": [
    {
     "data": {
      "image/png": "[encoded data removed]",
      "text/plain": [
       "<Figure size 432x288 with 2 Axes>"
      ]
     },
     "metadata": {
      "needs_background": "light"
     },
     "output_type": "display_data"
    }
   ],
   "source": [
    "fig, (ax1, ax2) = plt.subplots(1,2)\n",
    "ax1.plot(recall_svm, precision_svm, color='purple')\n",
    "ax1.set_title('Precision-Recall Curve SVM', fontsize=20)\n",
    "ax1.set_ylabel('Precision', fontsize=20)\n",
    "ax1.set_xlabel('Recall', fontsize=20)\n",
    "\n",
    "plt.subplots_adjust(right = 2)\n",
    "\n",
    "ax2.plot(recall_dt, precision_dt, color='purple')\n",
    "ax2.set_title('Precision-Recall Curve DT', fontsize=20)\n",
    "ax2.set_ylabel('Precision', fontsize=20)\n",
    "ax2.set_xlabel('Recall', fontsize=20)\n",
    "plt.show()"
   ]
  },
  {
   "cell_type": "code",
   "execution_count": 39,
   "id": "f7b7de8c",
   "metadata": {},
   "outputs": [
    {
     "data": {
      "image/png": "[encoded data removed]",
      "text/plain": [
       "<Figure size 432x288 with 2 Axes>"
      ]
     },
     "metadata": {
      "needs_background": "light"
     },
     "output_type": "display_data"
    }
   ],
   "source": [
    "fig, (ax1, ax2) = plt.subplots(1,2)\n",
    "ax1.plot(recall_rf, precision_rf, color='purple')\n",
    "ax1.set_title('Precision-Recall Curve RF', fontsize=20)\n",
    "ax1.set_ylabel('Precision', fontsize=20)\n",
    "ax1.set_xlabel('Recall', fontsize=20)\n",
    "\n",
    "plt.subplots_adjust(right = 2)\n",
    "\n",
    "ax2.plot(recall_stacking, precision_stacking, color='purple')\n",
    "ax2.set_title('Precision-Recall Curve Stacking', fontsize=20)\n",
    "ax2.set_ylabel('Precision', fontsize=20)\n",
    "ax2.set_xlabel('Recall', fontsize=20)\n",
    "plt.show()"
   ]
  },
  {
   "cell_type": "code",
   "execution_count": 40,
   "id": "50694ac0",
   "metadata": {},
   "outputs": [
    {
     "data": {
      "image/png": "[encoded data removed]",
      "text/plain": [
       "<Figure size 432x288 with 2 Axes>"
      ]
     },
     "metadata": {
      "needs_background": "light"
     },
     "output_type": "display_data"
    }
   ],
   "source": [
    "fig, (ax1, ax2) = plt.subplots(1,2)\n",
    "ax1.plot(recall_xgboost, precision_xgboost, color='purple')\n",
    "ax1.set_title('Precision-Recall Curve Xgboost', fontsize=20)\n",
    "ax1.set_ylabel('Precision', fontsize=20)\n",
    "ax1.set_xlabel('Recall', fontsize=20)\n",
    "\n",
    "plt.subplots_adjust(right = 2)\n",
    "\n",
    "ax2.plot(recall_adaboost, precision_adaboost, color='purple')\n",
    "ax2.set_title('Precision-Recall Curve Adaboost', fontsize=20)\n",
    "ax2.set_ylabel('Precision', fontsize=20)\n",
    "ax2.set_xlabel('Recall', fontsize=20)\n",
    "plt.show()"
   ]
  }
 ],
 "metadata": {
  "kernelspec": {
   "display_name": "Python 3",
   "language": "python",
   "name": "python3"
  },
  "language_info": {
   "codemirror_mode": {
    "name": "ipython",
    "version": 3
   },
   "file_extension": ".py",
   "mimetype": "text/x-python",
   "name": "python",
   "nbconvert_exporter": "python",
   "pygments_lexer": "ipython3",
   "version": "3.8.8"
  }
 },
 "nbformat": 4,
 "nbformat_minor": 5
}
