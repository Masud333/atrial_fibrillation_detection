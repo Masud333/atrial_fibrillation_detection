{
 "cells": [
  {
   "cell_type": "markdown",
   "metadata": {},
   "source": [
    "# (1) Importing/Storing data"
   ]
  },
  {
   "cell_type": "code",
   "execution_count": 1,
   "metadata": {},
   "outputs": [],
   "source": [
    "import wfdb\n",
    "from wfdb import processing\n",
    "import os\n",
    "import glob\n",
    "import pandas as pd\n",
    "import numpy as np\n",
    "import matplotlib.pyplot as plt\n",
    "from scipy import signal"
   ]
  },
  {
   "cell_type": "code",
   "execution_count": 2,
   "metadata": {
    "scrolled": false
   },
   "outputs": [],
   "source": [
    "records_nsr = []\n",
    "properties_nsr = []\n",
    "annot_nsr = []\n",
    "AnnSymb_nsr = []\n",
    "AnnSamp_nsr = []\n",
    "AnnRhythm_nsr = []\n",
    "new_records_nsr = []\n",
    "AnnSamp_250_nsr = []\n",
    "\n",
    "for f in glob.glob('C:/Users/masud/Skrivebord/Github_Bachelor_Project/wfdb-python/data/normal_sinus_rhythm_data/*.dat'): ##### change the path to your own directory.\n",
    "    sig, fields = wfdb.rdsamp(f[:-4], channels=[1])  #### In this function, you have the opportunity to pass \"channels=[0]\" or \"channels=[1]\" to select channel 1 or 2.\n",
    "    \n",
    "    ann = wfdb.rdann(f[:-4], 'atr')\n",
    "    Symb = pd.Series(ann.symbol)\n",
    "    Samp = pd.Series(ann.sample)\n",
    "\n",
    "    Rhythm = pd.Series(ann.aux_note)\n",
    "    records_nsr.append(sig)\n",
    "    properties_nsr.append(fields)\n",
    "    annot_nsr.append(ann)\n",
    "    AnnSymb_nsr.append(Symb)\n",
    "    AnnSamp_nsr.append(Samp)\n",
    "\n",
    "    AnnRhythm_nsr.append(Rhythm)\n",
    "    \n",
    "    \n",
    "\n",
    "AnnSymb_nsr = pd.Series(AnnSymb_nsr).values\n",
    "AnnSamp_nsr = pd.Series(AnnSamp_nsr).values"
   ]
  },
  {
   "cell_type": "markdown",
   "metadata": {},
   "source": [
    "# (2) Pre processing data"
   ]
  },
  {
   "cell_type": "code",
   "execution_count": 3,
   "metadata": {
    "scrolled": true
   },
   "outputs": [],
   "source": [
    "labeled_Rpeaks_nsr = []\n",
    "appended_data_nsr = []\n",
    "for i in range(18): ## 18 records\n",
    "    df = pd.DataFrame(AnnSamp_nsr[i]*2) ### Roughly resampling from 128 to 250 Hz\n",
    "    appended_data_nsr.append(df)\n",
    "        \n",
    "\n",
    "labeled_Rpeaks_nsr = pd.concat(appended_data_nsr)\n",
    "#labeled_Rpeaks_nsr"
   ]
  },
  {
   "cell_type": "code",
   "execution_count": 4,
   "metadata": {},
   "outputs": [
    {
     "data": {
      "text/html": [
       "<div>\n",
       "<style scoped>\n",
       "    .dataframe tbody tr th:only-of-type {\n",
       "        vertical-align: middle;\n",
       "    }\n",
       "\n",
       "    .dataframe tbody tr th {\n",
       "        vertical-align: top;\n",
       "    }\n",
       "\n",
       "    .dataframe thead th {\n",
       "        text-align: right;\n",
       "    }\n",
       "</style>\n",
       "<table border=\"1\" class=\"dataframe\">\n",
       "  <thead>\n",
       "    <tr style=\"text-align: right;\">\n",
       "      <th></th>\n",
       "      <th>Rpeaks</th>\n",
       "      <th>Label</th>\n",
       "    </tr>\n",
       "  </thead>\n",
       "  <tbody>\n",
       "    <tr>\n",
       "      <th>0</th>\n",
       "      <td>2</td>\n",
       "      <td>0</td>\n",
       "    </tr>\n",
       "    <tr>\n",
       "      <th>1</th>\n",
       "      <td>104</td>\n",
       "      <td>0</td>\n",
       "    </tr>\n",
       "    <tr>\n",
       "      <th>2</th>\n",
       "      <td>258</td>\n",
       "      <td>0</td>\n",
       "    </tr>\n",
       "    <tr>\n",
       "      <th>3</th>\n",
       "      <td>414</td>\n",
       "      <td>0</td>\n",
       "    </tr>\n",
       "    <tr>\n",
       "      <th>4</th>\n",
       "      <td>568</td>\n",
       "      <td>0</td>\n",
       "    </tr>\n",
       "    <tr>\n",
       "      <th>...</th>\n",
       "      <td>...</td>\n",
       "      <td>...</td>\n",
       "    </tr>\n",
       "    <tr>\n",
       "      <th>111258</th>\n",
       "      <td>19446442</td>\n",
       "      <td>0</td>\n",
       "    </tr>\n",
       "    <tr>\n",
       "      <th>111259</th>\n",
       "      <td>19446610</td>\n",
       "      <td>0</td>\n",
       "    </tr>\n",
       "    <tr>\n",
       "      <th>111260</th>\n",
       "      <td>19446776</td>\n",
       "      <td>0</td>\n",
       "    </tr>\n",
       "    <tr>\n",
       "      <th>111261</th>\n",
       "      <td>19446938</td>\n",
       "      <td>0</td>\n",
       "    </tr>\n",
       "    <tr>\n",
       "      <th>111262</th>\n",
       "      <td>19447046</td>\n",
       "      <td>0</td>\n",
       "    </tr>\n",
       "  </tbody>\n",
       "</table>\n",
       "<p>1806792 rows × 2 columns</p>\n",
       "</div>"
      ],
      "text/plain": [
       "          Rpeaks  Label\n",
       "0              2      0\n",
       "1            104      0\n",
       "2            258      0\n",
       "3            414      0\n",
       "4            568      0\n",
       "...          ...    ...\n",
       "111258  19446442      0\n",
       "111259  19446610      0\n",
       "111260  19446776      0\n",
       "111261  19446938      0\n",
       "111262  19447046      0\n",
       "\n",
       "[1806792 rows x 2 columns]"
      ]
     },
     "execution_count": 4,
     "metadata": {},
     "output_type": "execute_result"
    }
   ],
   "source": [
    "labeled_Rpeaks_nsr.rename(columns={0: 'Rpeaks'},\n",
    "          inplace=True, errors='raise')\n",
    "labeled_Rpeaks_nsr['Label'] = 0\n",
    "labeled_Rpeaks_nsr"
   ]
  },
  {
   "cell_type": "code",
   "execution_count": 5,
   "metadata": {},
   "outputs": [
    {
     "data": {
      "text/plain": [
       "False"
      ]
     },
     "execution_count": 5,
     "metadata": {},
     "output_type": "execute_result"
    }
   ],
   "source": [
    "Rpeaks_nsr = labeled_Rpeaks_nsr[\"Rpeaks\"]\n",
    "Label_nsr = labeled_Rpeaks_nsr[\"Label\"]\n",
    "Label_nsr = np.array(Label_nsr, dtype=np.float64)\n",
    "\n",
    "#labeled_Rpeaks_N_AFIB[0:1000]\n",
    "labeled_Rpeaks_nsr.isnull().values.any() ### Check for NaN values"
   ]
  },
  {
   "cell_type": "code",
   "execution_count": 6,
   "metadata": {},
   "outputs": [],
   "source": [
    "def segmenting_record_nsr(seg_value_nsr):\n",
    "    rri2_nsr = np.diff(Rpeaks_nsr) ### Storing the intervals between rpeaks\n",
    "    rri2_nsr = np.array(rri2_nsr, dtype=np.float64) ### Ensuring no overflow issues happens, when calculating in for loop later\n",
    "    \n",
    "    amount_nsr = -(len(rri2_nsr) % seg_value_nsr) # amount of data points to remove, for equal length segments with no residue points\n",
    "    print(f\"Amount to remove {amount_nsr}\")\n",
    "    \n",
    "    rec_amount_nsr = rri2_nsr[:amount_nsr]\n",
    "    seg_shape_nsr = len(rec_amount_nsr) // seg_value_nsr # amount of total segments (given the specified segment length) \n",
    "    print(f\"Shape 0: {seg_shape_nsr}\")\n",
    "    \n",
    "    segmented_rec_nsr = rec_amount_nsr.reshape(seg_shape_nsr,seg_value_nsr)\n",
    "    return segmented_rec_nsr"
   ]
  },
  {
   "cell_type": "code",
   "execution_count": 7,
   "metadata": {
    "scrolled": false
   },
   "outputs": [
    {
     "name": "stdout",
     "output_type": "stream",
     "text": [
      "Amount to remove -1\n",
      "Shape 0: 180679\n"
     ]
    }
   ],
   "source": [
    "segmented_record_nsr = segmenting_record_nsr(10) # Specify the segment length"
   ]
  },
  {
   "cell_type": "markdown",
   "metadata": {},
   "source": [
    "### X"
   ]
  },
  {
   "cell_type": "code",
   "execution_count": 8,
   "metadata": {},
   "outputs": [],
   "source": [
    "### Loads in functions for Shannon Entropy, Mean absolute deviation calculations\n",
    "%run \"features_utils.ipynb\"\n",
    "from scipy.stats import median_abs_deviation"
   ]
  },
  {
   "cell_type": "code",
   "execution_count": 9,
   "metadata": {},
   "outputs": [],
   "source": [
    "all_features_nsr = []\n",
    "\n",
    "### Calculating features for every single segmented \"block\" inside the segmented_record_nsr variable\n",
    "for x in range(len(segmented_record_nsr)):\n",
    "    \n",
    "    #MEAN\n",
    "    ff1 = np.nanmean(segmented_record_nsr[x]) ### nanmean, nanstd computes values while ignoring nan-values\n",
    "    #STD\n",
    "    ff2 = np.nanstd(segmented_record_nsr[x])\n",
    "    #RMSSD\n",
    "    sum_ = 0\n",
    "    for y in range(len(segmented_record_nsr[x]) - 1): ### loops 19 times\n",
    "        sum_ += (segmented_record_nsr[x][y] - segmented_record_nsr[x][y+1])**2\n",
    "    sum_multiplied = 1/(len(segmented_record_nsr) - 1) * sum_\n",
    "    ff3 = np.sqrt(sum_multiplied)\n",
    "    #NORMALIZED RMSSD\n",
    "    ff4 = (ff3 / ff1)\n",
    "    #SHANNON ENTROPY\n",
    "    ff5 = entropy(segmented_record_nsr[x])\n",
    "    #MEAN ABSOLUTE DEVIATION\n",
    "    ff6 = mean_abs_deviation(segmented_record_nsr[x])\n",
    "    #MEDIAN ABSOLUTE DEVIATION\n",
    "    ff7 = median_abs_deviation(segmented_record_nsr[x])\n",
    "    \n",
    "    #COVARIANCE\n",
    "    #z = np.stack((ff1, ff2))\n",
    "    #ff5 = np.cov(z) ### try cov with previous segment\n",
    "\n",
    "    my_features = pd.Series([np.around(ff1,3), np.around(ff2,3), np.around(ff3,3), np.around(ff4,3), np.around(ff5,3), \n",
    "                             np.around(ff6,3), np.around(ff7,3)],\n",
    "                            index=['Mean','STD','RMSSD','Normalized RMSSD','Shannon Entropy',\n",
    "                                   'Mean absolute deviation','Median absolute deiviation'])\n",
    "    all_features_nsr.append(my_features)"
   ]
  },
  {
   "cell_type": "code",
   "execution_count": 10,
   "metadata": {
    "scrolled": true
   },
   "outputs": [
    {
     "name": "stdout",
     "output_type": "stream",
     "text": [
      "Features calculated for an example segment:\n",
      "Mean                          150.600\n",
      "STD                            16.396\n",
      "RMSSD                           0.126\n",
      "Normalized RMSSD                0.001\n",
      "Shannon Entropy                 0.736\n",
      "Mean absolute deviation         9.720\n",
      "Median absolute deiviation      2.000\n",
      "dtype: float64\n",
      "\n",
      "Features variable contains 180679 segments\n"
     ]
    }
   ],
   "source": [
    "n = 0\n",
    "\n",
    "print(f\"Features calculated for an example segment:\\n{all_features_nsr[n]}\") \n",
    "print('\\n'f\"Features variable contains {len(all_features_nsr)} segments\")"
   ]
  },
  {
   "cell_type": "markdown",
   "metadata": {},
   "source": [
    "### Y"
   ]
  },
  {
   "cell_type": "markdown",
   "metadata": {},
   "source": [
    "### Paste the copied information below (indicated with the arrows)\n",
    "1. Arrow: Add \"Amount to remove\" - 1, (remember the negative sign).\n",
    "2. Arrow: Add \"Shape 0\" as first argument and the segment size as second argument. (Shape 0 , segment size)\n",
    "3. Arrow: Divide segment size by 2 and add here. (meaning, if over half the segment contains \"(AFIB\", than classify the whole segment as \"(AFIB\""
   ]
  },
  {
   "cell_type": "code",
   "execution_count": 11,
   "metadata": {},
   "outputs": [
    {
     "name": "stdout",
     "output_type": "stream",
     "text": [
      "float64\n",
      "Length of y_list: 180679\n"
     ]
    }
   ],
   "source": [
    "y_amount_nsr = Label_nsr[:-2] # <=============== (1)\n",
    "y_shape_nsr = y_amount_nsr.reshape(180679, 10) # <=============== (2)\n",
    "y_list_nsr = []\n",
    "\n",
    "### Calc if every 20 segment block is Normal synus rythm or AFIB\n",
    "for g in range(len(y_shape_nsr)):\n",
    "    #y_segment = y_shape\n",
    "    sum_segment_nsr = np.sum(y_shape_nsr[g])\n",
    "    if sum_segment_nsr >= 5: # <=============== (3)\n",
    "        sum_segment_nsr = 1\n",
    "    else: sum_segment_nsr = 0\n",
    "    y_list_nsr.append(sum_segment_nsr)\n",
    "\n",
    "y_list_nsr = np.array(y_list_nsr, dtype=np.float64)\n",
    "print(y_list_nsr.dtype)\n",
    "print(f\"Length of y_list: {len(y_list_nsr)}\")"
   ]
  }
 ],
 "metadata": {
  "kernelspec": {
   "display_name": "Python 3 (ipykernel)",
   "language": "python",
   "name": "python3"
  },
  "language_info": {
   "codemirror_mode": {
    "name": "ipython",
    "version": 3
   },
   "file_extension": ".py",
   "mimetype": "text/x-python",
   "name": "python",
   "nbconvert_exporter": "python",
   "pygments_lexer": "ipython3",
   "version": "3.8.8"
  }
 },
 "nbformat": 4,
 "nbformat_minor": 4
}
