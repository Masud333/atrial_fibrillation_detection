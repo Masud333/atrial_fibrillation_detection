{
 "cells": [
  {
   "cell_type": "code",
   "execution_count": 1,
   "metadata": {},
   "outputs": [],
   "source": [
    "# pip install wfdb"
   ]
  },
  {
   "cell_type": "code",
   "execution_count": 60,
   "metadata": {},
   "outputs": [],
   "source": [
    "import wfdb\n",
    "import os\n",
    "import glob\n",
    "import pandas as pd\n",
    "import numpy as np\n",
    "import matplotlib.pyplot as plt\n",
    "import math"
   ]
  },
  {
   "cell_type": "code",
   "execution_count": 3,
   "metadata": {},
   "outputs": [],
   "source": [
    "#print('Current directory is: {}'.format(os.getcwd()))"
   ]
  },
  {
   "cell_type": "code",
   "execution_count": 4,
   "metadata": {},
   "outputs": [],
   "source": [
    "records = []\n",
    "properties = []\n",
    "annot = []\n",
    "AnnSymb = []\n",
    "AnnSamp = []\n",
    "AnnRhythm = []\n",
    "Rpeak_Samp = []\n",
    "Rpeak_Symb = []\n",
    "for f in glob.glob('C:/Users/masud/Desktop/Github_Bachelor_Project/wfdb-python/data/*.dat'): ##### change the path (afib) to your own directory. The rest should \n",
    "                                                                                             ##### remin the same\n",
    "    sig, fields = wfdb.rdsamp(f[:-4])  #### In this function, you have the opportunity to pass \n",
    "                                       #### \"channels=[0]\" or \"channels=[1]\" to select channel 1 or 2.\n",
    "    ann = wfdb.rdann(f[:-4], 'atr')\n",
    "    QRS = wfdb.rdann(f[:-4], 'qrs')\n",
    "    Symb = pd.Series(ann.symbol)\n",
    "    Samp = pd.Series(ann.sample)\n",
    "    QRS_Symb = pd.Series(QRS.symbol)\n",
    "    QRS_Samp = pd.Series(QRS.sample)\n",
    "    Rhythm = pd.Series(ann.aux_note)\n",
    "    records.append(sig)\n",
    "    properties.append(fields)\n",
    "    annot.append(ann)\n",
    "    AnnSymb.append(Symb)\n",
    "    AnnSamp.append(Samp)\n",
    "    Rpeak_Symb.append(QRS_Symb)\n",
    "    Rpeak_Samp.append(QRS_Samp)\n",
    "    AnnRhythm.append(Rhythm)\n",
    "    \n",
    "AnnSymb = pd.Series(AnnSymb).values\n",
    "AnnSamp = pd.Series(AnnSamp).values"
   ]
  },
  {
   "cell_type": "code",
   "execution_count": 5,
   "metadata": {
    "scrolled": true
   },
   "outputs": [],
   "source": [
    "#record = wfdb.rdrecord('C:/Users/masud/Desktop/Github_Bachelor_Project/wfdb-python/data/05121')\n",
    "#ann = wfdb.rdann('C:/Users/masud/Desktop/Github_Bachelor_Project/wfdb-python/data/05121', 'atr')\n",
    "#wfdb.plot_wfdb(record=record, title='Record 05121 from PhysioNet, MIT-BIH Atrial Fibrillation Database', time_units='seconds') \n",
    "#wfdb.plot_wfdb(annotation=ann, title='Record 05121 from PhysioNet, MIT-BIH Atrial Fibrillation Database', time_units='seconds')\n",
    "#display(record.__dict__)"
   ]
  },
  {
   "cell_type": "code",
   "execution_count": 6,
   "metadata": {},
   "outputs": [],
   "source": [
    "# plt.plot(\"What to plot HERE\")\n",
    "# plt.show()"
   ]
  },
  {
   "cell_type": "code",
   "execution_count": 24,
   "metadata": {},
   "outputs": [
    {
     "data": {
      "text/plain": [
       "['(N', '(AFIB', '(N', '(AFIB']"
      ]
     },
     "execution_count": 24,
     "metadata": {},
     "output_type": "execute_result"
    }
   ],
   "source": [
    "#This is only for last record, calc in loop\n",
    "ann.aux_note"
   ]
  },
  {
   "cell_type": "code",
   "execution_count": 25,
   "metadata": {},
   "outputs": [
    {
     "data": {
      "text/plain": [
       "array([     96, 2808396, 2820743, 2850351])"
      ]
     },
     "execution_count": 25,
     "metadata": {},
     "output_type": "execute_result"
    }
   ],
   "source": [
    "ann.sample"
   ]
  },
  {
   "cell_type": "code",
   "execution_count": 23,
   "metadata": {},
   "outputs": [
    {
     "data": {
      "text/plain": [
       "array([    193,     390,     586, ..., 8999879, 8999948, 9000001])"
      ]
     },
     "execution_count": 23,
     "metadata": {},
     "output_type": "execute_result"
    }
   ],
   "source": [
    "QRS.sample"
   ]
  },
  {
   "cell_type": "code",
   "execution_count": 73,
   "metadata": {
    "scrolled": true
   },
   "outputs": [
    {
     "name": "stdout",
     "output_type": "stream",
     "text": [
      "R-R intervals: [197 196 196 ...  68  69  53]\n",
      "Mean: 151.12773924871118\n",
      "Standard deviation: 41.32437382588891\n"
     ]
    }
   ],
   "source": [
    "rri = np.diff(QRS.sample)\n",
    "print(f\"R-R intervals: {rri}\")\n",
    "\n",
    "rri_mean = np.mean(rri)\n",
    "#x = np.arange(0,101)\n",
    "print(f\"Mean: {rri_mean}\")\n",
    "\n",
    "rri_std = np.std(rri)\n",
    "print(f\"Standard deviation: {rri_std}\")"
   ]
  },
  {
   "cell_type": "code",
   "execution_count": 74,
   "metadata": {
    "scrolled": true
   },
   "outputs": [
    {
     "name": "stdout",
     "output_type": "stream",
     "text": [
      "RMSSD: 42.482330598711705\n"
     ]
    }
   ],
   "source": [
    "# to estimate HRV in a specified intervals of an ECG\n",
    "#Root mean square of successive differences = RMSSD\n",
    "squared_summed_differencies = 0\n",
    "#range -1, gives no error out of bound, because of index i+1 inside the loop. (range = 59550)\n",
    "for i in range(len(rri)-1):\n",
    "    squared_summed_differencies += (rri[i+1] - rri[i])**2\n",
    "    squared_summed_differencies_multiplied = 1/(len(rri)-1) * squared_summed_differencies\n",
    "RMSSD = math.sqrt(squared_summed_differencies_multiplied)\n",
    "print(f\"RMSSD: {RMSSD}\")"
   ]
  },
  {
   "cell_type": "code",
   "execution_count": 79,
   "metadata": {},
   "outputs": [
    {
     "name": "stdout",
     "output_type": "stream",
     "text": [
      "Normalized RMSSD: 0.28110213789937305\n"
     ]
    }
   ],
   "source": [
    "normalized_RMSSD = (RMSSD / rri_mean)\n",
    "print(f\"Normalized RMSSD: {normalized_RMSSD}\")"
   ]
  }
 ],
 "metadata": {
  "kernelspec": {
   "display_name": "Python 3",
   "language": "python",
   "name": "python3"
  },
  "language_info": {
   "codemirror_mode": {
    "name": "ipython",
    "version": 3
   },
   "file_extension": ".py",
   "mimetype": "text/x-python",
   "name": "python",
   "nbconvert_exporter": "python",
   "pygments_lexer": "ipython3",
   "version": "3.8.5"
  }
 },
 "nbformat": 4,
 "nbformat_minor": 4
}
